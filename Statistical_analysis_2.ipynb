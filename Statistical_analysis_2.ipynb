{
 "cells": [
  {
   "cell_type": "code",
   "execution_count": 1,
   "metadata": {},
   "outputs": [],
   "source": [
    "from pandas import read_csv\n",
    "from matplotlib import pyplot as plt\n",
    "\n",
    "import pandas as pd\n",
    "\n",
    "from statsmodels.graphics.tsaplots import plot_acf, plot_pacf\n",
    "from statsmodels.tsa.stattools import adfuller"
   ]
  },
  {
   "cell_type": "markdown",
   "metadata": {},
   "source": [
    "# Smart Meter 65"
   ]
  },
  {
   "cell_type": "code",
   "execution_count": 2,
   "metadata": {},
   "outputs": [
    {
     "name": "stderr",
     "output_type": "stream",
     "text": [
      "/Users/anna/anaconda3/lib/python3.7/site-packages/numpy/lib/arraysetops.py:569: FutureWarning: elementwise comparison failed; returning scalar instead, but in the future will perform elementwise comparison\n",
      "  mask |= (ar1 == a)\n"
     ]
    }
   ],
   "source": [
    "p1 = read_csv('ics_data/06_Smart_Meter_45/P1.csv', squeeze=True, index_col=0)\n",
    "p2 = read_csv('ics_data/06_Smart_Meter_45/P2.csv', squeeze=True, index_col=0)\n",
    "p3 = read_csv('ics_data/06_Smart_Meter_45/P3.csv', squeeze=True, index_col=0)\n",
    "q1 = read_csv('ics_data/06_Smart_Meter_45/Q1.csv', squeeze=True, index_col=0)\n",
    "q2 = read_csv('ics_data/06_Smart_Meter_45/Q2.csv', squeeze=True, index_col=0)\n",
    "q3 = read_csv('ics_data/06_Smart_Meter_45/Q3.csv', squeeze=True, index_col=0)\n",
    "u1 = read_csv('ics_data/06_Smart_Meter_45/U1.csv', squeeze=True, index_col=0)\n",
    "u2 = read_csv('ics_data/06_Smart_Meter_45/U2.csv', squeeze=True, index_col=0)\n",
    "u3 = read_csv('ics_data/06_Smart_Meter_45/U3.csv', squeeze=True, index_col=0)"
   ]
  },
  {
   "cell_type": "code",
   "execution_count": 3,
   "metadata": {},
   "outputs": [],
   "source": [
    "def mul_values(dataframe, num):\n",
    "    new_dataframe = dataframe.copy()\n",
    "    for (data_index, index) in enumerate(dataframe.index):\n",
    "        if index > num:\n",
    "            break\n",
    "        else:\n",
    "            new_dataframe.values[data_index] *= 18\n",
    "    \n",
    "    return new_dataframe"
   ]
  },
  {
   "cell_type": "code",
   "execution_count": 4,
   "metadata": {},
   "outputs": [],
   "source": [
    "corner_value = 1560434439432"
   ]
  },
  {
   "cell_type": "code",
   "execution_count": 5,
   "metadata": {},
   "outputs": [],
   "source": [
    "p1 = mul_values(p1, corner_value)\n",
    "p2 = mul_values(p2, corner_value)\n",
    "p3 = mul_values(p3, corner_value)\n",
    "q1 = mul_values(q1, corner_value)\n",
    "q2 = mul_values(q2, corner_value)\n",
    "q3 = mul_values(q3, corner_value)"
   ]
  },
  {
   "cell_type": "code",
   "execution_count": 6,
   "metadata": {},
   "outputs": [],
   "source": [
    "def convert_timestamps(df):\n",
    "    df.index = pd.to_datetime(df.index, unit='ms')\n",
    "    return df"
   ]
  },
  {
   "cell_type": "code",
   "execution_count": 7,
   "metadata": {},
   "outputs": [],
   "source": [
    "p1 = convert_timestamps(p1)\n",
    "p2 = convert_timestamps(p2)\n",
    "p3 = convert_timestamps(p3)\n",
    "q1 = convert_timestamps(q1)\n",
    "q2 = convert_timestamps(q2)\n",
    "q3 = convert_timestamps(q3)\n",
    "u1 = convert_timestamps(u1)\n",
    "u2 = convert_timestamps(u2)\n",
    "u3 = convert_timestamps(u3)"
   ]
  },
  {
   "cell_type": "code",
   "execution_count": 8,
   "metadata": {},
   "outputs": [],
   "source": [
    "def fix_timestamps(dataframes):\n",
    "    # check input\n",
    "    if len(dataframes) <= 0:\n",
    "        return\n",
    "    new_dataframes = []\n",
    "    \n",
    "    # get a full list of indices\n",
    "    indices = dataframes[0].index\n",
    "    for dataframe in dataframes:\n",
    "        indices = indices.union(dataframe.index)\n",
    "    print(\"Got all indices\")\n",
    "        \n",
    "    for (data_index, dataframe) in enumerate(dataframes):\n",
    "        dataframe = dataframe.reindex(indices, copy=True).fillna(method = 'ffill').fillna(method = 'bfill') \n",
    "        new_dataframes.append(dataframe)\n",
    "        print(\"dataframe\", data_index + 1, \"is fixed\")\n",
    "        \n",
    "    return new_dataframes"
   ]
  },
  {
   "cell_type": "code",
   "execution_count": 9,
   "metadata": {},
   "outputs": [
    {
     "name": "stdout",
     "output_type": "stream",
     "text": [
      "Got all indices\n",
      "dataframe 1 is fixed\n",
      "dataframe 2 is fixed\n",
      "dataframe 3 is fixed\n",
      "dataframe 4 is fixed\n",
      "dataframe 5 is fixed\n",
      "dataframe 6 is fixed\n",
      "dataframe 7 is fixed\n",
      "dataframe 8 is fixed\n",
      "dataframe 9 is fixed\n"
     ]
    }
   ],
   "source": [
    "data_list = fix_timestamps([p1, p2, p3, q1, q2, q3, u1, u2, u3])\n",
    "p1 = data_list[0]\n",
    "p2 = data_list[1]\n",
    "p3 = data_list[2]\n",
    "q1 = data_list[3]\n",
    "q2 = data_list[4]\n",
    "q3 = data_list[5]\n",
    "u1 = data_list[6]\n",
    "u2 = data_list[7]\n",
    "u3 = data_list[8]"
   ]
  },
  {
   "cell_type": "markdown",
   "metadata": {},
   "source": [
    "## Save fixed data so we don't need to fix it again"
   ]
  },
  {
   "cell_type": "code",
   "execution_count": null,
   "metadata": {},
   "outputs": [],
   "source": [
    "p1.to_csv(\"ics_data_fixed/Smart_Meter_65/P1.csv\", header=True, index=True, encoding='utf-8')\n",
    "p2.to_csv(\"ics_data_fixed/Smart_Meter_65/P2.csv\", header=True, index=True, encoding='utf-8')\n",
    "p3.to_csv(\"ics_data_fixed/Smart_Meter_65/P3.csv\", header=True, index=True, encoding='utf-8')\n",
    "q1.to_csv(\"ics_data_fixed/Smart_Meter_65/Q1.csv\", header=True, index=True, encoding='utf-8')\n",
    "q2.to_csv(\"ics_data_fixed/Smart_Meter_65/Q2.csv\", header=True, index=True, encoding='utf-8')\n",
    "q3.to_csv(\"ics_data_fixed/Smart_Meter_65/Q3.csv\", header=True, index=True, encoding='utf-8')\n",
    "u1.to_csv(\"ics_data_fixed/Smart_Meter_65/U1.csv\", header=True, index=True, encoding='utf-8')\n",
    "u2.to_csv(\"ics_data_fixed/Smart_Meter_65/U2.csv\", header=True, index=True, encoding='utf-8')\n",
    "u3.to_csv(\"ics_data_fixed/Smart_Meter_65/U3.csv\", header=True, index=True, encoding='utf-8')"
   ]
  },
  {
   "cell_type": "markdown",
   "metadata": {},
   "source": [
    "## Analyze data"
   ]
  },
  {
   "cell_type": "code",
   "execution_count": 10,
   "metadata": {},
   "outputs": [],
   "source": [
    "p1 = read_csv('ics_data_fixed/Smart_Meter_65/P1.csv', squeeze=True, index_col=0)\n",
    "p2 = read_csv('ics_data_fixed/Smart_Meter_65/P2.csv', squeeze=True, index_col=0)\n",
    "p3 = read_csv('ics_data_fixed/Smart_Meter_65/P3.csv', squeeze=True, index_col=0)\n",
    "q1 = read_csv('ics_data_fixed/Smart_Meter_65/Q1.csv', squeeze=True, index_col=0)\n",
    "q2 = read_csv('ics_data_fixed/Smart_Meter_65/Q2.csv', squeeze=True, index_col=0)\n",
    "q3 = read_csv('ics_data_fixed/Smart_Meter_65/Q3.csv', squeeze=True, index_col=0)\n",
    "u1 = read_csv('ics_data_fixed/Smart_Meter_65/U1.csv', squeeze=True, index_col=0)\n",
    "u2 = read_csv('ics_data_fixed/Smart_Meter_65/U2.csv', squeeze=True, index_col=0)\n",
    "u3 = read_csv('ics_data_fixed/Smart_Meter_65/U3.csv', squeeze=True, index_col=0)"
   ]
  },
  {
   "cell_type": "code",
   "execution_count": 17,
   "metadata": {},
   "outputs": [],
   "source": [
    "def print_stats(name, data):\n",
    "    stat_data = data.describe()\n",
    "    print('%s: mean = %f, std = %f, V = %f' % (name, stat_data['mean'], stat_data['std'], stat_data['std']/stat_data['mean']))"
   ]
  },
  {
   "cell_type": "code",
   "execution_count": 32,
   "metadata": {},
   "outputs": [
    {
     "name": "stdout",
     "output_type": "stream",
     "text": [
      "P1: mean = 149.814455, std = 377.822221, V = 2.521934\n",
      "P2: mean = 714.670359, std = 1367.540120, V = 1.913526\n",
      "P3: mean = 198.845854, std = 432.449248, V = 2.174796\n",
      "Q1: mean = 43.325689, std = 254.864294, V = 5.882521\n",
      "Q2: mean = -84.715044, std = 794.930152, V = -9.383577\n",
      "Q3: mean = 22.274691, std = 190.582656, V = 8.556018\n",
      "U1: mean = 226.759258, std = 3.236852, V = 0.014274\n",
      "U2: mean = 227.554605, std = 3.281116, V = 0.014419\n",
      "U3: mean = 226.126805, std = 3.207982, V = 0.014187\n"
     ]
    }
   ],
   "source": [
    "print_stats('P1', p1)\n",
    "print_stats('P2', p2)\n",
    "print_stats('P3', p3)\n",
    "print_stats('Q1', q1)\n",
    "print_stats('Q2', q2)\n",
    "print_stats('Q3', q3)\n",
    "print_stats('U1', u1)\n",
    "print_stats('U2', u2)\n",
    "print_stats('U3', u3)"
   ]
  },
  {
   "cell_type": "code",
   "execution_count": 33,
   "metadata": {},
   "outputs": [
    {
     "data": {
      "image/png": "[encoded data removed]",
      "text/plain": [
       "<Figure size 432x288 with 1 Axes>"
      ]
     },
     "execution_count": 33,
     "metadata": {},
     "output_type": "execute_result"
    },
    {
     "data": {
      "image/png": "[encoded data removed]",
      "text/plain": [
       "<Figure size 432x288 with 1 Axes>"
      ]
     },
     "metadata": {
      "needs_background": "light"
     },
     "output_type": "display_data"
    }
   ],
   "source": [
    "plot_acf(p1[:1_000_000])"
   ]
  },
  {
   "cell_type": "code",
   "execution_count": 34,
   "metadata": {
    "scrolled": false
   },
   "outputs": [
    {
     "data": {
      "image/png": "[encoded data removed]",
      "text/plain": [
       "<Figure size 432x288 with 1 Axes>"
      ]
     },
     "execution_count": 34,
     "metadata": {},
     "output_type": "execute_result"
    },
    {
     "data": {
      "image/png": "[encoded data removed]",
      "text/plain": [
       "<Figure size 432x288 with 1 Axes>"
      ]
     },
     "metadata": {
      "needs_background": "light"
     },
     "output_type": "display_data"
    }
   ],
   "source": [
    "plot_pacf(p1)"
   ]
  },
  {
   "cell_type": "markdown",
   "metadata": {},
   "source": [
    "Здесь заметна довольно четкая сезонность"
   ]
  },
  {
   "cell_type": "code",
   "execution_count": 35,
   "metadata": {},
   "outputs": [
    {
     "name": "stdout",
     "output_type": "stream",
     "text": [
      "p1 and p2: 0.49764176166084906\n",
      "p2 and p3: 0.4944709394309412\n",
      "p1 and p3: 0.40836242275174717\n"
     ]
    }
   ],
   "source": [
    "# Correlation between P values\n",
    "print('p1 and p2:', p1.corr(p2))\n",
    "print('p2 and p3:', p2.corr(p3))\n",
    "print('p1 and p3:', p1.corr(p3))"
   ]
  },
  {
   "cell_type": "code",
   "execution_count": 36,
   "metadata": {},
   "outputs": [
    {
     "name": "stdout",
     "output_type": "stream",
     "text": [
      "q1 and q2: 0.24916510988620283\n",
      "q2 and q3: 0.25181850303993636\n",
      "q1 and q3: 0.782647417687114\n"
     ]
    }
   ],
   "source": [
    "# Correlation between Q values\n",
    "print('q1 and q2:', q1.corr(q2))\n",
    "print('q2 and q3:', q2.corr(q3))\n",
    "print('q1 and q3:', q1.corr(q3))"
   ]
  },
  {
   "cell_type": "code",
   "execution_count": 37,
   "metadata": {},
   "outputs": [
    {
     "name": "stdout",
     "output_type": "stream",
     "text": [
      "u1 and u2: 0.9977586682135696\n",
      "u2 and u3: 0.9981499271891365\n",
      "u1 and u3: 0.998190376819674\n"
     ]
    }
   ],
   "source": [
    "# Correlation between U values\n",
    "print('u1 and u2:', u1.corr(u2))\n",
    "print('u2 and u3:', u2.corr(u3))\n",
    "print('u1 and u3:', u1.corr(u3))"
   ]
  },
  {
   "cell_type": "code",
   "execution_count": 38,
   "metadata": {},
   "outputs": [
    {
     "name": "stdout",
     "output_type": "stream",
     "text": [
      "p1 and q1: 0.3868353427300718\n",
      "p1 and u1: -0.28551331480621606\n",
      "q1 and u1: -0.0022305812421963226\n"
     ]
    }
   ],
   "source": [
    "# Correlation between P, Q and R - 1st phase\n",
    "print('p1 and q1:', p1.corr(q1))\n",
    "print('p1 and u1:', p1.corr(u1))\n",
    "print('q1 and u1:', q1.corr(u1))"
   ]
  },
  {
   "cell_type": "code",
   "execution_count": 39,
   "metadata": {},
   "outputs": [
    {
     "name": "stdout",
     "output_type": "stream",
     "text": [
      "p2 and q2: 0.43790715850097234\n",
      "p2 and u2: -0.31741300853021104\n",
      "q2 and u2: 0.04769677822517043\n"
     ]
    }
   ],
   "source": [
    "# Correlation between P, Q and R - 2nd phase\n",
    "print('p2 and q2:', p2.corr(q2))\n",
    "print('p2 and u2:', p2.corr(u2))\n",
    "print('q2 and u2:', q2.corr(u2))"
   ]
  },
  {
   "cell_type": "code",
   "execution_count": 40,
   "metadata": {},
   "outputs": [
    {
     "name": "stdout",
     "output_type": "stream",
     "text": [
      "p3 and q3: 0.2468764249671468\n",
      "p3 and u3: -0.19188312791932907\n",
      "q3 and u3: -0.014311070078757992\n"
     ]
    }
   ],
   "source": [
    "# Correlation between P, Q and R - 3rd phase\n",
    "print('p3 and q3:', p3.corr(q3))\n",
    "print('p3 and u3:', p3.corr(u3))\n",
    "print('q3 and u3:', q3.corr(u3))"
   ]
  },
  {
   "cell_type": "markdown",
   "metadata": {},
   "source": [
    "Корелляция между P и Q ожидаемо высока, а корреляция этих параметров с U достаточно низкая\n",
    "При этом на графиках автокорреляции четко видна сезонность"
   ]
  },
  {
   "cell_type": "markdown",
   "metadata": {},
   "source": [
    "### By months"
   ]
  },
  {
   "cell_type": "code",
   "execution_count": 41,
   "metadata": {},
   "outputs": [
    {
     "data": {
      "text/plain": [
       "ts\n",
       "2019-05-14 21:00:00.251    6.12\n",
       "2019-05-14 21:00:01.251    6.12\n",
       "2019-05-14 21:00:03.251    6.12\n",
       "2019-05-14 21:00:04.251    6.12\n",
       "2019-05-14 21:00:05.251    6.12\n",
       "                           ... \n",
       "2019-11-14 20:59:39.834    0.00\n",
       "2019-11-14 20:59:44.834    0.00\n",
       "2019-11-14 20:59:49.839    0.00\n",
       "2019-11-14 20:59:54.839    0.00\n",
       "2019-11-14 20:59:59.844    0.00\n",
       "Name: P1, Length: 4768630, dtype: float64"
      ]
     },
     "execution_count": 41,
     "metadata": {},
     "output_type": "execute_result"
    }
   ],
   "source": [
    "# We have 7 month of data\n",
    "p1"
   ]
  },
  {
   "cell_type": "code",
   "execution_count": 10,
   "metadata": {},
   "outputs": [],
   "source": [
    "# month_numbers = ['05', '06', '07', '08', '09', '10', '11']\n",
    "month_numbers = ['05', '06']"
   ]
  },
  {
   "cell_type": "code",
   "execution_count": 11,
   "metadata": {},
   "outputs": [],
   "source": [
    "months_p1 = [p1.loc['2019-' + i] for i in month_numbers]\n",
    "months_p2 = [p2.loc['2019-' + i] for i in month_numbers]\n",
    "months_p3 = [p3.loc['2019-' + i] for i in month_numbers]\n",
    "months_q1 = [q1.loc['2019-' + i] for i in month_numbers]\n",
    "months_q2 = [q2.loc['2019-' + i] for i in month_numbers]\n",
    "months_q3 = [q3.loc['2019-' + i] for i in month_numbers]\n",
    "months_u1 = [u1.loc['2019-' + i] for i in month_numbers]\n",
    "months_u2 = [u2.loc['2019-' + i] for i in month_numbers]\n",
    "months_u3 = [u3.loc['2019-' + i] for i in month_numbers]"
   ]
  },
  {
   "cell_type": "markdown",
   "metadata": {},
   "source": [
    "#### Mean"
   ]
  },
  {
   "cell_type": "code",
   "execution_count": 44,
   "metadata": {},
   "outputs": [
    {
     "data": {
      "text/plain": [
       "<matplotlib.legend.Legend at 0x1c1c511e48>"
      ]
     },
     "execution_count": 44,
     "metadata": {},
     "output_type": "execute_result"
    },
    {
     "data": {
      "image/png": "[encoded data removed]",
      "text/plain": [
       "<Figure size 432x288 with 1 Axes>"
      ]
     },
     "metadata": {
      "needs_background": "light"
     },
     "output_type": "display_data"
    },
    {
     "data": {
      "image/png": "[encoded data removed]",
      "text/plain": [
       "<Figure size 432x288 with 1 Axes>"
      ]
     },
     "metadata": {
      "needs_background": "light"
     },
     "output_type": "display_data"
    },
    {
     "data": {
      "image/png": "[encoded data removed]",
      "text/plain": [
       "<Figure size 432x288 with 1 Axes>"
      ]
     },
     "metadata": {
      "needs_background": "light"
     },
     "output_type": "display_data"
    }
   ],
   "source": [
    "plt.figure()\n",
    "plt.plot(month_numbers, [month.mean() for month in months_p1], label='P1')\n",
    "plt.plot(month_numbers, [month.mean() for month in months_p2], label='P2') \n",
    "plt.plot(month_numbers, [month.mean() for month in months_p3], label='P3') \n",
    "plt.legend()\n",
    "plt.figure()\n",
    "plt.plot(month_numbers, [month.mean() for month in months_q1], label='Q1')\n",
    "plt.plot(month_numbers, [month.mean() for month in months_q2], label='Q2') \n",
    "plt.plot(month_numbers, [month.mean() for month in months_q3], label='Q3') \n",
    "plt.legend()\n",
    "plt.figure()\n",
    "plt.plot(month_numbers, [month.mean() for month in months_u1], label='U1')\n",
    "plt.plot(month_numbers, [month.mean() for month in months_u2], label='U2') \n",
    "plt.plot(month_numbers, [month.mean() for month in months_u3], label='U3') \n",
    "plt.legend()"
   ]
  },
  {
   "cell_type": "markdown",
   "metadata": {},
   "source": [
    "#### Variance"
   ]
  },
  {
   "cell_type": "code",
   "execution_count": 45,
   "metadata": {},
   "outputs": [
    {
     "data": {
      "text/plain": [
       "<matplotlib.legend.Legend at 0x1c1c9ea860>"
      ]
     },
     "execution_count": 45,
     "metadata": {},
     "output_type": "execute_result"
    },
    {
     "data": {
      "image/png": "[encoded data removed]",
      "text/plain": [
       "<Figure size 432x288 with 1 Axes>"
      ]
     },
     "metadata": {
      "needs_background": "light"
     },
     "output_type": "display_data"
    },
    {
     "data": {
      "image/png": "[encoded data removed]",
      "text/plain": [
       "<Figure size 432x288 with 1 Axes>"
      ]
     },
     "metadata": {
      "needs_background": "light"
     },
     "output_type": "display_data"
    },
    {
     "data": {
      "image/png": "[encoded data removed]",
      "text/plain": [
       "<Figure size 432x288 with 1 Axes>"
      ]
     },
     "metadata": {
      "needs_background": "light"
     },
     "output_type": "display_data"
    }
   ],
   "source": [
    "plt.figure()\n",
    "plt.plot(month_numbers, [month.var() for month in months_p1], label='P1')\n",
    "plt.plot(month_numbers, [month.var() for month in months_p2], label='P2') \n",
    "plt.plot(month_numbers, [month.var() for month in months_p3], label='P3') \n",
    "plt.legend()\n",
    "plt.figure()\n",
    "plt.plot(month_numbers, [month.var() for month in months_q1], label='Q1')\n",
    "plt.plot(month_numbers, [month.var() for month in months_q2], label='Q2') \n",
    "plt.plot(month_numbers, [month.var() for month in months_q3], label='Q3')\n",
    "plt.legend()\n",
    "plt.figure()\n",
    "plt.plot(month_numbers, [month.var() for month in months_u1], label='U1')\n",
    "plt.plot(month_numbers, [month.var() for month in months_u2], label='U2') \n",
    "plt.plot(month_numbers, [month.var() for month in months_u3], label='U3')\n",
    "plt.legend()"
   ]
  },
  {
   "cell_type": "markdown",
   "metadata": {},
   "source": [
    "Немного предварительных выводов:\n",
    "1. Четкой сезонности и четкого тренда по месяцам не видно (возможно, из-за того, что данные были взяты в срок меньше года), но существиет разница в параметрах между месяцами\n",
    "2. Существует довольно большая разница в значениях между фазами, причем для P и Q эта разница местами довольно велика и не одинакова. Вероятно, это связано с особенностями работы счетчика.\n",
    "3. Очень похожие графики для трех фаз напряжения (и среднее, и std). Вероятно, отличия между ними обусловлены особенностью работы счетчика"
   ]
  },
  {
   "cell_type": "code",
   "execution_count": 12,
   "metadata": {},
   "outputs": [
    {
     "name": "stdout",
     "output_type": "stream",
     "text": [
      "adf:  -20.782808876089526\n",
      "p-value:  0.0\n",
      "Critical values:  {'1%': -3.430357956984531, '5%': -2.8615435168965413, '10%': -2.5667718719150314}\n",
      "единичных корней нет, ряд стационарен \n",
      "\n",
      "adf:  -27.860855699408894\n",
      "p-value:  0.0\n",
      "Critical values:  {'1%': -3.430355878876253, '5%': -2.86154259839726, '10%': -2.566771383031395}\n",
      "единичных корней нет, ряд стационарен \n",
      "\n",
      "adf:  -53.48932791600386\n",
      "p-value:  0.0\n",
      "Critical values:  {'1%': -3.4303548388955067, '5%': -2.861542138737828, '10%': -2.5667711383715024}\n",
      "единичных корней нет, ряд стационарен \n",
      "\n",
      "adf:  -9.83197068814729\n",
      "p-value:  5.0094192367671296e-17\n",
      "Critical values:  {'1%': -3.4303879749335415, '5%': -2.8615567844032257, '10%': -2.5667789337369973}\n",
      "единичных корней нет, ряд стационарен \n",
      "\n",
      "adf:  -5.434466004844598\n",
      "p-value:  2.8660438159644546e-06\n",
      "Critical values:  {'1%': -3.4306406558005498, '5%': -2.861668460435025, '10%': -2.5668383758428024}\n",
      "единичных корней нет, ряд стационарен \n",
      "\n",
      "adf:  -22.990058328640302\n",
      "p-value:  0.0\n",
      "Critical values:  {'1%': -3.4303572163969696, '5%': -2.8615431895656718, '10%': -2.5667716976887465}\n",
      "единичных корней нет, ряд стационарен \n",
      "\n",
      "adf:  -16.26809844804358\n",
      "p-value:  3.510455534330438e-29\n",
      "Critical values:  {'1%': -3.4303671430698754, '5%': -2.861547577029914, '10%': -2.566774032977148}\n",
      "единичных корней нет, ряд стационарен \n",
      "\n"
     ]
    }
   ],
   "source": [
    "for month in months_p1:\n",
    "    result = adfuller(month)\n",
    "    print ('adf: ', result[0] )\n",
    "    print ('p-value: ', result[1])\n",
    "    print('Critical values: ', result[4])\n",
    "    if result[0]> result[4]['5%']: \n",
    "        print ('есть единичные корни, ряд не стационарен \\n')\n",
    "    else:\n",
    "        print ('единичных корней нет, ряд стационарен \\n')"
   ]
  },
  {
   "cell_type": "code",
   "execution_count": 13,
   "metadata": {},
   "outputs": [],
   "source": [
    "def run_adfuller(dataframe):\n",
    "    result = adfuller(dataframe)\n",
    "    print ('adf: ', result[0] )\n",
    "    print ('p-value: ', result[1])\n",
    "    print('Critical values: ', result[4])\n",
    "    if result[0]> result[4]['5%']: \n",
    "        print ('есть единичные корни, ряд не стационарен \\n')\n",
    "    else:\n",
    "        print ('единичных корней нет, ряд стационарен \\n')"
   ]
  },
  {
   "cell_type": "code",
   "execution_count": 13,
   "metadata": {},
   "outputs": [
    {
     "name": "stdout",
     "output_type": "stream",
     "text": [
      "adf:  -9.880860502855334\n",
      "p-value:  3.773411303383034e-17\n",
      "Critical values:  {'1%': -3.430357956984531, '5%': -2.8615435168965413, '10%': -2.5667718719150314}\n",
      "единичных корней нет, ряд стационарен \n",
      "\n"
     ]
    }
   ],
   "source": [
    "run_adfuller(months_p2[0])"
   ]
  },
  {
   "cell_type": "code",
   "execution_count": null,
   "metadata": {},
   "outputs": [],
   "source": [
    "run_adfuller(months_p2[1])"
   ]
  },
  {
   "cell_type": "code",
   "execution_count": null,
   "metadata": {},
   "outputs": [],
   "source": [
    "run_adfuller(months_p2[2])"
   ]
  },
  {
   "cell_type": "code",
   "execution_count": null,
   "metadata": {},
   "outputs": [],
   "source": [
    "run_adfuller(months_p2[3])"
   ]
  },
  {
   "cell_type": "code",
   "execution_count": null,
   "metadata": {},
   "outputs": [],
   "source": [
    "run_adfuller(months_p2[4])\n",
    "run_adfuller(months_p2[5])\n",
    "run_adfuller(months_p2[6])\n",
    "\n",
    "# adf:  -2.7625376822574443\n",
    "# p-value:  0.0638274489870866\n",
    "# Critical values:  {'1%': -3.430640565396129, '5%': -2.861668420481159, '10%': -2.566838354576154}\n",
    "# есть единичные корни, ряд не стационарен\n",
    "\n",
    "# adf:  -11.556099863812438\n",
    "# p-value:  3.3561579126773394e-21\n",
    "# Critical values:  {'1%': -3.4303572163969696, '5%': -2.8615431895656718, '10%': -2.5667716976887465}\n",
    "# единичных корней нет, ряд стационарен \n",
    "\n",
    "# adf:  -14.296505001871903\n",
    "# p-value:  1.2498226114714948e-26\n",
    "# Critical values:  {'1%': -3.430367143024934, '5%': -2.8615475770100507, '10%': -2.5667740329665754}\n",
    "# единичных корней нет, ряд стационарен "
   ]
  },
  {
   "cell_type": "code",
   "execution_count": 12,
   "metadata": {},
   "outputs": [
    {
     "name": "stdout",
     "output_type": "stream",
     "text": [
      "adf:  -16.0152954059666\n",
      "p-value:  6.29047328880011e-29\n",
      "Critical values:  {'1%': -3.430357956984531, '5%': -2.8615435168965413, '10%': -2.5667718719150314}\n",
      "единичных корней нет, ряд стационарен \n",
      "\n",
      "adf:  -25.644641170041982\n",
      "p-value:  0.0\n",
      "Critical values:  {'1%': -3.430355878876253, '5%': -2.86154259839726, '10%': -2.566771383031395}\n",
      "единичных корней нет, ряд стационарен \n",
      "\n",
      "adf:  -52.99985811089278\n",
      "p-value:  0.0\n",
      "Critical values:  {'1%': -3.4303548388955067, '5%': -2.861542138737828, '10%': -2.5667711383715024}\n",
      "единичных корней нет, ряд стационарен \n",
      "\n",
      "adf:  -13.476038796019894\n",
      "p-value:  3.3107313637068522e-25\n",
      "Critical values:  {'1%': -3.43038797515407, '5%': -2.8615567845006957, '10%': -2.566778933788877}\n",
      "единичных корней нет, ряд стационарен \n",
      "\n",
      "adf:  -10.420626464472216\n",
      "p-value:  1.7084215129411177e-18\n",
      "Critical values:  {'1%': -3.4306406299649757, '5%': -2.8616684490170985, '10%': -2.566838369765267}\n",
      "единичных корней нет, ряд стационарен \n",
      "\n",
      "adf:  -10.567289671732462\n",
      "p-value:  7.460043425955119e-19\n",
      "Critical values:  {'1%': -3.4303572163969696, '5%': -2.8615431895656718, '10%': -2.5667716976887465}\n",
      "единичных корней нет, ряд стационарен \n",
      "\n",
      "adf:  -6.566652795786115\n",
      "p-value:  8.127349540640716e-09\n",
      "Critical values:  {'1%': -3.430367143024934, '5%': -2.8615475770100507, '10%': -2.5667740329665754}\n",
      "единичных корней нет, ряд стационарен \n",
      "\n"
     ]
    }
   ],
   "source": [
    "for month in months_p3:\n",
    "    result = adfuller(month)\n",
    "    print ('adf: ', result[0] )\n",
    "    print ('p-value: ', result[1])\n",
    "    print('Critical values: ', result[4])\n",
    "    if result[0]> result[4]['5%']: \n",
    "        print ('есть единичные корни, ряд не стационарен \\n')\n",
    "    else:\n",
    "        print ('единичных корней нет, ряд стационарен \\n')"
   ]
  },
  {
   "cell_type": "code",
   "execution_count": 13,
   "metadata": {},
   "outputs": [
    {
     "name": "stdout",
     "output_type": "stream",
     "text": [
      "adf:  -9.312185912989682\n",
      "p-value:  1.0418711764837039e-15\n",
      "Critical values:  {'1%': -3.430357956984531, '5%': -2.8615435168965413, '10%': -2.5667718719150314}\n",
      "единичных корней нет, ряд стационарен \n",
      "\n",
      "adf:  -9.327271279458165\n",
      "p-value:  9.535843036635436e-16\n",
      "Critical values:  {'1%': -3.430355878876253, '5%': -2.86154259839726, '10%': -2.566771383031395}\n",
      "единичных корней нет, ряд стационарен \n",
      "\n",
      "adf:  -13.093688661575435\n",
      "p-value:  1.7671281795446555e-24\n",
      "Critical values:  {'1%': -3.430354838891926, '5%': -2.8615421387362456, '10%': -2.56677113837066}\n",
      "единичных корней нет, ряд стационарен \n",
      "\n",
      "adf:  -8.835996829918045\n",
      "p-value:  1.7185757766208954e-14\n",
      "Critical values:  {'1%': -3.4303879749335415, '5%': -2.8615567844032257, '10%': -2.5667789337369973}\n",
      "единичных корней нет, ряд стационарен \n",
      "\n",
      "adf:  -4.367188076284402\n",
      "p-value:  0.00033913869443213853\n",
      "Critical values:  {'1%': -3.4306406299649757, '5%': -2.8616684490170985, '10%': -2.566838369765267}\n",
      "единичных корней нет, ряд стационарен \n",
      "\n",
      "adf:  -10.268858680593466\n",
      "p-value:  4.05114027403761e-18\n",
      "Critical values:  {'1%': -3.4303572163969696, '5%': -2.8615431895656718, '10%': -2.5667716976887465}\n",
      "единичных корней нет, ряд стационарен \n",
      "\n",
      "adf:  -12.619234682855959\n",
      "p-value:  1.5916797224044282e-23\n",
      "Critical values:  {'1%': -3.4303671430698754, '5%': -2.861547577029914, '10%': -2.566774032977148}\n",
      "единичных корней нет, ряд стационарен \n",
      "\n"
     ]
    }
   ],
   "source": [
    "for month in months_q1:\n",
    "    result = adfuller(month)\n",
    "    print ('adf: ', result[0] )\n",
    "    print ('p-value: ', result[1])\n",
    "    print('Critical values: ', result[4])\n",
    "    if result[0]> result[4]['5%']: \n",
    "        print ('есть единичные корни, ряд не стационарен \\n')\n",
    "    else:\n",
    "        print ('единичных корней нет, ряд стационарен \\n')"
   ]
  },
  {
   "cell_type": "code",
   "execution_count": null,
   "metadata": {},
   "outputs": [],
   "source": [
    "run_adfuller(months_q2[0])\n",
    "# adf:  -11.100297493258267\n",
    "# p-value:  3.880464009790197e-20\n",
    "# Critical values:  {'1%': -3.430357956984531, '5%': -2.8615435168965413, '10%': -2.5667718719150314}\n",
    "# единичных корней нет, ряд стационарен "
   ]
  },
  {
   "cell_type": "code",
   "execution_count": null,
   "metadata": {},
   "outputs": [],
   "source": [
    "run_adfuller(months_q2[1])"
   ]
  },
  {
   "cell_type": "code",
   "execution_count": null,
   "metadata": {},
   "outputs": [],
   "source": [
    "run_adfuller(months_q2[2])"
   ]
  },
  {
   "cell_type": "code",
   "execution_count": null,
   "metadata": {},
   "outputs": [],
   "source": [
    "run_adfuller(months_q2[3])\n",
    "# adf:  -8.640396511512348\n",
    "# p-value:  5.445847070542084e-14\n",
    "# Critical values:  {'1%': -3.43038797515407, '5%': -2.8615567845006957, '10%': -2.566778933788877}\n",
    "# единичных корней нет, ряд стационарен "
   ]
  },
  {
   "cell_type": "code",
   "execution_count": null,
   "metadata": {},
   "outputs": [],
   "source": [
    "run_adfuller(months_q2[4])\n",
    "# adf:  -3.4233329845031295\n",
    "# p-value:  0.010188707765015124\n",
    "# Critical values:  {'1%': -3.4306406558005498, '5%': -2.861668460435025, '10%': -2.5668383758428024}\n",
    "# единичных корней нет, ряд стационарен "
   ]
  },
  {
   "cell_type": "code",
   "execution_count": null,
   "metadata": {},
   "outputs": [],
   "source": [
    "run_adfuller(months_q2[5])\n",
    "# adf:  -13.271980845857339\n",
    "# p-value:  8.003414957841282e-25\n",
    "# Critical values:  {'1%': -3.430357216389006, '5%': -2.861543189562152, '10%': -2.566771697686873}\n",
    "# единичных корней нет, ряд стационарен "
   ]
  },
  {
   "cell_type": "code",
   "execution_count": null,
   "metadata": {},
   "outputs": [],
   "source": [
    "run_adfuller(months_q2[6])\n",
    "# adf:  -8.002716647344515\n",
    "# p-value:  2.3108485688167445e-12\n",
    "# Critical values:  {'1%': -3.4303671430698754, '5%': -2.861547577029914, '10%': -2.566774032977148}\n",
    "# единичных корней нет, ряд стационарен "
   ]
  },
  {
   "cell_type": "code",
   "execution_count": null,
   "metadata": {},
   "outputs": [],
   "source": [
    "run_adfuller(months_q3[0])\n",
    "# adf:  -16.228867989028206\n",
    "# p-value:  3.8298913854328023e-29\n",
    "# Critical values:  {'1%': -3.430357956984531, '5%': -2.8615435168965413, '10%': -2.5667718719150314}\n",
    "# единичных корней нет, ряд стационарен "
   ]
  },
  {
   "cell_type": "code",
   "execution_count": null,
   "metadata": {},
   "outputs": [],
   "source": [
    "run_adfuller(months_q3[1])\n",
    "# adf:  -10.604319212235815\n",
    "# p-value:  6.05759734187203e-19\n",
    "# Critical values:  {'1%': -3.430355878876253, '5%': -2.86154259839726, '10%': -2.566771383031395}\n",
    "# единичных корней нет, ряд стационарен "
   ]
  },
  {
   "cell_type": "code",
   "execution_count": null,
   "metadata": {},
   "outputs": [],
   "source": [
    "run_adfuller(months_q3[2])"
   ]
  },
  {
   "cell_type": "code",
   "execution_count": null,
   "metadata": {},
   "outputs": [],
   "source": [
    "run_adfuller(months_q3[3])\n",
    "# adf:  -9.593595314337449\n",
    "# p-value:  2.0056093777585438e-16\n",
    "# Critical values:  {'1%': -3.430387970964461, '5%': -2.8615567826489574, '10%': -2.566778932803261}\n",
    "# единичных корней нет, ряд стационарен "
   ]
  },
  {
   "cell_type": "code",
   "execution_count": null,
   "metadata": {},
   "outputs": [],
   "source": [
    "run_adfuller(months_q3[4])\n",
    "# adf:  -4.307107389340976\n",
    "# p-value:  0.000431790545838469\n",
    "# Critical values:  {'1%': -3.430640384755896, '5%': -2.86166834064794, '10%': -2.566838312082519}\n",
    "# единичных корней нет, ряд стационарен "
   ]
  },
  {
   "cell_type": "code",
   "execution_count": null,
   "metadata": {},
   "outputs": [],
   "source": [
    "run_adfuller(months_q3[5])\n",
    "# adf:  -6.697411829179403\n",
    "# p-value:  3.967306637438502e-09\n",
    "# Critical values:  {'1%': -3.430357216341225, '5%': -2.8615431895410333, '10%': -2.566771697675632}\n",
    "# единичных корней нет, ряд стационарен "
   ]
  },
  {
   "cell_type": "code",
   "execution_count": null,
   "metadata": {},
   "outputs": [],
   "source": [
    "run_adfuller(months_q3[6])\n",
    "# adf:  -9.632439803594028\n",
    "# p-value:  1.598872013075045e-16\n",
    "# Critical values:  {'1%': -3.4303671430698754, '5%': -2.861547577029914, '10%': -2.566774032977148}\n",
    "# единичных корней нет, ряд стационарен "
   ]
  },
  {
   "cell_type": "code",
   "execution_count": null,
   "metadata": {},
   "outputs": [],
   "source": [
    "run_adfuller(months_u1[0])\n",
    "# adf:  -5.222235454322759\n",
    "# p-value:  7.9181199288127e-06\n",
    "# Critical values:  {'1%': -3.430357956974849, '5%': -2.861543516892262, '10%': -2.5667718719127537}\n",
    "# единичных корней нет, ряд стационарен "
   ]
  },
  {
   "cell_type": "code",
   "execution_count": null,
   "metadata": {},
   "outputs": [],
   "source": [
    "run_adfuller(months_u1[1])"
   ]
  },
  {
   "cell_type": "code",
   "execution_count": null,
   "metadata": {},
   "outputs": [],
   "source": [
    "run_adfuller(months_u1[2])"
   ]
  },
  {
   "cell_type": "code",
   "execution_count": null,
   "metadata": {},
   "outputs": [],
   "source": [
    "run_adfuller(months_u1[3])\n",
    "# adf:  -6.651345271538119\n",
    "# p-value:  5.111615307681683e-09\n",
    "# Critical values:  {'1%': -3.43038797515407, '5%': -2.8615567845006957, '10%': -2.566778933788877}\n",
    "# единичных корней нет, ряд стационарен "
   ]
  },
  {
   "cell_type": "code",
   "execution_count": null,
   "metadata": {},
   "outputs": [],
   "source": [
    "run_adfuller(months_u1[4])\n",
    "# adf:  -2.676701899287078\n",
    "# p-value:  0.07815735287005449\n",
    "# Critical values:  {'1%': -3.4306403976513207, '5%': -2.8616683463470207, '10%': -2.5668383151160263}\n",
    "# есть единичные корни, ряд не стационарен "
   ]
  },
  {
   "cell_type": "code",
   "execution_count": null,
   "metadata": {},
   "outputs": [],
   "source": [
    "run_adfuller(months_u1[5])\n",
    "# adf:  -4.945289399542398\n",
    "# p-value:  2.8445470792583415e-05\n",
    "# Critical values:  {'1%': -3.4303572163651155, '5%': -2.8615431895515924, '10%': -2.5667716976812525}\n",
    "# единичных корней нет, ряд стационарен "
   ]
  },
  {
   "cell_type": "code",
   "execution_count": null,
   "metadata": {},
   "outputs": [],
   "source": [
    "run_adfuller(months_u1[6])\n",
    "# adf:  -3.732062717571794\n",
    "# p-value:  0.003684111523125982\n",
    "# Critical values:  {'1%': -3.4303671422160327, '5%': -2.861547576652527, '10%': -2.5667740327762782}\n",
    "# единичных корней нет, ряд стационарен "
   ]
  },
  {
   "cell_type": "code",
   "execution_count": null,
   "metadata": {},
   "outputs": [],
   "source": [
    "run_adfuller(months_u2[0])\n",
    "# adf:  -5.114644186788854\n",
    "# p-value:  1.3098967560374234e-05\n",
    "# Critical values:  {'1%': -3.430357956965167, '5%': -2.861543516887983, '10%': -2.566771871910476}\n",
    "# единичных корней нет, ряд стационарен "
   ]
  },
  {
   "cell_type": "code",
   "execution_count": null,
   "metadata": {},
   "outputs": [],
   "source": [
    "run_adfuller(months_u2[1])"
   ]
  },
  {
   "cell_type": "code",
   "execution_count": null,
   "metadata": {},
   "outputs": [],
   "source": [
    "run_adfuller(months_u2[2])"
   ]
  },
  {
   "cell_type": "code",
   "execution_count": null,
   "metadata": {},
   "outputs": [],
   "source": [
    "run_adfuller(months_u2[3])\n",
    "# adf:  -6.640039869860539\n",
    "# p-value:  5.4389332378711294e-09\n",
    "# Critical values:  {'1%': -3.430387973610422, '5%': -2.8615567838184286, '10%': -2.5667789334257303}\n",
    "# единичных корней нет, ряд стационарен "
   ]
  },
  {
   "cell_type": "code",
   "execution_count": null,
   "metadata": {},
   "outputs": [],
   "source": [
    "run_adfuller(months_u2[4])\n",
    "# adf:  -2.6767764024406135\n",
    "# p-value:  0.07814389959175594\n",
    "# Critical values:  {'1%': -3.4306403976513207, '5%': -2.8616683463470207, '10%': -2.5668383151160263}\n",
    "# есть единичные корни, ряд не стационарен "
   ]
  },
  {
   "cell_type": "code",
   "execution_count": null,
   "metadata": {},
   "outputs": [],
   "source": [
    "run_adfuller(months_u2[5])\n",
    "# adf:  -4.96408032999562\n",
    "# p-value:  2.6127602002476144e-05\n",
    "# Critical values:  {'1%': -3.430357216373079, '5%': -2.861543189555112, '10%': -2.566771697683126}\n",
    "# единичных корней нет, ряд стационарен "
   ]
  },
  {
   "cell_type": "code",
   "execution_count": null,
   "metadata": {},
   "outputs": [],
   "source": [
    "run_adfuller(months_u2[6])\n",
    "# adf:  -3.7954488170093614\n",
    "# p-value:  0.0029542242984148225\n",
    "# Critical values:  {'1%': -3.430367142935052, '5%': -2.8615475769703242, '10%': -2.56677403294543}\n",
    "# единичных корней нет, ряд стационарен "
   ]
  },
  {
   "cell_type": "code",
   "execution_count": null,
   "metadata": {},
   "outputs": [],
   "source": [
    "run_adfuller(months_u3[0])\n",
    "# adf:  -5.271403211445335\n",
    "# p-value:  6.2740930894729515e-06\n",
    "# Critical values:  {'1%': -3.430357956955485, '5%': -2.861543516883703, '10%': -2.566771871908198}\n",
    "# единичных корней нет, ряд стационарен "
   ]
  },
  {
   "cell_type": "code",
   "execution_count": null,
   "metadata": {},
   "outputs": [],
   "source": [
    "run_adfuller(months_u3[1])"
   ]
  },
  {
   "cell_type": "code",
   "execution_count": null,
   "metadata": {},
   "outputs": [],
   "source": [
    "run_adfuller(months_u3[2])"
   ]
  },
  {
   "cell_type": "code",
   "execution_count": null,
   "metadata": {},
   "outputs": [],
   "source": [
    "run_adfuller(months_u3[3])\n",
    "# adf:  -6.718196186377709\n",
    "# p-value:  3.5376978435163967e-09\n",
    "# Critical values:  {'1%': -3.4303879747130153, '5%': -2.8615567843057566, '10%': -2.566778933685118}\n",
    "# единичных корней нет, ряд стационарен "
   ]
  },
  {
   "cell_type": "code",
   "execution_count": null,
   "metadata": {},
   "outputs": [],
   "source": [
    "run_adfuller(months_u3[4])\n",
    "# adf:  -2.715822020650574\n",
    "# p-value:  0.07134015772181304\n",
    "# Critical values:  {'1%': -3.4306403976513207, '5%': -2.8616683463470207, '10%': -2.5668383151160263}\n",
    "# есть единичные корни, ряд не стационарен "
   ]
  },
  {
   "cell_type": "code",
   "execution_count": null,
   "metadata": {},
   "outputs": [],
   "source": [
    "run_adfuller(months_u3[5])\n",
    "# adf:  -5.042326757245978\n",
    "# p-value:  1.828787836582908e-05\n",
    "# Critical values:  {'1%': -3.4303572162536278, '5%': -2.8615431895023162, '10%': -2.5667716976550246}\n",
    "# единичных корней нет, ряд стационарен "
   ]
  },
  {
   "cell_type": "code",
   "execution_count": null,
   "metadata": {},
   "outputs": [],
   "source": [
    "run_adfuller(months_u3[6])\n",
    "# adf:  -3.7215610469562685\n",
    "# p-value:  0.0038198997001293324\n",
    "# Critical values:  {'1%': -3.4303671426204736, '5%': -2.8615475768312844, '10%': -2.5667740328714244}\n",
    "# единичных корней нет, ряд стационарен "
   ]
  },
  {
   "cell_type": "code",
   "execution_count": 12,
   "metadata": {},
   "outputs": [
    {
     "data": {
      "image/png": "[encoded data removed]",
      "text/plain": [
       "<Figure size 864x432 with 2 Axes>"
      ]
     },
     "metadata": {
      "needs_background": "light"
     },
     "output_type": "display_data"
    }
   ],
   "source": [
    "fig, ax = plt.subplots(2, figsize=(12,6))\n",
    "ax[0] = plot_acf(months_p1[0], ax=ax[0], lags=20)\n",
    "ax[1] = plot_pacf(months_p1[0], ax=ax[1], lags=20)"
   ]
  },
  {
   "cell_type": "markdown",
   "metadata": {},
   "source": [
    "### By working days/holidays"
   ]
  },
  {
   "cell_type": "code",
   "execution_count": 13,
   "metadata": {},
   "outputs": [],
   "source": [
    "holidays = [['18', '19', '25', '26'], \n",
    "            ['01', '02', '08', '09', '15', '16', '22', '23', '29', '30'], \n",
    "            ['06', '07', '13', '14', '20', '21', '27', '28'], \n",
    "            ['03', '04', '10', '11', '17', '18', '24', '25', '31'], \n",
    "            ['01', '07', '08', '14', '15', '21', '22', '28', '29'], \n",
    "            ['05', '06', '12', '13', '19', '20', '26', '27'], \n",
    "            ['02', '03', '09', '10']]"
   ]
  },
  {
   "cell_type": "code",
   "execution_count": 14,
   "metadata": {},
   "outputs": [],
   "source": [
    "all_weekends = [month+'-'+day for (month, days) in zip(month_numbers, holidays) for day in days]"
   ]
  },
  {
   "cell_type": "code",
   "execution_count": 15,
   "metadata": {},
   "outputs": [
    {
     "name": "stdout",
     "output_type": "stream",
     "text": [
      "separated P1\n",
      "separated P2\n",
      "separated P3\n",
      "separated Q1\n",
      "separated Q2\n",
      "separated Q3\n",
      "separated U1\n",
      "separated U2\n",
      "separated U3\n"
     ]
    }
   ],
   "source": [
    "holidays_p1 = pd.concat([p1.loc['2019-' + month + '-' + day] for (month, days) in zip(month_numbers, holidays) for day in days])\n",
    "combined = p1.append(holidays_p1)\n",
    "working_days_p1 = combined[~combined.index.duplicated(keep=False)]\n",
    "print(\"separated P1\")\n",
    "\n",
    "holidays_p2 = pd.concat([p2.loc['2019-' + month + '-' + day] for (month, days) in zip(month_numbers, holidays) for day in days])\n",
    "combined = p2.append(holidays_p2)\n",
    "working_days_p2 = combined[~combined.index.duplicated(keep=False)]\n",
    "print(\"separated P2\")\n",
    "\n",
    "holidays_p3 = pd.concat([p3.loc['2019-' + month + '-' + day] for (month, days) in zip(month_numbers, holidays) for day in days])\n",
    "combined = p3.append(holidays_p3)\n",
    "working_days_p3 = combined[~combined.index.duplicated(keep=False)]\n",
    "print(\"separated P3\")\n",
    "\n",
    "holidays_q1 = pd.concat([q1.loc['2019-' + month + '-' + day] for (month, days) in zip(month_numbers, holidays) for day in days])\n",
    "combined = q1.append(holidays_q1)\n",
    "working_days_q1 = combined[~combined.index.duplicated(keep=False)]\n",
    "print(\"separated Q1\")\n",
    "\n",
    "holidays_q2 = pd.concat([q2.loc['2019-' + month + '-' + day] for (month, days) in zip(month_numbers, holidays) for day in days])\n",
    "combined = q2.append(holidays_q2)\n",
    "working_days_q2 = combined[~combined.index.duplicated(keep=False)]\n",
    "print(\"separated Q2\")\n",
    "\n",
    "holidays_q3 = pd.concat([q3.loc['2019-' + month + '-' + day] for (month, days) in zip(month_numbers, holidays) for day in days])\n",
    "combined = q3.append(holidays_q3)\n",
    "working_days_q3 = combined[~combined.index.duplicated(keep=False)]\n",
    "print(\"separated Q3\")\n",
    "\n",
    "holidays_u1 = pd.concat([u1.loc['2019-' + month + '-' + day] for (month, days) in zip(month_numbers, holidays) for day in days])\n",
    "combined = u1.append(holidays_u1)\n",
    "working_days_u1 = combined[~combined.index.duplicated(keep=False)]\n",
    "print(\"separated U1\")\n",
    "\n",
    "holidays_u2 = pd.concat([u2.loc['2019-' + month + '-' + day] for (month, days) in zip(month_numbers, holidays) for day in days])\n",
    "combined = u2.append(holidays_u2)\n",
    "working_days_u2 = combined[~combined.index.duplicated(keep=False)]\n",
    "print(\"separated U2\")\n",
    "\n",
    "holidays_u3 = pd.concat([u3.loc['2019-' + month + '-' + day] for (month, days) in zip(month_numbers, holidays) for day in days])\n",
    "combined = u3.append(holidays_u3)\n",
    "working_days_u3 = combined[~combined.index.duplicated(keep=False)]\n",
    "print(\"separated U3\")"
   ]
  },
  {
   "cell_type": "code",
   "execution_count": 18,
   "metadata": {},
   "outputs": [
    {
     "name": "stderr",
     "output_type": "stream",
     "text": [
      "/Users/anna/anaconda3/lib/python3.7/site-packages/ipykernel_launcher.py:3: RuntimeWarning: invalid value encountered in double_scalars\n",
      "  This is separate from the ipykernel package so we can avoid doing imports until\n"
     ]
    },
    {
     "name": "stdout",
     "output_type": "stream",
     "text": [
      "P1 - holidays : mean = 0.000000, std = 0.000000, V = nan\n",
      "P1 - working days : mean = 171.809218, std = 399.910345, V = 2.327642\n",
      "P2 - holidays : mean = 170.228246, std = 924.265281, V = 5.429565\n",
      "P2 - working days : mean = 794.601734, std = 1403.355557, V = 1.766112\n",
      "P3 - holidays : mean = 49.098265, std = 107.525202, V = 2.190000\n",
      "P3 - working days : mean = 220.830801, std = 457.160075, V = 2.070183\n"
     ]
    }
   ],
   "source": [
    "print_stats('P1 - holidays ', holidays_p1)\n",
    "print_stats('P1 - working days ', working_days_p1)\n",
    "print_stats('P2 - holidays ', holidays_p2)\n",
    "print_stats('P2 - working days ', working_days_p2)\n",
    "print_stats('P3 - holidays ', holidays_p3)\n",
    "print_stats('P3 - working days ', working_days_p3)"
   ]
  },
  {
   "cell_type": "code",
   "execution_count": 19,
   "metadata": {},
   "outputs": [
    {
     "name": "stdout",
     "output_type": "stream",
     "text": [
      "Q1 - holidays : mean = 0.000000, std = 0.000000, V = nan\n"
     ]
    },
    {
     "name": "stderr",
     "output_type": "stream",
     "text": [
      "/Users/anna/anaconda3/lib/python3.7/site-packages/ipykernel_launcher.py:3: RuntimeWarning: invalid value encountered in double_scalars\n",
      "  This is separate from the ipykernel package so we can avoid doing imports until\n"
     ]
    },
    {
     "name": "stdout",
     "output_type": "stream",
     "text": [
      "Q1 - working days : mean = 49.686480, std = 272.352980, V = 5.481430\n",
      "Q2 - holidays : mean = 76.437839, std = 965.910346, V = 12.636547\n",
      "Q2 - working days : mean = -108.374440, std = 763.767427, V = -7.047487\n",
      "Q3 - holidays : mean = -2.700019, std = 52.166031, V = -19.320619\n",
      "Q3 - working days : mean = 25.941312, std = 202.853960, V = 7.819726\n"
     ]
    }
   ],
   "source": [
    "print_stats('Q1 - holidays ', holidays_q1)\n",
    "print_stats('Q1 - working days ', working_days_q1)\n",
    "print_stats('Q2 - holidays ', holidays_q2)\n",
    "print_stats('Q2 - working days ', working_days_q2)\n",
    "print_stats('Q3 - holidays ', holidays_q3)\n",
    "print_stats('Q3 - working days ', working_days_q3)"
   ]
  },
  {
   "cell_type": "code",
   "execution_count": 20,
   "metadata": {},
   "outputs": [
    {
     "name": "stdout",
     "output_type": "stream",
     "text": [
      "U1 - holidays : mean = 226.689920, std = 2.629432, V = 0.011599\n",
      "U1 - working days : mean = 226.769438, std = 3.316556, V = 0.014625\n",
      "U2 - holidays : mean = 227.528167, std = 2.641638, V = 0.011610\n",
      "U2 - working days : mean = 227.558487, std = 3.364767, V = 0.014786\n",
      "U3 - holidays : mean = 226.074500, std = 2.574034, V = 0.011386\n",
      "U3 - working days : mean = 226.134484, std = 3.290719, V = 0.014552\n"
     ]
    }
   ],
   "source": [
    "print_stats('U1 - holidays ', holidays_u1)\n",
    "print_stats('U1 - working days ', working_days_u1)\n",
    "print_stats('U2 - holidays ', holidays_u2)\n",
    "print_stats('U2 - working days ', working_days_u2)\n",
    "print_stats('U3 - holidays ', holidays_u3)\n",
    "print_stats('U3 - working days ', working_days_u3)"
   ]
  },
  {
   "cell_type": "markdown",
   "metadata": {},
   "source": [
    "Из полученных результатов можно сделать вывод, что значения мощности (P и Q) на выходных в среднем ниже, чем по рабочим дням\n",
    "В данных напряжения наблюдается противоположный результат, однако различия между значениями малы.\n",
    "#### Из сказанного выше можно сделать вывод, что в данных есть сезонная составляющая"
   ]
  },
  {
   "cell_type": "code",
   "execution_count": null,
   "metadata": {},
   "outputs": [],
   "source": []
  }
 ],
 "metadata": {
  "kernelspec": {
   "display_name": "Python 3",
   "language": "python",
   "name": "python3"
  },
  "language_info": {
   "codemirror_mode": {
    "name": "ipython",
    "version": 3
   },
   "file_extension": ".py",
   "mimetype": "text/x-python",
   "name": "python",
   "nbconvert_exporter": "python",
   "pygments_lexer": "ipython3",
   "version": "3.7.3"
  }
 },
 "nbformat": 4,
 "nbformat_minor": 4
}
