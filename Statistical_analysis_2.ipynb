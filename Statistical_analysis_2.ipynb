{
 "cells": [
  {
   "cell_type": "code",
   "execution_count": 1,
   "metadata": {},
   "outputs": [],
   "source": [
    "from pandas import read_csv\n",
    "from matplotlib import pyplot as plt\n",
    "\n",
    "import pandas as pd\n",
    "\n",
    "from statsmodels.graphics.tsaplots import plot_acf, plot_pacf\n",
    "from statsmodels.tsa.stattools import adfuller"
   ]
  },
  {
   "cell_type": "markdown",
   "metadata": {},
   "source": [
    "# Smart Meter 65"
   ]
  },
  {
   "cell_type": "code",
   "execution_count": 2,
   "metadata": {},
   "outputs": [
    {
     "name": "stderr",
     "output_type": "stream",
     "text": [
      "/Users/anna/anaconda3/lib/python3.7/site-packages/numpy/lib/arraysetops.py:569: FutureWarning: elementwise comparison failed; returning scalar instead, but in the future will perform elementwise comparison\n",
      "  mask |= (ar1 == a)\n"
     ]
    }
   ],
   "source": [
    "p1 = read_csv('ics_data/07_Smart_Meter_65/P1.csv', squeeze=True, index_col=0)\n",
    "p2 = read_csv('ics_data/07_Smart_Meter_65/P2.csv', squeeze=True, index_col=0)\n",
    "p3 = read_csv('ics_data/07_Smart_Meter_65/P3.csv', squeeze=True, index_col=0)\n",
    "q1 = read_csv('ics_data/07_Smart_Meter_65/Q1.csv', squeeze=True, index_col=0)\n",
    "q2 = read_csv('ics_data/07_Smart_Meter_65/Q2.csv', squeeze=True, index_col=0)\n",
    "q3 = read_csv('ics_data/07_Smart_Meter_65/Q3.csv', squeeze=True, index_col=0)\n",
    "u1 = read_csv('ics_data/07_Smart_Meter_65/U1.csv', squeeze=True, index_col=0)\n",
    "u2 = read_csv('ics_data/07_Smart_Meter_65/U2.csv', squeeze=True, index_col=0)\n",
    "u3 = read_csv('ics_data/07_Smart_Meter_65/U3.csv', squeeze=True, index_col=0)"
   ]
  },
  {
   "cell_type": "code",
   "execution_count": 3,
   "metadata": {},
   "outputs": [],
   "source": [
    "def mul_values(dataframe, num):\n",
    "    new_dataframe = dataframe.copy()\n",
    "    for (data_index, index) in enumerate(dataframe.index):\n",
    "        if index > num:\n",
    "            break\n",
    "        else:\n",
    "            new_dataframe.values[data_index] *= 18\n",
    "    \n",
    "    return new_dataframe"
   ]
  },
  {
   "cell_type": "code",
   "execution_count": 4,
   "metadata": {},
   "outputs": [],
   "source": [
    "corner_value = 1567102707326"
   ]
  },
  {
   "cell_type": "code",
   "execution_count": 5,
   "metadata": {},
   "outputs": [],
   "source": [
    "p1 = mul_values(p1, corner_value)\n",
    "p2 = mul_values(p2, corner_value)\n",
    "p3 = mul_values(p3, corner_value)\n",
    "q1 = mul_values(q1, corner_value)\n",
    "q2 = mul_values(q2, corner_value)\n",
    "q3 = mul_values(q3, corner_value)"
   ]
  },
  {
   "cell_type": "code",
   "execution_count": 6,
   "metadata": {},
   "outputs": [],
   "source": [
    "def convert_timestamps(df):\n",
    "    df.index = pd.to_datetime(df.index, unit='ms')\n",
    "    return df"
   ]
  },
  {
   "cell_type": "code",
   "execution_count": 7,
   "metadata": {},
   "outputs": [],
   "source": [
    "p1 = convert_timestamps(p1)\n",
    "p2 = convert_timestamps(p2)\n",
    "p3 = convert_timestamps(p3)\n",
    "q1 = convert_timestamps(q1)\n",
    "q2 = convert_timestamps(q2)\n",
    "q3 = convert_timestamps(q3)\n",
    "u1 = convert_timestamps(u1)\n",
    "u2 = convert_timestamps(u2)\n",
    "u3 = convert_timestamps(u3)"
   ]
  },
  {
   "cell_type": "code",
   "execution_count": 8,
   "metadata": {},
   "outputs": [],
   "source": [
    "def fix_timestamps(dataframes):\n",
    "    # check input\n",
    "    if len(dataframes) <= 0:\n",
    "        return\n",
    "    new_dataframes = []\n",
    "    \n",
    "    # get a full list of indices\n",
    "    indices = dataframes[0].index\n",
    "    for dataframe in dataframes:\n",
    "        indices = indices.union(dataframe.index)\n",
    "    print(\"Got all indices\")\n",
    "        \n",
    "    for (data_index, dataframe) in enumerate(dataframes):\n",
    "        dataframe = dataframe.reindex(indices, copy=True).fillna(method = 'ffill') \n",
    "        new_dataframes.append(dataframe)\n",
    "        print(\"dataframe\", data_index + 1, \"is fixed\")\n",
    "        \n",
    "    return new_dataframes"
   ]
  },
  {
   "cell_type": "code",
   "execution_count": 9,
   "metadata": {},
   "outputs": [
    {
     "name": "stdout",
     "output_type": "stream",
     "text": [
      "Got all indices\n",
      "dataframe 1 is fixed\n",
      "dataframe 2 is fixed\n",
      "dataframe 3 is fixed\n",
      "dataframe 4 is fixed\n",
      "dataframe 5 is fixed\n",
      "dataframe 6 is fixed\n",
      "dataframe 7 is fixed\n",
      "dataframe 8 is fixed\n",
      "dataframe 9 is fixed\n"
     ]
    }
   ],
   "source": [
    "data_list = fix_timestamps([p1, p2, p3, q1, q2, q3, u1, u2, u3])\n",
    "p1 = data_list[0]\n",
    "p2 = data_list[1]\n",
    "p3 = data_list[2]\n",
    "q1 = data_list[3]\n",
    "q2 = data_list[4]\n",
    "q3 = data_list[5]\n",
    "u1 = data_list[6]\n",
    "u2 = data_list[7]\n",
    "u3 = data_list[8]"
   ]
  },
  {
   "cell_type": "markdown",
   "metadata": {},
   "source": [
    "## Save fixed data so we don't need to fix it again"
   ]
  },
  {
   "cell_type": "code",
   "execution_count": null,
   "metadata": {},
   "outputs": [],
   "source": [
    "p1.to_csv(\"ics_data_fixed/Smart_Meter_65/P1.csv\", header=True, index=True, encoding='utf-8')\n",
    "p2.to_csv(\"ics_data_fixed/Smart_Meter_65/P2.csv\", header=True, index=True, encoding='utf-8')\n",
    "p3.to_csv(\"ics_data_fixed/Smart_Meter_65/P3.csv\", header=True, index=True, encoding='utf-8')\n",
    "q1.to_csv(\"ics_data_fixed/Smart_Meter_65/Q1.csv\", header=True, index=True, encoding='utf-8')\n",
    "q2.to_csv(\"ics_data_fixed/Smart_Meter_65/Q2.csv\", header=True, index=True, encoding='utf-8')\n",
    "q3.to_csv(\"ics_data_fixed/Smart_Meter_65/Q3.csv\", header=True, index=True, encoding='utf-8')\n",
    "u1.to_csv(\"ics_data_fixed/Smart_Meter_65/U1.csv\", header=True, index=True, encoding='utf-8')\n",
    "u2.to_csv(\"ics_data_fixed/Smart_Meter_65/U2.csv\", header=True, index=True, encoding='utf-8')\n",
    "u3.to_csv(\"ics_data_fixed/Smart_Meter_65/U3.csv\", header=True, index=True, encoding='utf-8')"
   ]
  },
  {
   "cell_type": "markdown",
   "metadata": {},
   "source": [
    "## Analyze data"
   ]
  },
  {
   "cell_type": "code",
   "execution_count": null,
   "metadata": {},
   "outputs": [],
   "source": [
    "p1 = read_csv('ics_data_fixed/Smart_Meter_65/P1.csv', squeeze=True, index_col=0)\n",
    "p2 = read_csv('ics_data_fixed/Smart_Meter_65/P2.csv', squeeze=True, index_col=0)\n",
    "p3 = read_csv('ics_data_fixed/Smart_Meter_65/P3.csv', squeeze=True, index_col=0)\n",
    "q1 = read_csv('ics_data_fixed/Smart_Meter_65/Q1.csv', squeeze=True, index_col=0)\n",
    "q2 = read_csv('ics_data_fixed/Smart_Meter_65/Q2.csv', squeeze=True, index_col=0)\n",
    "q3 = read_csv('ics_data_fixed/Smart_Meter_65/Q3.csv', squeeze=True, index_col=0)\n",
    "u1 = read_csv('ics_data_fixed/Smart_Meter_65/U1.csv', squeeze=True, index_col=0)\n",
    "u2 = read_csv('ics_data_fixed/Smart_Meter_65/U2.csv', squeeze=True, index_col=0)\n",
    "u3 = read_csv('ics_data_fixed/Smart_Meter_65/U3.csv', squeeze=True, index_col=0)"
   ]
  },
  {
   "cell_type": "code",
   "execution_count": 10,
   "metadata": {},
   "outputs": [],
   "source": [
    "def print_stats(name, data):\n",
    "    stat_data = data.describe()\n",
    "    print('%s: mean = %f, std = %f, V = %f' % (name, stat_data['mean'], stat_data['std'], stat_data['std']/stat_data['mean']))"
   ]
  },
  {
   "cell_type": "code",
   "execution_count": 11,
   "metadata": {},
   "outputs": [
    {
     "name": "stdout",
     "output_type": "stream",
     "text": [
      "P1: mean = 449.393135, std = 378.945490, V = 0.843238\n",
      "P2: mean = 861.871355, std = 743.522283, V = 0.862684\n",
      "P3: mean = 1896.398291, std = 1133.349203, V = 0.597632\n",
      "Q1: mean = 12.515114, std = 340.761829, V = 27.228025\n",
      "Q2: mean = 752.486336, std = 760.840452, V = 1.011102\n",
      "Q3: mean = 641.941005, std = 322.660528, V = 0.502633\n",
      "U1: mean = 226.839567, std = 3.147646, V = 0.013876\n",
      "U2: mean = 227.620130, std = 3.160971, V = 0.013887\n",
      "U3: mean = 226.028079, std = 3.110071, V = 0.013760\n"
     ]
    }
   ],
   "source": [
    "print_stats('P1', p1)\n",
    "print_stats('P2', p2)\n",
    "print_stats('P3', p3)\n",
    "print_stats('Q1', q1)\n",
    "print_stats('Q2', q2)\n",
    "print_stats('Q3', q3)\n",
    "print_stats('U1', u1)\n",
    "print_stats('U2', u2)\n",
    "print_stats('U3', u3)"
   ]
  },
  {
   "cell_type": "code",
   "execution_count": 12,
   "metadata": {},
   "outputs": [
    {
     "data": {
      "image/png": "[encoded data removed]",
      "text/plain": [
       "<Figure size 432x288 with 1 Axes>"
      ]
     },
     "execution_count": 12,
     "metadata": {},
     "output_type": "execute_result"
    },
    {
     "data": {
      "image/png": "[encoded data removed]",
      "text/plain": [
       "<Figure size 432x288 with 1 Axes>"
      ]
     },
     "metadata": {
      "needs_background": "light"
     },
     "output_type": "display_data"
    }
   ],
   "source": [
    "plot_acf(p1[:1_000_000])"
   ]
  },
  {
   "cell_type": "code",
   "execution_count": 13,
   "metadata": {},
   "outputs": [
    {
     "data": {
      "image/png": "[encoded data removed]",
      "text/plain": [
       "<Figure size 432x288 with 1 Axes>"
      ]
     },
     "execution_count": 13,
     "metadata": {},
     "output_type": "execute_result"
    },
    {
     "data": {
      "image/png": "[encoded data removed]",
      "text/plain": [
       "<Figure size 432x288 with 1 Axes>"
      ]
     },
     "metadata": {
      "needs_background": "light"
     },
     "output_type": "display_data"
    }
   ],
   "source": [
    "plot_pacf(p1)"
   ]
  },
  {
   "cell_type": "code",
   "execution_count": 14,
   "metadata": {},
   "outputs": [
    {
     "name": "stdout",
     "output_type": "stream",
     "text": [
      "p1 and p2: 0.4715611343349515\n",
      "p2 and p3: 0.3305115499950774\n",
      "p1 and p3: 0.5894235582385281\n"
     ]
    }
   ],
   "source": [
    "# Correlation between P values\n",
    "print('p1 and p2:', p1.corr(p2))\n",
    "print('p2 and p3:', p2.corr(p3))\n",
    "print('p1 and p3:', p1.corr(p3))"
   ]
  },
  {
   "cell_type": "code",
   "execution_count": 15,
   "metadata": {},
   "outputs": [
    {
     "name": "stdout",
     "output_type": "stream",
     "text": [
      "q1 and q2: 0.23013348138938727\n",
      "q2 and q3: 0.463159169058855\n",
      "q1 and q3: 0.4788960081158499\n"
     ]
    }
   ],
   "source": [
    "# Correlation between Q values\n",
    "print('q1 and q2:', q1.corr(q2))\n",
    "print('q2 and q3:', q2.corr(q3))\n",
    "print('q1 and q3:', q1.corr(q3))"
   ]
  },
  {
   "cell_type": "code",
   "execution_count": 16,
   "metadata": {},
   "outputs": [
    {
     "name": "stdout",
     "output_type": "stream",
     "text": [
      "u1 and u2: 0.9979647525578083\n",
      "u2 and u3: 0.9979758930959169\n",
      "u1 and u3: 0.9982677089612777\n"
     ]
    }
   ],
   "source": [
    "# Correlation between U values\n",
    "print('u1 and u2:', u1.corr(u2))\n",
    "print('u2 and u3:', u2.corr(u3))\n",
    "print('u1 and u3:', u1.corr(u3))"
   ]
  },
  {
   "cell_type": "code",
   "execution_count": 17,
   "metadata": {},
   "outputs": [
    {
     "name": "stdout",
     "output_type": "stream",
     "text": [
      "p1 and q1: 0.5431032222190068\n",
      "p1 and u1: -0.37025034128873374\n",
      "q1 and u1: -0.3563870537335224\n"
     ]
    }
   ],
   "source": [
    "# Correlation between P, Q and R - 1st phase\n",
    "print('p1 and q1:', p1.corr(q1))\n",
    "print('p1 and u1:', p1.corr(u1))\n",
    "print('q1 and u1:', q1.corr(u1))"
   ]
  },
  {
   "cell_type": "code",
   "execution_count": 18,
   "metadata": {},
   "outputs": [
    {
     "name": "stdout",
     "output_type": "stream",
     "text": [
      "p2 and q2: 0.9191826147820139\n",
      "p2 and u2: 0.013982762162655636\n",
      "q2 and u2: -0.15847194425640163\n"
     ]
    }
   ],
   "source": [
    "# Correlation between P, Q and R - 2nd phase\n",
    "print('p2 and q2:', p2.corr(q2))\n",
    "print('p2 and u2:', p2.corr(u2))\n",
    "print('q2 and u2:', q2.corr(u2))"
   ]
  },
  {
   "cell_type": "code",
   "execution_count": 19,
   "metadata": {},
   "outputs": [
    {
     "name": "stdout",
     "output_type": "stream",
     "text": [
      "p3 and q3: 0.7398980659390073\n",
      "p3 and u3: -0.37917958757610787\n",
      "q3 and u3: -0.32231774451062306\n"
     ]
    }
   ],
   "source": [
    "# Correlation between P, Q and R - 3rd phase\n",
    "print('p3 and q3:', p3.corr(q3))\n",
    "print('p3 and u3:', p3.corr(u3))\n",
    "print('q3 and u3:', q3.corr(u3))"
   ]
  },
  {
   "cell_type": "markdown",
   "metadata": {},
   "source": [
    "Корелляция между P и Q ожидаемо высока, а корреляция этих параметров с U достаточно низкая"
   ]
  },
  {
   "cell_type": "markdown",
   "metadata": {},
   "source": [
    "### By months"
   ]
  },
  {
   "cell_type": "code",
   "execution_count": 20,
   "metadata": {},
   "outputs": [
    {
     "data": {
      "text/plain": [
       "ts\n",
       "2019-05-15 15:15:21.121    442.80\n",
       "2019-05-15 15:15:22.506    442.98\n",
       "2019-05-15 15:15:24.506    442.98\n",
       "2019-05-15 15:15:26.511    442.44\n",
       "2019-05-15 15:15:28.526    442.44\n",
       "                            ...  \n",
       "2019-11-14 20:59:39.909    507.00\n",
       "2019-11-14 20:59:44.909    508.00\n",
       "2019-11-14 20:59:49.914    508.00\n",
       "2019-11-14 20:59:54.919    508.00\n",
       "2019-11-14 20:59:59.924    508.20\n",
       "Name: P1, Length: 2410711, dtype: float64"
      ]
     },
     "execution_count": 20,
     "metadata": {},
     "output_type": "execute_result"
    }
   ],
   "source": [
    "# We have 7 month of data\n",
    "p1"
   ]
  },
  {
   "cell_type": "code",
   "execution_count": 10,
   "metadata": {},
   "outputs": [],
   "source": [
    "month_numbers = ['05', '06', '07', '08', '09', '10', '11']"
   ]
  },
  {
   "cell_type": "code",
   "execution_count": 11,
   "metadata": {},
   "outputs": [],
   "source": [
    "months_p1 = [p1.loc['2019-' + i] for i in month_numbers]\n",
    "months_p2 = [p2.loc['2019-' + i] for i in month_numbers]\n",
    "months_p3 = [p3.loc['2019-' + i] for i in month_numbers]\n",
    "months_q1 = [q1.loc['2019-' + i] for i in month_numbers]\n",
    "months_q2 = [q2.loc['2019-' + i] for i in month_numbers]\n",
    "months_q3 = [q3.loc['2019-' + i] for i in month_numbers]\n",
    "months_u1 = [u1.loc['2019-' + i] for i in month_numbers]\n",
    "months_u2 = [u2.loc['2019-' + i] for i in month_numbers]\n",
    "months_u3 = [u3.loc['2019-' + i] for i in month_numbers]"
   ]
  },
  {
   "cell_type": "markdown",
   "metadata": {},
   "source": [
    "#### Mean"
   ]
  },
  {
   "cell_type": "code",
   "execution_count": 13,
   "metadata": {},
   "outputs": [
    {
     "data": {
      "text/plain": [
       "<matplotlib.legend.Legend at 0x7fcfa6fdf390>"
      ]
     },
     "execution_count": 13,
     "metadata": {},
     "output_type": "execute_result"
    },
    {
     "data": {
      "image/png": "[encoded data removed]",
      "text/plain": [
       "<Figure size 432x288 with 1 Axes>"
      ]
     },
     "metadata": {
      "needs_background": "light"
     },
     "output_type": "display_data"
    },
    {
     "data": {
      "image/png": "[encoded data removed]",
      "text/plain": [
       "<Figure size 432x288 with 1 Axes>"
      ]
     },
     "metadata": {
      "needs_background": "light"
     },
     "output_type": "display_data"
    },
    {
     "data": {
      "image/png": "[encoded data removed]",
      "text/plain": [
       "<Figure size 432x288 with 1 Axes>"
      ]
     },
     "metadata": {
      "needs_background": "light"
     },
     "output_type": "display_data"
    }
   ],
   "source": [
    "plt.figure()\n",
    "plt.plot(month_numbers, [month.mean() for month in months_p1], label='P1')\n",
    "plt.plot(month_numbers, [month.mean() for month in months_p2], label='P2') \n",
    "plt.plot(month_numbers, [month.mean() for month in months_p3], label='P3')\n",
    "plt.title('Mean')\n",
    "plt.legend(loc='center left', bbox_to_anchor=(1, 0.5))\n",
    "# plt.legend()\n",
    "plt.figure()\n",
    "plt.plot(month_numbers, [month.mean() for month in months_q1], label='Q1')\n",
    "plt.plot(month_numbers, [month.mean() for month in months_q2], label='Q2') \n",
    "plt.plot(month_numbers, [month.mean() for month in months_q3], label='Q3')\n",
    "plt.title('Mean')\n",
    "# plt.legend()\n",
    "plt.legend(loc='center left', bbox_to_anchor=(1, 0.5))\n",
    "plt.figure()\n",
    "plt.plot(month_numbers, [month.mean() for month in months_u1], label='U1')\n",
    "plt.plot(month_numbers, [month.mean() for month in months_u2], label='U2') \n",
    "plt.plot(month_numbers, [month.mean() for month in months_u3], label='U3')\n",
    "plt.title('Mean')\n",
    "plt.legend(loc='center left', bbox_to_anchor=(1, 0.5))\n",
    "# plt.legend()"
   ]
  },
  {
   "cell_type": "markdown",
   "metadata": {},
   "source": [
    "#### Variance"
   ]
  },
  {
   "cell_type": "code",
   "execution_count": 14,
   "metadata": {},
   "outputs": [
    {
     "data": {
      "text/plain": [
       "Text(0.5, 1.0, 'Variance')"
      ]
     },
     "execution_count": 14,
     "metadata": {},
     "output_type": "execute_result"
    },
    {
     "data": {
      "image/png": "[encoded data removed]",
      "text/plain": [
       "<Figure size 432x288 with 1 Axes>"
      ]
     },
     "metadata": {
      "needs_background": "light"
     },
     "output_type": "display_data"
    },
    {
     "data": {
      "image/png": "[encoded data removed]",
      "text/plain": [
       "<Figure size 432x288 with 1 Axes>"
      ]
     },
     "metadata": {
      "needs_background": "light"
     },
     "output_type": "display_data"
    },
    {
     "data": {
      "image/png": "[encoded data removed]",
      "text/plain": [
       "<Figure size 432x288 with 1 Axes>"
      ]
     },
     "metadata": {
      "needs_background": "light"
     },
     "output_type": "display_data"
    }
   ],
   "source": [
    "plt.figure()\n",
    "plt.plot(month_numbers, [month.var() for month in months_p1], label='P1')\n",
    "plt.plot(month_numbers, [month.var() for month in months_p2], label='P2') \n",
    "plt.plot(month_numbers, [month.var() for month in months_p3], label='P3')\n",
    "plt.legend(loc='center left', bbox_to_anchor=(1, 0.5))\n",
    "plt.title('Variance')\n",
    "# plt.legend()\n",
    "plt.figure()\n",
    "plt.plot(month_numbers, [month.var() for month in months_q1], label='Q1')\n",
    "plt.plot(month_numbers, [month.var() for month in months_q2], label='Q2') \n",
    "plt.plot(month_numbers, [month.var() for month in months_q3], label='Q3')\n",
    "plt.legend(loc='center left', bbox_to_anchor=(1, 0.5))\n",
    "plt.title('Variance')\n",
    "# plt.legend()\n",
    "plt.figure()\n",
    "plt.plot(month_numbers, [month.var() for month in months_u1], label='U1')\n",
    "plt.plot(month_numbers, [month.var() for month in months_u2], label='U2') \n",
    "plt.plot(month_numbers, [month.var() for month in months_u3], label='U3')\n",
    "plt.legend(loc='center left', bbox_to_anchor=(1, 0.5))\n",
    "plt.title('Variance')\n",
    "# plt.legend()"
   ]
  },
  {
   "cell_type": "markdown",
   "metadata": {},
   "source": [
    "Немного предварительных выводов:\n",
    "1. Четкой сезонности и четкого тренда по месяцам не видно (возможно, из-за того, что данные были взяты в срок меньше года), но существиет разница в параметрах между месяцами\n",
    "2. Существует довольно большая разница в значениях между фазами, причем для P и Q эта разница местами довольно велика и не одинакова. Вероятно, это связано с особенностями работы счетчика.\n",
    "3. Очень похожие графики для трех фаз напряжения (и среднее, и std). Вероятно, отличия между ними обусловлены особенностью работы счетчика"
   ]
  },
  {
   "cell_type": "code",
   "execution_count": 21,
   "metadata": {},
   "outputs": [
    {
     "name": "stdout",
     "output_type": "stream",
     "text": [
      "adf:  -13.092773579747346\n",
      "p-value:  1.774413805104645e-24\n",
      "Critical values:  {'1%': -3.430362117120248, '5%': -2.861545355625394, '10%': -2.566772850603611}\n",
      "единичных корней нет, ряд стационарен \n",
      "\n",
      "adf:  -10.50654678973453\n",
      "p-value:  1.0506725013323757e-18\n",
      "Critical values:  {'1%': -3.4303767841161976, '5%': -2.861551838236757, '10%': -2.566776301065755}\n",
      "единичных корней нет, ряд стационарен \n",
      "\n",
      "adf:  -9.926148020961067\n",
      "p-value:  2.9034753161954277e-17\n",
      "Critical values:  {'1%': -3.430388016217018, '5%': -2.861556802649843, '10%': -2.566778943449039}\n",
      "единичных корней нет, ряд стационарен \n",
      "\n",
      "adf:  -10.41146487025838\n",
      "p-value:  1.7995262612494795e-18\n",
      "Critical values:  {'1%': -3.4303867474604797, '5%': -2.861556241880216, '10%': -2.5667786449708347}\n",
      "единичных корней нет, ряд стационарен \n",
      "\n",
      "adf:  -5.27427409386316\n",
      "p-value:  6.189095843354537e-06\n",
      "Critical values:  {'1%': -3.4306406170489105, '5%': -2.861668443308896, '10%': -2.566838366726904}\n",
      "единичных корней нет, ряд стационарен \n",
      "\n",
      "adf:  -14.201096910777322\n",
      "p-value:  1.7872710697601675e-26\n",
      "Critical values:  {'1%': -3.4303574973449815, '5%': -2.8615433137413517, '10%': -2.566771763782931}\n",
      "единичных корней нет, ряд стационарен \n",
      "\n",
      "adf:  -11.04123104874207\n",
      "p-value:  5.3596043592915106e-20\n",
      "Critical values:  {'1%': -3.4303671368253057, '5%': -2.8615475742698977, '10%': -2.56677403150809}\n",
      "единичных корней нет, ряд стационарен \n",
      "\n"
     ]
    }
   ],
   "source": [
    "for month in months_p1:\n",
    "    result = adfuller(month)\n",
    "    print ('adf: ', result[0] )\n",
    "    print ('p-value: ', result[1])\n",
    "    print('Critical values: ', result[4])\n",
    "    if result[0]> result[4]['5%']: \n",
    "        print ('есть единичные корни, ряд не стационарен \\n')\n",
    "    else:\n",
    "        print ('единичных корней нет, ряд стационарен \\n')"
   ]
  },
  {
   "cell_type": "code",
   "execution_count": 12,
   "metadata": {},
   "outputs": [
    {
     "name": "stdout",
     "output_type": "stream",
     "text": [
      "adf:  -7.463256996226443\n",
      "p-value:  5.285377931665108e-11\n",
      "Critical values:  {'1%': -3.430362117120248, '5%': -2.861545355625394, '10%': -2.566772850603611}\n",
      "единичных корней нет, ряд стационарен \n",
      "\n",
      "adf:  -8.028956891946505\n",
      "p-value:  1.9820678317542147e-12\n",
      "Critical values:  {'1%': -3.43037678334829, '5%': -2.8615518378973532, '10%': -2.5667763008851026}\n",
      "единичных корней нет, ряд стационарен \n",
      "\n",
      "adf:  -10.267224299193433\n",
      "p-value:  4.0891126055760716e-18\n",
      "Critical values:  {'1%': -3.430388014891021, '5%': -2.861556802063774, '10%': -2.566778943137095}\n",
      "единичных корней нет, ряд стационарен \n",
      "\n",
      "adf:  -9.96257785627125\n",
      "p-value:  2.3522659929107286e-17\n",
      "Critical values:  {'1%': -3.430386743950288, '5%': -2.861556240328768, '10%': -2.566778644145053}\n",
      "единичных корней нет, ряд стационарен \n",
      "\n",
      "adf:  -2.06690982835307\n",
      "p-value:  0.25802674062721476\n",
      "Critical values:  {'1%': -3.4306406041339934, '5%': -2.861668437601201, '10%': -2.5668383636888117}\n",
      "есть единичные корни, ряд не стационарен \n",
      "\n",
      "adf:  -5.16274860570275\n",
      "p-value:  1.0469636932283717e-05\n",
      "Critical values:  {'1%': -3.4303574973449815, '5%': -2.8615433137413517, '10%': -2.566771763782931}\n",
      "единичных корней нет, ряд стационарен \n",
      "\n",
      "adf:  -5.383065132306832\n",
      "p-value:  3.675947469065834e-06\n",
      "Critical values:  {'1%': -3.4303671339067443, '5%': -2.8615475729799322, '10%': -2.566774030821488}\n",
      "единичных корней нет, ряд стационарен \n",
      "\n"
     ]
    }
   ],
   "source": [
    "for month in months_p2:\n",
    "    result = adfuller(month)\n",
    "    print ('adf: ', result[0] )\n",
    "    print ('p-value: ', result[1])\n",
    "    print('Critical values: ', result[4])\n",
    "    if result[0]> result[4]['5%']: \n",
    "        print ('есть единичные корни, ряд не стационарен \\n')\n",
    "    else:\n",
    "        print ('единичных корней нет, ряд стационарен \\n')"
   ]
  },
  {
   "cell_type": "code",
   "execution_count": 13,
   "metadata": {},
   "outputs": [
    {
     "name": "stdout",
     "output_type": "stream",
     "text": [
      "adf:  -17.9060538803503\n",
      "p-value:  2.9413091788467893e-30\n",
      "Critical values:  {'1%': -3.430362117120248, '5%': -2.861545355625394, '10%': -2.566772850603611}\n",
      "единичных корней нет, ряд стационарен \n",
      "\n",
      "adf:  -10.018512046780762\n",
      "p-value:  1.7034306996223997e-17\n",
      "Critical values:  {'1%': -3.4303767842259023, '5%': -2.8615518382852447, '10%': -2.5667763010915636}\n",
      "единичных корней нет, ряд стационарен \n",
      "\n",
      "adf:  -6.9889997505045764\n",
      "p-value:  7.833071819040695e-10\n",
      "Critical values:  {'1%': -3.430388016217018, '5%': -2.861556802649843, '10%': -2.566778943449039}\n",
      "единичных корней нет, ряд стационарен \n",
      "\n",
      "adf:  -6.849611359036506\n",
      "p-value:  1.7075662159187879e-09\n",
      "Critical values:  {'1%': -3.4303867482865047, '5%': -2.8615562422453054, '10%': -2.5667786451651593}\n",
      "единичных корней нет, ряд стационарен \n",
      "\n",
      "adf:  -5.5886799840981185\n",
      "p-value:  1.3445798410271417e-06\n",
      "Critical values:  {'1%': -3.4306407333348408, '5%': -2.8616684947009885, '10%': -2.5668383940818935}\n",
      "единичных корней нет, ряд стационарен \n",
      "\n",
      "adf:  -9.38603562352788\n",
      "p-value:  6.75542525496544e-16\n",
      "Critical values:  {'1%': -3.4303574973449815, '5%': -2.8615433137413517, '10%': -2.566771763782931}\n",
      "единичных корней нет, ряд стационарен \n",
      "\n",
      "adf:  -10.393369515591052\n",
      "p-value:  1.9941213916228656e-18\n",
      "Critical values:  {'1%': -3.4303671368253057, '5%': -2.8615475742698977, '10%': -2.56677403150809}\n",
      "единичных корней нет, ряд стационарен \n",
      "\n"
     ]
    }
   ],
   "source": [
    "for month in months_p3:\n",
    "    result = adfuller(month)\n",
    "    print ('adf: ', result[0] )\n",
    "    print ('p-value: ', result[1])\n",
    "    print('Critical values: ', result[4])\n",
    "    if result[0]> result[4]['5%']: \n",
    "        print ('есть единичные корни, ряд не стационарен \\n')\n",
    "    else:\n",
    "        print ('единичных корней нет, ряд стационарен \\n')"
   ]
  },
  {
   "cell_type": "code",
   "execution_count": 14,
   "metadata": {},
   "outputs": [
    {
     "name": "stdout",
     "output_type": "stream",
     "text": [
      "adf:  -5.446027342165952\n",
      "p-value:  2.709371679765624e-06\n",
      "Critical values:  {'1%': -3.4303621170753424, '5%': -2.8615453556055463, '10%': -2.566772850593047}\n",
      "единичных корней нет, ряд стационарен \n",
      "\n",
      "adf:  -6.143669437654749\n",
      "p-value:  7.860638913069474e-08\n",
      "Critical values:  {'1%': -3.4303767842259023, '5%': -2.8615518382852447, '10%': -2.5667763010915636}\n",
      "единичных корней нет, ряд стационарен \n",
      "\n",
      "adf:  -5.88263722094405\n",
      "p-value:  3.052874794445912e-07\n",
      "Critical values:  {'1%': -3.430388016217018, '5%': -2.861556802649843, '10%': -2.566778943449039}\n",
      "единичных корней нет, ряд стационарен \n",
      "\n",
      "adf:  -6.036923738609822\n",
      "p-value:  1.374994977498543e-07\n",
      "Critical values:  {'1%': -3.430386748079995, '5%': -2.8615562421540317, '10%': -2.5667786451165773}\n",
      "единичных корней нет, ряд стационарен \n",
      "\n",
      "adf:  -2.467119870203024\n",
      "p-value:  0.12368072240544042\n",
      "Critical values:  {'1%': -3.4306406299649757, '5%': -2.8616684490170985, '10%': -2.566838369765267}\n",
      "есть единичные корни, ряд не стационарен \n",
      "\n",
      "adf:  -10.56771571208331\n",
      "p-value:  7.442173995935357e-19\n",
      "Critical values:  {'1%': -3.43035749732779, '5%': -2.8615433137337534, '10%': -2.5667717637788865}\n",
      "единичных корней нет, ряд стационарен \n",
      "\n",
      "adf:  -11.632537020025971\n",
      "p-value:  2.244564641711023e-21\n",
      "Critical values:  {'1%': -3.4303671368253057, '5%': -2.8615475742698977, '10%': -2.56677403150809}\n",
      "единичных корней нет, ряд стационарен \n",
      "\n"
     ]
    }
   ],
   "source": [
    "for month in months_q1:\n",
    "    result = adfuller(month)\n",
    "    print ('adf: ', result[0] )\n",
    "    print ('p-value: ', result[1])\n",
    "    print('Critical values: ', result[4])\n",
    "    if result[0]> result[4]['5%']: \n",
    "        print ('есть единичные корни, ряд не стационарен \\n')\n",
    "    else:\n",
    "        print ('единичных корней нет, ряд стационарен \\n')"
   ]
  },
  {
   "cell_type": "code",
   "execution_count": 15,
   "metadata": {},
   "outputs": [
    {
     "name": "stdout",
     "output_type": "stream",
     "text": [
      "adf:  -5.546172789410042\n",
      "p-value:  1.6589628244905426e-06\n",
      "Critical values:  {'1%': -3.430362117120248, '5%': -2.861545355625394, '10%': -2.566772850603611}\n",
      "единичных корней нет, ряд стационарен \n",
      "\n",
      "adf:  -7.635195026640252\n",
      "p-value:  1.9608550482435195e-11\n",
      "Critical values:  {'1%': -3.4303767822513556, '5%': -2.861551837412524, '10%': -2.566776300627045}\n",
      "единичных корней нет, ряд стационарен \n",
      "\n",
      "adf:  -9.49065071809341\n",
      "p-value:  3.660499150884179e-16\n",
      "Critical values:  {'1%': -3.4303880153330097, '5%': -2.8615568022591256, '10%': -2.5667789432410735}\n",
      "единичных корней нет, ряд стационарен \n",
      "\n",
      "adf:  -10.435215315195808\n",
      "p-value:  1.5728438126100296e-18\n",
      "Critical values:  {'1%': -3.4303867425051098, '5%': -2.861556239690023, '10%': -2.5667786438050713}\n",
      "единичных корней нет, ряд стационарен \n",
      "\n",
      "adf:  -1.4209053915429035\n",
      "p-value:  0.572213796739232\n",
      "Critical values:  {'1%': -3.4306405912202242, '5%': -2.8616684318940133, '10%': -2.5668383606509892}\n",
      "есть единичные корни, ряд не стационарен \n",
      "\n",
      "adf:  -4.629596433181483\n",
      "p-value:  0.00011388141050867653\n",
      "Critical values:  {'1%': -3.4303574972676207, '5%': -2.8615433137071595, '10%': -2.5667717637647316}\n",
      "единичных корней нет, ряд стационарен \n",
      "\n",
      "adf:  -5.41068971831758\n",
      "p-value:  3.216422804265712e-06\n",
      "Critical values:  {'1%': -3.4303671349842513, '5%': -2.861547573456176, '10%': -2.5667740310749756}\n",
      "единичных корней нет, ряд стационарен \n",
      "\n"
     ]
    }
   ],
   "source": [
    "for month in months_q2:\n",
    "    result = adfuller(month)\n",
    "    print ('adf: ', result[0] )\n",
    "    print ('p-value: ', result[1])\n",
    "    print('Critical values: ', result[4])\n",
    "    if result[0]> result[4]['5%']: \n",
    "        print ('есть единичные корни, ряд не стационарен \\n')\n",
    "    else:\n",
    "        print ('единичных корней нет, ряд стационарен \\n')"
   ]
  },
  {
   "cell_type": "code",
   "execution_count": 16,
   "metadata": {},
   "outputs": [
    {
     "name": "stdout",
     "output_type": "stream",
     "text": [
      "adf:  -11.21013098893112\n",
      "p-value:  2.1357512857874226e-20\n",
      "Critical values:  {'1%': -3.430362117120248, '5%': -2.861545355625394, '10%': -2.566772850603611}\n",
      "единичных корней нет, ряд стационарен \n",
      "\n",
      "adf:  -10.599735928809139\n",
      "p-value:  6.21563160247546e-19\n",
      "Critical values:  {'1%': -3.4303767842259023, '5%': -2.8615518382852447, '10%': -2.5667763010915636}\n",
      "единичных корней нет, ряд стационарен \n",
      "\n",
      "adf:  -10.538339629115612\n",
      "p-value:  8.781481616960197e-19\n",
      "Critical values:  {'1%': -3.4303880157750086, '5%': -2.861556802454482, '10%': -2.566778943345055}\n",
      "единичных корней нет, ряд стационарен \n",
      "\n",
      "adf:  -9.483318440990928\n",
      "p-value:  3.8209692889406424e-16\n",
      "Critical values:  {'1%': -3.4303867482865047, '5%': -2.8615562422453054, '10%': -2.5667786451651593}\n",
      "единичных корней нет, ряд стационарен \n",
      "\n",
      "adf:  -4.173382601745924\n",
      "p-value:  0.0007306953656986783\n",
      "Critical values:  {'1%': -3.430640462145629, '5%': -2.86166837485002, '10%': -2.566838330287606}\n",
      "единичных корней нет, ряд стационарен \n",
      "\n",
      "adf:  -6.364251592544921\n",
      "p-value:  2.431840260011292e-08\n",
      "Critical values:  {'1%': -3.430357497310599, '5%': -2.861543313726155, '10%': -2.566771763774842}\n",
      "единичных корней нет, ряд стационарен \n",
      "\n",
      "adf:  -7.403445096832894\n",
      "p-value:  7.450620922263803e-11\n",
      "Critical values:  {'1%': -3.4303671368253057, '5%': -2.8615475742698977, '10%': -2.56677403150809}\n",
      "единичных корней нет, ряд стационарен \n",
      "\n"
     ]
    }
   ],
   "source": [
    "for month in months_q3:\n",
    "    result = adfuller(month)\n",
    "    print ('adf: ', result[0] )\n",
    "    print ('p-value: ', result[1])\n",
    "    print('Critical values: ', result[4])\n",
    "    if result[0]> result[4]['5%']: \n",
    "        print ('есть единичные корни, ряд не стационарен \\n')\n",
    "    else:\n",
    "        print ('единичных корней нет, ряд стационарен \\n')"
   ]
  },
  {
   "cell_type": "code",
   "execution_count": 17,
   "metadata": {},
   "outputs": [
    {
     "name": "stdout",
     "output_type": "stream",
     "text": [
      "adf:  -4.444110148929558\n",
      "p-value:  0.00024778975494899166\n",
      "Critical values:  {'1%': -3.430362117097795, '5%': -2.86154535561547, '10%': -2.566772850598329}\n",
      "единичных корней нет, ряд стационарен \n",
      "\n",
      "adf:  -6.11018153108683\n",
      "p-value:  9.37374149480177e-08\n",
      "Critical values:  {'1%': -3.4303767783031356, '5%': -2.8615518356674694, '10%': -2.566776299698214}\n",
      "единичных корней нет, ряд стационарен \n",
      "\n",
      "adf:  -7.574486646906348\n",
      "p-value:  2.7849171394462342e-11\n",
      "Critical values:  {'1%': -3.430388004065504, '5%': -2.8615567972790736, '10%': -2.566778940590365}\n",
      "единичных корней нет, ряд стационарен \n",
      "\n",
      "adf:  -6.762945636881774\n",
      "p-value:  2.7625569890286733e-09\n",
      "Critical values:  {'1%': -3.4303867482865047, '5%': -2.8615562422453054, '10%': -2.5667786451651593}\n",
      "единичных корней нет, ряд стационарен \n",
      "\n",
      "adf:  -2.6740761097219097\n",
      "p-value:  0.07863266296697327\n",
      "Critical values:  {'1%': -3.430640487951374, '5%': -2.861668386254764, '10%': -2.566838336358124}\n",
      "есть единичные корни, ряд не стационарен \n",
      "\n",
      "adf:  -4.959338159227989\n",
      "p-value:  2.6694763934722053e-05\n",
      "Critical values:  {'1%': -3.43035749732779, '5%': -2.8615433137337534, '10%': -2.5667717637788865}\n",
      "единичных корней нет, ряд стационарен \n",
      "\n",
      "adf:  -3.7302230427922254\n",
      "p-value:  0.0037075746081064445\n",
      "Critical values:  {'1%': -3.430367135972085, '5%': -2.8615475738927856, '10%': -2.566774031307367}\n",
      "единичных корней нет, ряд стационарен \n",
      "\n"
     ]
    }
   ],
   "source": [
    "for month in months_u1:\n",
    "    result = adfuller(month)\n",
    "    print ('adf: ', result[0] )\n",
    "    print ('p-value: ', result[1])\n",
    "    print('Critical values: ', result[4])\n",
    "    if result[0]> result[4]['5%']: \n",
    "        print ('есть единичные корни, ряд не стационарен \\n')\n",
    "    else:\n",
    "        print ('единичных корней нет, ряд стационарен \\n')"
   ]
  },
  {
   "cell_type": "code",
   "execution_count": 18,
   "metadata": {},
   "outputs": [
    {
     "name": "stdout",
     "output_type": "stream",
     "text": [
      "adf:  -4.380507170658677\n",
      "p-value:  0.0003213197204654106\n",
      "Critical values:  {'1%': -3.4303621166038587, '5%': -2.8615453553971566, '10%': -2.5667728504821286}\n",
      "единичных корней нет, ряд стационарен \n",
      "\n",
      "adf:  -5.976858058375746\n",
      "p-value:  1.878543306175638e-07\n",
      "Critical values:  {'1%': -3.4303767785224504, '5%': -2.8615518357644034, '10%': -2.5667762997498085}\n",
      "единичных корней нет, ряд стационарен \n",
      "\n",
      "adf:  -7.517456255409793\n",
      "p-value:  3.869334758735223e-11\n",
      "Critical values:  {'1%': -3.4303880036237775, '5%': -2.861556797083838, '10%': -2.5667789404864476}\n",
      "единичных корней нет, ряд стационарен \n",
      "\n",
      "adf:  -6.73403418348904\n",
      "p-value:  3.241479470681265e-09\n",
      "Critical values:  {'1%': -3.4303867478734875, '5%': -2.8615562420627585, '10%': -2.5667786450679957}\n",
      "единичных корней нет, ряд стационарен \n",
      "\n",
      "adf:  -2.6415941821231197\n",
      "p-value:  0.08470164227848836\n",
      "Critical values:  {'1%': -3.430640462145629, '5%': -2.86166837485002, '10%': -2.566838330287606}\n",
      "есть единичные корни, ряд не стационарен \n",
      "\n",
      "adf:  -4.951221130021343\n",
      "p-value:  2.7693193962040504e-05\n",
      "Critical values:  {'1%': -3.43035749732779, '5%': -2.8615433137337534, '10%': -2.5667717637788865}\n",
      "единичных корней нет, ряд стационарен \n",
      "\n",
      "adf:  -3.8230042905930985\n",
      "p-value:  0.002680528430356441\n",
      "Critical values:  {'1%': -3.4303671362864194, '5%': -2.861547574031717, '10%': -2.5667740313813154}\n",
      "единичных корней нет, ряд стационарен \n",
      "\n"
     ]
    }
   ],
   "source": [
    "for month in months_u2:\n",
    "    result = adfuller(month)\n",
    "    print ('adf: ', result[0] )\n",
    "    print ('p-value: ', result[1])\n",
    "    print('Critical values: ', result[4])\n",
    "    if result[0]> result[4]['5%']: \n",
    "        print ('есть единичные корни, ряд не стационарен \\n')\n",
    "    else:\n",
    "        print ('единичных корней нет, ряд стационарен \\n')"
   ]
  },
  {
   "cell_type": "code",
   "execution_count": 19,
   "metadata": {},
   "outputs": [
    {
     "name": "stdout",
     "output_type": "stream",
     "text": [
      "adf:  -4.525977182360986\n",
      "p-value:  0.00017644514321284795\n",
      "Critical values:  {'1%': -3.4303621166263096, '5%': -2.8615453554070793, '10%': -2.56677285048741}\n",
      "единичных корней нет, ряд стационарен \n",
      "\n",
      "adf:  -6.095925829266122\n",
      "p-value:  1.0101481450790914e-07\n",
      "Critical values:  {'1%': -3.4303767766583873, '5%': -2.861551834940515, '10%': -2.566776299311282}\n",
      "единичных корней нет, ряд стационарен \n",
      "\n",
      "adf:  -7.574897805337883\n",
      "p-value:  2.778314961900781e-11\n",
      "Critical values:  {'1%': -3.430388004065504, '5%': -2.8615567972790736, '10%': -2.566778940590365}\n",
      "единичных корней нет, ряд стационарен \n",
      "\n",
      "adf:  -6.829964714499953\n",
      "p-value:  1.904782213555076e-09\n",
      "Critical values:  {'1%': -3.4303867478734875, '5%': -2.8615562420627585, '10%': -2.5667786450679957}\n",
      "единичных корней нет, ряд стационарен \n",
      "\n",
      "adf:  -2.6681989890230713\n",
      "p-value:  0.07970473475360657\n",
      "Critical values:  {'1%': -3.430640462145629, '5%': -2.86166837485002, '10%': -2.566838330287606}\n",
      "есть единичные корни, ряд не стационарен \n",
      "\n",
      "adf:  -4.957210301378525\n",
      "p-value:  2.6953093225395147e-05\n",
      "Critical values:  {'1%': -3.43035749732779, '5%': -2.8615433137337534, '10%': -2.5667717637788865}\n",
      "единичных корней нет, ряд стационарен \n",
      "\n",
      "adf:  -3.7275055723447372\n",
      "p-value:  0.003742483578506018\n",
      "Critical values:  {'1%': -3.4303671363762316, '5%': -2.861547574071413, '10%': -2.566774031402444}\n",
      "единичных корней нет, ряд стационарен \n",
      "\n"
     ]
    }
   ],
   "source": [
    "for month in months_u3:\n",
    "    result = adfuller(month)\n",
    "    print ('adf: ', result[0] )\n",
    "    print ('p-value: ', result[1])\n",
    "    print('Critical values: ', result[4])\n",
    "    if result[0]> result[4]['5%']: \n",
    "        print ('есть единичные корни, ряд не стационарен \\n')\n",
    "    else:\n",
    "        print ('единичных корней нет, ряд стационарен \\n')"
   ]
  },
  {
   "cell_type": "code",
   "execution_count": 20,
   "metadata": {},
   "outputs": [
    {
     "data": {
      "image/png": "[encoded data removed]",
      "text/plain": [
       "<Figure size 864x432 with 2 Axes>"
      ]
     },
     "metadata": {
      "needs_background": "light"
     },
     "output_type": "display_data"
    }
   ],
   "source": [
    "fig, ax = plt.subplots(2, figsize=(12,6))\n",
    "ax[0] = plot_acf(months_p1[0], ax=ax[0], lags=20)\n",
    "ax[1] = plot_pacf(months_p1[0], ax=ax[1], lags=20)"
   ]
  },
  {
   "cell_type": "markdown",
   "metadata": {},
   "source": [
    "### By working days/holidays"
   ]
  },
  {
   "cell_type": "code",
   "execution_count": 47,
   "metadata": {},
   "outputs": [],
   "source": [
    "holidays = [['18', '19', '25', '26'], \n",
    "            ['01', '02', '08', '09', '15', '16', '22', '23', '29', '30'], \n",
    "            ['06', '07', '13', '14', '20', '21', '27', '28'], \n",
    "            ['03', '04', '10', '11', '17', '18', '24', '25', '31'], \n",
    "            ['01', '07', '08', '14', '15', '21', '22', '28', '29'], \n",
    "            ['05', '06', '12', '13', '19', '20', '26', '27'], \n",
    "            ['02', '03', '09', '10']]"
   ]
  },
  {
   "cell_type": "code",
   "execution_count": 72,
   "metadata": {},
   "outputs": [],
   "source": [
    "all_weekends = [month+'-'+day for (month, days) in zip(month_numbers, holidays) for day in days]"
   ]
  },
  {
   "cell_type": "code",
   "execution_count": 107,
   "metadata": {},
   "outputs": [
    {
     "name": "stdout",
     "output_type": "stream",
     "text": [
      "separated P1\n",
      "separated P2\n",
      "separated P3\n",
      "separated Q1\n",
      "separated Q2\n",
      "separated Q3\n",
      "separated U1\n",
      "separated U2\n",
      "separated U3\n"
     ]
    }
   ],
   "source": [
    "holidays_p1 = pd.concat([p1.loc['2019-' + month + '-' + day] for (month, days) in zip(month_numbers, holidays) for day in days])\n",
    "combined = p1.append(holidays_p1)\n",
    "working_days_p1 = combined[~combined.index.duplicated(keep=False)]\n",
    "print(\"separated P1\")\n",
    "\n",
    "holidays_p2 = pd.concat([p2.loc['2019-' + month + '-' + day] for (month, days) in zip(month_numbers, holidays) for day in days])\n",
    "combined = p2.append(holidays_p2)\n",
    "working_days_p2 = combined[~combined.index.duplicated(keep=False)]\n",
    "print(\"separated P2\")\n",
    "\n",
    "holidays_p3 = pd.concat([p3.loc['2019-' + month + '-' + day] for (month, days) in zip(month_numbers, holidays) for day in days])\n",
    "combined = p3.append(holidays_p3)\n",
    "working_days_p3 = combined[~combined.index.duplicated(keep=False)]\n",
    "print(\"separated P3\")\n",
    "\n",
    "holidays_q1 = pd.concat([q1.loc['2019-' + month + '-' + day] for (month, days) in zip(month_numbers, holidays) for day in days])\n",
    "combined = q1.append(holidays_q1)\n",
    "working_days_q1 = combined[~combined.index.duplicated(keep=False)]\n",
    "print(\"separated Q1\")\n",
    "\n",
    "holidays_q2 = pd.concat([q2.loc['2019-' + month + '-' + day] for (month, days) in zip(month_numbers, holidays) for day in days])\n",
    "combined = q2.append(holidays_q2)\n",
    "working_days_q2 = combined[~combined.index.duplicated(keep=False)]\n",
    "print(\"separated Q2\")\n",
    "\n",
    "holidays_q3 = pd.concat([q3.loc['2019-' + month + '-' + day] for (month, days) in zip(month_numbers, holidays) for day in days])\n",
    "combined = q3.append(holidays_q3)\n",
    "working_days_q3 = combined[~combined.index.duplicated(keep=False)]\n",
    "print(\"separated Q3\")\n",
    "\n",
    "holidays_u1 = pd.concat([u1.loc['2019-' + month + '-' + day] for (month, days) in zip(month_numbers, holidays) for day in days])\n",
    "combined = u1.append(holidays_u1)\n",
    "working_days_u1 = combined[~combined.index.duplicated(keep=False)]\n",
    "print(\"separated U1\")\n",
    "\n",
    "holidays_u2 = pd.concat([u2.loc['2019-' + month + '-' + day] for (month, days) in zip(month_numbers, holidays) for day in days])\n",
    "combined = u2.append(holidays_u2)\n",
    "working_days_u2 = combined[~combined.index.duplicated(keep=False)]\n",
    "print(\"separated U2\")\n",
    "\n",
    "holidays_u3 = pd.concat([u3.loc['2019-' + month + '-' + day] for (month, days) in zip(month_numbers, holidays) for day in days])\n",
    "combined = u3.append(holidays_u3)\n",
    "working_days_u3 = combined[~combined.index.duplicated(keep=False)]\n",
    "print(\"separated U3\")"
   ]
  },
  {
   "cell_type": "code",
   "execution_count": 111,
   "metadata": {},
   "outputs": [
    {
     "name": "stdout",
     "output_type": "stream",
     "text": [
      "P1 - holidays : mean = 330.462559, std = 340.728015, V = 1.031064\n",
      "P1 - working days : mean = 506.339096, std = 383.084490, V = 0.756577\n",
      "P2 - holidays : mean = 711.079904, std = 829.919266, V = 1.167125\n",
      "P2 - working days : mean = 934.072839, std = 686.756644, V = 0.735228\n",
      "P3 - holidays : mean = 1450.272537, std = 733.291383, V = 0.505623\n",
      "P3 - working days : mean = 2110.010810, std = 1225.200299, V = 0.580661\n"
     ]
    }
   ],
   "source": [
    "print_stats('P1 - holidays ', holidays_p1)\n",
    "print_stats('P1 - working days ', working_days_p1)\n",
    "print_stats('P2 - holidays ', holidays_p2)\n",
    "print_stats('P2 - working days ', working_days_p2)\n",
    "print_stats('P3 - holidays ', holidays_p3)\n",
    "print_stats('P3 - working days ', working_days_p3)"
   ]
  },
  {
   "cell_type": "code",
   "execution_count": 112,
   "metadata": {},
   "outputs": [
    {
     "name": "stdout",
     "output_type": "stream",
     "text": [
      "Q1 - holidays : mean = -194.584790, std = 243.669120, V = -1.252252\n",
      "Q1 - working days : mean = 111.678033, std = 336.033804, V = 3.008952\n",
      "Q2 - holidays : mean = 607.729571, std = 856.766189, V = 1.409782\n",
      "Q2 - working days : mean = 821.798311, std = 699.816407, V = 0.851567\n",
      "Q3 - holidays : mean = 502.240548, std = 233.493354, V = 0.464903\n",
      "Q3 - working days : mean = 708.831935, std = 337.691594, V = 0.476406\n"
     ]
    }
   ],
   "source": [
    "print_stats('Q1 - holidays ', holidays_q1)\n",
    "print_stats('Q1 - working days ', working_days_q1)\n",
    "print_stats('Q2 - holidays ', holidays_q2)\n",
    "print_stats('Q2 - working days ', working_days_q2)\n",
    "print_stats('Q3 - holidays ', holidays_q3)\n",
    "print_stats('Q3 - working days ', working_days_q3)"
   ]
  },
  {
   "cell_type": "code",
   "execution_count": 113,
   "metadata": {},
   "outputs": [
    {
     "name": "stdout",
     "output_type": "stream",
     "text": [
      "U1 - holidays : mean = 226.997276, std = 2.492769, V = 0.010981\n",
      "U1 - working days : mean = 226.764053, std = 3.414485, V = 0.015057\n",
      "U2 - holidays : mean = 227.776446, std = 2.492165, V = 0.010941\n",
      "U2 - working days : mean = 227.545283, std = 3.432896, V = 0.015087\n",
      "U3 - holidays : mean = 226.211306, std = 2.444442, V = 0.010806\n",
      "U3 - working days : mean = 225.940347, std = 3.379212, V = 0.014956\n"
     ]
    }
   ],
   "source": [
    "print_stats('U1 - holidays ', holidays_u1)\n",
    "print_stats('U1 - working days ', working_days_u1)\n",
    "print_stats('U2 - holidays ', holidays_u2)\n",
    "print_stats('U2 - working days ', working_days_u2)\n",
    "print_stats('U3 - holidays ', holidays_u3)\n",
    "print_stats('U3 - working days ', working_days_u3)"
   ]
  },
  {
   "cell_type": "markdown",
   "metadata": {},
   "source": [
    "Из полученных результатов можно сделать вывод, что значения мощности (P и Q) на выходных в среднем ниже, чем по рабочим дням\n",
    "В данных напряжения наблюдается противоположный результат, однако различия между значениями малы.\n",
    "#### Из сказанного выше можно сделать вывод, что в данных есть сезонная составляющая"
   ]
  },
  {
   "cell_type": "code",
   "execution_count": null,
   "metadata": {},
   "outputs": [],
   "source": []
  }
 ],
 "metadata": {
  "kernelspec": {
   "display_name": "Python 3",
   "language": "python",
   "name": "python3"
  },
  "language_info": {
   "codemirror_mode": {
    "name": "ipython",
    "version": 3
   },
   "file_extension": ".py",
   "mimetype": "text/x-python",
   "name": "python",
   "nbconvert_exporter": "python",
   "pygments_lexer": "ipython3",
   "version": "3.7.3"
  }
 },
 "nbformat": 4,
 "nbformat_minor": 4
}
