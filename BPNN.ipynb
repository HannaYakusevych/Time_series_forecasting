{
 "cells": [
  {
   "cell_type": "code",
   "execution_count": 1,
   "metadata": {},
   "outputs": [],
   "source": [
    "import torch\n",
    "import torch.nn as nn\n",
    "import torch.nn.functional as F\n",
    "\n",
    "from pandas import read_csv\n",
    "from sklearn.model_selection import train_test_split\n",
    "\n",
    "import random\n",
    "import itertools\n",
    "import numpy as np\n",
    "import pandas as pd\n",
    "import matplotlib.pyplot as plt\n",
    "%matplotlib inline"
   ]
  },
  {
   "cell_type": "code",
   "execution_count": 2,
   "metadata": {},
   "outputs": [],
   "source": [
    "fig_size = plt.rcParams[\"figure.figsize\"]\n",
    "fig_size[0] = 15\n",
    "fig_size[1] = 5\n",
    "plt.rcParams[\"figure.figsize\"] = fig_size"
   ]
  },
  {
   "cell_type": "code",
   "execution_count": 3,
   "metadata": {},
   "outputs": [],
   "source": [
    "def prepare_data(df, num_elements=50):\n",
    "    new_data = []\n",
    "    length = df.shape[0]\n",
    "    current_index = 0\n",
    "    step = int(0.2 * num_elements)\n",
    "    while(current_index <= length - num_elements):\n",
    "        new_data.append(df[current_index:current_index+num_elements])\n",
    "        current_index += step\n",
    "    return new_data"
   ]
  },
  {
   "cell_type": "code",
   "execution_count": 4,
   "metadata": {},
   "outputs": [],
   "source": [
    "class BPNN(nn.Module):\n",
    "\n",
    "    def __init__(self, input_size, hidden_size):\n",
    "        super(BPNN, self).__init__()\n",
    "        # an affine operation: y = Wx + b\n",
    "        self.fc1 = nn.Linear(input_size, hidden_size)  \n",
    "        self.fc2 = nn.Linear(hidden_size, 10)\n",
    "\n",
    "    def forward(self, x):\n",
    "        x = F.relu(self.fc1(x))\n",
    "        x = self.fc2(x)\n",
    "        return x"
   ]
  },
  {
   "cell_type": "code",
   "execution_count": 5,
   "metadata": {},
   "outputs": [],
   "source": [
    "def prepare_data(df, num_elements=50):\n",
    "    new_data = []\n",
    "    length = df.shape[0]\n",
    "    current_index = 0\n",
    "    step = int(0.2 * num_elements)\n",
    "    while(current_index <= length - num_elements):\n",
    "        new_data.append(df[current_index:current_index+num_elements])\n",
    "        current_index += step\n",
    "    return new_data"
   ]
  },
  {
   "cell_type": "code",
   "execution_count": 57,
   "metadata": {},
   "outputs": [],
   "source": [
    "X_test = 0\n",
    "y_test = 0"
   ]
  },
  {
   "cell_type": "code",
   "execution_count": 35,
   "metadata": {},
   "outputs": [],
   "source": [
    "def learn(num, count, data_len, lr=0.01):\n",
    "    num = [str(i) for i in range(num)]\n",
    "    p1 = [read_csv('ics_data_preprocessed/06_Smart_Meter_45/P1/' + str(count) + '/' + n + '.csv', squeeze=True, parse_dates=['ts'], index_col='ts') for n in num]\n",
    "    \n",
    "    p1 = [prepare_data(df, data_len) for df in p1]\n",
    "    p1 = sum(p1, [])\n",
    "    p1 = [df.values.tolist() for df in p1]\n",
    "    \n",
    "    train, test = train_test_split(p1, test_size=0.2, random_state=42)\n",
    "    train_data_normalized = train\n",
    "    test_data_normalized = test\n",
    "    \n",
    "    train_data, val_data = train_test_split(train_data_normalized, test_size=0.15, random_state=42)\n",
    "    train_data = torch.FloatTensor(train_data)\n",
    "    val_data = torch.FloatTensor(val_data)\n",
    "    test_data = torch.FloatTensor(test_data_normalized)\n",
    "    \n",
    "    X_train = train_data[:, :-10]\n",
    "    y_train = train_data[:, -10:]\n",
    "    X_val = val_data[:, :-10]\n",
    "    y_val = val_data[:, -10:]\n",
    "    X_test = test_data[:, :-10]\n",
    "    y_test = test_data[:, -10:]\n",
    "    \n",
    "    print(\"Data is ready\")\n",
    "    \n",
    "    best_model = BPNN(40, 50)\n",
    "    loss_function = nn.MSELoss()\n",
    "    \n",
    "    val_losses = []\n",
    "    \n",
    "    best_hidden_layer_size = 50\n",
    "    \n",
    "    for hidden_layer_size in [50, 100, 200, 250, 300]:\n",
    "        losses = []\n",
    "        \n",
    "    \n",
    "        model = BPNN(data_len - 10, hidden_layer_size)\n",
    "        optimizer = torch.optim.Adam(model.parameters(), lr=lr)\n",
    "    \n",
    "        epochs = 1000\n",
    "        \n",
    "        for i in range(epochs):\n",
    "            model.train()\n",
    "            \n",
    "            optimizer.zero_grad()\n",
    "            \n",
    "            y_pred = model(X_train)\n",
    "            single_loss = loss_function(y_pred, y_train)\n",
    "            losses.append(single_loss)\n",
    "            \n",
    "            single_loss.backward()\n",
    "            optimizer.step()\n",
    "            \n",
    "            \n",
    "            model.eval()\n",
    "\n",
    "            with torch.no_grad():\n",
    "                y_pred = model(X_val)\n",
    "\n",
    "                single_loss = loss_function(y_pred, y_val)\n",
    "\n",
    "                if (len(val_losses) == 0) or (single_loss < min(val_losses)):\n",
    "#                     if (len(val_losses) > 0):\n",
    "#                         print(\"losses:\", single_loss, min(val_losses))\n",
    "                    best_hidden_layer_size = hidden_layer_size\n",
    "                    best_model = model\n",
    "                \n",
    "                val_losses.append(single_loss)\n",
    "            \n",
    "#             if (len(val_losses) > 0 and i%5 == 1):\n",
    "#                 print(val_losses[-1], min(val_losses))\n",
    "\n",
    "#         print(f'epoch: {i:3} loss: {single_loss.item():10.10f}')\n",
    "    \n",
    "    print(\"best model hidden size:\", best_hidden_layer_size)\n",
    "    \n",
    "    predictions = []\n",
    "    best_model.eval()\n",
    "    with torch.no_grad():\n",
    "        predictions = [best_model(seq) for (seq, labels) in zip(X_test, y_test)]\n",
    "    pred = [torch.cat((i, j)) for (i, j) in zip(X_test, predictions)]\n",
    "    actual_predictions = np.array([np.array(i) for i in pred])\n",
    "    mape = [np.mean(np.abs(actual_predictions[i] - test[i])/np.abs(test[i])) for i in range(len(test))]\n",
    "    print(sum(mape) / len(mape))\n",
    "    rmse = [np.mean((actual_predictions[i] - test[i])**2)**.5 for i in range(len(test))]\n",
    "    print(sum(rmse) / len(rmse))\n",
    "    \n",
    "    return best_model\n",
    "     "
   ]
  },
  {
   "cell_type": "code",
   "execution_count": 47,
   "metadata": {},
   "outputs": [],
   "source": [
    "random.seed(42)"
   ]
  },
  {
   "cell_type": "markdown",
   "metadata": {},
   "source": [
    "# 1s"
   ]
  },
  {
   "cell_type": "code",
   "execution_count": 216,
   "metadata": {
    "collapsed": true,
    "jupyter": {
     "outputs_hidden": true
    }
   },
   "outputs": [
    {
     "name": "stdout",
     "output_type": "stream",
     "text": [
      "Data is ready\n",
      "bast model hidden size: 10\n",
      "bast model hidden size: 10\n",
      "bast model hidden size: 10\n",
      "bast model hidden size: 10\n",
      "bast model hidden size: 10\n",
      "bast model hidden size: 10\n",
      "bast model hidden size: 10\n",
      "bast model hidden size: 10\n",
      "bast model hidden size: 10\n",
      "bast model hidden size: 10\n",
      "bast model hidden size: 10\n",
      "bast model hidden size: 10\n",
      "bast model hidden size: 10\n",
      "bast model hidden size: 10\n",
      "bast model hidden size: 10\n",
      "bast model hidden size: 10\n",
      "bast model hidden size: 10\n",
      "bast model hidden size: 10\n",
      "bast model hidden size: 10\n",
      "bast model hidden size: 10\n",
      "bast model hidden size: 10\n",
      "bast model hidden size: 10\n",
      "bast model hidden size: 10\n",
      "bast model hidden size: 10\n",
      "bast model hidden size: 10\n",
      "bast model hidden size: 10\n",
      "bast model hidden size: 10\n",
      "bast model hidden size: 10\n",
      "bast model hidden size: 10\n",
      "bast model hidden size: 10\n",
      "bast model hidden size: 10\n",
      "bast model hidden size: 10\n",
      "bast model hidden size: 10\n",
      "bast model hidden size: 10\n",
      "bast model hidden size: 10\n",
      "bast model hidden size: 10\n",
      "bast model hidden size: 10\n",
      "bast model hidden size: 10\n",
      "bast model hidden size: 10\n",
      "bast model hidden size: 10\n",
      "bast model hidden size: 10\n",
      "bast model hidden size: 10\n",
      "bast model hidden size: 10\n",
      "bast model hidden size: 10\n",
      "bast model hidden size: 10\n",
      "bast model hidden size: 10\n",
      "bast model hidden size: 10\n",
      "bast model hidden size: 10\n",
      "bast model hidden size: 10\n",
      "bast model hidden size: 10\n",
      "bast model hidden size: 10\n",
      "bast model hidden size: 10\n",
      "bast model hidden size: 10\n",
      "bast model hidden size: 10\n",
      "bast model hidden size: 10\n",
      "bast model hidden size: 10\n",
      "bast model hidden size: 10\n",
      "bast model hidden size: 10\n",
      "bast model hidden size: 10\n",
      "bast model hidden size: 10\n",
      "bast model hidden size: 10\n",
      "bast model hidden size: 10\n",
      "bast model hidden size: 10\n",
      "bast model hidden size: 10\n",
      "bast model hidden size: 10\n",
      "bast model hidden size: 10\n",
      "bast model hidden size: 10\n",
      "bast model hidden size: 10\n",
      "bast model hidden size: 10\n",
      "bast model hidden size: 10\n",
      "bast model hidden size: 10\n",
      "bast model hidden size: 10\n",
      "bast model hidden size: 10\n",
      "bast model hidden size: 10\n",
      "bast model hidden size: 10\n",
      "bast model hidden size: 10\n",
      "bast model hidden size: 10\n",
      "bast model hidden size: 10\n",
      "bast model hidden size: 10\n",
      "bast model hidden size: 10\n",
      "bast model hidden size: 10\n",
      "bast model hidden size: 10\n",
      "bast model hidden size: 10\n",
      "bast model hidden size: 10\n",
      "bast model hidden size: 10\n",
      "bast model hidden size: 10\n",
      "bast model hidden size: 10\n",
      "bast model hidden size: 10\n",
      "bast model hidden size: 10\n",
      "bast model hidden size: 10\n",
      "bast model hidden size: 10\n",
      "bast model hidden size: 10\n",
      "bast model hidden size: 10\n",
      "bast model hidden size: 10\n",
      "bast model hidden size: 10\n",
      "bast model hidden size: 10\n",
      "bast model hidden size: 10\n",
      "bast model hidden size: 10\n",
      "bast model hidden size: 10\n",
      "bast model hidden size: 10\n",
      "bast model hidden size: 10\n",
      "bast model hidden size: 10\n",
      "bast model hidden size: 10\n",
      "bast model hidden size: 10\n",
      "bast model hidden size: 10\n",
      "bast model hidden size: 10\n",
      "bast model hidden size: 10\n",
      "bast model hidden size: 10\n",
      "bast model hidden size: 10\n",
      "bast model hidden size: 10\n",
      "bast model hidden size: 10\n",
      "bast model hidden size: 10\n",
      "bast model hidden size: 10\n",
      "bast model hidden size: 10\n",
      "bast model hidden size: 10\n",
      "bast model hidden size: 10\n",
      "bast model hidden size: 10\n",
      "bast model hidden size: 10\n",
      "bast model hidden size: 10\n",
      "bast model hidden size: 10\n",
      "bast model hidden size: 10\n",
      "bast model hidden size: 10\n",
      "bast model hidden size: 10\n",
      "bast model hidden size: 10\n",
      "bast model hidden size: 10\n",
      "bast model hidden size: 10\n",
      "bast model hidden size: 10\n",
      "bast model hidden size: 10\n",
      "bast model hidden size: 10\n",
      "bast model hidden size: 10\n",
      "bast model hidden size: 10\n",
      "bast model hidden size: 10\n",
      "bast model hidden size: 10\n",
      "bast model hidden size: 10\n",
      "bast model hidden size: 10\n",
      "bast model hidden size: 10\n",
      "bast model hidden size: 10\n",
      "bast model hidden size: 10\n",
      "bast model hidden size: 10\n",
      "bast model hidden size: 10\n",
      "bast model hidden size: 10\n",
      "bast model hidden size: 10\n",
      "bast model hidden size: 10\n",
      "bast model hidden size: 10\n",
      "bast model hidden size: 10\n",
      "bast model hidden size: 10\n",
      "bast model hidden size: 10\n",
      "bast model hidden size: 10\n",
      "bast model hidden size: 10\n",
      "bast model hidden size: 10\n",
      "bast model hidden size: 10\n",
      "bast model hidden size: 10\n",
      "bast model hidden size: 10\n",
      "bast model hidden size: 10\n",
      "bast model hidden size: 10\n",
      "bast model hidden size: 10\n",
      "bast model hidden size: 10\n",
      "bast model hidden size: 10\n",
      "bast model hidden size: 10\n",
      "bast model hidden size: 10\n",
      "bast model hidden size: 10\n",
      "bast model hidden size: 10\n",
      "bast model hidden size: 10\n",
      "bast model hidden size: 10\n",
      "bast model hidden size: 10\n",
      "bast model hidden size: 10\n",
      "bast model hidden size: 10\n",
      "bast model hidden size: 10\n",
      "bast model hidden size: 10\n",
      "bast model hidden size: 10\n",
      "bast model hidden size: 10\n",
      "bast model hidden size: 10\n",
      "bast model hidden size: 10\n",
      "bast model hidden size: 10\n",
      "bast model hidden size: 10\n",
      "bast model hidden size: 10\n",
      "bast model hidden size: 10\n",
      "bast model hidden size: 10\n",
      "bast model hidden size: 10\n",
      "bast model hidden size: 10\n",
      "bast model hidden size: 10\n",
      "bast model hidden size: 10\n",
      "bast model hidden size: 10\n",
      "bast model hidden size: 10\n",
      "bast model hidden size: 10\n",
      "bast model hidden size: 10\n",
      "bast model hidden size: 10\n",
      "bast model hidden size: 10\n",
      "bast model hidden size: 10\n",
      "bast model hidden size: 10\n",
      "bast model hidden size: 10\n",
      "bast model hidden size: 10\n",
      "bast model hidden size: 10\n",
      "bast model hidden size: 10\n",
      "bast model hidden size: 10\n",
      "bast model hidden size: 10\n",
      "bast model hidden size: 10\n",
      "bast model hidden size: 10\n",
      "bast model hidden size: 10\n",
      "bast model hidden size: 10\n",
      "bast model hidden size: 10\n",
      "bast model hidden size: 10\n",
      "bast model hidden size: 10\n",
      "bast model hidden size: 10\n",
      "bast model hidden size: 10\n",
      "bast model hidden size: 10\n",
      "bast model hidden size: 10\n",
      "bast model hidden size: 10\n",
      "bast model hidden size: 10\n",
      "bast model hidden size: 10\n",
      "bast model hidden size: 10\n",
      "bast model hidden size: 10\n",
      "bast model hidden size: 10\n",
      "bast model hidden size: 10\n",
      "bast model hidden size: 10\n",
      "bast model hidden size: 10\n",
      "bast model hidden size: 10\n",
      "bast model hidden size: 10\n",
      "bast model hidden size: 10\n",
      "bast model hidden size: 10\n",
      "bast model hidden size: 10\n",
      "bast model hidden size: 10\n",
      "bast model hidden size: 10\n",
      "bast model hidden size: 10\n",
      "bast model hidden size: 10\n",
      "bast model hidden size: 10\n",
      "bast model hidden size: 10\n",
      "bast model hidden size: 10\n",
      "bast model hidden size: 10\n",
      "bast model hidden size: 10\n",
      "bast model hidden size: 10\n",
      "bast model hidden size: 10\n",
      "bast model hidden size: 10\n",
      "bast model hidden size: 10\n",
      "bast model hidden size: 10\n",
      "bast model hidden size: 10\n",
      "bast model hidden size: 10\n",
      "bast model hidden size: 10\n",
      "bast model hidden size: 10\n",
      "bast model hidden size: 10\n",
      "bast model hidden size: 10\n",
      "bast model hidden size: 10\n",
      "bast model hidden size: 10\n",
      "bast model hidden size: 10\n",
      "bast model hidden size: 10\n",
      "bast model hidden size: 10\n",
      "bast model hidden size: 10\n",
      "bast model hidden size: 10\n",
      "bast model hidden size: 10\n",
      "bast model hidden size: 10\n",
      "bast model hidden size: 10\n",
      "bast model hidden size: 10\n",
      "bast model hidden size: 10\n",
      "bast model hidden size: 10\n",
      "bast model hidden size: 10\n",
      "bast model hidden size: 10\n",
      "bast model hidden size: 10\n",
      "bast model hidden size: 10\n",
      "bast model hidden size: 10\n",
      "bast model hidden size: 10\n",
      "bast model hidden size: 10\n",
      "bast model hidden size: 10\n",
      "bast model hidden size: 10\n",
      "bast model hidden size: 10\n",
      "bast model hidden size: 10\n",
      "bast model hidden size: 10\n",
      "bast model hidden size: 10\n",
      "bast model hidden size: 10\n",
      "bast model hidden size: 10\n",
      "bast model hidden size: 10\n",
      "bast model hidden size: 10\n",
      "bast model hidden size: 10\n",
      "bast model hidden size: 10\n",
      "bast model hidden size: 10\n",
      "bast model hidden size: 10\n",
      "bast model hidden size: 10\n",
      "bast model hidden size: 10\n",
      "bast model hidden size: 10\n",
      "bast model hidden size: 10\n",
      "bast model hidden size: 10\n",
      "bast model hidden size: 10\n",
      "bast model hidden size: 10\n",
      "bast model hidden size: 10\n",
      "bast model hidden size: 10\n",
      "bast model hidden size: 10\n",
      "bast model hidden size: 10\n",
      "bast model hidden size: 10\n",
      "bast model hidden size: 10\n",
      "bast model hidden size: 10\n",
      "bast model hidden size: 10\n",
      "bast model hidden size: 10\n",
      "bast model hidden size: 10\n",
      "bast model hidden size: 10\n",
      "bast model hidden size: 10\n",
      "bast model hidden size: 10\n",
      "bast model hidden size: 10\n",
      "bast model hidden size: 10\n",
      "bast model hidden size: 10\n",
      "bast model hidden size: 10\n",
      "bast model hidden size: 10\n",
      "bast model hidden size: 10\n",
      "bast model hidden size: 10\n",
      "bast model hidden size: 10\n",
      "bast model hidden size: 10\n",
      "bast model hidden size: 10\n",
      "bast model hidden size: 10\n",
      "bast model hidden size: 10\n",
      "bast model hidden size: 10\n",
      "bast model hidden size: 10\n",
      "bast model hidden size: 10\n",
      "bast model hidden size: 10\n",
      "bast model hidden size: 10\n",
      "bast model hidden size: 10\n",
      "bast model hidden size: 10\n",
      "bast model hidden size: 10\n",
      "bast model hidden size: 10\n",
      "bast model hidden size: 10\n",
      "bast model hidden size: 10\n",
      "bast model hidden size: 10\n",
      "bast model hidden size: 10\n",
      "bast model hidden size: 10\n",
      "bast model hidden size: 10\n",
      "bast model hidden size: 10\n",
      "bast model hidden size: 10\n",
      "bast model hidden size: 10\n",
      "bast model hidden size: 10\n",
      "bast model hidden size: 10\n",
      "bast model hidden size: 10\n",
      "bast model hidden size: 10\n",
      "bast model hidden size: 10\n",
      "bast model hidden size: 10\n",
      "bast model hidden size: 10\n",
      "bast model hidden size: 10\n",
      "bast model hidden size: 10\n",
      "bast model hidden size: 10\n",
      "bast model hidden size: 10\n",
      "bast model hidden size: 10\n",
      "bast model hidden size: 10\n",
      "bast model hidden size: 10\n",
      "bast model hidden size: 10\n",
      "bast model hidden size: 10\n",
      "bast model hidden size: 10\n",
      "bast model hidden size: 10\n",
      "bast model hidden size: 10\n",
      "bast model hidden size: 10\n",
      "bast model hidden size: 10\n",
      "bast model hidden size: 10\n",
      "bast model hidden size: 10\n",
      "bast model hidden size: 10\n",
      "bast model hidden size: 10\n",
      "bast model hidden size: 10\n",
      "bast model hidden size: 10\n",
      "bast model hidden size: 10\n",
      "bast model hidden size: 10\n",
      "bast model hidden size: 10\n",
      "bast model hidden size: 10\n",
      "bast model hidden size: 10\n",
      "bast model hidden size: 10\n",
      "bast model hidden size: 10\n",
      "bast model hidden size: 10\n",
      "bast model hidden size: 10\n",
      "bast model hidden size: 10\n",
      "bast model hidden size: 10\n",
      "bast model hidden size: 10\n",
      "bast model hidden size: 10\n",
      "bast model hidden size: 10\n",
      "bast model hidden size: 10\n",
      "bast model hidden size: 10\n",
      "bast model hidden size: 10\n",
      "bast model hidden size: 10\n",
      "bast model hidden size: 10\n",
      "bast model hidden size: 10\n",
      "bast model hidden size: 10\n",
      "bast model hidden size: 10\n",
      "bast model hidden size: 10\n",
      "bast model hidden size: 10\n",
      "bast model hidden size: 10\n",
      "bast model hidden size: 10\n",
      "bast model hidden size: 10\n",
      "bast model hidden size: 10\n",
      "bast model hidden size: 10\n",
      "bast model hidden size: 10\n",
      "bast model hidden size: 10\n",
      "bast model hidden size: 10\n",
      "bast model hidden size: 10\n",
      "bast model hidden size: 10\n",
      "bast model hidden size: 10\n",
      "bast model hidden size: 10\n",
      "bast model hidden size: 10\n",
      "bast model hidden size: 10\n",
      "bast model hidden size: 10\n",
      "bast model hidden size: 10\n",
      "bast model hidden size: 10\n",
      "bast model hidden size: 10\n",
      "bast model hidden size: 10\n",
      "bast model hidden size: 10\n",
      "bast model hidden size: 10\n",
      "bast model hidden size: 10\n",
      "bast model hidden size: 10\n",
      "bast model hidden size: 10\n",
      "bast model hidden size: 10\n",
      "bast model hidden size: 10\n",
      "bast model hidden size: 10\n",
      "bast model hidden size: 10\n",
      "bast model hidden size: 10\n",
      "bast model hidden size: 10\n",
      "bast model hidden size: 10\n",
      "bast model hidden size: 10\n",
      "bast model hidden size: 10\n",
      "bast model hidden size: 10\n",
      "bast model hidden size: 10\n",
      "bast model hidden size: 10\n",
      "bast model hidden size: 10\n",
      "bast model hidden size: 10\n",
      "bast model hidden size: 10\n",
      "bast model hidden size: 10\n",
      "bast model hidden size: 10\n",
      "bast model hidden size: 10\n",
      "bast model hidden size: 10\n",
      "bast model hidden size: 10\n",
      "bast model hidden size: 10\n",
      "bast model hidden size: 10\n",
      "bast model hidden size: 10\n",
      "bast model hidden size: 10\n",
      "bast model hidden size: 10\n",
      "bast model hidden size: 10\n",
      "bast model hidden size: 10\n",
      "bast model hidden size: 10\n",
      "bast model hidden size: 10\n",
      "bast model hidden size: 10\n",
      "bast model hidden size: 10\n",
      "bast model hidden size: 10\n",
      "bast model hidden size: 10\n",
      "bast model hidden size: 10\n",
      "bast model hidden size: 10\n",
      "bast model hidden size: 10\n",
      "bast model hidden size: 10\n",
      "bast model hidden size: 10\n",
      "bast model hidden size: 10\n",
      "bast model hidden size: 10\n",
      "bast model hidden size: 10\n",
      "bast model hidden size: 10\n",
      "bast model hidden size: 10\n",
      "bast model hidden size: 10\n",
      "bast model hidden size: 10\n",
      "bast model hidden size: 10\n",
      "bast model hidden size: 10\n",
      "bast model hidden size: 10\n",
      "bast model hidden size: 10\n",
      "bast model hidden size: 10\n",
      "bast model hidden size: 10\n",
      "bast model hidden size: 10\n",
      "bast model hidden size: 10\n",
      "bast model hidden size: 10\n",
      "bast model hidden size: 10\n",
      "bast model hidden size: 10\n",
      "bast model hidden size: 10\n",
      "bast model hidden size: 10\n",
      "bast model hidden size: 10\n",
      "bast model hidden size: 10\n",
      "bast model hidden size: 10\n",
      "bast model hidden size: 10\n",
      "bast model hidden size: 10\n",
      "bast model hidden size: 10\n",
      "bast model hidden size: 10\n",
      "bast model hidden size: 10\n",
      "bast model hidden size: 10\n",
      "bast model hidden size: 10\n",
      "bast model hidden size: 10\n",
      "bast model hidden size: 10\n",
      "bast model hidden size: 10\n",
      "bast model hidden size: 10\n",
      "bast model hidden size: 10\n",
      "bast model hidden size: 10\n",
      "bast model hidden size: 10\n",
      "bast model hidden size: 10\n",
      "bast model hidden size: 10\n",
      "bast model hidden size: 10\n",
      "bast model hidden size: 10\n",
      "bast model hidden size: 10\n",
      "bast model hidden size: 10\n",
      "bast model hidden size: 10\n",
      "bast model hidden size: 10\n",
      "bast model hidden size: 10\n",
      "bast model hidden size: 10\n",
      "bast model hidden size: 10\n",
      "bast model hidden size: 10\n",
      "bast model hidden size: 10\n",
      "bast model hidden size: 10\n",
      "bast model hidden size: 10\n",
      "bast model hidden size: 10\n",
      "bast model hidden size: 10\n",
      "bast model hidden size: 10\n",
      "bast model hidden size: 10\n",
      "bast model hidden size: 10\n",
      "bast model hidden size: 10\n",
      "bast model hidden size: 10\n",
      "bast model hidden size: 10\n",
      "bast model hidden size: 10\n",
      "bast model hidden size: 10\n",
      "bast model hidden size: 10\n",
      "bast model hidden size: 10\n",
      "bast model hidden size: 10\n",
      "bast model hidden size: 10\n",
      "bast model hidden size: 10\n",
      "bast model hidden size: 10\n",
      "bast model hidden size: 10\n",
      "bast model hidden size: 10\n",
      "bast model hidden size: 10\n",
      "bast model hidden size: 10\n",
      "bast model hidden size: 10\n",
      "bast model hidden size: 10\n",
      "bast model hidden size: 10\n",
      "bast model hidden size: 10\n",
      "bast model hidden size: 10\n",
      "bast model hidden size: 10\n",
      "bast model hidden size: 10\n",
      "bast model hidden size: 10\n",
      "bast model hidden size: 10\n",
      "bast model hidden size: 10\n",
      "bast model hidden size: 10\n",
      "bast model hidden size: 10\n",
      "bast model hidden size: 10\n",
      "bast model hidden size: 10\n",
      "bast model hidden size: 10\n",
      "bast model hidden size: 10\n",
      "bast model hidden size: 10\n",
      "bast model hidden size: 10\n",
      "bast model hidden size: 10\n",
      "bast model hidden size: 10\n",
      "bast model hidden size: 10\n",
      "bast model hidden size: 10\n",
      "bast model hidden size: 10\n",
      "bast model hidden size: 10\n",
      "bast model hidden size: 10\n",
      "bast model hidden size: 10\n",
      "bast model hidden size: 10\n",
      "bast model hidden size: 10\n",
      "bast model hidden size: 10\n",
      "bast model hidden size: 10\n",
      "bast model hidden size: 10\n",
      "bast model hidden size: 10\n",
      "bast model hidden size: 10\n",
      "bast model hidden size: 10\n",
      "bast model hidden size: 10\n",
      "bast model hidden size: 10\n",
      "bast model hidden size: 10\n",
      "bast model hidden size: 10\n",
      "bast model hidden size: 10\n",
      "bast model hidden size: 10\n",
      "bast model hidden size: 10\n",
      "bast model hidden size: 10\n",
      "bast model hidden size: 10\n",
      "bast model hidden size: 10\n",
      "bast model hidden size: 10\n",
      "bast model hidden size: 10\n",
      "bast model hidden size: 10\n",
      "bast model hidden size: 10\n",
      "bast model hidden size: 10\n",
      "bast model hidden size: 10\n",
      "bast model hidden size: 10\n",
      "bast model hidden size: 10\n",
      "bast model hidden size: 10\n",
      "bast model hidden size: 10\n",
      "bast model hidden size: 10\n",
      "bast model hidden size: 10\n",
      "bast model hidden size: 10\n",
      "bast model hidden size: 10\n",
      "bast model hidden size: 10\n",
      "bast model hidden size: 10\n",
      "bast model hidden size: 10\n",
      "bast model hidden size: 10\n",
      "bast model hidden size: 10\n",
      "bast model hidden size: 10\n",
      "bast model hidden size: 10\n",
      "bast model hidden size: 10\n",
      "bast model hidden size: 10\n",
      "bast model hidden size: 10\n",
      "bast model hidden size: 10\n",
      "bast model hidden size: 10\n",
      "bast model hidden size: 10\n",
      "bast model hidden size: 10\n",
      "bast model hidden size: 10\n",
      "bast model hidden size: 10\n",
      "bast model hidden size: 10\n",
      "bast model hidden size: 10\n",
      "bast model hidden size: 10\n",
      "bast model hidden size: 10\n",
      "bast model hidden size: 10\n",
      "bast model hidden size: 10\n",
      "bast model hidden size: 10\n",
      "bast model hidden size: 10\n",
      "bast model hidden size: 10\n",
      "bast model hidden size: 10\n",
      "bast model hidden size: 10\n",
      "bast model hidden size: 10\n",
      "bast model hidden size: 10\n",
      "bast model hidden size: 10\n",
      "bast model hidden size: 10\n",
      "bast model hidden size: 10\n",
      "bast model hidden size: 10\n",
      "bast model hidden size: 10\n",
      "bast model hidden size: 10\n",
      "bast model hidden size: 10\n",
      "bast model hidden size: 10\n",
      "bast model hidden size: 10\n",
      "bast model hidden size: 10\n",
      "bast model hidden size: 10\n",
      "bast model hidden size: 10\n",
      "bast model hidden size: 10\n",
      "bast model hidden size: 10\n",
      "bast model hidden size: 10\n",
      "bast model hidden size: 10\n",
      "bast model hidden size: 10\n",
      "bast model hidden size: 10\n",
      "bast model hidden size: 10\n",
      "bast model hidden size: 10\n",
      "bast model hidden size: 10\n",
      "bast model hidden size: 10\n",
      "bast model hidden size: 10\n",
      "bast model hidden size: 10\n",
      "bast model hidden size: 10\n",
      "bast model hidden size: 10\n",
      "bast model hidden size: 10\n",
      "bast model hidden size: 10\n",
      "bast model hidden size: 10\n",
      "bast model hidden size: 10\n",
      "bast model hidden size: 10\n",
      "bast model hidden size: 10\n",
      "bast model hidden size: 10\n",
      "bast model hidden size: 10\n",
      "bast model hidden size: 10\n",
      "bast model hidden size: 10\n",
      "bast model hidden size: 10\n",
      "bast model hidden size: 10\n",
      "bast model hidden size: 10\n",
      "bast model hidden size: 10\n",
      "bast model hidden size: 10\n",
      "bast model hidden size: 10\n",
      "bast model hidden size: 10\n",
      "bast model hidden size: 10\n",
      "bast model hidden size: 10\n",
      "bast model hidden size: 10\n",
      "bast model hidden size: 10\n",
      "bast model hidden size: 10\n",
      "bast model hidden size: 10\n",
      "bast model hidden size: 10\n",
      "bast model hidden size: 10\n",
      "bast model hidden size: 10\n",
      "bast model hidden size: 10\n",
      "bast model hidden size: 10\n",
      "bast model hidden size: 10\n",
      "bast model hidden size: 10\n",
      "bast model hidden size: 10\n",
      "bast model hidden size: 10\n",
      "bast model hidden size: 10\n",
      "bast model hidden size: 10\n",
      "bast model hidden size: 10\n",
      "bast model hidden size: 10\n",
      "bast model hidden size: 10\n",
      "bast model hidden size: 10\n",
      "bast model hidden size: 10\n",
      "bast model hidden size: 10\n",
      "bast model hidden size: 10\n",
      "bast model hidden size: 10\n",
      "bast model hidden size: 10\n",
      "bast model hidden size: 10\n",
      "bast model hidden size: 10\n",
      "bast model hidden size: 10\n",
      "bast model hidden size: 10\n",
      "bast model hidden size: 10\n",
      "bast model hidden size: 10\n",
      "bast model hidden size: 10\n",
      "bast model hidden size: 10\n",
      "bast model hidden size: 10\n",
      "bast model hidden size: 10\n",
      "bast model hidden size: 10\n",
      "bast model hidden size: 10\n",
      "bast model hidden size: 10\n",
      "bast model hidden size: 10\n",
      "bast model hidden size: 10\n",
      "bast model hidden size: 10\n",
      "bast model hidden size: 10\n",
      "bast model hidden size: 10\n",
      "bast model hidden size: 10\n",
      "bast model hidden size: 10\n",
      "bast model hidden size: 10\n",
      "bast model hidden size: 10\n",
      "bast model hidden size: 10\n",
      "bast model hidden size: 10\n",
      "bast model hidden size: 10\n",
      "bast model hidden size: 10\n",
      "bast model hidden size: 10\n",
      "bast model hidden size: 10\n",
      "bast model hidden size: 10\n",
      "bast model hidden size: 10\n",
      "bast model hidden size: 10\n",
      "bast model hidden size: 10\n",
      "bast model hidden size: 10\n",
      "bast model hidden size: 10\n",
      "bast model hidden size: 10\n",
      "bast model hidden size: 10\n",
      "bast model hidden size: 10\n",
      "bast model hidden size: 10\n",
      "bast model hidden size: 10\n",
      "bast model hidden size: 10\n",
      "bast model hidden size: 10\n",
      "bast model hidden size: 10\n",
      "bast model hidden size: 10\n",
      "bast model hidden size: 10\n",
      "bast model hidden size: 10\n",
      "bast model hidden size: 10\n",
      "bast model hidden size: 10\n",
      "bast model hidden size: 10\n",
      "bast model hidden size: 10\n",
      "bast model hidden size: 10\n",
      "bast model hidden size: 10\n",
      "bast model hidden size: 10\n",
      "bast model hidden size: 10\n",
      "bast model hidden size: 10\n",
      "bast model hidden size: 10\n",
      "bast model hidden size: 10\n",
      "bast model hidden size: 10\n",
      "bast model hidden size: 10\n",
      "bast model hidden size: 10\n",
      "bast model hidden size: 10\n",
      "bast model hidden size: 10\n",
      "bast model hidden size: 10\n",
      "bast model hidden size: 10\n",
      "bast model hidden size: 10\n",
      "bast model hidden size: 10\n",
      "bast model hidden size: 10\n",
      "bast model hidden size: 10\n",
      "bast model hidden size: 10\n",
      "bast model hidden size: 10\n",
      "bast model hidden size: 10\n",
      "bast model hidden size: 10\n",
      "bast model hidden size: 10\n",
      "bast model hidden size: 10\n",
      "bast model hidden size: 10\n",
      "bast model hidden size: 10\n",
      "bast model hidden size: 10\n",
      "bast model hidden size: 10\n",
      "bast model hidden size: 10\n",
      "bast model hidden size: 10\n",
      "bast model hidden size: 10\n",
      "bast model hidden size: 10\n",
      "bast model hidden size: 10\n",
      "bast model hidden size: 10\n",
      "bast model hidden size: 10\n",
      "bast model hidden size: 10\n",
      "bast model hidden size: 10\n",
      "bast model hidden size: 10\n",
      "bast model hidden size: 10\n",
      "bast model hidden size: 10\n",
      "bast model hidden size: 10\n",
      "bast model hidden size: 10\n",
      "bast model hidden size: 10\n",
      "bast model hidden size: 10\n",
      "bast model hidden size: 10\n",
      "bast model hidden size: 10\n",
      "bast model hidden size: 10\n",
      "bast model hidden size: 10\n",
      "bast model hidden size: 10\n",
      "bast model hidden size: 10\n",
      "bast model hidden size: 10\n",
      "bast model hidden size: 10\n",
      "bast model hidden size: 10\n",
      "bast model hidden size: 10\n",
      "bast model hidden size: 10\n",
      "bast model hidden size: 10\n",
      "bast model hidden size: 10\n",
      "bast model hidden size: 10\n",
      "bast model hidden size: 10\n",
      "bast model hidden size: 10\n",
      "bast model hidden size: 10\n",
      "bast model hidden size: 10\n",
      "bast model hidden size: 10\n",
      "bast model hidden size: 10\n",
      "bast model hidden size: 10\n",
      "bast model hidden size: 10\n",
      "bast model hidden size: 10\n",
      "bast model hidden size: 10\n",
      "bast model hidden size: 10\n",
      "bast model hidden size: 10\n",
      "bast model hidden size: 10\n",
      "bast model hidden size: 10\n",
      "bast model hidden size: 10\n",
      "bast model hidden size: 10\n",
      "bast model hidden size: 10\n",
      "bast model hidden size: 10\n",
      "bast model hidden size: 10\n",
      "bast model hidden size: 10\n",
      "bast model hidden size: 10\n",
      "bast model hidden size: 10\n",
      "bast model hidden size: 10\n",
      "bast model hidden size: 10\n",
      "bast model hidden size: 10\n",
      "bast model hidden size: 10\n",
      "bast model hidden size: 10\n",
      "bast model hidden size: 10\n",
      "bast model hidden size: 10\n",
      "bast model hidden size: 10\n",
      "bast model hidden size: 10\n",
      "bast model hidden size: 10\n",
      "bast model hidden size: 10\n",
      "bast model hidden size: 10\n",
      "bast model hidden size: 10\n",
      "bast model hidden size: 10\n",
      "bast model hidden size: 10\n",
      "bast model hidden size: 10\n",
      "bast model hidden size: 10\n",
      "bast model hidden size: 10\n",
      "bast model hidden size: 10\n",
      "bast model hidden size: 10\n",
      "bast model hidden size: 10\n",
      "bast model hidden size: 10\n",
      "bast model hidden size: 10\n",
      "bast model hidden size: 10\n",
      "bast model hidden size: 10\n",
      "bast model hidden size: 10\n",
      "bast model hidden size: 10\n",
      "bast model hidden size: 10\n",
      "bast model hidden size: 10\n",
      "bast model hidden size: 10\n",
      "bast model hidden size: 10\n",
      "bast model hidden size: 10\n",
      "bast model hidden size: 10\n",
      "bast model hidden size: 10\n",
      "bast model hidden size: 10\n",
      "bast model hidden size: 10\n",
      "bast model hidden size: 10\n",
      "bast model hidden size: 10\n",
      "bast model hidden size: 10\n",
      "bast model hidden size: 10\n",
      "bast model hidden size: 10\n",
      "bast model hidden size: 10\n",
      "bast model hidden size: 10\n",
      "bast model hidden size: 10\n",
      "bast model hidden size: 10\n",
      "bast model hidden size: 10\n",
      "bast model hidden size: 10\n",
      "bast model hidden size: 10\n",
      "bast model hidden size: 10\n",
      "bast model hidden size: 10\n",
      "bast model hidden size: 10\n",
      "bast model hidden size: 10\n",
      "bast model hidden size: 10\n",
      "bast model hidden size: 10\n",
      "bast model hidden size: 10\n",
      "bast model hidden size: 10\n",
      "bast model hidden size: 10\n",
      "bast model hidden size: 10\n",
      "bast model hidden size: 10\n",
      "bast model hidden size: 10\n",
      "bast model hidden size: 10\n",
      "bast model hidden size: 10\n",
      "bast model hidden size: 10\n",
      "bast model hidden size: 10\n",
      "bast model hidden size: 10\n",
      "bast model hidden size: 10\n",
      "bast model hidden size: 10\n",
      "bast model hidden size: 10\n",
      "bast model hidden size: 10\n",
      "bast model hidden size: 10\n",
      "bast model hidden size: 10\n",
      "bast model hidden size: 10\n",
      "bast model hidden size: 10\n",
      "bast model hidden size: 10\n",
      "bast model hidden size: 10\n",
      "bast model hidden size: 10\n",
      "bast model hidden size: 10\n",
      "bast model hidden size: 10\n",
      "bast model hidden size: 10\n",
      "bast model hidden size: 10\n",
      "bast model hidden size: 10\n",
      "bast model hidden size: 10\n",
      "bast model hidden size: 10\n",
      "bast model hidden size: 10\n",
      "bast model hidden size: 10\n",
      "bast model hidden size: 10\n",
      "bast model hidden size: 10\n",
      "bast model hidden size: 10\n",
      "bast model hidden size: 10\n",
      "bast model hidden size: 10\n",
      "bast model hidden size: 10\n",
      "bast model hidden size: 10\n",
      "bast model hidden size: 10\n",
      "bast model hidden size: 10\n",
      "bast model hidden size: 10\n",
      "bast model hidden size: 10\n",
      "bast model hidden size: 10\n",
      "bast model hidden size: 10\n",
      "bast model hidden size: 10\n",
      "bast model hidden size: 10\n",
      "bast model hidden size: 10\n",
      "bast model hidden size: 10\n",
      "bast model hidden size: 10\n",
      "bast model hidden size: 10\n",
      "bast model hidden size: 10\n",
      "bast model hidden size: 10\n",
      "bast model hidden size: 10\n",
      "bast model hidden size: 10\n",
      "epoch: 999 loss: 240351.3906250000\n",
      "epoch: 999 loss: 250242.0000000000\n",
      "epoch: 999 loss: 259701.0156250000\n",
      "bast model hidden size: 200\n",
      "bast model hidden size: 200\n",
      "epoch: 999 loss: 258462.2500000000\n",
      "epoch: 999 loss: 271152.4062500000\n",
      "bast model hidden size: 300\n",
      "epoch: 999 loss: 261911.3281250000\n",
      "0.039457952808299994\n",
      "18.44979168224587\n"
     ]
    }
   ],
   "source": [
    "new_model = learn(22, 1000, 50)"
   ]
  },
  {
   "cell_type": "code",
   "execution_count": 219,
   "metadata": {
    "collapsed": true,
    "jupyter": {
     "outputs_hidden": true
    }
   },
   "outputs": [
    {
     "name": "stdout",
     "output_type": "stream",
     "text": [
      "Data is ready\n",
      "best model hidden size: 50\n",
      "best model hidden size: 50\n",
      "best model hidden size: 50\n",
      "best model hidden size: 50\n",
      "best model hidden size: 50\n",
      "best model hidden size: 50\n",
      "best model hidden size: 50\n",
      "best model hidden size: 50\n",
      "best model hidden size: 50\n",
      "best model hidden size: 50\n",
      "best model hidden size: 50\n",
      "best model hidden size: 50\n",
      "best model hidden size: 50\n",
      "best model hidden size: 50\n",
      "best model hidden size: 50\n",
      "best model hidden size: 50\n",
      "best model hidden size: 50\n",
      "best model hidden size: 50\n",
      "best model hidden size: 50\n",
      "best model hidden size: 50\n",
      "best model hidden size: 50\n",
      "best model hidden size: 50\n",
      "best model hidden size: 50\n",
      "best model hidden size: 50\n",
      "best model hidden size: 50\n",
      "best model hidden size: 50\n",
      "best model hidden size: 50\n",
      "best model hidden size: 50\n",
      "best model hidden size: 50\n",
      "best model hidden size: 50\n",
      "best model hidden size: 50\n",
      "best model hidden size: 50\n",
      "best model hidden size: 50\n",
      "best model hidden size: 50\n",
      "best model hidden size: 50\n",
      "best model hidden size: 50\n",
      "best model hidden size: 50\n",
      "best model hidden size: 50\n",
      "best model hidden size: 50\n",
      "epoch: 999 loss: 57963.0468750000\n",
      "best model hidden size: 100\n",
      "best model hidden size: 100\n",
      "best model hidden size: 100\n",
      "best model hidden size: 100\n",
      "best model hidden size: 100\n",
      "epoch: 999 loss: 68026.2421875000\n",
      "best model hidden size: 200\n",
      "best model hidden size: 200\n",
      "best model hidden size: 200\n",
      "epoch: 999 loss: 35718.0078125000\n",
      "best model hidden size: 250\n",
      "best model hidden size: 250\n",
      "best model hidden size: 250\n",
      "best model hidden size: 250\n",
      "best model hidden size: 250\n",
      "best model hidden size: 250\n",
      "best model hidden size: 250\n",
      "best model hidden size: 250\n",
      "best model hidden size: 250\n",
      "best model hidden size: 250\n",
      "best model hidden size: 250\n",
      "best model hidden size: 250\n",
      "best model hidden size: 250\n",
      "best model hidden size: 250\n",
      "best model hidden size: 250\n",
      "best model hidden size: 250\n",
      "best model hidden size: 250\n",
      "epoch: 999 loss: 59988.7539062500\n",
      "best model hidden size: 300\n",
      "best model hidden size: 300\n",
      "epoch: 999 loss: 36361.1093750000\n",
      "0.0024590409643401997\n",
      "1.4669542829999402\n"
     ]
    }
   ],
   "source": [
    "new_model = learn(22, 1000, 100)"
   ]
  },
  {
   "cell_type": "code",
   "execution_count": 222,
   "metadata": {},
   "outputs": [
    {
     "name": "stdout",
     "output_type": "stream",
     "text": [
      "Data is ready\n",
      "best model hidden size: 200\n",
      "0.027817939831367725\n",
      "22.37582217557779\n"
     ]
    }
   ],
   "source": [
    "new_model = learn(22, 1000, 150)"
   ]
  },
  {
   "cell_type": "code",
   "execution_count": 223,
   "metadata": {},
   "outputs": [
    {
     "name": "stdout",
     "output_type": "stream",
     "text": [
      "Data is ready\n",
      "best model hidden size: 50\n",
      "0.0023428382697945694\n",
      "4.184962426734432\n"
     ]
    }
   ],
   "source": [
    "new_model = learn(22, 1000, 200)"
   ]
  },
  {
   "cell_type": "code",
   "execution_count": 224,
   "metadata": {},
   "outputs": [
    {
     "name": "stdout",
     "output_type": "stream",
     "text": [
      "Data is ready\n",
      "best model hidden size: 50\n",
      "0.30215959884981763\n",
      "152.18131702676396\n"
     ]
    }
   ],
   "source": [
    "new_model = learn(22, 1000, 250)"
   ]
  },
  {
   "cell_type": "code",
   "execution_count": 225,
   "metadata": {},
   "outputs": [
    {
     "name": "stdout",
     "output_type": "stream",
     "text": [
      "Data is ready\n",
      "best model hidden size: 100\n",
      "0.2651244717539825\n",
      "182.91376192530242\n"
     ]
    }
   ],
   "source": [
    "new_model = learn(22, 1000, 300)"
   ]
  },
  {
   "cell_type": "code",
   "execution_count": 226,
   "metadata": {},
   "outputs": [
    {
     "name": "stdout",
     "output_type": "stream",
     "text": [
      "Data is ready\n",
      "best model hidden size: 100\n",
      "0.038838741693066066\n",
      "159.08731803590248\n"
     ]
    }
   ],
   "source": [
    "new_model = learn(22, 1000, 350)"
   ]
  },
  {
   "cell_type": "code",
   "execution_count": 58,
   "metadata": {},
   "outputs": [
    {
     "name": "stdout",
     "output_type": "stream",
     "text": [
      "Data is ready\n",
      "best model hidden size: 250\n",
      "0.3966723314508273\n",
      "252.2313253931686\n"
     ]
    }
   ],
   "source": [
    "new_model = learn(22, 1000, 400)"
   ]
  },
  {
   "cell_type": "code",
   "execution_count": 228,
   "metadata": {},
   "outputs": [
    {
     "name": "stdout",
     "output_type": "stream",
     "text": [
      "Data is ready\n",
      "best model hidden size: 100\n",
      "0.021129950683135834\n",
      "59.16241110282127\n"
     ]
    }
   ],
   "source": [
    "new_model = learn(22, 1000, 450)"
   ]
  },
  {
   "cell_type": "code",
   "execution_count": 229,
   "metadata": {},
   "outputs": [
    {
     "name": "stdout",
     "output_type": "stream",
     "text": [
      "Data is ready\n",
      "best model hidden size: 300\n",
      "0.0191807900558035\n",
      "155.00699023173544\n"
     ]
    }
   ],
   "source": [
    "new_model = learn(22, 1000, 500)"
   ]
  },
  {
   "cell_type": "code",
   "execution_count": 230,
   "metadata": {},
   "outputs": [
    {
     "name": "stdout",
     "output_type": "stream",
     "text": [
      "Data is ready\n",
      "best model hidden size: 300\n",
      "0.014133060155918089\n",
      "12.901376278387845\n"
     ]
    }
   ],
   "source": [
    "new_model = learn(22, 1000, 550)"
   ]
  },
  {
   "cell_type": "code",
   "execution_count": 231,
   "metadata": {},
   "outputs": [
    {
     "name": "stdout",
     "output_type": "stream",
     "text": [
      "Data is ready\n",
      "best model hidden size: 300\n",
      "0.3693775320804962\n",
      "287.25246982691124\n"
     ]
    }
   ],
   "source": [
    "new_model = learn(22, 1000, 600)"
   ]
  },
  {
   "cell_type": "code",
   "execution_count": 232,
   "metadata": {},
   "outputs": [
    {
     "name": "stdout",
     "output_type": "stream",
     "text": [
      "Data is ready\n",
      "best model hidden size: 250\n",
      "0.025816668527276744\n",
      "23.93767646721396\n"
     ]
    }
   ],
   "source": [
    "new_model = learn(22, 1000, 650)"
   ]
  },
  {
   "cell_type": "code",
   "execution_count": 233,
   "metadata": {},
   "outputs": [
    {
     "name": "stdout",
     "output_type": "stream",
     "text": [
      "Data is ready\n",
      "best model hidden size: 250\n",
      "0.015570552685085889\n",
      "17.65191231969109\n"
     ]
    }
   ],
   "source": [
    "new_model = learn(22, 1000, 700)"
   ]
  },
  {
   "cell_type": "markdown",
   "metadata": {},
   "source": [
    "# 1.5s"
   ]
  },
  {
   "cell_type": "code",
   "execution_count": 234,
   "metadata": {},
   "outputs": [
    {
     "name": "stdout",
     "output_type": "stream",
     "text": [
      "Data is ready\n",
      "best model hidden size: 300\n",
      "0.008054145959138198\n",
      "27.74338500376912\n"
     ]
    }
   ],
   "source": [
    "new_model = learn(141, 1500, 50)"
   ]
  },
  {
   "cell_type": "code",
   "execution_count": 235,
   "metadata": {},
   "outputs": [
    {
     "name": "stdout",
     "output_type": "stream",
     "text": [
      "Data is ready\n",
      "best model hidden size: 250\n",
      "0.0026519796952699016\n",
      "13.409269598047986\n"
     ]
    }
   ],
   "source": [
    "new_model = learn(141, 1500, 100)"
   ]
  },
  {
   "cell_type": "code",
   "execution_count": 236,
   "metadata": {},
   "outputs": [
    {
     "name": "stdout",
     "output_type": "stream",
     "text": [
      "Data is ready\n",
      "best model hidden size: 50\n",
      "0.004265092969733348\n",
      "22.54378391311932\n"
     ]
    }
   ],
   "source": [
    "new_model = learn(141, 1500, 150)"
   ]
  },
  {
   "cell_type": "code",
   "execution_count": 237,
   "metadata": {},
   "outputs": [
    {
     "name": "stdout",
     "output_type": "stream",
     "text": [
      "Data is ready\n",
      "best model hidden size: 250\n",
      "0.005267968275355583\n",
      "38.316857488028894\n"
     ]
    }
   ],
   "source": [
    "new_model = learn(141, 1500, 200)"
   ]
  },
  {
   "cell_type": "code",
   "execution_count": 238,
   "metadata": {},
   "outputs": [
    {
     "name": "stdout",
     "output_type": "stream",
     "text": [
      "Data is ready\n",
      "best model hidden size: 50\n",
      "0.0032155518277116606\n",
      "27.194124354491453\n"
     ]
    }
   ],
   "source": [
    "new_model = learn(141, 1500, 250)"
   ]
  },
  {
   "cell_type": "code",
   "execution_count": 239,
   "metadata": {},
   "outputs": [
    {
     "name": "stdout",
     "output_type": "stream",
     "text": [
      "Data is ready\n",
      "best model hidden size: 100\n",
      "0.0037199348559186465\n",
      "30.019917460407534\n"
     ]
    }
   ],
   "source": [
    "new_model = learn(141, 1500, 300)"
   ]
  },
  {
   "cell_type": "code",
   "execution_count": 36,
   "metadata": {},
   "outputs": [
    {
     "name": "stdout",
     "output_type": "stream",
     "text": [
      "Data is ready\n",
      "best model hidden size: 100\n",
      "0.0021045707079640863\n",
      "22.22222436222327\n"
     ]
    }
   ],
   "source": [
    "new_model = learn(141, 1500, 350)"
   ]
  },
  {
   "cell_type": "code",
   "execution_count": 241,
   "metadata": {},
   "outputs": [
    {
     "name": "stdout",
     "output_type": "stream",
     "text": [
      "Data is ready\n",
      "best model hidden size: 50\n",
      "0.00833392862094285\n",
      "50.16539361932614\n"
     ]
    }
   ],
   "source": [
    "new_model = learn(141, 1500, 400)"
   ]
  },
  {
   "cell_type": "code",
   "execution_count": 242,
   "metadata": {},
   "outputs": [
    {
     "name": "stdout",
     "output_type": "stream",
     "text": [
      "Data is ready\n",
      "best model hidden size: 50\n",
      "0.002698880564950367\n",
      "25.259220250595227\n"
     ]
    }
   ],
   "source": [
    "new_model = learn(141, 1500, 450)"
   ]
  },
  {
   "cell_type": "code",
   "execution_count": 243,
   "metadata": {},
   "outputs": [
    {
     "name": "stdout",
     "output_type": "stream",
     "text": [
      "Data is ready\n",
      "best model hidden size: 100\n",
      "0.0023564532436898197\n",
      "33.461373854118044\n"
     ]
    }
   ],
   "source": [
    "new_model = learn(141, 1500, 500)"
   ]
  },
  {
   "cell_type": "code",
   "execution_count": 244,
   "metadata": {},
   "outputs": [
    {
     "name": "stdout",
     "output_type": "stream",
     "text": [
      "Data is ready\n",
      "best model hidden size: 50\n",
      "0.0026695085933389766\n",
      "34.065141584917484\n"
     ]
    }
   ],
   "source": [
    "new_model = learn(141, 1500, 550)"
   ]
  },
  {
   "cell_type": "code",
   "execution_count": 245,
   "metadata": {},
   "outputs": [
    {
     "name": "stdout",
     "output_type": "stream",
     "text": [
      "Data is ready\n",
      "best model hidden size: 300\n",
      "0.016496605523214313\n",
      "104.1126326937266\n"
     ]
    }
   ],
   "source": [
    "new_model = learn(141, 1500, 600)"
   ]
  },
  {
   "cell_type": "code",
   "execution_count": 246,
   "metadata": {},
   "outputs": [
    {
     "name": "stdout",
     "output_type": "stream",
     "text": [
      "Data is ready\n",
      "best model hidden size: 50\n",
      "1.802148770163675e-05\n",
      "0.1308913552397698\n"
     ]
    }
   ],
   "source": [
    "new_model = learn(141, 1500, 650)"
   ]
  },
  {
   "cell_type": "code",
   "execution_count": 247,
   "metadata": {},
   "outputs": [
    {
     "name": "stdout",
     "output_type": "stream",
     "text": [
      "Data is ready\n",
      "best model hidden size: 50\n",
      "0.0006799881906174894\n",
      "5.59064380371526\n"
     ]
    }
   ],
   "source": [
    "new_model = learn(141, 1500, 700)"
   ]
  },
  {
   "cell_type": "markdown",
   "metadata": {},
   "source": [
    "# 2s"
   ]
  },
  {
   "cell_type": "code",
   "execution_count": 248,
   "metadata": {},
   "outputs": [
    {
     "name": "stdout",
     "output_type": "stream",
     "text": [
      "Data is ready\n",
      "best model hidden size: 250\n",
      "0.02208680503695614\n",
      "11.308637939217443\n"
     ]
    }
   ],
   "source": [
    "new_model = learn(902, 2000, 50)"
   ]
  },
  {
   "cell_type": "code",
   "execution_count": 249,
   "metadata": {},
   "outputs": [
    {
     "name": "stdout",
     "output_type": "stream",
     "text": [
      "Data is ready\n",
      "best model hidden size: 250\n",
      "0.005220648180175407\n",
      "7.463887114517538\n"
     ]
    }
   ],
   "source": [
    "new_model = learn(902, 2000, 100)"
   ]
  },
  {
   "cell_type": "code",
   "execution_count": 250,
   "metadata": {},
   "outputs": [
    {
     "name": "stdout",
     "output_type": "stream",
     "text": [
      "Data is ready\n",
      "best model hidden size: 100\n",
      "0.008272007281504339\n",
      "8.00635728855444\n"
     ]
    }
   ],
   "source": [
    "new_model = learn(902, 2000, 150)"
   ]
  },
  {
   "cell_type": "code",
   "execution_count": 251,
   "metadata": {},
   "outputs": [
    {
     "name": "stdout",
     "output_type": "stream",
     "text": [
      "Data is ready\n",
      "best model hidden size: 200\n",
      "0.00488527100377845\n",
      "5.589294918183363\n"
     ]
    }
   ],
   "source": [
    "new_model = learn(902, 2000, 200)"
   ]
  },
  {
   "cell_type": "code",
   "execution_count": 252,
   "metadata": {},
   "outputs": [
    {
     "name": "stdout",
     "output_type": "stream",
     "text": [
      "Data is ready\n",
      "best model hidden size: 50\n",
      "0.008137597799661596\n",
      "8.70908655070027\n"
     ]
    }
   ],
   "source": [
    "new_model = learn(902, 2000, 250)"
   ]
  },
  {
   "cell_type": "code",
   "execution_count": 253,
   "metadata": {},
   "outputs": [
    {
     "name": "stdout",
     "output_type": "stream",
     "text": [
      "Data is ready\n",
      "best model hidden size: 100\n",
      "0.003873046104087469\n",
      "6.073010706349245\n"
     ]
    }
   ],
   "source": [
    "new_model = learn(902, 2000, 300)"
   ]
  },
  {
   "cell_type": "code",
   "execution_count": 254,
   "metadata": {},
   "outputs": [
    {
     "name": "stdout",
     "output_type": "stream",
     "text": [
      "Data is ready\n",
      "best model hidden size: 200\n",
      "0.004128642713897277\n",
      "4.6236260931490385\n"
     ]
    }
   ],
   "source": [
    "new_model = learn(902, 2000, 350)"
   ]
  },
  {
   "cell_type": "code",
   "execution_count": 255,
   "metadata": {},
   "outputs": [
    {
     "name": "stdout",
     "output_type": "stream",
     "text": [
      "Data is ready\n",
      "best model hidden size: 100\n",
      "0.0034128087116235615\n",
      "7.485356019153323\n"
     ]
    }
   ],
   "source": [
    "new_model = learn(902, 2000, 400)"
   ]
  },
  {
   "cell_type": "code",
   "execution_count": 256,
   "metadata": {},
   "outputs": [
    {
     "name": "stdout",
     "output_type": "stream",
     "text": [
      "Data is ready\n",
      "best model hidden size: 200\n",
      "0.005008118650089709\n",
      "6.602140775327648\n"
     ]
    }
   ],
   "source": [
    "new_model = learn(902, 2000, 450)"
   ]
  },
  {
   "cell_type": "code",
   "execution_count": 257,
   "metadata": {},
   "outputs": [
    {
     "name": "stdout",
     "output_type": "stream",
     "text": [
      "Data is ready\n",
      "best model hidden size: 50\n",
      "0.003013473838466168\n",
      "7.087870104040411\n"
     ]
    }
   ],
   "source": [
    "new_model = learn(902, 2000, 500)"
   ]
  },
  {
   "cell_type": "code",
   "execution_count": 258,
   "metadata": {},
   "outputs": [
    {
     "name": "stdout",
     "output_type": "stream",
     "text": [
      "Data is ready\n",
      "best model hidden size: 100\n",
      "0.0034507939759488675\n",
      "8.04428778066417\n"
     ]
    }
   ],
   "source": [
    "new_model = learn(902, 2000, 550)"
   ]
  },
  {
   "cell_type": "code",
   "execution_count": 259,
   "metadata": {},
   "outputs": [
    {
     "name": "stdout",
     "output_type": "stream",
     "text": [
      "Data is ready\n",
      "best model hidden size: 50\n",
      "0.0049802128578223534\n",
      "6.831696027391249\n"
     ]
    }
   ],
   "source": [
    "new_model = learn(902, 2000, 600)"
   ]
  },
  {
   "cell_type": "code",
   "execution_count": 260,
   "metadata": {},
   "outputs": [
    {
     "name": "stdout",
     "output_type": "stream",
     "text": [
      "Data is ready\n",
      "best model hidden size: 50\n",
      "0.0021391777230846654\n",
      "3.763664921440388\n"
     ]
    }
   ],
   "source": [
    "new_model = learn(902, 2000, 650)"
   ]
  },
  {
   "cell_type": "code",
   "execution_count": 261,
   "metadata": {},
   "outputs": [
    {
     "name": "stdout",
     "output_type": "stream",
     "text": [
      "Data is ready\n",
      "best model hidden size: 50\n",
      "0.00284890176089696\n",
      "5.876460975034966\n"
     ]
    }
   ],
   "source": [
    "new_model = learn(902, 2000, 700)"
   ]
  },
  {
   "cell_type": "code",
   "execution_count": 262,
   "metadata": {},
   "outputs": [
    {
     "name": "stdout",
     "output_type": "stream",
     "text": [
      "Data is ready\n",
      "best model hidden size: 50\n",
      "0.004477039117829672\n",
      "11.887734419608671\n"
     ]
    }
   ],
   "source": [
    "new_model = learn(902, 2000, 750)"
   ]
  },
  {
   "cell_type": "code",
   "execution_count": 263,
   "metadata": {},
   "outputs": [
    {
     "name": "stdout",
     "output_type": "stream",
     "text": [
      "Data is ready\n",
      "best model hidden size: 100\n",
      "0.00328818609171318\n",
      "7.280287827237149\n"
     ]
    }
   ],
   "source": [
    "new_model = learn(902, 2000, 800)"
   ]
  },
  {
   "cell_type": "code",
   "execution_count": 264,
   "metadata": {},
   "outputs": [
    {
     "name": "stdout",
     "output_type": "stream",
     "text": [
      "Data is ready\n",
      "best model hidden size: 50\n",
      "0.0012205803531695366\n",
      "4.6542359537636075\n"
     ]
    }
   ],
   "source": [
    "new_model = learn(902, 2000, 850)"
   ]
  },
  {
   "cell_type": "code",
   "execution_count": 265,
   "metadata": {},
   "outputs": [
    {
     "name": "stdout",
     "output_type": "stream",
     "text": [
      "Data is ready\n",
      "best model hidden size: 50\n",
      "0.0020629709277501167\n",
      "4.096174545340053\n"
     ]
    }
   ],
   "source": [
    "new_model = learn(902, 2000, 900)"
   ]
  },
  {
   "cell_type": "code",
   "execution_count": 266,
   "metadata": {},
   "outputs": [
    {
     "name": "stdout",
     "output_type": "stream",
     "text": [
      "Data is ready\n",
      "best model hidden size: 100\n",
      "0.0020751451930455717\n",
      "5.185283239593383\n"
     ]
    }
   ],
   "source": [
    "new_model = learn(902, 2000, 950)"
   ]
  },
  {
   "cell_type": "code",
   "execution_count": 267,
   "metadata": {},
   "outputs": [
    {
     "name": "stdout",
     "output_type": "stream",
     "text": [
      "Data is ready\n",
      "best model hidden size: 50\n",
      "0.009025376821136816\n",
      "18.64384591159633\n"
     ]
    }
   ],
   "source": [
    "new_model = learn(902, 2000, 1000)"
   ]
  },
  {
   "cell_type": "markdown",
   "metadata": {},
   "source": [
    "# 5s"
   ]
  },
  {
   "cell_type": "code",
   "execution_count": 268,
   "metadata": {},
   "outputs": [
    {
     "name": "stdout",
     "output_type": "stream",
     "text": [
      "Data is ready\n",
      "best model hidden size: 300\n",
      "0.018264583839033344\n",
      "53.83521189377849\n"
     ]
    }
   ],
   "source": [
    "new_model = learn(19, 5000, 50)"
   ]
  },
  {
   "cell_type": "code",
   "execution_count": 269,
   "metadata": {},
   "outputs": [
    {
     "name": "stdout",
     "output_type": "stream",
     "text": [
      "Data is ready\n",
      "best model hidden size: 100\n",
      "0.009865470370167616\n",
      "39.98896335714709\n"
     ]
    }
   ],
   "source": [
    "new_model = learn(19, 5000, 100)"
   ]
  },
  {
   "cell_type": "code",
   "execution_count": 270,
   "metadata": {},
   "outputs": [
    {
     "name": "stdout",
     "output_type": "stream",
     "text": [
      "Data is ready\n",
      "best model hidden size: 100\n",
      "0.008084530917878436\n",
      "30.417174367197063\n"
     ]
    }
   ],
   "source": [
    "new_model = learn(19, 5000, 150)"
   ]
  },
  {
   "cell_type": "code",
   "execution_count": 271,
   "metadata": {},
   "outputs": [
    {
     "name": "stdout",
     "output_type": "stream",
     "text": [
      "Data is ready\n",
      "best model hidden size: 250\n",
      "0.007304477014139014\n",
      "29.233109726527935\n"
     ]
    }
   ],
   "source": [
    "new_model = learn(19, 5000, 200)"
   ]
  },
  {
   "cell_type": "code",
   "execution_count": 272,
   "metadata": {},
   "outputs": [
    {
     "name": "stdout",
     "output_type": "stream",
     "text": [
      "Data is ready\n",
      "best model hidden size: 100\n",
      "0.0045375279184582335\n",
      "28.85223375725586\n"
     ]
    }
   ],
   "source": [
    "new_model = learn(19, 5000, 250)"
   ]
  },
  {
   "cell_type": "code",
   "execution_count": 273,
   "metadata": {},
   "outputs": [
    {
     "name": "stdout",
     "output_type": "stream",
     "text": [
      "Data is ready\n",
      "best model hidden size: 50\n",
      "0.005812659955113731\n",
      "33.42670973390308\n"
     ]
    }
   ],
   "source": [
    "new_model = learn(19, 5000, 300)"
   ]
  },
  {
   "cell_type": "code",
   "execution_count": 274,
   "metadata": {},
   "outputs": [
    {
     "name": "stdout",
     "output_type": "stream",
     "text": [
      "Data is ready\n",
      "best model hidden size: 50\n",
      "0.0042342616667356845\n",
      "25.05698708937745\n"
     ]
    }
   ],
   "source": [
    "new_model = learn(19, 5000, 350)"
   ]
  },
  {
   "cell_type": "code",
   "execution_count": 275,
   "metadata": {},
   "outputs": [
    {
     "name": "stdout",
     "output_type": "stream",
     "text": [
      "Data is ready\n",
      "best model hidden size: 50\n",
      "0.004966593505159717\n",
      "25.195573474686334\n"
     ]
    }
   ],
   "source": [
    "new_model = learn(19, 5000, 400)"
   ]
  },
  {
   "cell_type": "code",
   "execution_count": 276,
   "metadata": {},
   "outputs": [
    {
     "name": "stdout",
     "output_type": "stream",
     "text": [
      "Data is ready\n",
      "best model hidden size: 50\n",
      "0.004690037491089644\n",
      "22.896979478139905\n"
     ]
    }
   ],
   "source": [
    "new_model = learn(19, 5000, 450)"
   ]
  },
  {
   "cell_type": "code",
   "execution_count": 277,
   "metadata": {},
   "outputs": [
    {
     "name": "stdout",
     "output_type": "stream",
     "text": [
      "Data is ready\n",
      "best model hidden size: 50\n",
      "0.0034818699252313415\n",
      "22.4764451228531\n"
     ]
    }
   ],
   "source": [
    "new_model = learn(19, 5000, 500)"
   ]
  },
  {
   "cell_type": "code",
   "execution_count": 278,
   "metadata": {},
   "outputs": [
    {
     "name": "stdout",
     "output_type": "stream",
     "text": [
      "Data is ready\n",
      "best model hidden size: 100\n",
      "0.017888700437577836\n",
      "148.79499682896923\n"
     ]
    }
   ],
   "source": [
    "new_model = learn(19, 5000, 550)"
   ]
  },
  {
   "cell_type": "code",
   "execution_count": 279,
   "metadata": {},
   "outputs": [
    {
     "name": "stdout",
     "output_type": "stream",
     "text": [
      "Data is ready\n",
      "best model hidden size: 50\n",
      "0.016256399960408494\n",
      "118.40379256828538\n"
     ]
    }
   ],
   "source": [
    "new_model = learn(19, 5000, 600)"
   ]
  },
  {
   "cell_type": "code",
   "execution_count": 280,
   "metadata": {},
   "outputs": [
    {
     "name": "stdout",
     "output_type": "stream",
     "text": [
      "Data is ready\n",
      "best model hidden size: 50\n",
      "0.0034210518134481817\n",
      "17.684857069650583\n"
     ]
    }
   ],
   "source": [
    "new_model = learn(19, 5000, 650)"
   ]
  },
  {
   "cell_type": "code",
   "execution_count": 281,
   "metadata": {},
   "outputs": [
    {
     "name": "stdout",
     "output_type": "stream",
     "text": [
      "Data is ready\n",
      "best model hidden size: 50\n",
      "0.013979941563488167\n",
      "102.45275857394832\n"
     ]
    }
   ],
   "source": [
    "new_model = learn(19, 5000, 700)"
   ]
  },
  {
   "cell_type": "code",
   "execution_count": 282,
   "metadata": {},
   "outputs": [
    {
     "name": "stdout",
     "output_type": "stream",
     "text": [
      "Data is ready\n",
      "best model hidden size: 50\n",
      "0.005693564401521202\n",
      "37.89982989819058\n"
     ]
    }
   ],
   "source": [
    "new_model = learn(19, 5000, 750)"
   ]
  },
  {
   "cell_type": "code",
   "execution_count": 283,
   "metadata": {},
   "outputs": [
    {
     "name": "stdout",
     "output_type": "stream",
     "text": [
      "Data is ready\n",
      "best model hidden size: 100\n",
      "0.012340077292594898\n",
      "139.777973554717\n"
     ]
    }
   ],
   "source": [
    "new_model = learn(19, 5000, 800)"
   ]
  },
  {
   "cell_type": "code",
   "execution_count": 284,
   "metadata": {},
   "outputs": [
    {
     "name": "stdout",
     "output_type": "stream",
     "text": [
      "Data is ready\n",
      "best model hidden size: 50\n",
      "0.008862838158347838\n",
      "39.41388066832807\n"
     ]
    }
   ],
   "source": [
    "new_model = learn(19, 5000, 850)"
   ]
  },
  {
   "cell_type": "code",
   "execution_count": 285,
   "metadata": {},
   "outputs": [
    {
     "name": "stdout",
     "output_type": "stream",
     "text": [
      "Data is ready\n",
      "best model hidden size: 50\n",
      "0.0022279822722527766\n",
      "18.98921387933384\n"
     ]
    }
   ],
   "source": [
    "new_model = learn(19, 5000, 900)"
   ]
  },
  {
   "cell_type": "code",
   "execution_count": 286,
   "metadata": {},
   "outputs": [
    {
     "name": "stdout",
     "output_type": "stream",
     "text": [
      "Data is ready\n",
      "best model hidden size: 50\n",
      "0.001384044693793202\n",
      "22.852187029512574\n"
     ]
    }
   ],
   "source": [
    "new_model = learn(19, 5000, 950)"
   ]
  },
  {
   "cell_type": "code",
   "execution_count": 287,
   "metadata": {},
   "outputs": [
    {
     "name": "stdout",
     "output_type": "stream",
     "text": [
      "Data is ready\n",
      "best model hidden size: 50\n",
      "0.009815506084718107\n",
      "117.11642641141019\n"
     ]
    }
   ],
   "source": [
    "new_model = learn(19, 5000, 1000)"
   ]
  },
  {
   "cell_type": "markdown",
   "metadata": {},
   "source": [
    "# 15s"
   ]
  },
  {
   "cell_type": "code",
   "execution_count": 288,
   "metadata": {},
   "outputs": [
    {
     "name": "stdout",
     "output_type": "stream",
     "text": [
      "Data is ready\n",
      "best model hidden size: 300\n",
      "0.02754968006727709\n",
      "52.50165668769412\n"
     ]
    }
   ],
   "source": [
    "new_model = learn(20, 15000, 50)"
   ]
  },
  {
   "cell_type": "code",
   "execution_count": 289,
   "metadata": {},
   "outputs": [
    {
     "name": "stdout",
     "output_type": "stream",
     "text": [
      "Data is ready\n",
      "best model hidden size: 200\n",
      "0.02558766858311854\n",
      "74.09988936325314\n"
     ]
    }
   ],
   "source": [
    "new_model = learn(20, 15000, 100)"
   ]
  },
  {
   "cell_type": "code",
   "execution_count": 290,
   "metadata": {},
   "outputs": [
    {
     "name": "stdout",
     "output_type": "stream",
     "text": [
      "Data is ready\n",
      "best model hidden size: 100\n",
      "0.017889204203802172\n",
      "51.70425516634007\n"
     ]
    }
   ],
   "source": [
    "new_model = learn(20, 15000, 150)"
   ]
  },
  {
   "cell_type": "code",
   "execution_count": 291,
   "metadata": {},
   "outputs": [
    {
     "name": "stdout",
     "output_type": "stream",
     "text": [
      "Data is ready\n",
      "best model hidden size: 200\n",
      "0.013532937156294767\n",
      "50.021623935487085\n"
     ]
    }
   ],
   "source": [
    "new_model = learn(20, 15000, 200)"
   ]
  },
  {
   "cell_type": "code",
   "execution_count": 292,
   "metadata": {},
   "outputs": [
    {
     "name": "stdout",
     "output_type": "stream",
     "text": [
      "Data is ready\n",
      "best model hidden size: 100\n",
      "0.008325647158308039\n",
      "29.044510803712356\n"
     ]
    }
   ],
   "source": [
    "new_model = learn(20, 15000, 250)"
   ]
  },
  {
   "cell_type": "code",
   "execution_count": 293,
   "metadata": {},
   "outputs": [
    {
     "name": "stdout",
     "output_type": "stream",
     "text": [
      "Data is ready\n",
      "best model hidden size: 50\n",
      "0.010130710885423841\n",
      "36.838812613763785\n"
     ]
    }
   ],
   "source": [
    "new_model = learn(20, 15000, 300)"
   ]
  },
  {
   "cell_type": "code",
   "execution_count": 294,
   "metadata": {},
   "outputs": [
    {
     "name": "stdout",
     "output_type": "stream",
     "text": [
      "Data is ready\n",
      "best model hidden size: 50\n",
      "0.006727597541685623\n",
      "33.576452122496434\n"
     ]
    }
   ],
   "source": [
    "new_model = learn(20, 15000, 350)"
   ]
  },
  {
   "cell_type": "code",
   "execution_count": 295,
   "metadata": {},
   "outputs": [
    {
     "name": "stdout",
     "output_type": "stream",
     "text": [
      "Data is ready\n",
      "best model hidden size: 50\n",
      "0.008501593311913257\n",
      "37.10462889152316\n"
     ]
    }
   ],
   "source": [
    "new_model = learn(20, 15000, 400)"
   ]
  },
  {
   "cell_type": "code",
   "execution_count": 296,
   "metadata": {},
   "outputs": [
    {
     "name": "stdout",
     "output_type": "stream",
     "text": [
      "Data is ready\n",
      "best model hidden size: 50\n",
      "0.008350403469843141\n",
      "28.8237178051841\n"
     ]
    }
   ],
   "source": [
    "new_model = learn(20, 15000, 450)"
   ]
  },
  {
   "cell_type": "code",
   "execution_count": 297,
   "metadata": {},
   "outputs": [
    {
     "name": "stdout",
     "output_type": "stream",
     "text": [
      "Data is ready\n",
      "best model hidden size: 50\n",
      "0.007091412831785291\n",
      "39.04830640680348\n"
     ]
    }
   ],
   "source": [
    "new_model = learn(20, 15000, 500)"
   ]
  },
  {
   "cell_type": "code",
   "execution_count": 298,
   "metadata": {},
   "outputs": [
    {
     "name": "stdout",
     "output_type": "stream",
     "text": [
      "Data is ready\n",
      "best model hidden size: 50\n",
      "0.01715689845882255\n",
      "65.32104168991043\n"
     ]
    }
   ],
   "source": [
    "new_model = learn(20, 15000, 550)"
   ]
  },
  {
   "cell_type": "code",
   "execution_count": 299,
   "metadata": {},
   "outputs": [
    {
     "name": "stdout",
     "output_type": "stream",
     "text": [
      "Data is ready\n",
      "best model hidden size: 50\n",
      "0.016222624612120973\n",
      "71.8805637510387\n"
     ]
    }
   ],
   "source": [
    "new_model = learn(20, 15000, 600)"
   ]
  },
  {
   "cell_type": "code",
   "execution_count": 300,
   "metadata": {},
   "outputs": [
    {
     "name": "stdout",
     "output_type": "stream",
     "text": [
      "Data is ready\n",
      "best model hidden size: 50\n",
      "0.006498807846175997\n",
      "31.224496374110796\n"
     ]
    }
   ],
   "source": [
    "new_model = learn(20, 15000, 650)"
   ]
  },
  {
   "cell_type": "code",
   "execution_count": 301,
   "metadata": {},
   "outputs": [
    {
     "name": "stdout",
     "output_type": "stream",
     "text": [
      "Data is ready\n",
      "best model hidden size: 50\n",
      "0.013866597656036253\n",
      "61.464047743299325\n"
     ]
    }
   ],
   "source": [
    "new_model = learn(20, 15000, 700)"
   ]
  },
  {
   "cell_type": "code",
   "execution_count": 302,
   "metadata": {},
   "outputs": [
    {
     "name": "stdout",
     "output_type": "stream",
     "text": [
      "Data is ready\n",
      "best model hidden size: 50\n",
      "0.0130441457447155\n",
      "76.85451830963378\n"
     ]
    }
   ],
   "source": [
    "new_model = learn(20, 15000, 750)"
   ]
  },
  {
   "cell_type": "code",
   "execution_count": 303,
   "metadata": {},
   "outputs": [
    {
     "name": "stdout",
     "output_type": "stream",
     "text": [
      "Data is ready\n",
      "best model hidden size: 50\n",
      "0.0019576462124694764\n",
      "12.248898956074271\n"
     ]
    }
   ],
   "source": [
    "new_model = learn(20, 15000, 800)"
   ]
  },
  {
   "cell_type": "code",
   "execution_count": 304,
   "metadata": {},
   "outputs": [
    {
     "name": "stdout",
     "output_type": "stream",
     "text": [
      "Data is ready\n",
      "best model hidden size: 50\n",
      "0.011482915287106037\n",
      "66.64845709460769\n"
     ]
    }
   ],
   "source": [
    "new_model = learn(20, 15000, 850)"
   ]
  },
  {
   "cell_type": "code",
   "execution_count": 305,
   "metadata": {},
   "outputs": [
    {
     "name": "stdout",
     "output_type": "stream",
     "text": [
      "Data is ready\n",
      "best model hidden size: 100\n",
      "0.010878701264642937\n",
      "59.231134996900394\n"
     ]
    }
   ],
   "source": [
    "new_model = learn(20, 15000, 900)"
   ]
  },
  {
   "cell_type": "code",
   "execution_count": 306,
   "metadata": {},
   "outputs": [
    {
     "name": "stdout",
     "output_type": "stream",
     "text": [
      "Data is ready\n",
      "best model hidden size: 50\n",
      "0.010338349396011587\n",
      "81.71214518899433\n"
     ]
    }
   ],
   "source": [
    "new_model = learn(20, 15000, 950)"
   ]
  },
  {
   "cell_type": "code",
   "execution_count": 307,
   "metadata": {},
   "outputs": [
    {
     "name": "stdout",
     "output_type": "stream",
     "text": [
      "Data is ready\n",
      "best model hidden size: 100\n",
      "0.00981264728180649\n",
      "78.7566590558633\n"
     ]
    }
   ],
   "source": [
    "new_model = learn(20, 15000, 1000)"
   ]
  },
  {
   "cell_type": "code",
   "execution_count": null,
   "metadata": {},
   "outputs": [],
   "source": []
  },
  {
   "cell_type": "code",
   "execution_count": null,
   "metadata": {},
   "outputs": [],
   "source": []
  },
  {
   "cell_type": "code",
   "execution_count": null,
   "metadata": {},
   "outputs": [],
   "source": []
  },
  {
   "cell_type": "code",
   "execution_count": 62,
   "metadata": {},
   "outputs": [
    {
     "name": "stdout",
     "output_type": "stream",
     "text": [
      "Data is ready\n",
      "best model hidden size: 50\n",
      "0.01713400033149618\n",
      "11.283920310211439\n"
     ]
    }
   ],
   "source": [
    "num = [str(i) for i in range(22)]\n",
    "p1 = [read_csv('ics_data_preprocessed/06_Smart_Meter_45/P1/1000/' + n + '.csv', squeeze=True, parse_dates=['ts'], index_col='ts') for n in num]\n",
    "    \n",
    "p1 = [prepare_data(df, 250) for df in p1]\n",
    "p1 = sum(p1, [])\n",
    "p1 = [df.values.tolist() for df in p1]\n",
    "    \n",
    "train, test = train_test_split(p1, test_size=0.2, random_state=42)\n",
    "train_data_normalized = train\n",
    "test_data_normalized = test\n",
    "    \n",
    "train_data, val_data = train_test_split(train_data_normalized, test_size=0.15, random_state=42)\n",
    "train_data = torch.FloatTensor(train_data)\n",
    "val_data = torch.FloatTensor(val_data)\n",
    "test_data = torch.FloatTensor(test_data_normalized)\n",
    "    \n",
    "X_train = train_data[:, :-10]\n",
    "y_train = train_data[:, -10:]\n",
    "X_val = val_data[:, :-10]\n",
    "y_val = val_data[:, -10:]\n",
    "X_test = test_data[:, :-10]\n",
    "y_test = test_data[:, -10:]\n",
    "    \n",
    "print(\"Data is ready\")\n",
    "    \n",
    "loss_function = nn.MSELoss()\n",
    "    \n",
    "val_losses = []\n",
    "    \n",
    "best_hidden_layer_size = 50\n",
    "    \n",
    "\n",
    "losses = []\n",
    "        \n",
    "    \n",
    "best_model = BPNN(250 - 10, best_hidden_layer_size)\n",
    "model = BPNN(250 - 10, best_hidden_layer_size)\n",
    "optimizer = torch.optim.Adam(model.parameters(), lr=0.2)\n",
    "    \n",
    "epochs = 1000\n",
    "    \n",
    "for i in range(epochs):\n",
    "    model.train()\n",
    "            \n",
    "    optimizer.zero_grad()\n",
    "            \n",
    "    y_pred = model(X_train)\n",
    "    single_loss = loss_function(y_pred, y_train)\n",
    "    losses.append(single_loss)\n",
    "            \n",
    "    single_loss.backward()\n",
    "    optimizer.step()\n",
    "            \n",
    "            \n",
    "    model.eval()\n",
    "\n",
    "    with torch.no_grad():\n",
    "        y_pred = model(X_val)\n",
    "\n",
    "        single_loss = loss_function(y_pred, y_val)\n",
    "\n",
    "        if (len(val_losses) == 0) or (single_loss < min(val_losses)):\n",
    "\n",
    "            best_model = model\n",
    "                \n",
    "        val_losses.append(single_loss)\n",
    "\n",
    "    \n",
    "print(\"best model hidden size:\", best_hidden_layer_size)\n",
    "    \n",
    "predictions = []\n",
    "best_model.eval()\n",
    "with torch.no_grad():\n",
    "    predictions = [best_model(seq) for (seq, labels) in zip(X_test, y_test)]\n",
    "pred = [torch.cat((i, j)) for (i, j) in zip(X_test, predictions)]\n",
    "actual_predictions = np.array([np.array(i) for i in pred])\n",
    "mape = [np.mean(np.abs(actual_predictions[i] - test[i])/np.abs(test[i])) for i in range(len(test))]\n",
    "print(sum(mape) / len(mape))\n",
    "rmse = [np.mean((actual_predictions[i] - test[i])**2)**.5 for i in range(len(test))]\n",
    "print(sum(rmse) / len(rmse))"
   ]
  },
  {
   "cell_type": "code",
   "execution_count": 37,
   "metadata": {},
   "outputs": [
    {
     "name": "stdout",
     "output_type": "stream",
     "text": [
      "0.0021045707079640863\n",
      "22.22222436222327\n"
     ]
    }
   ],
   "source": [
    "predictions = []\n",
    "new_model.eval()\n",
    "with torch.no_grad():\n",
    "    predictions = [new_model(seq) for (seq, labels) in zip(X_test, y_test)]\n",
    "pred = [torch.cat((i, j)) for (i, j) in zip(X_test, predictions)]\n",
    "actual_predictions = np.array([np.array(i) for i in pred])\n",
    "mape = [np.mean(np.abs(actual_predictions[i] - test[i])/np.abs(test[i])) for i in range(len(test))]\n",
    "print(sum(mape) / len(mape))\n",
    "rmse = [np.mean((actual_predictions[i] - test[i])**2)**.5 for i in range(len(test))]\n",
    "print(sum(rmse) / len(rmse))"
   ]
  },
  {
   "cell_type": "code",
   "execution_count": 38,
   "metadata": {},
   "outputs": [
    {
     "data": {
      "text/plain": [
       "array([[ 814.42   ,  809.905  ,  810.765  , ...,  756.8136 ,  753.07874,\n",
       "         748.08624],\n",
       "       [ 647.365  ,  647.365  ,  647.15   , ...,  578.8213 ,  575.2598 ,\n",
       "         587.4822 ],\n",
       "       [ 627.585  ,  627.155  ,  627.585  , ...,  675.8859 ,  665.6503 ,\n",
       "         652.99023],\n",
       "       ...,\n",
       "       [ 817.     ,  813.13   ,  816.14   , ...,  758.8524 ,  755.98035,\n",
       "         751.0334 ],\n",
       "       [2464.33   , 2464.76   , 2459.6    , ..., 2226.4634 , 2220.2798 ,\n",
       "        2235.3074 ],\n",
       "       [ 809.045  ,  807.755  ,  810.765  , ...,  755.19714,  751.8027 ,\n",
       "         746.71985]], dtype=float32)"
      ]
     },
     "execution_count": 38,
     "metadata": {},
     "output_type": "execute_result"
    }
   ],
   "source": [
    "actual_predictions"
   ]
  },
  {
   "cell_type": "code",
   "execution_count": 39,
   "metadata": {},
   "outputs": [
    {
     "data": {
      "text/plain": [
       "[<matplotlib.lines.Line2D at 0x7f94c5380198>]"
      ]
     },
     "execution_count": 39,
     "metadata": {},
     "output_type": "execute_result"
    },
    {
     "data": {
      "image/png": "[encoded data removed]",
      "text/plain": [
       "<Figure size 1080x360 with 1 Axes>"
      ]
     },
     "metadata": {
      "needs_background": "light"
     },
     "output_type": "display_data"
    }
   ],
   "source": [
    "plt.plot(actual_predictions[1])"
   ]
  },
  {
   "cell_type": "code",
   "execution_count": 21,
   "metadata": {},
   "outputs": [
    {
     "data": {
      "text/plain": [
       "[<matplotlib.lines.Line2D at 0x7f94c297ca20>]"
      ]
     },
     "execution_count": 21,
     "metadata": {},
     "output_type": "execute_result"
    },
    {
     "data": {
      "image/png": "[encoded data removed]",
      "text/plain": [
       "<Figure size 1080x360 with 1 Axes>"
      ]
     },
     "metadata": {
      "needs_background": "light"
     },
     "output_type": "display_data"
    }
   ],
   "source": [
    "plt.plot("
   ]
  },
  {
   "cell_type": "code",
   "execution_count": 51,
   "metadata": {},
   "outputs": [
    {
     "data": {
      "text/plain": [
       "[<matplotlib.lines.Line2D at 0x7f94abac0dd8>]"
      ]
     },
     "execution_count": 51,
     "metadata": {},
     "output_type": "execute_result"
    },
    {
     "data": {
      "image/png": "[encoded data removed]",
      "text/plain": [
       "<Figure size 1080x360 with 1 Axes>"
      ]
     },
     "metadata": {
      "needs_background": "light"
     },
     "output_type": "display_data"
    }
   ],
   "source": [
    "n = 10\n",
    "plt.plot(test_data[n].numpy())\n",
    "plt.plot(actual_predictions[n])\n",
    "# 1.5, 350"
   ]
  },
  {
   "cell_type": "code",
   "execution_count": 54,
   "metadata": {},
   "outputs": [
    {
     "data": {
      "text/plain": [
       "[<matplotlib.lines.Line2D at 0x7f94abf45a58>]"
      ]
     },
     "execution_count": 54,
     "metadata": {},
     "output_type": "execute_result"
    },
    {
     "data": {
      "image/png": "[encoded data removed]",
      "text/plain": [
       "<Figure size 1080x360 with 1 Axes>"
      ]
     },
     "metadata": {
      "needs_background": "light"
     },
     "output_type": "display_data"
    }
   ],
   "source": [
    "n = 13\n",
    "plt.plot(test_data[n].numpy())\n",
    "plt.plot(actual_predictions[n])\n",
    "# 1.5, 350"
   ]
  },
  {
   "cell_type": "code",
   "execution_count": null,
   "metadata": {},
   "outputs": [],
   "source": []
  },
  {
   "cell_type": "code",
   "execution_count": null,
   "metadata": {},
   "outputs": [],
   "source": []
  },
  {
   "cell_type": "code",
   "execution_count": 63,
   "metadata": {},
   "outputs": [
    {
     "name": "stdout",
     "output_type": "stream",
     "text": [
      "0.3966723314508273\n",
      "252.2313253931686\n"
     ]
    }
   ],
   "source": [
    "predictions = []\n",
    "new_model.eval()\n",
    "with torch.no_grad():\n",
    "    predictions = [new_model(seq) for (seq, labels) in zip(X_test, y_test)]\n",
    "pred = [torch.cat((i, j)) for (i, j) in zip(X_test, predictions)]\n",
    "actual_predictions = np.array([np.array(i) for i in pred])\n",
    "mape = [np.mean(np.abs(actual_predictions[i] - test[i])/np.abs(test[i])) for i in range(len(test))]\n",
    "print(sum(mape) / len(mape))\n",
    "rmse = [np.mean((actual_predictions[i] - test[i])**2)**.5 for i in range(len(test))]\n",
    "print(sum(rmse) / len(rmse))"
   ]
  },
  {
   "cell_type": "code",
   "execution_count": 65,
   "metadata": {},
   "outputs": [
    {
     "data": {
      "text/plain": [
       "[<matplotlib.lines.Line2D at 0x7f94ac26d320>]"
      ]
     },
     "execution_count": 65,
     "metadata": {},
     "output_type": "execute_result"
    },
    {
     "data": {
      "image/png": "[encoded data removed]",
      "text/plain": [
       "<Figure size 1080x360 with 1 Axes>"
      ]
     },
     "metadata": {
      "needs_background": "light"
     },
     "output_type": "display_data"
    }
   ],
   "source": [
    "n = 1\n",
    "plt.plot(test_data[n].numpy())\n",
    "plt.plot(actual_predictions[n])\n",
    "# 1, 400"
   ]
  },
  {
   "cell_type": "code",
   "execution_count": null,
   "metadata": {},
   "outputs": [],
   "source": []
  },
  {
   "cell_type": "code",
   "execution_count": null,
   "metadata": {},
   "outputs": [],
   "source": []
  },
  {
   "cell_type": "code",
   "execution_count": null,
   "metadata": {},
   "outputs": [],
   "source": []
  },
  {
   "cell_type": "code",
   "execution_count": null,
   "metadata": {},
   "outputs": [],
   "source": []
  },
  {
   "cell_type": "code",
   "execution_count": null,
   "metadata": {},
   "outputs": [],
   "source": []
  },
  {
   "cell_type": "code",
   "execution_count": null,
   "metadata": {},
   "outputs": [],
   "source": []
  },
  {
   "cell_type": "code",
   "execution_count": null,
   "metadata": {},
   "outputs": [],
   "source": []
  },
  {
   "cell_type": "code",
   "execution_count": null,
   "metadata": {},
   "outputs": [],
   "source": []
  },
  {
   "cell_type": "code",
   "execution_count": null,
   "metadata": {},
   "outputs": [],
   "source": []
  },
  {
   "cell_type": "code",
   "execution_count": 164,
   "metadata": {},
   "outputs": [],
   "source": [
    "num = [str(i) for i in range(902)]\n",
    "p1 = [read_csv('ics_data_preprocessed/06_Smart_Meter_45/P1/2000/' + n + '.csv', squeeze=True, parse_dates=['ts'], index_col='ts') for n in num]\n",
    "    \n",
    "p1 = [prepare_data(df, 1000) for df in p1]\n",
    "p1 = sum(p1, [])\n",
    "p1 = [df.values.tolist() for df in p1]\n",
    "    \n",
    "train, test = train_test_split(p1, test_size=0.2, random_state=42)\n",
    "train_data_normalized = train\n",
    "test_data_normalized = test\n",
    "    \n",
    "train_data, val_data = train_test_split(train_data_normalized, test_size=0.15, random_state=42)\n",
    "train_data = torch.FloatTensor(train_data)\n",
    "val_data = torch.FloatTensor(val_data)\n",
    "test_data = torch.FloatTensor(test_data_normalized)\n",
    "    \n",
    "X_train = train_data[:, :-10]\n",
    "y_train = train_data[:, -10:]\n",
    "X_val = val_data[:, :-10]\n",
    "y_val = val_data[:, -10:]\n",
    "X_test = test_data[:, :-10]\n",
    "y_test = test_data[:, -10:]"
   ]
  },
  {
   "cell_type": "code",
   "execution_count": 165,
   "metadata": {},
   "outputs": [
    {
     "name": "stdout",
     "output_type": "stream",
     "text": [
      "best model hidden size: 50\n",
      "0.009391095047009058\n",
      "18.978284618271815\n"
     ]
    }
   ],
   "source": [
    "loss_function = nn.MSELoss()\n",
    "    \n",
    "val_losses = []\n",
    "    \n",
    "best_hidden_layer_size = 50\n",
    "    \n",
    "\n",
    "losses = []\n",
    "        \n",
    "    \n",
    "best_model = BPNN(1000 - 10, best_hidden_layer_size)\n",
    "model = BPNN(1000 - 10, best_hidden_layer_size)\n",
    "optimizer = torch.optim.Adam(model.parameters(), lr=0.2)\n",
    "    \n",
    "epochs = 1000\n",
    "    \n",
    "for i in range(epochs):\n",
    "    model.train()\n",
    "            \n",
    "    optimizer.zero_grad()\n",
    "            \n",
    "    y_pred = model(X_train)\n",
    "    single_loss = loss_function(y_pred, y_train)\n",
    "    losses.append(single_loss)\n",
    "            \n",
    "    single_loss.backward()\n",
    "    optimizer.step()\n",
    "            \n",
    "            \n",
    "    model.eval()\n",
    "\n",
    "    with torch.no_grad():\n",
    "        y_pred = model(X_val)\n",
    "\n",
    "        single_loss = loss_function(y_pred, y_val)\n",
    "\n",
    "        if (len(val_losses) == 0) or (single_loss < min(val_losses)):\n",
    "\n",
    "            best_model = model\n",
    "                \n",
    "        val_losses.append(single_loss)\n",
    "\n",
    "    \n",
    "print(\"best model hidden size:\", best_hidden_layer_size)\n",
    "    \n",
    "predictions = []\n",
    "best_model.eval()\n",
    "with torch.no_grad():\n",
    "    predictions = [best_model(seq) for (seq, labels) in zip(X_test, y_test)]\n",
    "pred = [torch.cat((i, j)) for (i, j) in zip(X_test, predictions)]\n",
    "actual_predictions_bpnn = np.array([np.array(i) for i in pred])\n",
    "mape = [np.mean(np.abs(actual_predictions_bpnn[i] - test[i])/np.abs(test[i])) for i in range(len(test))]\n",
    "print(sum(mape) / len(mape))\n",
    "rmse = [np.mean((actual_predictions_bpnn[i] - test[i])**2)**.5 for i in range(len(test))]\n",
    "print(sum(rmse) / len(rmse))"
   ]
  },
  {
   "cell_type": "code",
   "execution_count": 71,
   "metadata": {},
   "outputs": [],
   "source": [
    "class BPNN2(nn.Module):\n",
    "\n",
    "    def __init__(self, input_size, hidden_size1, hidden_size2):\n",
    "        super(BPNN2, self).__init__()\n",
    "        # an affine operation: y = Wx + b\n",
    "        self.fc1 = nn.Linear(input_size, hidden_size1)  \n",
    "        self.fc2 = nn.Linear(hidden_size1, hidden_size2)\n",
    "        self.fc3 = nn.Linear(hidden_size2, 10)\n",
    "\n",
    "    def forward(self, x):\n",
    "        x = F.relu(self.fc1(x))\n",
    "        x = F.relu(self.fc2(x))\n",
    "        x = self.fc3(x)\n",
    "        return x"
   ]
  },
  {
   "cell_type": "code",
   "execution_count": 167,
   "metadata": {},
   "outputs": [
    {
     "name": "stdout",
     "output_type": "stream",
     "text": [
      "best model hidden size: 100\n",
      "0.011474167176208507\n",
      "9.069466334396838\n"
     ]
    }
   ],
   "source": [
    "  \n",
    "loss_function = nn.MSELoss()\n",
    "    \n",
    "val_losses = []\n",
    "    \n",
    "best_hidden_layer_size = 100\n",
    "    \n",
    "\n",
    "losses = []\n",
    "        \n",
    "    \n",
    "best_model = BPNN2(1000 - 10, 100, 150)\n",
    "model = BPNN2(1000 - 10, 100, 150)\n",
    "optimizer = torch.optim.Adam(model.parameters(), lr=0.2)\n",
    "    \n",
    "epochs = 1000\n",
    "    \n",
    "for i in range(epochs):\n",
    "    model.train()\n",
    "            \n",
    "    optimizer.zero_grad()\n",
    "            \n",
    "    y_pred = model(X_train)\n",
    "    single_loss = loss_function(y_pred, y_train)\n",
    "    losses.append(single_loss)\n",
    "            \n",
    "    single_loss.backward()\n",
    "    optimizer.step()\n",
    "            \n",
    "            \n",
    "    model.eval()\n",
    "\n",
    "    with torch.no_grad():\n",
    "        y_pred = model(X_val)\n",
    "\n",
    "        single_loss = loss_function(y_pred, y_val)\n",
    "\n",
    "        if (len(val_losses) == 0) or (single_loss < min(val_losses)):\n",
    "\n",
    "            best_model = model\n",
    "                \n",
    "        val_losses.append(single_loss)\n",
    "\n",
    "    \n",
    "print(\"best model hidden size:\", best_hidden_layer_size)\n",
    "    \n",
    "predictions = []\n",
    "best_model.eval()\n",
    "with torch.no_grad():\n",
    "    predictions = [best_model(seq) for (seq, labels) in zip(X_test, y_test)]\n",
    "pred = [torch.cat((i, j)) for (i, j) in zip(X_test, predictions)]\n",
    "actual_predictions_bpnn2 = np.array([np.array(i) for i in pred])\n",
    "mape = [np.mean(np.abs(actual_predictions_bpnn2[i] - test[i])/np.abs(test[i])) for i in range(len(test))]\n",
    "print(sum(mape) / len(mape))\n",
    "rmse = [np.mean((actual_predictions_bpnn2[i] - test[i])**2)**.5 for i in range(len(test))]\n",
    "print(sum(rmse) / len(rmse))"
   ]
  },
  {
   "cell_type": "code",
   "execution_count": 225,
   "metadata": {},
   "outputs": [
    {
     "data": {
      "text/plain": [
       "<matplotlib.legend.Legend at 0x7f947866c748>"
      ]
     },
     "execution_count": 225,
     "metadata": {},
     "output_type": "execute_result"
    },
    {
     "data": {
      "image/png": "[encoded data removed]",
      "text/plain": [
       "<Figure size 1080x360 with 1 Axes>"
      ]
     },
     "metadata": {
      "needs_background": "light"
     },
     "output_type": "display_data"
    }
   ],
   "source": [
    "n = 19\n",
    "plt.plot(test_data[n].numpy())\n",
    "plt.plot(actual_predictions_bpnn[n], label='BPNN')\n",
    "plt.plot(actual_predictions_bpnn2[n], label='BPNN2')\n",
    "plt.plot(actual_prediction_arima, label='ARIMA')\n",
    "plt.legend(loc='center left', bbox_to_anchor=(1, 0.5))"
   ]
  },
  {
   "cell_type": "code",
   "execution_count": 73,
   "metadata": {},
   "outputs": [
    {
     "data": {
      "text/plain": [
       "[<matplotlib.lines.Line2D at 0x7f94c2ac0940>]"
      ]
     },
     "execution_count": 73,
     "metadata": {},
     "output_type": "execute_result"
    },
    {
     "data": {
      "image/png": "[encoded data removed]",
      "text/plain": [
       "<Figure size 1080x360 with 1 Axes>"
      ]
     },
     "metadata": {
      "needs_background": "light"
     },
     "output_type": "display_data"
    }
   ],
   "source": [
    "n = 1\n",
    "plt.plot(test_data[n].numpy())\n"
   ]
  },
  {
   "cell_type": "code",
   "execution_count": 190,
   "metadata": {},
   "outputs": [],
   "source": [
    "num = [str(i) for i in range(902)]\n",
    "p1 = [read_csv('ics_data_preprocessed/06_Smart_Meter_45/P1/' + '2000' + '/' + n + '.csv', squeeze=True, parse_dates=['ts'], index_col='ts') for n in num]\n",
    "p1 = [prepare_data(df, 1000) for df in p1]\n",
    "p1 = sum(p1, [])"
   ]
  },
  {
   "cell_type": "code",
   "execution_count": 219,
   "metadata": {},
   "outputs": [
    {
     "data": {
      "text/plain": [
       "[<matplotlib.lines.Line2D at 0x7f946c47d438>]"
      ]
     },
     "execution_count": 219,
     "metadata": {},
     "output_type": "execute_result"
    },
    {
     "data": {
      "image/png": "[encoded data removed]",
      "text/plain": [
       "<Figure size 1080x360 with 1 Axes>"
      ]
     },
     "metadata": {
      "needs_background": "light"
     },
     "output_type": "display_data"
    }
   ],
   "source": [
    "df = pd.Series(test_data[n].numpy())  \n",
    "plt.plot(df)"
   ]
  },
  {
   "cell_type": "code",
   "execution_count": 216,
   "metadata": {
    "collapsed": true,
    "jupyter": {
     "outputs_hidden": true
    }
   },
   "outputs": [
    {
     "data": {
      "text/plain": [
       "tensor([ 169.7400,  169.7400,  170.4600,  169.9200,  168.3000,  169.7400,\n",
       "         169.3800,  168.6600,  169.3800,  170.6400,  168.6600,  168.1200,\n",
       "         168.8400,  169.7400,  168.4800,  169.7400,  166.6800,  171.3600,\n",
       "         168.3000,  169.0200,  174.2400,  168.3000,  169.9200,  170.6400,\n",
       "         170.8200,  168.1200,  171.0000,  169.3800,  173.8800,  169.0200,\n",
       "         169.0200,  179.2800,  178.3800,  172.9800,  171.1800,  171.5400,\n",
       "         201.0600,  170.8200,  172.0800,  169.5600,  172.4400,  172.2600,\n",
       "         171.7200,  182.5200,  171.3600,  169.3800,  176.7600,  174.7800,\n",
       "         180.1800,  170.8200,  199.6200,  176.4000,  172.0800,  174.2400,\n",
       "         171.3600,  168.6600,  170.2800,  169.2000,  169.7400,  170.6400,\n",
       "         169.2000,  168.1200,  168.8400,  170.8200,  170.2800,  170.4600,\n",
       "         168.6600,  168.1200,  168.4800,  169.2000,  170.1000,  167.9400,\n",
       "         169.3800,  168.1200,  169.2000,  168.8400,  169.0200,  168.3000,\n",
       "         168.4800,  169.9200,  168.1200,  168.8400,  173.8800,  169.7400,\n",
       "         166.8600,  169.9200,  168.4800,  168.6600,  170.8200,  182.8800,\n",
       "         169.0200,  169.3800,  168.4800,  169.9200,  168.6600,  169.9200,\n",
       "         174.7800,  172.2600,  172.2600,  169.3800,  167.4000,  168.6600,\n",
       "         170.1000,  167.5800,  170.2800,  168.6600,  168.8400,  169.0200,\n",
       "         168.8400,  173.5200,  172.0800,  172.0800,  170.6400,  169.2000,\n",
       "         168.1200,  168.8400,  169.0200,  169.0200,  168.8400,  169.5600,\n",
       "         175.3200,  168.8400,  171.1800,  186.1200,  169.7400,  168.8400,\n",
       "         169.3800,  181.8000,  170.1000,  173.7000,  174.6000,  169.7400,\n",
       "         169.5600,  168.1200,  166.6800,  170.4600,  169.5600,  168.3000,\n",
       "         170.1000,  169.9200,  169.3800,  171.1800,  169.2000,  168.4800,\n",
       "         171.0000,  167.9400,  167.5800,  169.0200,  167.5800,  169.2000,\n",
       "         179.8200,  168.8400,  169.7400,  166.8600,  170.6400,  168.4800,\n",
       "         173.3400,  167.5800,  168.4800,  169.7400,  171.5400,  174.4200,\n",
       "         172.9800,  170.6400,  172.2600,  171.0000,  167.9400,  168.8400,\n",
       "         167.0400,  168.3000,  171.0000,  170.6400,  175.6800,  167.2200,\n",
       "         168.3000,  170.4600,  168.6600,  170.2800,  170.6400,  170.4600,\n",
       "         171.1800,  178.3800,  170.6400,  168.8400,  175.3200,  170.1000,\n",
       "         168.3000,  169.5600,  169.0200,  168.4800,  168.4800,  168.4800,\n",
       "         168.6600,  170.6400,  170.1000,  171.3600,  189.9000,  273.9600,\n",
       "         643.8600, 1306.9800, 1291.8600, 1291.3199, 1283.2200, 1304.8199,\n",
       "        1299.6000, 1308.7800, 1297.4399, 1292.7600, 1296.5400, 1302.6600,\n",
       "        1308.6000, 1321.3800, 1288.2600, 1292.9399, 1287.3600, 1307.1600,\n",
       "        1302.1200, 1309.8600, 1308.6000, 1304.6400, 1300.6801, 1308.6000,\n",
       "        1301.9399, 1308.6000, 1301.9399, 1294.3800, 1296.0000,  368.6400,\n",
       "         167.5800,  169.5600,  172.2600,  169.3800,  191.1600,  176.9400,\n",
       "         169.0200,  168.3000,  171.3600,  167.5800,  169.5600,  169.0200,\n",
       "         168.1200,  170.2800,  167.7600,  169.9200,  167.7600,  169.2000,\n",
       "         168.1200,  168.6600,  169.2000,  169.0200,  179.6400,  176.7600,\n",
       "         169.9200,  170.6400,  171.9000,  171.3600,  168.6600,  170.8200,\n",
       "         168.4800,  169.5600,  170.1000,  167.2200,  167.7600,  169.0200,\n",
       "         168.8400,  169.5600,  171.3600,  170.8200,  168.8400,  168.4800,\n",
       "         169.9200,  171.1800,  194.9400,  171.5400,  168.1200,  170.2800,\n",
       "         168.6600,  168.6600,  167.7600,  169.3800,  169.9200,  168.6600,\n",
       "         169.2000,  168.8400,  170.2800,  183.0600,  181.8000,  183.0600,\n",
       "         178.0200,  171.9000,  167.5800,  168.3000,  169.9200,  170.1000,\n",
       "         174.9600,  169.9200,  171.0000,  171.1800,  170.1000,  170.8200,\n",
       "         167.7600,  169.2000,  177.4800,  172.8000,  168.3000,  170.6400,\n",
       "         169.3800,  169.3800,  167.9400,  170.1000,  168.3000,  168.4800,\n",
       "         171.0000,  169.0200,  171.5400,  170.6400,  169.3800,  171.7200,\n",
       "         168.6600,  168.4800,  168.1200,  169.2000,  170.6400,  169.7400,\n",
       "         167.4000,  168.1200,  168.6600,  170.1000,  171.7200,  172.0800,\n",
       "         167.4000,  168.4800,  169.2000,  181.2600,  168.8400,  171.1800,\n",
       "         170.4600,  169.5600,  169.2000,  170.2800,  167.7600,  168.1200,\n",
       "         170.6400,  167.9400,  169.0200,  167.7600,  169.9200,  170.2800,\n",
       "         169.7400,  166.6800,  168.6600,  169.3800,  169.9200,  170.6400,\n",
       "         168.4800,  168.3000,  168.3000,  167.5800,  169.7400,  169.7400,\n",
       "         169.0200,  168.6600,  170.4600,  173.3400,  174.4200,  178.3800,\n",
       "         170.2800,  168.6600,  168.3000,  170.1000,  168.3000,  169.0200,\n",
       "         168.1200,  171.0000,  167.4000,  168.3000,  168.8400,  170.6400,\n",
       "         174.9600,  169.5600,  169.2000,  169.9200,  171.9000,  168.6600,\n",
       "         171.3600,  170.1000,  169.2000,  170.2800,  169.9200,  171.0000,\n",
       "         167.7600,  169.2000,  171.3600,  169.2000,  180.1800,  169.5600,\n",
       "         170.6400,  167.5800,  168.4800,  169.5600,  170.1000,  169.3800,\n",
       "         168.3000,  171.0000,  167.4000,  174.6000,  181.2600,  169.0200,\n",
       "         169.2000,  169.2000,  169.2000,  169.0200,  169.3800,  169.0200,\n",
       "         170.6400,  169.9200,  168.6600,  169.5600,  168.8400,  169.7400,\n",
       "         169.2000,  170.2800,  169.2000,  169.3800,  174.7800,  184.1400,\n",
       "         190.4400,  197.4600,  193.1400,  208.6200,  187.0200,  187.3800,\n",
       "         171.7200,  174.4200,  171.1800,  173.5200,  173.8800,  173.8800,\n",
       "         172.8000,  172.9800,  169.7400,  174.4200,  170.8200,  173.7000,\n",
       "         174.6000,  175.8600,  172.9800,  172.2600,  173.8800,  171.5400,\n",
       "         171.1800,  170.8200,  172.4400,  170.2800,  171.1800,  176.4000,\n",
       "         172.6200,  172.9800,  171.5400,  171.3600,  173.3400,  172.2600,\n",
       "         174.9600,  171.9000,  175.1400,  172.2600,  176.4000,  178.2000,\n",
       "         172.0800,  174.4200,  172.9800,  174.2400,  173.1600,  172.0800,\n",
       "         172.4400,  171.0000,  173.3400,  169.7400,  170.4600,  173.1600,\n",
       "         174.4200,  172.9800,  171.0000,  173.8800,  174.9600,  184.6800,\n",
       "         172.4400,  174.4200,  174.4200,  174.0600,  174.0600,  174.2400,\n",
       "         183.7800,  180.9000,  172.9800,  172.6200,  171.5400,  174.7800,\n",
       "         172.4400,  174.4200,  172.0800,  173.1600,  169.7400,  171.3600,\n",
       "         171.3600,  171.3600,  175.1400,  172.0800,  172.0800,  171.0000,\n",
       "         173.3400,  172.2600,  170.2800,  175.3200,  180.1800,  172.9800,\n",
       "         183.0600,  172.8000,  172.0800,  173.7000,  171.1800,  173.3400,\n",
       "         171.1800,  171.1800,  176.7600,  176.4000,  172.2600,  168.8400,\n",
       "         172.9800,  174.4200,  172.2600,  174.6000,  174.4200,  176.2200,\n",
       "         172.0800,  172.2600,  172.2600,  172.9800,  172.6200,  170.1000,\n",
       "         172.8000,  169.2000,  171.0000,  168.8400,  170.4600,  181.0800,\n",
       "         183.9600,  170.4600,  172.0800,  172.2600,  169.2000,  185.7600,\n",
       "         177.6600,  169.5600,  170.6400,  172.8000,  171.9000,  171.7200,\n",
       "         174.4200,  170.1000,  172.4400,  171.0000,  172.0800,  179.4600,\n",
       "         179.8200,  178.5600,  177.1200,  179.1000,  181.9800,  197.4600,\n",
       "         185.7600,  178.2000,  180.7200,  179.1000,  179.6400,  176.4000,\n",
       "         177.3000,  188.1000,  177.3000,  178.0200,  177.6600,  177.6600,\n",
       "         178.2000,  177.6600,  178.5600,  177.6600,  176.7600,  176.7600,\n",
       "         176.2200,  177.1200,  176.4000,  176.4000,  176.2200,  177.3000,\n",
       "         176.2200,  176.2200,  176.5800,  176.5800,  177.1200,  176.7600,\n",
       "         176.5800,  177.1200,  176.4000,  176.7600,  176.4000,  176.2200,\n",
       "         176.4000,  178.0200,  176.4000,  177.1200,  176.0400,  176.9400,\n",
       "         177.4800,  176.2200,  176.2200,  176.5800,  176.2200,  176.0400,\n",
       "         175.6800,  176.5800,  176.0400,  176.0400,  176.0400,  176.4000,\n",
       "         178.9200,  200.1600,  177.4800,  176.0400,  176.9400,  177.3000,\n",
       "         177.8400,  186.8400,  176.4000,  178.2000,  180.0000,  179.4600,\n",
       "         180.9000,  176.7600,  180.7200,  176.7600,  176.9400,  205.2000,\n",
       "         180.7200,  175.6800,  176.4000,  179.1000,  179.6400,  176.5800,\n",
       "         205.5600,  183.7800,  175.6800,  176.5800,  177.1200,  174.9600,\n",
       "         196.3800,  195.8400,  180.0000,  173.7000,  175.5000,  173.8800,\n",
       "         177.1200,  181.0800,  178.7400,  179.2800,  178.2000,  176.0400,\n",
       "         178.2000,  204.4800,  193.1400,  176.9400,  175.3200,  174.0600,\n",
       "         178.5600,  176.5800,  177.3000,  178.0200,  175.3200,  176.5800,\n",
       "         175.1400,  175.3200,  175.5000,  175.3200,  177.1200,  177.3000,\n",
       "         180.0000,  182.8800,  205.3800,  178.0200,  181.2600,  177.4800,\n",
       "         176.5800,  176.4000,  176.4000,  180.3600,  176.9400,  187.5600,\n",
       "         196.2000,  176.4000,  188.1000,  186.1200,  181.9800,  183.0600,\n",
       "         176.7600,  177.4800,  176.0400,  176.2200,  178.3800,  187.3800,\n",
       "         177.1200,  180.0000,  192.2400,  176.4000,  175.8600,  175.6800,\n",
       "         175.1400,  176.0400,  176.2200,  175.3200,  176.7600,  176.0400,\n",
       "         175.3200,  177.4800,  175.3200,  176.0400,  176.2200,  175.6800,\n",
       "         175.6800,  183.0600,  175.1400,  183.0600,  175.1400,  174.7800,\n",
       "         175.6800,  175.1400,  177.3000,  176.7600,  175.1400,  174.7800,\n",
       "         175.8600,  174.9600,  175.1400,  175.8600,  174.9600,  176.7600,\n",
       "         175.6800,  175.8600,  176.7600,  175.3200,  174.7800,  177.4800,\n",
       "         182.8800,  186.6600,  176.5800,  191.5200,  178.0200,  176.7600,\n",
       "         187.0200,  181.8000,  177.4800,  188.2800,  188.8200,  175.8600,\n",
       "         187.0200,  178.2000,  205.7400,  201.2400,  202.8600,  186.4800,\n",
       "         176.9400,  198.7200,  209.5200,  185.4000,  191.7000,  190.4400,\n",
       "         211.1400,  194.7600,  192.4200,  192.2400,  179.1000,  207.5400,\n",
       "         209.1600,  205.2000,  178.3800,  180.7200,  207.5400,  200.1600,\n",
       "         207.7200,  179.6400,  200.1600,  198.7200,  186.8400,  180.0000,\n",
       "         182.3400,  185.0400,  210.0600,  210.6000,  203.0400,  190.2600,\n",
       "         179.2800,  183.6000,  175.6800,  176.0400,  176.5800,  175.8600,\n",
       "         175.6800,  190.9800,  178.5600,  175.6800,  178.3800,  180.1800,\n",
       "         176.9400,  193.1400,  175.8600,  176.4000,  177.1200,  176.0400,\n",
       "         176.2200,  176.5800,  177.3000,  180.0000,  175.8600,  180.1800,\n",
       "         176.9400,  175.8600,  207.1800,  190.2600,  176.4000,  178.2000,\n",
       "         176.2200,  178.3800,  176.2200,  178.0200,  176.0400,  177.6600,\n",
       "         175.1400,  175.8600,  176.5800,  177.1200,  188.6400,  175.5000,\n",
       "         176.9400,  194.7600,  209.8800,  204.3000,  179.1000,  181.8000,\n",
       "         189.9000,  175.3200,  175.3200,  184.6800,  182.3400,  190.2600,\n",
       "         194.9400,  179.1000,  177.6600,  176.2200,  178.3800,  176.2200,\n",
       "         176.0400,  176.4000,  178.5600,  183.6000,  180.3600,  187.5600,\n",
       "         177.1200,  190.4400,  176.5800,  180.5400,  179.4600,  172.2600,\n",
       "         172.2600,  179.6400,  176.7600,  176.2200,  177.4800,  177.4800,\n",
       "         175.6800,  185.9400,  176.5800,  179.1000,  177.1200,  179.6400,\n",
       "         181.2600,  182.5200,  199.6200,  195.8400,  202.8600,  201.7800,\n",
       "         176.2200,  181.0800,  176.0400,  175.6800,  183.2400,  179.6400,\n",
       "         185.7600,  176.7600,  175.8600,  194.4000,  190.0800,  188.6400,\n",
       "         185.0400,  183.0600,  182.8800,  181.6200,  178.5600,  183.2400,\n",
       "         176.0400,  181.2600,  176.9400,  176.2200,  196.9200,  180.0000,\n",
       "         176.4000,  186.4800,  178.5600,  179.1000,  175.8600,  176.0400,\n",
       "         179.6400,  178.5600,  176.2200,  194.2200,  201.9600,  177.8400,\n",
       "         182.7000,  176.4000,  176.5800,  178.2000,  184.1400,  185.0400,\n",
       "         176.0400,  176.4000,  176.0400,  176.4000,  178.7400,  176.9400,\n",
       "         175.8600,  176.2200,  176.0400,  175.8600,  175.8600,  175.5000,\n",
       "         175.8600,  177.3000,  176.5800,  177.4800,  175.5000,  176.4000,\n",
       "         175.5000,  174.0600,  178.2000,  176.2200,  176.0400,  175.6800,\n",
       "         176.2200,  175.5000,  175.8600,  175.8600,  175.5000,  176.0400,\n",
       "         175.5000,  175.8600,  175.5000,  175.3200,  176.0400,  175.3200,\n",
       "         175.5000,  175.1400,  175.6800,  176.2200,  176.2200,  175.5000,\n",
       "         176.0400,  179.8200,  181.8000,  177.1200,  175.6800,  175.5000,\n",
       "         175.6800,  175.6800,  174.7800,  175.1400,  179.1000,  178.0200,\n",
       "         177.3000,  176.0400,  176.2200,  175.5000,  175.8600,  175.8600,\n",
       "         176.2200,  174.7800,  175.3200,  175.6800,  176.0400,  179.2800,\n",
       "         176.0400,  177.1200,  176.0400,  175.5000])"
      ]
     },
     "execution_count": 216,
     "metadata": {},
     "output_type": "execute_result"
    }
   ],
   "source": [
    "test_data[n]"
   ]
  },
  {
   "cell_type": "code",
   "execution_count": 220,
   "metadata": {},
   "outputs": [],
   "source": [
    "import pmdarima as pm\n",
    "mape_list = []\n",
    "rmse_list = []\n",
    "def forecast_accuracy(forecast, actual):\n",
    "    mape = np.mean(np.abs(forecast - actual)/np.abs(actual))  # MAPE\n",
    "    mape_list.append(mape)\n",
    "    me = np.mean(forecast - actual)             # ME\n",
    "    mae = np.mean(np.abs(forecast - actual))    # MAE\n",
    "    mpe = np.mean((forecast - actual)/actual)   # MPE\n",
    "    rmse = np.mean((forecast - actual)**2)**.5  # RMSE\n",
    "    rmse_list.append(rmse)\n",
    "    corr = np.corrcoef(forecast, actual)[0,1]   # corr\n",
    "    return({'mape':mape, 'me':me, 'mae': mae, \n",
    "            'mpe': mpe, 'rmse':rmse, \n",
    "            'corr':corr})"
   ]
  },
  {
   "cell_type": "code",
   "execution_count": 221,
   "metadata": {},
   "outputs": [
    {
     "data": {
      "text/plain": [
       "{'mape': 0.005020207259183333,\n",
       " 'me': 0.1116328813995466,\n",
       " 'mae': 0.8881194739392726,\n",
       " 'mpe': 0.00067786139457254,\n",
       " 'rmse': 1.19438463704924,\n",
       " 'corr': 0.02943908871446359}"
      ]
     },
     "execution_count": 221,
     "metadata": {},
     "output_type": "execute_result"
    }
   ],
   "source": [
    "max_m = 5\n",
    "\n",
    "train = df[:-10]\n",
    "test = df[-10:]\n",
    "best_model = pm.auto_arima(train.values, start_p=0, start_q=0,\n",
    "                           test='adf',       # use adftest to find optimal 'd'\n",
    "                           max_p=3, max_q=3, # maximum p and q\n",
    "                           m=1,              # frequency of series\n",
    "                           d=None,           # let model determine 'd'\n",
    "                           seasonal=True,   # Seasonality\n",
    "                           start_P=0, \n",
    "                           D=1, \n",
    "                           trace=False,\n",
    "                           error_action='ignore',  \n",
    "                           suppress_warnings=True, \n",
    "                           stepwise=True)\n",
    "for i in range(2, max_m):\n",
    "    model = pm.auto_arima(train.values, start_p=0, start_q=0,\n",
    "                          test='adf',       # use adftest to find optimal 'd'\n",
    "                          max_p=3, max_q=3, # maximum p and q\n",
    "                          m=i,              # frequency of series\n",
    "                          d=None,           # let model determine 'd'\n",
    "                          seasonal=True,   # Seasonality\n",
    "                          start_P=0, \n",
    "                          D=1, \n",
    "                          trace=False,\n",
    "                          error_action='ignore',  \n",
    "                          suppress_warnings=True, \n",
    "                          stepwise=True)\n",
    "        \n",
    "        # Find the best model with MSE\n",
    "    if np.mean((model.predict(n_periods=test.shape[0]) - test.values)**2) < np.mean((best_model.predict(n_periods=test.shape[0]) - test.values)**2):\n",
    "        best_model = model\n",
    "        \n",
    "forecast_accuracy(best_model.predict(n_periods=test.shape[0]), test.values)"
   ]
  },
  {
   "cell_type": "code",
   "execution_count": 222,
   "metadata": {},
   "outputs": [],
   "source": [
    "preds, conf_int = best_model.predict(n_periods=test.shape[0], return_conf_int=True, alpha=0.6)\n",
    "lower_series = pd.Series(conf_int[:, 0], index=test.index)\n",
    "upper_series = pd.Series(conf_int[:, 1], index=test.index)"
   ]
  },
  {
   "cell_type": "code",
   "execution_count": 223,
   "metadata": {},
   "outputs": [],
   "source": [
    "actual_prediction_arima = train.append(pd.Series(best_model.predict(n_periods=test.shape[0]), index=test.index)).values"
   ]
  },
  {
   "cell_type": "code",
   "execution_count": 224,
   "metadata": {},
   "outputs": [
    {
     "data": {
      "text/plain": [
       "[<matplotlib.lines.Line2D at 0x7f949f44f6a0>]"
      ]
     },
     "execution_count": 224,
     "metadata": {},
     "output_type": "execute_result"
    },
    {
     "data": {
      "image/png": "[encoded data removed]",
      "text/plain": [
       "<Figure size 1080x360 with 1 Axes>"
      ]
     },
     "metadata": {
      "needs_background": "light"
     },
     "output_type": "display_data"
    }
   ],
   "source": [
    "plt.plot(df.values)\n",
    "plt.plot(actual_prediction_arima)"
   ]
  },
  {
   "cell_type": "code",
   "execution_count": 95,
   "metadata": {},
   "outputs": [
    {
     "data": {
      "text/plain": [
       "[<matplotlib.lines.Line2D at 0x7f94885314e0>]"
      ]
     },
     "execution_count": 95,
     "metadata": {},
     "output_type": "execute_result"
    },
    {
     "data": {
      "image/png": "[encoded data removed]",
      "text/plain": [
       "<Figure size 1080x360 with 1 Axes>"
      ]
     },
     "metadata": {
      "needs_background": "light"
     },
     "output_type": "display_data"
    }
   ],
   "source": [
    "plt.plot(actual_prediction_arima)"
   ]
  },
  {
   "cell_type": "code",
   "execution_count": null,
   "metadata": {},
   "outputs": [],
   "source": []
  }
 ],
 "metadata": {
  "kernelspec": {
   "display_name": "Python 3",
   "language": "python",
   "name": "python3"
  },
  "language_info": {
   "codemirror_mode": {
    "name": "ipython",
    "version": 3
   },
   "file_extension": ".py",
   "mimetype": "text/x-python",
   "name": "python",
   "nbconvert_exporter": "python",
   "pygments_lexer": "ipython3",
   "version": "3.7.3"
  }
 },
 "nbformat": 4,
 "nbformat_minor": 4
}
