{
 "cells": [
  {
   "cell_type": "code",
   "execution_count": 109,
   "metadata": {},
   "outputs": [],
   "source": [
    "import torch\n",
    "import torch.nn as nn\n",
    "import torch.nn.functional as F\n",
    "\n",
    "from pandas import read_csv\n",
    "from sklearn.model_selection import train_test_split\n",
    "\n",
    "import random\n",
    "import itertools\n",
    "import numpy as np\n",
    "import pandas as pd\n",
    "import matplotlib.pyplot as plt\n",
    "%matplotlib inline"
   ]
  },
  {
   "cell_type": "code",
   "execution_count": 114,
   "metadata": {},
   "outputs": [],
   "source": [
    "fig_size = plt.rcParams[\"figure.figsize\"]\n",
    "fig_size[0] = 15\n",
    "fig_size[1] = 5\n",
    "plt.rcParams[\"figure.figsize\"] = fig_size"
   ]
  },
  {
   "cell_type": "code",
   "execution_count": 3,
   "metadata": {},
   "outputs": [],
   "source": [
    "def prepare_data(df, num_elements=50):\n",
    "    new_data = []\n",
    "    length = df.shape[0]\n",
    "    current_index = 0\n",
    "    step = int(0.2 * num_elements)\n",
    "    while(current_index <= length - num_elements):\n",
    "        new_data.append(df[current_index:current_index+num_elements])\n",
    "        current_index += step\n",
    "    return new_data"
   ]
  },
  {
   "cell_type": "code",
   "execution_count": 4,
   "metadata": {},
   "outputs": [],
   "source": [
    "class BPNN(nn.Module):\n",
    "\n",
    "    def __init__(self, input_size, hidden_size):\n",
    "        super(BPNN, self).__init__()\n",
    "        # an affine operation: y = Wx + b\n",
    "        self.fc1 = nn.Linear(input_size, hidden_size)  \n",
    "        self.fc2 = nn.Linear(hidden_size, 10)\n",
    "\n",
    "    def forward(self, x):\n",
    "        x = F.relu(self.fc1(x))\n",
    "        x = self.fc2(x)\n",
    "        return x"
   ]
  },
  {
   "cell_type": "code",
   "execution_count": 5,
   "metadata": {},
   "outputs": [],
   "source": [
    "def prepare_data(df, num_elements=50):\n",
    "    new_data = []\n",
    "    length = df.shape[0]\n",
    "    current_index = 0\n",
    "    step = int(0.2 * num_elements)\n",
    "    while(current_index <= length - num_elements):\n",
    "        new_data.append(df[current_index:current_index+num_elements])\n",
    "        current_index += step\n",
    "    return new_data"
   ]
  },
  {
   "cell_type": "code",
   "execution_count": 6,
   "metadata": {},
   "outputs": [],
   "source": [
    "def learn(num, count, data_len, lr=0.01):\n",
    "    num = [str(i) for i in range(num)]\n",
    "    p1 = [read_csv('ics_data_preprocessed/07_Smart_Meter_65/P1/' + str(count) + '/' + n + '.csv', squeeze=True, parse_dates=['ts'], index_col='ts') for n in num]\n",
    "    \n",
    "    p1 = [prepare_data(df, data_len) for df in p1]\n",
    "    p1 = sum(p1, [])\n",
    "    p1 = [df.values.tolist() for df in p1]\n",
    "    \n",
    "    train, test = train_test_split(p1, test_size=0.2, random_state=42)\n",
    "    train_data_normalized = train\n",
    "    test_data_normalized = test\n",
    "    \n",
    "    train_data, val_data = train_test_split(train_data_normalized, test_size=0.15, random_state=42)\n",
    "    train_data = torch.FloatTensor(train_data)\n",
    "    val_data = torch.FloatTensor(val_data)\n",
    "    test_data = torch.FloatTensor(test_data_normalized)\n",
    "    \n",
    "    X_train = train_data[:, :-10]\n",
    "    y_train = train_data[:, -10:]\n",
    "    X_val = val_data[:, :-10]\n",
    "    y_val = val_data[:, -10:]\n",
    "    X_test = test_data[:, :-10]\n",
    "    y_test = test_data[:, -10:]\n",
    "    \n",
    "    print(\"Data is ready\")\n",
    "    \n",
    "    best_model = BPNN(40, 50)\n",
    "    loss_function = nn.MSELoss()\n",
    "    \n",
    "    val_losses = []\n",
    "    \n",
    "    best_hidden_layer_size = 50\n",
    "    \n",
    "    for hidden_layer_size in [50, 100, 200, 250, 300]:\n",
    "        losses = []\n",
    "        \n",
    "    \n",
    "        model = BPNN(data_len - 10, hidden_layer_size)\n",
    "        optimizer = torch.optim.Adam(model.parameters(), lr=lr)\n",
    "    \n",
    "        epochs = 1000\n",
    "        \n",
    "        for i in range(epochs):\n",
    "            model.train()\n",
    "            \n",
    "            optimizer.zero_grad()\n",
    "            \n",
    "            y_pred = model(X_train)\n",
    "            single_loss = loss_function(y_pred, y_train)\n",
    "            losses.append(single_loss)\n",
    "            \n",
    "            single_loss.backward()\n",
    "            optimizer.step()\n",
    "            \n",
    "            \n",
    "            model.eval()\n",
    "\n",
    "            with torch.no_grad():\n",
    "                y_pred = model(X_val)\n",
    "\n",
    "                single_loss = loss_function(y_pred, y_val)\n",
    "\n",
    "                if (len(val_losses) == 0) or (single_loss < min(val_losses)):\n",
    "#                     if (len(val_losses) > 0):\n",
    "#                         print(\"losses:\", single_loss, min(val_losses))\n",
    "                    best_hidden_layer_size = hidden_layer_size\n",
    "                    best_model = model\n",
    "                \n",
    "                val_losses.append(single_loss)\n",
    "            \n",
    "#             if (len(val_losses) > 0 and i%5 == 1):\n",
    "#                 print(val_losses[-1], min(val_losses))\n",
    "\n",
    "#         print(f'epoch: {i:3} loss: {single_loss.item():10.10f}')\n",
    "    \n",
    "    print(\"best model hidden size:\", best_hidden_layer_size)\n",
    "    \n",
    "    predictions = []\n",
    "    best_model.eval()\n",
    "    with torch.no_grad():\n",
    "        predictions = [best_model(seq) for (seq, labels) in zip(X_test, y_test)]\n",
    "    pred = [torch.cat((i, j)) for (i, j) in zip(X_test, predictions)]\n",
    "    actual_predictions = np.array([np.array(i) for i in pred])\n",
    "    mape = [np.mean(np.abs(actual_predictions[i] - test[i])/np.abs(test[i])) for i in range(len(test))]\n",
    "    print(sum(mape) / len(mape))\n",
    "    rmse = [np.mean((actual_predictions[i] - test[i])**2)**.5 for i in range(len(test))]\n",
    "    print(sum(rmse) / len(rmse))\n",
    "    \n",
    "    return best_model\n",
    "     "
   ]
  },
  {
   "cell_type": "code",
   "execution_count": 7,
   "metadata": {},
   "outputs": [],
   "source": [
    "random.seed(42)"
   ]
  },
  {
   "cell_type": "markdown",
   "metadata": {},
   "source": [
    "# 1s"
   ]
  },
  {
   "cell_type": "code",
   "execution_count": 9,
   "metadata": {},
   "outputs": [
    {
     "name": "stdout",
     "output_type": "stream",
     "text": [
      "Data is ready\n",
      "best model hidden size: 300\n",
      "0.0028163122105812318\n",
      "0.9505610617221723\n"
     ]
    }
   ],
   "source": [
    "new_model = learn(135, 1000, 50)"
   ]
  },
  {
   "cell_type": "code",
   "execution_count": 10,
   "metadata": {},
   "outputs": [
    {
     "name": "stdout",
     "output_type": "stream",
     "text": [
      "Data is ready\n",
      "best model hidden size: 300\n",
      "0.0012277763835428913\n",
      "0.5038227306497034\n"
     ]
    }
   ],
   "source": [
    "new_model = learn(135, 1000, 100)"
   ]
  },
  {
   "cell_type": "code",
   "execution_count": 11,
   "metadata": {},
   "outputs": [
    {
     "name": "stdout",
     "output_type": "stream",
     "text": [
      "Data is ready\n",
      "best model hidden size: 200\n",
      "0.0005861823384180381\n",
      "0.3207910693706353\n"
     ]
    }
   ],
   "source": [
    "new_model = learn(135, 1000, 150)"
   ]
  },
  {
   "cell_type": "code",
   "execution_count": 12,
   "metadata": {},
   "outputs": [
    {
     "name": "stdout",
     "output_type": "stream",
     "text": [
      "Data is ready\n",
      "best model hidden size: 200\n",
      "0.0010810708238757718\n",
      "0.21294668597163313\n"
     ]
    }
   ],
   "source": [
    "new_model = learn(135, 1000, 200)"
   ]
  },
  {
   "cell_type": "code",
   "execution_count": 13,
   "metadata": {},
   "outputs": [
    {
     "name": "stdout",
     "output_type": "stream",
     "text": [
      "Data is ready\n",
      "best model hidden size: 100\n",
      "0.00043404644705177244\n",
      "0.3628611237343954\n"
     ]
    }
   ],
   "source": [
    "new_model = learn(135, 1000, 250)"
   ]
  },
  {
   "cell_type": "code",
   "execution_count": 14,
   "metadata": {},
   "outputs": [
    {
     "name": "stdout",
     "output_type": "stream",
     "text": [
      "Data is ready\n",
      "best model hidden size: 50\n",
      "0.0004839618788334011\n",
      "0.43524674803656715\n"
     ]
    }
   ],
   "source": [
    "new_model = learn(135, 1000, 300)"
   ]
  },
  {
   "cell_type": "code",
   "execution_count": 15,
   "metadata": {},
   "outputs": [
    {
     "name": "stdout",
     "output_type": "stream",
     "text": [
      "Data is ready\n",
      "best model hidden size: 50\n",
      "0.0006071683493402637\n",
      "0.18019366119835858\n"
     ]
    }
   ],
   "source": [
    "new_model = learn(135, 1000, 350)"
   ]
  },
  {
   "cell_type": "code",
   "execution_count": 16,
   "metadata": {},
   "outputs": [
    {
     "name": "stdout",
     "output_type": "stream",
     "text": [
      "Data is ready\n",
      "best model hidden size: 50\n",
      "0.0007185971064873042\n",
      "0.9518536905088414\n"
     ]
    }
   ],
   "source": [
    "new_model = learn(135, 1000, 400)"
   ]
  },
  {
   "cell_type": "code",
   "execution_count": 17,
   "metadata": {},
   "outputs": [
    {
     "name": "stdout",
     "output_type": "stream",
     "text": [
      "Data is ready\n",
      "best model hidden size: 100\n",
      "0.00025391550494295443\n",
      "0.13397284552833227\n"
     ]
    }
   ],
   "source": [
    "new_model = learn(135, 1000, 450)"
   ]
  },
  {
   "cell_type": "code",
   "execution_count": 18,
   "metadata": {},
   "outputs": [
    {
     "name": "stdout",
     "output_type": "stream",
     "text": [
      "Data is ready\n",
      "best model hidden size: 200\n",
      "0.013423665346033389\n",
      "9.734407148881857\n"
     ]
    }
   ],
   "source": [
    "new_model = learn(135, 1000, 500)"
   ]
  },
  {
   "cell_type": "code",
   "execution_count": 19,
   "metadata": {},
   "outputs": [
    {
     "name": "stdout",
     "output_type": "stream",
     "text": [
      "Data is ready\n",
      "best model hidden size: 50\n",
      "0.0002186655102927107\n",
      "0.1361223213709008\n"
     ]
    }
   ],
   "source": [
    "new_model = learn(135, 1000, 550)"
   ]
  },
  {
   "cell_type": "code",
   "execution_count": 20,
   "metadata": {},
   "outputs": [
    {
     "name": "stdout",
     "output_type": "stream",
     "text": [
      "Data is ready\n",
      "best model hidden size: 50\n",
      "0.0005131486625889432\n",
      "0.582398940092793\n"
     ]
    }
   ],
   "source": [
    "new_model = learn(135, 1000, 600)"
   ]
  },
  {
   "cell_type": "code",
   "execution_count": 21,
   "metadata": {},
   "outputs": [
    {
     "name": "stdout",
     "output_type": "stream",
     "text": [
      "Data is ready\n",
      "best model hidden size: 50\n",
      "0.00022455131786216077\n",
      "0.08348968197608626\n"
     ]
    }
   ],
   "source": [
    "new_model = learn(135, 1000, 650)"
   ]
  },
  {
   "cell_type": "code",
   "execution_count": 22,
   "metadata": {},
   "outputs": [
    {
     "name": "stdout",
     "output_type": "stream",
     "text": [
      "Data is ready\n",
      "best model hidden size: 50\n",
      "0.00011109514552105441\n",
      "0.09145640061658591\n"
     ]
    }
   ],
   "source": [
    "new_model = learn(135, 1000, 700)"
   ]
  },
  {
   "cell_type": "code",
   "execution_count": 97,
   "metadata": {},
   "outputs": [
    {
     "name": "stdout",
     "output_type": "stream",
     "text": [
      "Data is ready\n",
      "best model hidden size: 50\n",
      "0.000806534667894952\n",
      "0.26054335875508283\n"
     ]
    }
   ],
   "source": [
    "new_model = learn(135, 1000, 750)"
   ]
  },
  {
   "cell_type": "code",
   "execution_count": 98,
   "metadata": {},
   "outputs": [
    {
     "name": "stdout",
     "output_type": "stream",
     "text": [
      "Data is ready\n",
      "best model hidden size: 100\n",
      "0.00011039338701541096\n",
      "0.32899591709242126\n"
     ]
    }
   ],
   "source": [
    "new_model = learn(135, 1000, 800)"
   ]
  },
  {
   "cell_type": "code",
   "execution_count": 99,
   "metadata": {},
   "outputs": [
    {
     "name": "stdout",
     "output_type": "stream",
     "text": [
      "Data is ready\n",
      "best model hidden size: 100\n",
      "0.006664149991532138\n",
      "1.3426658148301587\n"
     ]
    }
   ],
   "source": [
    "new_model = learn(135, 1000, 850)"
   ]
  },
  {
   "cell_type": "code",
   "execution_count": 100,
   "metadata": {},
   "outputs": [
    {
     "name": "stdout",
     "output_type": "stream",
     "text": [
      "Data is ready\n",
      "best model hidden size: 50\n",
      "0.0068117778185604605\n",
      "4.001771837246573\n"
     ]
    }
   ],
   "source": [
    "new_model = learn(135, 1000, 900)"
   ]
  },
  {
   "cell_type": "code",
   "execution_count": 101,
   "metadata": {},
   "outputs": [
    {
     "name": "stdout",
     "output_type": "stream",
     "text": [
      "Data is ready\n",
      "best model hidden size: 50\n",
      "0.0008171749973968957\n",
      "0.17657782679527312\n"
     ]
    }
   ],
   "source": [
    "new_model = learn(135, 1000, 950)"
   ]
  },
  {
   "cell_type": "code",
   "execution_count": 102,
   "metadata": {},
   "outputs": [
    {
     "name": "stdout",
     "output_type": "stream",
     "text": [
      "Data is ready\n",
      "best model hidden size: 50\n",
      "0.00653447754020217\n",
      "2.3454210545874323\n"
     ]
    }
   ],
   "source": [
    "new_model = learn(135, 1000, 1000)"
   ]
  },
  {
   "cell_type": "markdown",
   "metadata": {},
   "source": [
    "# 1.5s"
   ]
  },
  {
   "cell_type": "code",
   "execution_count": 23,
   "metadata": {},
   "outputs": [
    {
     "name": "stdout",
     "output_type": "stream",
     "text": [
      "Data is ready\n",
      "best model hidden size: 100\n",
      "0.005276510449680501\n",
      "5.624813416261149\n"
     ]
    }
   ],
   "source": [
    "new_model = learn(1145, 1500, 50)"
   ]
  },
  {
   "cell_type": "code",
   "execution_count": 24,
   "metadata": {},
   "outputs": [
    {
     "name": "stdout",
     "output_type": "stream",
     "text": [
      "Data is ready\n",
      "best model hidden size: 250\n",
      "0.00226868783435594\n",
      "3.374605674506945\n"
     ]
    }
   ],
   "source": [
    "new_model = learn(1145, 1500, 100)"
   ]
  },
  {
   "cell_type": "code",
   "execution_count": 25,
   "metadata": {},
   "outputs": [
    {
     "name": "stdout",
     "output_type": "stream",
     "text": [
      "Data is ready\n",
      "best model hidden size: 250\n",
      "0.001010753446097395\n",
      "1.5854321796858968\n"
     ]
    }
   ],
   "source": [
    "new_model = learn(1145, 1500, 150)"
   ]
  },
  {
   "cell_type": "code",
   "execution_count": 26,
   "metadata": {},
   "outputs": [
    {
     "name": "stdout",
     "output_type": "stream",
     "text": [
      "Data is ready\n",
      "best model hidden size: 200\n",
      "0.0013455996819271728\n",
      "2.4151516373543527\n"
     ]
    }
   ],
   "source": [
    "new_model = learn(1145, 1500, 200)"
   ]
  },
  {
   "cell_type": "code",
   "execution_count": 27,
   "metadata": {},
   "outputs": [
    {
     "name": "stdout",
     "output_type": "stream",
     "text": [
      "Data is ready\n",
      "best model hidden size: 100\n",
      "0.00031643355174274234\n",
      "0.8446728526417874\n"
     ]
    }
   ],
   "source": [
    "new_model = learn(1145, 1500, 250)"
   ]
  },
  {
   "cell_type": "code",
   "execution_count": 28,
   "metadata": {},
   "outputs": [
    {
     "name": "stdout",
     "output_type": "stream",
     "text": [
      "Data is ready\n",
      "best model hidden size: 50\n",
      "0.00036638701623386123\n",
      "0.7482640913652224\n"
     ]
    }
   ],
   "source": [
    "new_model = learn(1145, 1500, 300)"
   ]
  },
  {
   "cell_type": "code",
   "execution_count": 29,
   "metadata": {},
   "outputs": [
    {
     "name": "stdout",
     "output_type": "stream",
     "text": [
      "Data is ready\n",
      "best model hidden size: 100\n",
      "0.0009812841544701723\n",
      "3.506373739892614\n"
     ]
    }
   ],
   "source": [
    "new_model = learn(1145, 1500, 350)"
   ]
  },
  {
   "cell_type": "code",
   "execution_count": 30,
   "metadata": {},
   "outputs": [
    {
     "name": "stdout",
     "output_type": "stream",
     "text": [
      "Data is ready\n",
      "best model hidden size: 50\n",
      "0.0002399103730398868\n",
      "0.7358127884861662\n"
     ]
    }
   ],
   "source": [
    "new_model = learn(1145, 1500, 400)"
   ]
  },
  {
   "cell_type": "code",
   "execution_count": 31,
   "metadata": {},
   "outputs": [
    {
     "name": "stdout",
     "output_type": "stream",
     "text": [
      "Data is ready\n",
      "best model hidden size: 50\n",
      "0.00023990128150387353\n",
      "0.39257176546673583\n"
     ]
    }
   ],
   "source": [
    "new_model = learn(1145, 1500, 450)"
   ]
  },
  {
   "cell_type": "code",
   "execution_count": 32,
   "metadata": {},
   "outputs": [
    {
     "name": "stdout",
     "output_type": "stream",
     "text": [
      "Data is ready\n",
      "best model hidden size: 50\n",
      "0.0003681937327340997\n",
      "0.7813729745298424\n"
     ]
    }
   ],
   "source": [
    "new_model = learn(1145, 1500, 500)"
   ]
  },
  {
   "cell_type": "code",
   "execution_count": 111,
   "metadata": {},
   "outputs": [
    {
     "name": "stdout",
     "output_type": "stream",
     "text": [
      "Data is ready\n",
      "best model hidden size: 50\n",
      "0.0002706857189151699\n",
      "1.3421542281544194\n"
     ]
    }
   ],
   "source": [
    "new_model = learn(1145, 1500, 550)"
   ]
  },
  {
   "cell_type": "code",
   "execution_count": 34,
   "metadata": {},
   "outputs": [
    {
     "name": "stdout",
     "output_type": "stream",
     "text": [
      "Data is ready\n",
      "best model hidden size: 50\n",
      "0.0006857148774736234\n",
      "1.8299285686596192\n"
     ]
    }
   ],
   "source": [
    "new_model = learn(1145, 1500, 600)"
   ]
  },
  {
   "cell_type": "code",
   "execution_count": 35,
   "metadata": {},
   "outputs": [
    {
     "name": "stdout",
     "output_type": "stream",
     "text": [
      "Data is ready\n",
      "best model hidden size: 100\n",
      "0.0024031273588366346\n",
      "4.023633354728794\n"
     ]
    }
   ],
   "source": [
    "new_model = learn(1145, 1500, 650)"
   ]
  },
  {
   "cell_type": "code",
   "execution_count": 36,
   "metadata": {},
   "outputs": [
    {
     "name": "stdout",
     "output_type": "stream",
     "text": [
      "Data is ready\n",
      "best model hidden size: 50\n",
      "0.0018304884263512838\n",
      "3.7962783870117467\n"
     ]
    }
   ],
   "source": [
    "new_model = learn(1145, 1500, 700)"
   ]
  },
  {
   "cell_type": "code",
   "execution_count": 103,
   "metadata": {},
   "outputs": [
    {
     "name": "stdout",
     "output_type": "stream",
     "text": [
      "Data is ready\n",
      "best model hidden size: 50\n",
      "0.0008303408280127442\n",
      "1.3108869263571004\n"
     ]
    }
   ],
   "source": [
    "new_model = learn(1145, 1500, 750)"
   ]
  },
  {
   "cell_type": "code",
   "execution_count": 104,
   "metadata": {},
   "outputs": [
    {
     "name": "stdout",
     "output_type": "stream",
     "text": [
      "Data is ready\n",
      "best model hidden size: 50\n",
      "0.01176293526192787\n",
      "24.138087761812645\n"
     ]
    }
   ],
   "source": [
    "new_model = learn(1145, 1500, 800)"
   ]
  },
  {
   "cell_type": "code",
   "execution_count": 105,
   "metadata": {},
   "outputs": [
    {
     "name": "stdout",
     "output_type": "stream",
     "text": [
      "Data is ready\n",
      "best model hidden size: 50\n",
      "0.0001414520115553943\n",
      "0.23672395055842851\n"
     ]
    }
   ],
   "source": [
    "new_model = learn(1145, 1500, 850)"
   ]
  },
  {
   "cell_type": "code",
   "execution_count": 106,
   "metadata": {},
   "outputs": [
    {
     "name": "stdout",
     "output_type": "stream",
     "text": [
      "Data is ready\n",
      "best model hidden size: 50\n",
      "0.0004992741742672671\n",
      "0.7959198810148803\n"
     ]
    }
   ],
   "source": [
    "new_model = learn(1145, 1500, 900)"
   ]
  },
  {
   "cell_type": "code",
   "execution_count": 107,
   "metadata": {},
   "outputs": [
    {
     "name": "stdout",
     "output_type": "stream",
     "text": [
      "Data is ready\n",
      "best model hidden size: 100\n",
      "0.010195270237736732\n",
      "44.04271131458351\n"
     ]
    }
   ],
   "source": [
    "new_model = learn(1145, 1500, 950)"
   ]
  },
  {
   "cell_type": "code",
   "execution_count": 122,
   "metadata": {},
   "outputs": [
    {
     "name": "stdout",
     "output_type": "stream",
     "text": [
      "Data is ready\n",
      "best model hidden size: 100\n",
      "0.0097781503902918\n",
      "47.752345287091714\n"
     ]
    }
   ],
   "source": [
    "new_model = learn(1145, 1500, 1000)"
   ]
  },
  {
   "cell_type": "markdown",
   "metadata": {},
   "source": [
    "# 2s"
   ]
  },
  {
   "cell_type": "code",
   "execution_count": 37,
   "metadata": {},
   "outputs": [
    {
     "name": "stdout",
     "output_type": "stream",
     "text": [
      "Data is ready\n",
      "best model hidden size: 300\n",
      "0.005913975891546345\n",
      "2.54685202572777\n"
     ]
    }
   ],
   "source": [
    "new_model = learn(2410, 2000, 50)"
   ]
  },
  {
   "cell_type": "code",
   "execution_count": 38,
   "metadata": {},
   "outputs": [
    {
     "name": "stdout",
     "output_type": "stream",
     "text": [
      "Data is ready\n",
      "best model hidden size: 100\n",
      "0.002084978986248612\n",
      "1.993582722355503\n"
     ]
    }
   ],
   "source": [
    "new_model = learn(2410, 2000, 100)"
   ]
  },
  {
   "cell_type": "code",
   "execution_count": 39,
   "metadata": {},
   "outputs": [
    {
     "name": "stdout",
     "output_type": "stream",
     "text": [
      "Data is ready\n",
      "best model hidden size: 50\n",
      "0.0012177820847496263\n",
      "1.5313438723358241\n"
     ]
    }
   ],
   "source": [
    "new_model = learn(2410, 2000, 150)"
   ]
  },
  {
   "cell_type": "code",
   "execution_count": 40,
   "metadata": {},
   "outputs": [
    {
     "name": "stdout",
     "output_type": "stream",
     "text": [
      "Data is ready\n",
      "best model hidden size: 100\n",
      "0.0008169222455387245\n",
      "1.394718796525472\n"
     ]
    }
   ],
   "source": [
    "new_model = learn(2410, 2000, 200)"
   ]
  },
  {
   "cell_type": "code",
   "execution_count": 41,
   "metadata": {},
   "outputs": [
    {
     "name": "stdout",
     "output_type": "stream",
     "text": [
      "Data is ready\n",
      "best model hidden size: 100\n",
      "0.0006932490009962032\n",
      "1.342387348276914\n"
     ]
    }
   ],
   "source": [
    "new_model = learn(2410, 2000, 250)"
   ]
  },
  {
   "cell_type": "code",
   "execution_count": 42,
   "metadata": {},
   "outputs": [
    {
     "name": "stdout",
     "output_type": "stream",
     "text": [
      "Data is ready\n",
      "best model hidden size: 50\n",
      "0.0005885317921817636\n",
      "1.5064184896694233\n"
     ]
    }
   ],
   "source": [
    "new_model = learn(2410, 2000, 300)"
   ]
  },
  {
   "cell_type": "code",
   "execution_count": 43,
   "metadata": {},
   "outputs": [
    {
     "name": "stdout",
     "output_type": "stream",
     "text": [
      "Data is ready\n",
      "best model hidden size: 50\n",
      "0.0005246325189148152\n",
      "1.1357003297715913\n"
     ]
    }
   ],
   "source": [
    "new_model = learn(2410, 2000, 350)"
   ]
  },
  {
   "cell_type": "code",
   "execution_count": 44,
   "metadata": {},
   "outputs": [
    {
     "name": "stdout",
     "output_type": "stream",
     "text": [
      "Data is ready\n",
      "best model hidden size: 100\n",
      "0.0004116997610194775\n",
      "1.30829463675287\n"
     ]
    }
   ],
   "source": [
    "new_model = learn(2410, 2000, 400)"
   ]
  },
  {
   "cell_type": "code",
   "execution_count": 45,
   "metadata": {},
   "outputs": [
    {
     "name": "stdout",
     "output_type": "stream",
     "text": [
      "Data is ready\n",
      "best model hidden size: 250\n",
      "0.0007066830622950077\n",
      "2.7379432712882976\n"
     ]
    }
   ],
   "source": [
    "new_model = learn(2410, 2000, 450)"
   ]
  },
  {
   "cell_type": "code",
   "execution_count": 46,
   "metadata": {},
   "outputs": [
    {
     "name": "stdout",
     "output_type": "stream",
     "text": [
      "Data is ready\n",
      "best model hidden size: 100\n",
      "0.0002444375089146401\n",
      "1.1028512800570467\n"
     ]
    }
   ],
   "source": [
    "new_model = learn(2410, 2000, 500)"
   ]
  },
  {
   "cell_type": "code",
   "execution_count": 47,
   "metadata": {},
   "outputs": [
    {
     "name": "stdout",
     "output_type": "stream",
     "text": [
      "Data is ready\n",
      "best model hidden size: 50\n",
      "0.0005720503037021894\n",
      "2.044552339394338\n"
     ]
    }
   ],
   "source": [
    "new_model = learn(2410, 2000, 550)"
   ]
  },
  {
   "cell_type": "code",
   "execution_count": 48,
   "metadata": {},
   "outputs": [
    {
     "name": "stdout",
     "output_type": "stream",
     "text": [
      "Data is ready\n",
      "best model hidden size: 100\n",
      "0.0002541245569540078\n",
      "0.9975103228305309\n"
     ]
    }
   ],
   "source": [
    "new_model = learn(2410, 2000, 600)"
   ]
  },
  {
   "cell_type": "code",
   "execution_count": 49,
   "metadata": {},
   "outputs": [
    {
     "name": "stdout",
     "output_type": "stream",
     "text": [
      "Data is ready\n",
      "best model hidden size: 50\n",
      "0.00027688632882487597\n",
      "1.1258248428129267\n"
     ]
    }
   ],
   "source": [
    "new_model = learn(2410, 2000, 650)"
   ]
  },
  {
   "cell_type": "code",
   "execution_count": 50,
   "metadata": {},
   "outputs": [
    {
     "name": "stdout",
     "output_type": "stream",
     "text": [
      "Data is ready\n",
      "best model hidden size: 50\n",
      "0.012871531838494587\n",
      "58.514424026694684\n"
     ]
    }
   ],
   "source": [
    "new_model = learn(2410, 2000, 700)"
   ]
  },
  {
   "cell_type": "code",
   "execution_count": 51,
   "metadata": {},
   "outputs": [
    {
     "name": "stdout",
     "output_type": "stream",
     "text": [
      "Data is ready\n",
      "best model hidden size: 100\n",
      "0.012118458128888808\n",
      "56.81747316735948\n"
     ]
    }
   ],
   "source": [
    "new_model = learn(2410, 2000, 750)"
   ]
  },
  {
   "cell_type": "code",
   "execution_count": 52,
   "metadata": {},
   "outputs": [
    {
     "name": "stdout",
     "output_type": "stream",
     "text": [
      "Data is ready\n",
      "best model hidden size: 50\n",
      "0.0003443633704141602\n",
      "1.5463404495866226\n"
     ]
    }
   ],
   "source": [
    "new_model = learn(2410, 2000, 800)"
   ]
  },
  {
   "cell_type": "code",
   "execution_count": 53,
   "metadata": {},
   "outputs": [
    {
     "name": "stdout",
     "output_type": "stream",
     "text": [
      "Data is ready\n",
      "best model hidden size: 50\n",
      "0.0042190631280854115\n",
      "18.96039830835163\n"
     ]
    }
   ],
   "source": [
    "new_model = learn(2410, 2000, 850)"
   ]
  },
  {
   "cell_type": "code",
   "execution_count": 54,
   "metadata": {},
   "outputs": [
    {
     "name": "stdout",
     "output_type": "stream",
     "text": [
      "Data is ready\n",
      "best model hidden size: 50\n",
      "0.010331614505563825\n",
      "53.80783346751434\n"
     ]
    }
   ],
   "source": [
    "new_model = learn(2410, 2000, 900)"
   ]
  },
  {
   "cell_type": "code",
   "execution_count": 55,
   "metadata": {},
   "outputs": [
    {
     "name": "stdout",
     "output_type": "stream",
     "text": [
      "Data is ready\n",
      "best model hidden size: 50\n",
      "0.00966626225654899\n",
      "50.565152205454034\n"
     ]
    }
   ],
   "source": [
    "new_model = learn(2410, 2000, 950)"
   ]
  },
  {
   "cell_type": "code",
   "execution_count": 56,
   "metadata": {},
   "outputs": [
    {
     "name": "stdout",
     "output_type": "stream",
     "text": [
      "Data is ready\n",
      "best model hidden size: 50\n",
      "0.009361923097860039\n",
      "49.583403296194255\n"
     ]
    }
   ],
   "source": [
    "new_model = learn(2410, 2000, 1000)"
   ]
  },
  {
   "cell_type": "markdown",
   "metadata": {},
   "source": [
    "# 5s"
   ]
  },
  {
   "cell_type": "code",
   "execution_count": 57,
   "metadata": {},
   "outputs": [
    {
     "name": "stdout",
     "output_type": "stream",
     "text": [
      "Data is ready\n",
      "best model hidden size: 200\n",
      "0.006633091087706474\n",
      "10.711895556147054\n"
     ]
    }
   ],
   "source": [
    "new_model = learn(46, 5000, 50)"
   ]
  },
  {
   "cell_type": "code",
   "execution_count": 58,
   "metadata": {},
   "outputs": [
    {
     "name": "stdout",
     "output_type": "stream",
     "text": [
      "Data is ready\n",
      "best model hidden size: 300\n",
      "0.0030958012132191893\n",
      "7.960054725657573\n"
     ]
    }
   ],
   "source": [
    "new_model = learn(46, 5000, 100)"
   ]
  },
  {
   "cell_type": "code",
   "execution_count": 59,
   "metadata": {},
   "outputs": [
    {
     "name": "stdout",
     "output_type": "stream",
     "text": [
      "Data is ready\n",
      "best model hidden size: 50\n",
      "0.0020180969596789227\n",
      "5.804943723744144\n"
     ]
    }
   ],
   "source": [
    "new_model = learn(46, 5000, 150)"
   ]
  },
  {
   "cell_type": "code",
   "execution_count": 60,
   "metadata": {},
   "outputs": [
    {
     "name": "stdout",
     "output_type": "stream",
     "text": [
      "Data is ready\n",
      "best model hidden size: 50\n",
      "0.0014252921291922004\n",
      "4.013763102795581\n"
     ]
    }
   ],
   "source": [
    "new_model = learn(46, 5000, 200)"
   ]
  },
  {
   "cell_type": "code",
   "execution_count": 61,
   "metadata": {},
   "outputs": [
    {
     "name": "stdout",
     "output_type": "stream",
     "text": [
      "Data is ready\n",
      "best model hidden size: 50\n",
      "0.0021746883661661414\n",
      "7.11502153764059\n"
     ]
    }
   ],
   "source": [
    "new_model = learn(46, 5000, 250)"
   ]
  },
  {
   "cell_type": "code",
   "execution_count": 62,
   "metadata": {},
   "outputs": [
    {
     "name": "stdout",
     "output_type": "stream",
     "text": [
      "Data is ready\n",
      "best model hidden size: 100\n",
      "0.0012520903200308128\n",
      "3.4203315626334465\n"
     ]
    }
   ],
   "source": [
    "new_model = learn(46, 5000, 300)"
   ]
  },
  {
   "cell_type": "code",
   "execution_count": 63,
   "metadata": {},
   "outputs": [
    {
     "name": "stdout",
     "output_type": "stream",
     "text": [
      "Data is ready\n",
      "best model hidden size: 50\n",
      "0.0009660379336002962\n",
      "4.8038643112164365\n"
     ]
    }
   ],
   "source": [
    "new_model = learn(46, 5000, 350)"
   ]
  },
  {
   "cell_type": "code",
   "execution_count": 64,
   "metadata": {},
   "outputs": [
    {
     "name": "stdout",
     "output_type": "stream",
     "text": [
      "Data is ready\n",
      "best model hidden size: 50\n",
      "0.0010032025729690788\n",
      "4.3900490182083205\n"
     ]
    }
   ],
   "source": [
    "new_model = learn(46, 5000, 400)"
   ]
  },
  {
   "cell_type": "code",
   "execution_count": 65,
   "metadata": {},
   "outputs": [
    {
     "name": "stdout",
     "output_type": "stream",
     "text": [
      "Data is ready\n",
      "best model hidden size: 50\n",
      "0.0008728773252274861\n",
      "3.578084494488209\n"
     ]
    }
   ],
   "source": [
    "new_model = learn(46, 5000, 450)"
   ]
  },
  {
   "cell_type": "code",
   "execution_count": 66,
   "metadata": {},
   "outputs": [
    {
     "name": "stdout",
     "output_type": "stream",
     "text": [
      "Data is ready\n",
      "best model hidden size: 300\n",
      "0.0039604346980073\n",
      "15.739198742797297\n"
     ]
    }
   ],
   "source": [
    "new_model = learn(46, 5000, 500)"
   ]
  },
  {
   "cell_type": "code",
   "execution_count": 67,
   "metadata": {},
   "outputs": [
    {
     "name": "stdout",
     "output_type": "stream",
     "text": [
      "Data is ready\n",
      "best model hidden size: 100\n",
      "0.017612046227941495\n",
      "74.12522020182107\n"
     ]
    }
   ],
   "source": [
    "new_model = learn(46, 5000, 550)"
   ]
  },
  {
   "cell_type": "code",
   "execution_count": 68,
   "metadata": {},
   "outputs": [
    {
     "name": "stdout",
     "output_type": "stream",
     "text": [
      "Data is ready\n",
      "best model hidden size: 100\n",
      "0.016193426833751464\n",
      "81.67995793555005\n"
     ]
    }
   ],
   "source": [
    "new_model = learn(46, 5000, 600)"
   ]
  },
  {
   "cell_type": "code",
   "execution_count": 69,
   "metadata": {},
   "outputs": [
    {
     "name": "stdout",
     "output_type": "stream",
     "text": [
      "Data is ready\n",
      "best model hidden size: 50\n",
      "0.01492539660882437\n",
      "78.9606087814031\n"
     ]
    }
   ],
   "source": [
    "new_model = learn(46, 5000, 650)"
   ]
  },
  {
   "cell_type": "code",
   "execution_count": 70,
   "metadata": {},
   "outputs": [
    {
     "name": "stdout",
     "output_type": "stream",
     "text": [
      "Data is ready\n",
      "best model hidden size: 50\n",
      "0.01385761922044578\n",
      "71.84548892170281\n"
     ]
    }
   ],
   "source": [
    "new_model = learn(46, 5000, 700)"
   ]
  },
  {
   "cell_type": "code",
   "execution_count": 71,
   "metadata": {},
   "outputs": [
    {
     "name": "stdout",
     "output_type": "stream",
     "text": [
      "Data is ready\n",
      "best model hidden size: 100\n",
      "0.01291073544946111\n",
      "64.82274839937203\n"
     ]
    }
   ],
   "source": [
    "new_model = learn(46, 5000, 750)"
   ]
  },
  {
   "cell_type": "code",
   "execution_count": 72,
   "metadata": {},
   "outputs": [
    {
     "name": "stdout",
     "output_type": "stream",
     "text": [
      "Data is ready\n",
      "best model hidden size: 50\n",
      "0.0008223453799416751\n",
      "3.6139953959730975\n"
     ]
    }
   ],
   "source": [
    "new_model = learn(46, 5000, 800)"
   ]
  },
  {
   "cell_type": "code",
   "execution_count": 73,
   "metadata": {},
   "outputs": [
    {
     "name": "stdout",
     "output_type": "stream",
     "text": [
      "Data is ready\n",
      "best model hidden size: 300\n",
      "0.0008836731920273063\n",
      "6.4275554812976115\n"
     ]
    }
   ],
   "source": [
    "new_model = learn(46, 5000, 850)"
   ]
  },
  {
   "cell_type": "code",
   "execution_count": 74,
   "metadata": {},
   "outputs": [
    {
     "name": "stdout",
     "output_type": "stream",
     "text": [
      "Data is ready\n",
      "best model hidden size: 100\n",
      "0.01079606545057386\n",
      "61.44774836660055\n"
     ]
    }
   ],
   "source": [
    "new_model = learn(46, 5000, 900)"
   ]
  },
  {
   "cell_type": "code",
   "execution_count": 75,
   "metadata": {},
   "outputs": [
    {
     "name": "stdout",
     "output_type": "stream",
     "text": [
      "Data is ready\n",
      "best model hidden size: 50\n",
      "0.001077455057704221\n",
      "4.456672116007329\n"
     ]
    }
   ],
   "source": [
    "new_model = learn(46, 5000, 950)"
   ]
  },
  {
   "cell_type": "code",
   "execution_count": 76,
   "metadata": {},
   "outputs": [
    {
     "name": "stdout",
     "output_type": "stream",
     "text": [
      "Data is ready\n",
      "best model hidden size: 50\n",
      "0.00970337584442211\n",
      "56.71991525672093\n"
     ]
    }
   ],
   "source": [
    "new_model = learn(46, 5000, 1000)"
   ]
  },
  {
   "cell_type": "markdown",
   "metadata": {},
   "source": [
    "# 15s"
   ]
  },
  {
   "cell_type": "code",
   "execution_count": 77,
   "metadata": {},
   "outputs": [
    {
     "name": "stdout",
     "output_type": "stream",
     "text": [
      "Data is ready\n",
      "best model hidden size: 100\n",
      "0.011816639760289328\n",
      "14.480721511865138\n"
     ]
    }
   ],
   "source": [
    "new_model = learn(2834, 15000, 50)"
   ]
  },
  {
   "cell_type": "code",
   "execution_count": 78,
   "metadata": {},
   "outputs": [
    {
     "name": "stdout",
     "output_type": "stream",
     "text": [
      "Data is ready\n",
      "best model hidden size: 100\n",
      "0.005456160967607988\n",
      "10.961018963195206\n"
     ]
    }
   ],
   "source": [
    "new_model = learn(2834, 15000, 100)"
   ]
  },
  {
   "cell_type": "code",
   "execution_count": 79,
   "metadata": {},
   "outputs": [
    {
     "name": "stdout",
     "output_type": "stream",
     "text": [
      "Data is ready\n",
      "best model hidden size: 100\n",
      "0.004163458432035473\n",
      "9.750005315967329\n"
     ]
    }
   ],
   "source": [
    "new_model = learn(2834, 15000, 150)"
   ]
  },
  {
   "cell_type": "code",
   "execution_count": 80,
   "metadata": {},
   "outputs": [
    {
     "name": "stdout",
     "output_type": "stream",
     "text": [
      "Data is ready\n",
      "best model hidden size: 50\n",
      "0.0031905971323038847\n",
      "9.038595365065303\n"
     ]
    }
   ],
   "source": [
    "new_model = learn(2834, 15000, 200)"
   ]
  },
  {
   "cell_type": "code",
   "execution_count": 81,
   "metadata": {},
   "outputs": [
    {
     "name": "stdout",
     "output_type": "stream",
     "text": [
      "Data is ready\n",
      "best model hidden size: 100\n",
      "0.0023931345559074914\n",
      "7.318339132716397\n"
     ]
    }
   ],
   "source": [
    "new_model = learn(2834, 15000, 250)"
   ]
  },
  {
   "cell_type": "code",
   "execution_count": 82,
   "metadata": {},
   "outputs": [
    {
     "name": "stdout",
     "output_type": "stream",
     "text": [
      "Data is ready\n",
      "best model hidden size: 50\n",
      "0.004351640040467739\n",
      "11.929619056387486\n"
     ]
    }
   ],
   "source": [
    "new_model = learn(2834, 15000, 300)"
   ]
  },
  {
   "cell_type": "code",
   "execution_count": 83,
   "metadata": {},
   "outputs": [
    {
     "name": "stdout",
     "output_type": "stream",
     "text": [
      "Data is ready\n",
      "best model hidden size: 50\n",
      "0.002151080492178586\n",
      "6.582933125636188\n"
     ]
    }
   ],
   "source": [
    "new_model = learn(2834, 15000, 350)"
   ]
  },
  {
   "cell_type": "code",
   "execution_count": 84,
   "metadata": {},
   "outputs": [
    {
     "name": "stdout",
     "output_type": "stream",
     "text": [
      "Data is ready\n",
      "best model hidden size: 100\n",
      "0.0016061593664015588\n",
      "5.715205604650722\n"
     ]
    }
   ],
   "source": [
    "new_model = learn(2834, 15000, 400)"
   ]
  },
  {
   "cell_type": "code",
   "execution_count": 85,
   "metadata": {},
   "outputs": [
    {
     "name": "stdout",
     "output_type": "stream",
     "text": [
      "Data is ready\n",
      "best model hidden size: 50\n",
      "0.0016073789027367693\n",
      "6.452203942141856\n"
     ]
    }
   ],
   "source": [
    "new_model = learn(2834, 15000, 450)"
   ]
  },
  {
   "cell_type": "code",
   "execution_count": 86,
   "metadata": {},
   "outputs": [
    {
     "name": "stdout",
     "output_type": "stream",
     "text": [
      "Data is ready\n",
      "best model hidden size: 100\n",
      "0.01948915665204423\n",
      "79.769842201324\n"
     ]
    }
   ],
   "source": [
    "new_model = learn(2834, 15000, 500)"
   ]
  },
  {
   "cell_type": "code",
   "execution_count": 87,
   "metadata": {},
   "outputs": [
    {
     "name": "stdout",
     "output_type": "stream",
     "text": [
      "Data is ready\n",
      "best model hidden size: 50\n",
      "0.0015763045098049645\n",
      "7.0590136549900295\n"
     ]
    }
   ],
   "source": [
    "new_model = learn(2834, 15000, 550)"
   ]
  },
  {
   "cell_type": "code",
   "execution_count": 88,
   "metadata": {},
   "outputs": [
    {
     "name": "stdout",
     "output_type": "stream",
     "text": [
      "Data is ready\n",
      "best model hidden size: 50\n",
      "0.001383694314462094\n",
      "6.036340510601106\n"
     ]
    }
   ],
   "source": [
    "new_model = learn(2834, 15000, 600)"
   ]
  },
  {
   "cell_type": "code",
   "execution_count": 89,
   "metadata": {},
   "outputs": [
    {
     "name": "stdout",
     "output_type": "stream",
     "text": [
      "Data is ready\n",
      "best model hidden size: 100\n",
      "0.014990994563409498\n",
      "68.92290066111475\n"
     ]
    }
   ],
   "source": [
    "new_model = learn(2834, 15000, 650)"
   ]
  },
  {
   "cell_type": "code",
   "execution_count": 90,
   "metadata": {},
   "outputs": [
    {
     "name": "stdout",
     "output_type": "stream",
     "text": [
      "Data is ready\n",
      "best model hidden size: 50\n",
      "0.01392296406844463\n",
      "66.96369335261234\n"
     ]
    }
   ],
   "source": [
    "new_model = learn(2834, 15000, 700)"
   ]
  },
  {
   "cell_type": "code",
   "execution_count": 91,
   "metadata": {},
   "outputs": [
    {
     "name": "stdout",
     "output_type": "stream",
     "text": [
      "Data is ready\n",
      "best model hidden size: 50\n",
      "0.012985134431575628\n",
      "65.47684634830465\n"
     ]
    }
   ],
   "source": [
    "new_model = learn(2834, 15000, 750)"
   ]
  },
  {
   "cell_type": "code",
   "execution_count": 92,
   "metadata": {},
   "outputs": [
    {
     "name": "stdout",
     "output_type": "stream",
     "text": [
      "Data is ready\n",
      "best model hidden size: 50\n",
      "0.012188116413486867\n",
      "67.4499744105205\n"
     ]
    }
   ],
   "source": [
    "new_model = learn(2834, 15000, 800)"
   ]
  },
  {
   "cell_type": "code",
   "execution_count": 93,
   "metadata": {},
   "outputs": [
    {
     "name": "stdout",
     "output_type": "stream",
     "text": [
      "Data is ready\n",
      "best model hidden size: 50\n",
      "0.011464743480437146\n",
      "63.23793282191952\n"
     ]
    }
   ],
   "source": [
    "new_model = learn(2834, 15000, 850)"
   ]
  },
  {
   "cell_type": "code",
   "execution_count": 94,
   "metadata": {},
   "outputs": [
    {
     "name": "stdout",
     "output_type": "stream",
     "text": [
      "Data is ready\n",
      "best model hidden size: 50\n",
      "0.010833517111193047\n",
      "60.098348403674756\n"
     ]
    }
   ],
   "source": [
    "new_model = learn(2834, 15000, 900)"
   ]
  },
  {
   "cell_type": "code",
   "execution_count": 95,
   "metadata": {},
   "outputs": [
    {
     "name": "stdout",
     "output_type": "stream",
     "text": [
      "Data is ready\n",
      "best model hidden size: 100\n",
      "0.010296478582170048\n",
      "64.06074231373874\n"
     ]
    }
   ],
   "source": [
    "new_model = learn(2834, 15000, 950)"
   ]
  },
  {
   "cell_type": "code",
   "execution_count": 96,
   "metadata": {},
   "outputs": [
    {
     "name": "stdout",
     "output_type": "stream",
     "text": [
      "Data is ready\n",
      "best model hidden size: 50\n",
      "0.00976459265793237\n",
      "59.79146674335764\n"
     ]
    }
   ],
   "source": [
    "new_model = learn(2834, 15000, 1000)"
   ]
  },
  {
   "cell_type": "code",
   "execution_count": null,
   "metadata": {},
   "outputs": [],
   "source": []
  },
  {
   "cell_type": "code",
   "execution_count": 119,
   "metadata": {},
   "outputs": [
    {
     "name": "stdout",
     "output_type": "stream",
     "text": [
      "Data is ready\n",
      "best model hidden size: 50\n",
      "0.00978130020266783\n",
      "47.75809281570704\n"
     ]
    }
   ],
   "source": [
    "num = [str(i) for i in range(1145)]\n",
    "p1 = [read_csv('ics_data_preprocessed/07_Smart_Meter_65/P1/1500/' + n + '.csv', squeeze=True, parse_dates=['ts'], index_col='ts') for n in num]\n",
    "    \n",
    "p1 = [prepare_data(df, 1000) for df in p1]\n",
    "p1 = sum(p1, [])\n",
    "p1 = [df.values.tolist() for df in p1]\n",
    "    \n",
    "train, test = train_test_split(p1, test_size=0.2, random_state=42)\n",
    "train_data_normalized = train\n",
    "test_data_normalized = test\n",
    "    \n",
    "train_data, val_data = train_test_split(train_data_normalized, test_size=0.15, random_state=42)\n",
    "train_data = torch.FloatTensor(train_data)\n",
    "val_data = torch.FloatTensor(val_data)\n",
    "test_data = torch.FloatTensor(test_data_normalized)\n",
    "    \n",
    "X_train = train_data[:, :-10]\n",
    "y_train = train_data[:, -10:]\n",
    "X_val = val_data[:, :-10]\n",
    "y_val = val_data[:, -10:]\n",
    "X_test = test_data[:, :-10]\n",
    "y_test = test_data[:, -10:]\n",
    "    \n",
    "print(\"Data is ready\")\n",
    "    \n",
    "loss_function = nn.MSELoss()\n",
    "    \n",
    "val_losses = []\n",
    "    \n",
    "best_hidden_layer_size = 50\n",
    "    \n",
    "\n",
    "losses = []\n",
    "        \n",
    "    \n",
    "best_model = BPNN(1000 - 10, best_hidden_layer_size)\n",
    "model = BPNN(1000 - 10, best_hidden_layer_size)\n",
    "optimizer = torch.optim.Adam(model.parameters(), lr=0.2)\n",
    "    \n",
    "epochs = 1000\n",
    "    \n",
    "for i in range(epochs):\n",
    "    model.train()\n",
    "            \n",
    "    optimizer.zero_grad()\n",
    "            \n",
    "    y_pred = model(X_train)\n",
    "    single_loss = loss_function(y_pred, y_train)\n",
    "    losses.append(single_loss)\n",
    "            \n",
    "    single_loss.backward()\n",
    "    optimizer.step()\n",
    "            \n",
    "            \n",
    "    model.eval()\n",
    "\n",
    "    with torch.no_grad():\n",
    "        y_pred = model(X_val)\n",
    "\n",
    "        single_loss = loss_function(y_pred, y_val)\n",
    "\n",
    "        if (len(val_losses) == 0) or (single_loss < min(val_losses)):\n",
    "\n",
    "            best_model = model\n",
    "                \n",
    "        val_losses.append(single_loss)\n",
    "\n",
    "    \n",
    "print(\"best model hidden size:\", best_hidden_layer_size)\n",
    "    \n",
    "predictions = []\n",
    "best_model.eval()\n",
    "with torch.no_grad():\n",
    "    predictions = [best_model(seq) for (seq, labels) in zip(X_test, y_test)]\n",
    "pred = [torch.cat((i, j)) for (i, j) in zip(X_test, predictions)]\n",
    "actual_predictions = np.array([np.array(i) for i in pred])\n",
    "mape = [np.mean(np.abs(actual_predictions[i] - test[i])/np.abs(test[i])) for i in range(len(test))]\n",
    "print(sum(mape) / len(mape))\n",
    "rmse = [np.mean((actual_predictions[i] - test[i])**2)**.5 for i in range(len(test))]\n",
    "print(sum(rmse) / len(rmse))"
   ]
  },
  {
   "cell_type": "code",
   "execution_count": 112,
   "metadata": {},
   "outputs": [
    {
     "name": "stdout",
     "output_type": "stream",
     "text": [
      "0.00022637521290530245\n",
      "0.11717385842625015\n"
     ]
    }
   ],
   "source": [
    "predictions = []\n",
    "new_model.eval()\n",
    "with torch.no_grad():\n",
    "    predictions = [new_model(seq) for (seq, labels) in zip(X_test, y_test)]\n",
    "pred = [torch.cat((i, j)) for (i, j) in zip(X_test, predictions)]\n",
    "actual_predictions = np.array([np.array(i) for i in pred])\n",
    "mape = [np.mean(np.abs(actual_predictions[i] - test[i])/np.abs(test[i])) for i in range(len(test))]\n",
    "print(sum(mape) / len(mape))\n",
    "rmse = [np.mean((actual_predictions[i] - test[i])**2)**.5 for i in range(len(test))]\n",
    "print(sum(rmse) / len(rmse))"
   ]
  },
  {
   "cell_type": "code",
   "execution_count": 118,
   "metadata": {},
   "outputs": [
    {
     "data": {
      "text/plain": [
       "[<matplotlib.lines.Line2D at 0x7fe456dbfbe0>]"
      ]
     },
     "execution_count": 118,
     "metadata": {},
     "output_type": "execute_result"
    },
    {
     "data": {
      "image/png": "[encoded data removed]",
      "text/plain": [
       "<Figure size 1080x360 with 1 Axes>"
      ]
     },
     "metadata": {
      "needs_background": "light"
     },
     "output_type": "display_data"
    }
   ],
   "source": [
    "n = 3\n",
    "plt.plot(test_data[n].numpy())\n",
    "plt.plot(actual_predictions[n])\n",
    "# 1, 550"
   ]
  },
  {
   "cell_type": "code",
   "execution_count": null,
   "metadata": {},
   "outputs": [],
   "source": []
  },
  {
   "cell_type": "code",
   "execution_count": 123,
   "metadata": {},
   "outputs": [
    {
     "name": "stdout",
     "output_type": "stream",
     "text": [
      "0.0097781503902918\n",
      "47.752345287091714\n"
     ]
    }
   ],
   "source": [
    "predictions = []\n",
    "new_model.eval()\n",
    "with torch.no_grad():\n",
    "    predictions = [new_model(seq) for (seq, labels) in zip(X_test, y_test)]\n",
    "pred = [torch.cat((i, j)) for (i, j) in zip(X_test, predictions)]\n",
    "actual_predictions = np.array([np.array(i) for i in pred])\n",
    "mape = [np.mean(np.abs(actual_predictions[i] - test[i])/np.abs(test[i])) for i in range(len(test))]\n",
    "print(sum(mape) / len(mape))\n",
    "rmse = [np.mean((actual_predictions[i] - test[i])**2)**.5 for i in range(len(test))]\n",
    "print(sum(rmse) / len(rmse))"
   ]
  },
  {
   "cell_type": "code",
   "execution_count": 127,
   "metadata": {},
   "outputs": [
    {
     "data": {
      "text/plain": [
       "[<matplotlib.lines.Line2D at 0x7fe4ab035828>]"
      ]
     },
     "execution_count": 127,
     "metadata": {},
     "output_type": "execute_result"
    },
    {
     "data": {
      "image/png": "[encoded data removed]",
      "text/plain": [
       "<Figure size 1080x360 with 1 Axes>"
      ]
     },
     "metadata": {
      "needs_background": "light"
     },
     "output_type": "display_data"
    }
   ],
   "source": [
    "n = 1\n",
    "plt.plot(test_data[n].numpy())\n",
    "plt.plot(actual_predictions[n])\n",
    "# 1.5, 1000"
   ]
  },
  {
   "cell_type": "code",
   "execution_count": null,
   "metadata": {},
   "outputs": [],
   "source": []
  }
 ],
 "metadata": {
  "kernelspec": {
   "display_name": "Python 3",
   "language": "python",
   "name": "python3"
  },
  "language_info": {
   "codemirror_mode": {
    "name": "ipython",
    "version": 3
   },
   "file_extension": ".py",
   "mimetype": "text/x-python",
   "name": "python",
   "nbconvert_exporter": "python",
   "pygments_lexer": "ipython3",
   "version": "3.7.3"
  }
 },
 "nbformat": 4,
 "nbformat_minor": 4
}
