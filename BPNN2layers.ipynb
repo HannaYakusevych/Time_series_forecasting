{
 "cells": [
  {
   "cell_type": "code",
   "execution_count": 1,
   "metadata": {},
   "outputs": [],
   "source": [
    "import torch\n",
    "import torch.nn as nn\n",
    "import torch.nn.functional as F\n",
    "\n",
    "from pandas import read_csv\n",
    "from sklearn.model_selection import train_test_split\n",
    "\n",
    "import random\n",
    "import itertools\n",
    "import numpy as np\n",
    "import pandas as pd\n",
    "import matplotlib.pyplot as plt\n",
    "%matplotlib inline"
   ]
  },
  {
   "cell_type": "code",
   "execution_count": 2,
   "metadata": {},
   "outputs": [],
   "source": [
    "fig_size = plt.rcParams[\"figure.figsize\"]\n",
    "fig_size[0] = 15\n",
    "fig_size[1] = 5\n",
    "plt.rcParams[\"figure.figsize\"] = fig_size"
   ]
  },
  {
   "cell_type": "code",
   "execution_count": 3,
   "metadata": {},
   "outputs": [],
   "source": [
    "def prepare_data(df, num_elements=50):\n",
    "    new_data = []\n",
    "    length = df.shape[0]\n",
    "    current_index = 0\n",
    "    step = int(0.2 * num_elements)\n",
    "    while(current_index <= length - num_elements):\n",
    "        new_data.append(df[current_index:current_index+num_elements])\n",
    "        current_index += step\n",
    "    return new_data"
   ]
  },
  {
   "cell_type": "code",
   "execution_count": 11,
   "metadata": {},
   "outputs": [],
   "source": [
    "class BPNN(nn.Module):\n",
    "\n",
    "    def __init__(self, input_size, hidden_size1, hidden_size2):\n",
    "        super(BPNN, self).__init__()\n",
    "        # an affine operation: y = Wx + b\n",
    "        self.fc1 = nn.Linear(input_size, hidden_size1)  \n",
    "        self.fc2 = nn.Linear(hidden_size1, hidden_size2)\n",
    "        self.fc3 = nn.Linear(hidden_size2, 10)\n",
    "\n",
    "    def forward(self, x):\n",
    "        x = F.relu(self.fc1(x))\n",
    "        x = F.relu(self.fc2(x))\n",
    "        x = self.fc3(x)\n",
    "        return x"
   ]
  },
  {
   "cell_type": "code",
   "execution_count": 5,
   "metadata": {},
   "outputs": [],
   "source": [
    "def prepare_data(df, num_elements=50):\n",
    "    new_data = []\n",
    "    length = df.shape[0]\n",
    "    current_index = 0\n",
    "    step = int(0.2 * num_elements)\n",
    "    while(current_index <= length - num_elements):\n",
    "        new_data.append(df[current_index:current_index+num_elements])\n",
    "        current_index += step\n",
    "    return new_data"
   ]
  },
  {
   "cell_type": "code",
   "execution_count": 15,
   "metadata": {},
   "outputs": [],
   "source": [
    "def learn(num, count, data_len, lr=0.01):\n",
    "    num = [str(i) for i in range(num)]\n",
    "    p1 = [read_csv('ics_data_preprocessed/06_Smart_Meter_45/P1/' + str(count) + '/' + n + '.csv', squeeze=True, parse_dates=['ts'], index_col='ts') for n in num]\n",
    "    \n",
    "    p1 = [prepare_data(df, data_len) for df in p1]\n",
    "    p1 = sum(p1, [])\n",
    "    p1 = [df.values.tolist() for df in p1]\n",
    "    \n",
    "    train, test = train_test_split(p1, test_size=0.2, random_state=42)\n",
    "    train_data_normalized = train\n",
    "    test_data_normalized = test\n",
    "    \n",
    "    train_data, val_data = train_test_split(train_data_normalized, test_size=0.15, random_state=42)\n",
    "    train_data = torch.FloatTensor(train_data)\n",
    "    val_data = torch.FloatTensor(val_data)\n",
    "    test_data = torch.FloatTensor(test_data_normalized)\n",
    "    \n",
    "    X_train = train_data[:, :-10]\n",
    "    y_train = train_data[:, -10:]\n",
    "    X_val = val_data[:, :-10]\n",
    "    y_val = val_data[:, -10:]\n",
    "    X_test = test_data[:, :-10]\n",
    "    y_test = test_data[:, -10:]\n",
    "    \n",
    "    print(\"Data is ready\")\n",
    "    \n",
    "    best_model = BPNN(40, 50, 50)\n",
    "    loss_function = nn.MSELoss()\n",
    "    \n",
    "    val_losses = []\n",
    "    \n",
    "    best_hidden_layer_size1 = 50\n",
    "    best_hidden_layer_size2 = 50\n",
    "    \n",
    "    for hidden_layer_size1, hidden_layer_size2 in list(itertools.product([100, 150, 200, 250], [100, 150, 200, 250])):\n",
    "        losses = []\n",
    "        \n",
    "    \n",
    "        model = BPNN(data_len - 10, hidden_layer_size1, hidden_layer_size2)\n",
    "        optimizer = torch.optim.Adam(model.parameters(), lr=lr)\n",
    "    \n",
    "        epochs = 1000\n",
    "        \n",
    "        for i in range(epochs):\n",
    "            model.train()\n",
    "            \n",
    "            optimizer.zero_grad()\n",
    "            \n",
    "            y_pred = model(X_train)\n",
    "            single_loss = loss_function(y_pred, y_train)\n",
    "            losses.append(single_loss)\n",
    "            \n",
    "            single_loss.backward()\n",
    "            optimizer.step()\n",
    "            \n",
    "            \n",
    "            model.eval()\n",
    "\n",
    "            with torch.no_grad():\n",
    "                y_pred = model(X_val)\n",
    "\n",
    "                single_loss = loss_function(y_pred, y_val)\n",
    "\n",
    "                if (len(val_losses) == 0) or (single_loss < min(val_losses)):\n",
    "#                     if (len(val_losses) > 0):\n",
    "#                         print(\"losses:\", single_loss, min(val_losses))\n",
    "                    best_hidden_layer_size1 = hidden_layer_size1\n",
    "                    best_hidden_layer_size2 = hidden_layer_size2\n",
    "                    best_model = model\n",
    "                \n",
    "                val_losses.append(single_loss)\n",
    "            \n",
    "#             if (len(val_losses) > 0 and i%5 == 1):\n",
    "#                 print(val_losses[-1], min(val_losses))\n",
    "\n",
    "#         print(f'epoch: {i:3} loss: {single_loss.item():10.10f}')\n",
    "        print(hidden_layer_size1, hidden_layer_size2, \"finished\")\n",
    "    print(\"best model hidden size:\", best_hidden_layer_size1, best_hidden_layer_size2)\n",
    "    \n",
    "    predictions = []\n",
    "    best_model.eval()\n",
    "    with torch.no_grad():\n",
    "        predictions = [best_model(seq) for (seq, labels) in zip(X_test, y_test)]\n",
    "    pred = [torch.cat((i, j)) for (i, j) in zip(X_test, predictions)]\n",
    "    actual_predictions = np.array([np.array(i) for i in pred])\n",
    "    mape = [np.mean(np.abs(actual_predictions[i] - test[i])/np.abs(test[i])) for i in range(len(test))]\n",
    "    print(sum(mape) / len(mape))\n",
    "    rmse = [np.mean((actual_predictions[i] - test[i])**2)**.5 for i in range(len(test))]\n",
    "    print(sum(rmse) / len(rmse))\n",
    "    \n",
    "    return best_model\n",
    "     "
   ]
  },
  {
   "cell_type": "code",
   "execution_count": 7,
   "metadata": {},
   "outputs": [],
   "source": [
    "random.seed(42)"
   ]
  },
  {
   "cell_type": "markdown",
   "metadata": {},
   "source": [
    "# 1s"
   ]
  },
  {
   "cell_type": "code",
   "execution_count": 216,
   "metadata": {
    "collapsed": true,
    "jupyter": {
     "outputs_hidden": true
    }
   },
   "outputs": [
    {
     "name": "stdout",
     "output_type": "stream",
     "text": [
      "Data is ready\n",
      "bast model hidden size: 10\n",
      "bast model hidden size: 10\n",
      "bast model hidden size: 10\n",
      "bast model hidden size: 10\n",
      "bast model hidden size: 10\n",
      "bast model hidden size: 10\n",
      "bast model hidden size: 10\n",
      "bast model hidden size: 10\n",
      "bast model hidden size: 10\n",
      "bast model hidden size: 10\n",
      "bast model hidden size: 10\n",
      "bast model hidden size: 10\n",
      "bast model hidden size: 10\n",
      "bast model hidden size: 10\n",
      "bast model hidden size: 10\n",
      "bast model hidden size: 10\n",
      "bast model hidden size: 10\n",
      "bast model hidden size: 10\n",
      "bast model hidden size: 10\n",
      "bast model hidden size: 10\n",
      "bast model hidden size: 10\n",
      "bast model hidden size: 10\n",
      "bast model hidden size: 10\n",
      "bast model hidden size: 10\n",
      "bast model hidden size: 10\n",
      "bast model hidden size: 10\n",
      "bast model hidden size: 10\n",
      "bast model hidden size: 10\n",
      "bast model hidden size: 10\n",
      "bast model hidden size: 10\n",
      "bast model hidden size: 10\n",
      "bast model hidden size: 10\n",
      "bast model hidden size: 10\n",
      "bast model hidden size: 10\n",
      "bast model hidden size: 10\n",
      "bast model hidden size: 10\n",
      "bast model hidden size: 10\n",
      "bast model hidden size: 10\n",
      "bast model hidden size: 10\n",
      "bast model hidden size: 10\n",
      "bast model hidden size: 10\n",
      "bast model hidden size: 10\n",
      "bast model hidden size: 10\n",
      "bast model hidden size: 10\n",
      "bast model hidden size: 10\n",
      "bast model hidden size: 10\n",
      "bast model hidden size: 10\n",
      "bast model hidden size: 10\n",
      "bast model hidden size: 10\n",
      "bast model hidden size: 10\n",
      "bast model hidden size: 10\n",
      "bast model hidden size: 10\n",
      "bast model hidden size: 10\n",
      "bast model hidden size: 10\n",
      "bast model hidden size: 10\n",
      "bast model hidden size: 10\n",
      "bast model hidden size: 10\n",
      "bast model hidden size: 10\n",
      "bast model hidden size: 10\n",
      "bast model hidden size: 10\n",
      "bast model hidden size: 10\n",
      "bast model hidden size: 10\n",
      "bast model hidden size: 10\n",
      "bast model hidden size: 10\n",
      "bast model hidden size: 10\n",
      "bast model hidden size: 10\n",
      "bast model hidden size: 10\n",
      "bast model hidden size: 10\n",
      "bast model hidden size: 10\n",
      "bast model hidden size: 10\n",
      "bast model hidden size: 10\n",
      "bast model hidden size: 10\n",
      "bast model hidden size: 10\n",
      "bast model hidden size: 10\n",
      "bast model hidden size: 10\n",
      "bast model hidden size: 10\n",
      "bast model hidden size: 10\n",
      "bast model hidden size: 10\n",
      "bast model hidden size: 10\n",
      "bast model hidden size: 10\n",
      "bast model hidden size: 10\n",
      "bast model hidden size: 10\n",
      "bast model hidden size: 10\n",
      "bast model hidden size: 10\n",
      "bast model hidden size: 10\n",
      "bast model hidden size: 10\n",
      "bast model hidden size: 10\n",
      "bast model hidden size: 10\n",
      "bast model hidden size: 10\n",
      "bast model hidden size: 10\n",
      "bast model hidden size: 10\n",
      "bast model hidden size: 10\n",
      "bast model hidden size: 10\n",
      "bast model hidden size: 10\n",
      "bast model hidden size: 10\n",
      "bast model hidden size: 10\n",
      "bast model hidden size: 10\n",
      "bast model hidden size: 10\n",
      "bast model hidden size: 10\n",
      "bast model hidden size: 10\n",
      "bast model hidden size: 10\n",
      "bast model hidden size: 10\n",
      "bast model hidden size: 10\n",
      "bast model hidden size: 10\n",
      "bast model hidden size: 10\n",
      "bast model hidden size: 10\n",
      "bast model hidden size: 10\n",
      "bast model hidden size: 10\n",
      "bast model hidden size: 10\n",
      "bast model hidden size: 10\n",
      "bast model hidden size: 10\n",
      "bast model hidden size: 10\n",
      "bast model hidden size: 10\n",
      "bast model hidden size: 10\n",
      "bast model hidden size: 10\n",
      "bast model hidden size: 10\n",
      "bast model hidden size: 10\n",
      "bast model hidden size: 10\n",
      "bast model hidden size: 10\n",
      "bast model hidden size: 10\n",
      "bast model hidden size: 10\n",
      "bast model hidden size: 10\n",
      "bast model hidden size: 10\n",
      "bast model hidden size: 10\n",
      "bast model hidden size: 10\n",
      "bast model hidden size: 10\n",
      "bast model hidden size: 10\n",
      "bast model hidden size: 10\n",
      "bast model hidden size: 10\n",
      "bast model hidden size: 10\n",
      "bast model hidden size: 10\n",
      "bast model hidden size: 10\n",
      "bast model hidden size: 10\n",
      "bast model hidden size: 10\n",
      "bast model hidden size: 10\n",
      "bast model hidden size: 10\n",
      "bast model hidden size: 10\n",
      "bast model hidden size: 10\n",
      "bast model hidden size: 10\n",
      "bast model hidden size: 10\n",
      "bast model hidden size: 10\n",
      "bast model hidden size: 10\n",
      "bast model hidden size: 10\n",
      "bast model hidden size: 10\n",
      "bast model hidden size: 10\n",
      "bast model hidden size: 10\n",
      "bast model hidden size: 10\n",
      "bast model hidden size: 10\n",
      "bast model hidden size: 10\n",
      "bast model hidden size: 10\n",
      "bast model hidden size: 10\n",
      "bast model hidden size: 10\n",
      "bast model hidden size: 10\n",
      "bast model hidden size: 10\n",
      "bast model hidden size: 10\n",
      "bast model hidden size: 10\n",
      "bast model hidden size: 10\n",
      "bast model hidden size: 10\n",
      "bast model hidden size: 10\n",
      "bast model hidden size: 10\n",
      "bast model hidden size: 10\n",
      "bast model hidden size: 10\n",
      "bast model hidden size: 10\n",
      "bast model hidden size: 10\n",
      "bast model hidden size: 10\n",
      "bast model hidden size: 10\n",
      "bast model hidden size: 10\n",
      "bast model hidden size: 10\n",
      "bast model hidden size: 10\n",
      "bast model hidden size: 10\n",
      "bast model hidden size: 10\n",
      "bast model hidden size: 10\n",
      "bast model hidden size: 10\n",
      "bast model hidden size: 10\n",
      "bast model hidden size: 10\n",
      "bast model hidden size: 10\n",
      "bast model hidden size: 10\n",
      "bast model hidden size: 10\n",
      "bast model hidden size: 10\n",
      "bast model hidden size: 10\n",
      "bast model hidden size: 10\n",
      "bast model hidden size: 10\n",
      "bast model hidden size: 10\n",
      "bast model hidden size: 10\n",
      "bast model hidden size: 10\n",
      "bast model hidden size: 10\n",
      "bast model hidden size: 10\n",
      "bast model hidden size: 10\n",
      "bast model hidden size: 10\n",
      "bast model hidden size: 10\n",
      "bast model hidden size: 10\n",
      "bast model hidden size: 10\n",
      "bast model hidden size: 10\n",
      "bast model hidden size: 10\n",
      "bast model hidden size: 10\n",
      "bast model hidden size: 10\n",
      "bast model hidden size: 10\n",
      "bast model hidden size: 10\n",
      "bast model hidden size: 10\n",
      "bast model hidden size: 10\n",
      "bast model hidden size: 10\n",
      "bast model hidden size: 10\n",
      "bast model hidden size: 10\n",
      "bast model hidden size: 10\n",
      "bast model hidden size: 10\n",
      "bast model hidden size: 10\n",
      "bast model hidden size: 10\n",
      "bast model hidden size: 10\n",
      "bast model hidden size: 10\n",
      "bast model hidden size: 10\n",
      "bast model hidden size: 10\n",
      "bast model hidden size: 10\n",
      "bast model hidden size: 10\n",
      "bast model hidden size: 10\n",
      "bast model hidden size: 10\n",
      "bast model hidden size: 10\n",
      "bast model hidden size: 10\n",
      "bast model hidden size: 10\n",
      "bast model hidden size: 10\n",
      "bast model hidden size: 10\n",
      "bast model hidden size: 10\n",
      "bast model hidden size: 10\n",
      "bast model hidden size: 10\n",
      "bast model hidden size: 10\n",
      "bast model hidden size: 10\n",
      "bast model hidden size: 10\n",
      "bast model hidden size: 10\n",
      "bast model hidden size: 10\n",
      "bast model hidden size: 10\n",
      "bast model hidden size: 10\n",
      "bast model hidden size: 10\n",
      "bast model hidden size: 10\n",
      "bast model hidden size: 10\n",
      "bast model hidden size: 10\n",
      "bast model hidden size: 10\n",
      "bast model hidden size: 10\n",
      "bast model hidden size: 10\n",
      "bast model hidden size: 10\n",
      "bast model hidden size: 10\n",
      "bast model hidden size: 10\n",
      "bast model hidden size: 10\n",
      "bast model hidden size: 10\n",
      "bast model hidden size: 10\n",
      "bast model hidden size: 10\n",
      "bast model hidden size: 10\n",
      "bast model hidden size: 10\n",
      "bast model hidden size: 10\n",
      "bast model hidden size: 10\n",
      "bast model hidden size: 10\n",
      "bast model hidden size: 10\n",
      "bast model hidden size: 10\n",
      "bast model hidden size: 10\n",
      "bast model hidden size: 10\n",
      "bast model hidden size: 10\n",
      "bast model hidden size: 10\n",
      "bast model hidden size: 10\n",
      "bast model hidden size: 10\n",
      "bast model hidden size: 10\n",
      "bast model hidden size: 10\n",
      "bast model hidden size: 10\n",
      "bast model hidden size: 10\n",
      "bast model hidden size: 10\n",
      "bast model hidden size: 10\n",
      "bast model hidden size: 10\n",
      "bast model hidden size: 10\n",
      "bast model hidden size: 10\n",
      "bast model hidden size: 10\n",
      "bast model hidden size: 10\n",
      "bast model hidden size: 10\n",
      "bast model hidden size: 10\n",
      "bast model hidden size: 10\n",
      "bast model hidden size: 10\n",
      "bast model hidden size: 10\n",
      "bast model hidden size: 10\n",
      "bast model hidden size: 10\n",
      "bast model hidden size: 10\n",
      "bast model hidden size: 10\n",
      "bast model hidden size: 10\n",
      "bast model hidden size: 10\n",
      "bast model hidden size: 10\n",
      "bast model hidden size: 10\n",
      "bast model hidden size: 10\n",
      "bast model hidden size: 10\n",
      "bast model hidden size: 10\n",
      "bast model hidden size: 10\n",
      "bast model hidden size: 10\n",
      "bast model hidden size: 10\n",
      "bast model hidden size: 10\n",
      "bast model hidden size: 10\n",
      "bast model hidden size: 10\n",
      "bast model hidden size: 10\n",
      "bast model hidden size: 10\n",
      "bast model hidden size: 10\n",
      "bast model hidden size: 10\n",
      "bast model hidden size: 10\n",
      "bast model hidden size: 10\n",
      "bast model hidden size: 10\n",
      "bast model hidden size: 10\n",
      "bast model hidden size: 10\n",
      "bast model hidden size: 10\n",
      "bast model hidden size: 10\n",
      "bast model hidden size: 10\n",
      "bast model hidden size: 10\n",
      "bast model hidden size: 10\n",
      "bast model hidden size: 10\n",
      "bast model hidden size: 10\n",
      "bast model hidden size: 10\n",
      "bast model hidden size: 10\n",
      "bast model hidden size: 10\n",
      "bast model hidden size: 10\n",
      "bast model hidden size: 10\n",
      "bast model hidden size: 10\n",
      "bast model hidden size: 10\n",
      "bast model hidden size: 10\n",
      "bast model hidden size: 10\n",
      "bast model hidden size: 10\n",
      "bast model hidden size: 10\n",
      "bast model hidden size: 10\n",
      "bast model hidden size: 10\n",
      "bast model hidden size: 10\n",
      "bast model hidden size: 10\n",
      "bast model hidden size: 10\n",
      "bast model hidden size: 10\n",
      "bast model hidden size: 10\n",
      "bast model hidden size: 10\n",
      "bast model hidden size: 10\n",
      "bast model hidden size: 10\n",
      "bast model hidden size: 10\n",
      "bast model hidden size: 10\n",
      "bast model hidden size: 10\n",
      "bast model hidden size: 10\n",
      "bast model hidden size: 10\n",
      "bast model hidden size: 10\n",
      "bast model hidden size: 10\n",
      "bast model hidden size: 10\n",
      "bast model hidden size: 10\n",
      "bast model hidden size: 10\n",
      "bast model hidden size: 10\n",
      "bast model hidden size: 10\n",
      "bast model hidden size: 10\n",
      "bast model hidden size: 10\n",
      "bast model hidden size: 10\n",
      "bast model hidden size: 10\n",
      "bast model hidden size: 10\n",
      "bast model hidden size: 10\n",
      "bast model hidden size: 10\n",
      "bast model hidden size: 10\n",
      "bast model hidden size: 10\n",
      "bast model hidden size: 10\n",
      "bast model hidden size: 10\n",
      "bast model hidden size: 10\n",
      "bast model hidden size: 10\n",
      "bast model hidden size: 10\n",
      "bast model hidden size: 10\n",
      "bast model hidden size: 10\n",
      "bast model hidden size: 10\n",
      "bast model hidden size: 10\n",
      "bast model hidden size: 10\n",
      "bast model hidden size: 10\n",
      "bast model hidden size: 10\n",
      "bast model hidden size: 10\n",
      "bast model hidden size: 10\n",
      "bast model hidden size: 10\n",
      "bast model hidden size: 10\n",
      "bast model hidden size: 10\n",
      "bast model hidden size: 10\n",
      "bast model hidden size: 10\n",
      "bast model hidden size: 10\n",
      "bast model hidden size: 10\n",
      "bast model hidden size: 10\n",
      "bast model hidden size: 10\n",
      "bast model hidden size: 10\n",
      "bast model hidden size: 10\n",
      "bast model hidden size: 10\n",
      "bast model hidden size: 10\n",
      "bast model hidden size: 10\n",
      "bast model hidden size: 10\n",
      "bast model hidden size: 10\n",
      "bast model hidden size: 10\n",
      "bast model hidden size: 10\n",
      "bast model hidden size: 10\n",
      "bast model hidden size: 10\n",
      "bast model hidden size: 10\n",
      "bast model hidden size: 10\n",
      "bast model hidden size: 10\n",
      "bast model hidden size: 10\n",
      "bast model hidden size: 10\n",
      "bast model hidden size: 10\n",
      "bast model hidden size: 10\n",
      "bast model hidden size: 10\n",
      "bast model hidden size: 10\n",
      "bast model hidden size: 10\n",
      "bast model hidden size: 10\n",
      "bast model hidden size: 10\n",
      "bast model hidden size: 10\n",
      "bast model hidden size: 10\n",
      "bast model hidden size: 10\n",
      "bast model hidden size: 10\n",
      "bast model hidden size: 10\n",
      "bast model hidden size: 10\n",
      "bast model hidden size: 10\n",
      "bast model hidden size: 10\n",
      "bast model hidden size: 10\n",
      "bast model hidden size: 10\n",
      "bast model hidden size: 10\n",
      "bast model hidden size: 10\n",
      "bast model hidden size: 10\n",
      "bast model hidden size: 10\n",
      "bast model hidden size: 10\n",
      "bast model hidden size: 10\n",
      "bast model hidden size: 10\n",
      "bast model hidden size: 10\n",
      "bast model hidden size: 10\n",
      "bast model hidden size: 10\n",
      "bast model hidden size: 10\n",
      "bast model hidden size: 10\n",
      "bast model hidden size: 10\n",
      "bast model hidden size: 10\n",
      "bast model hidden size: 10\n",
      "bast model hidden size: 10\n",
      "bast model hidden size: 10\n",
      "bast model hidden size: 10\n",
      "bast model hidden size: 10\n",
      "bast model hidden size: 10\n",
      "bast model hidden size: 10\n",
      "bast model hidden size: 10\n",
      "bast model hidden size: 10\n",
      "bast model hidden size: 10\n",
      "bast model hidden size: 10\n",
      "bast model hidden size: 10\n",
      "bast model hidden size: 10\n",
      "bast model hidden size: 10\n",
      "bast model hidden size: 10\n",
      "bast model hidden size: 10\n",
      "bast model hidden size: 10\n",
      "bast model hidden size: 10\n",
      "bast model hidden size: 10\n",
      "bast model hidden size: 10\n",
      "bast model hidden size: 10\n",
      "bast model hidden size: 10\n",
      "bast model hidden size: 10\n",
      "bast model hidden size: 10\n",
      "bast model hidden size: 10\n",
      "bast model hidden size: 10\n",
      "bast model hidden size: 10\n",
      "bast model hidden size: 10\n",
      "bast model hidden size: 10\n",
      "bast model hidden size: 10\n",
      "bast model hidden size: 10\n",
      "bast model hidden size: 10\n",
      "bast model hidden size: 10\n",
      "bast model hidden size: 10\n",
      "bast model hidden size: 10\n",
      "bast model hidden size: 10\n",
      "bast model hidden size: 10\n",
      "bast model hidden size: 10\n",
      "bast model hidden size: 10\n",
      "bast model hidden size: 10\n",
      "bast model hidden size: 10\n",
      "bast model hidden size: 10\n",
      "bast model hidden size: 10\n",
      "bast model hidden size: 10\n",
      "bast model hidden size: 10\n",
      "bast model hidden size: 10\n",
      "bast model hidden size: 10\n",
      "bast model hidden size: 10\n",
      "bast model hidden size: 10\n",
      "bast model hidden size: 10\n",
      "bast model hidden size: 10\n",
      "bast model hidden size: 10\n",
      "bast model hidden size: 10\n",
      "bast model hidden size: 10\n",
      "bast model hidden size: 10\n",
      "bast model hidden size: 10\n",
      "bast model hidden size: 10\n",
      "bast model hidden size: 10\n",
      "bast model hidden size: 10\n",
      "bast model hidden size: 10\n",
      "bast model hidden size: 10\n",
      "bast model hidden size: 10\n",
      "bast model hidden size: 10\n",
      "bast model hidden size: 10\n",
      "bast model hidden size: 10\n",
      "bast model hidden size: 10\n",
      "bast model hidden size: 10\n",
      "bast model hidden size: 10\n",
      "bast model hidden size: 10\n",
      "bast model hidden size: 10\n",
      "bast model hidden size: 10\n",
      "bast model hidden size: 10\n",
      "bast model hidden size: 10\n",
      "bast model hidden size: 10\n",
      "bast model hidden size: 10\n",
      "bast model hidden size: 10\n",
      "bast model hidden size: 10\n",
      "bast model hidden size: 10\n",
      "bast model hidden size: 10\n",
      "bast model hidden size: 10\n",
      "bast model hidden size: 10\n",
      "bast model hidden size: 10\n",
      "bast model hidden size: 10\n",
      "bast model hidden size: 10\n",
      "bast model hidden size: 10\n",
      "bast model hidden size: 10\n",
      "bast model hidden size: 10\n",
      "bast model hidden size: 10\n",
      "bast model hidden size: 10\n",
      "bast model hidden size: 10\n",
      "bast model hidden size: 10\n",
      "bast model hidden size: 10\n",
      "bast model hidden size: 10\n",
      "bast model hidden size: 10\n",
      "bast model hidden size: 10\n",
      "bast model hidden size: 10\n",
      "bast model hidden size: 10\n",
      "bast model hidden size: 10\n",
      "bast model hidden size: 10\n",
      "bast model hidden size: 10\n",
      "bast model hidden size: 10\n",
      "bast model hidden size: 10\n",
      "bast model hidden size: 10\n",
      "bast model hidden size: 10\n",
      "bast model hidden size: 10\n",
      "bast model hidden size: 10\n",
      "bast model hidden size: 10\n",
      "bast model hidden size: 10\n",
      "bast model hidden size: 10\n",
      "bast model hidden size: 10\n",
      "bast model hidden size: 10\n",
      "bast model hidden size: 10\n",
      "bast model hidden size: 10\n",
      "bast model hidden size: 10\n",
      "bast model hidden size: 10\n",
      "bast model hidden size: 10\n",
      "bast model hidden size: 10\n",
      "bast model hidden size: 10\n",
      "bast model hidden size: 10\n",
      "bast model hidden size: 10\n",
      "bast model hidden size: 10\n",
      "bast model hidden size: 10\n",
      "bast model hidden size: 10\n",
      "bast model hidden size: 10\n",
      "bast model hidden size: 10\n",
      "bast model hidden size: 10\n",
      "bast model hidden size: 10\n",
      "bast model hidden size: 10\n",
      "bast model hidden size: 10\n",
      "bast model hidden size: 10\n",
      "bast model hidden size: 10\n",
      "bast model hidden size: 10\n",
      "bast model hidden size: 10\n",
      "bast model hidden size: 10\n",
      "bast model hidden size: 10\n",
      "bast model hidden size: 10\n",
      "bast model hidden size: 10\n",
      "bast model hidden size: 10\n",
      "bast model hidden size: 10\n",
      "bast model hidden size: 10\n",
      "bast model hidden size: 10\n",
      "bast model hidden size: 10\n",
      "bast model hidden size: 10\n",
      "bast model hidden size: 10\n",
      "bast model hidden size: 10\n",
      "bast model hidden size: 10\n",
      "bast model hidden size: 10\n",
      "bast model hidden size: 10\n",
      "bast model hidden size: 10\n",
      "bast model hidden size: 10\n",
      "bast model hidden size: 10\n",
      "bast model hidden size: 10\n",
      "bast model hidden size: 10\n",
      "bast model hidden size: 10\n",
      "bast model hidden size: 10\n",
      "bast model hidden size: 10\n",
      "bast model hidden size: 10\n",
      "bast model hidden size: 10\n",
      "bast model hidden size: 10\n",
      "bast model hidden size: 10\n",
      "bast model hidden size: 10\n",
      "bast model hidden size: 10\n",
      "bast model hidden size: 10\n",
      "bast model hidden size: 10\n",
      "bast model hidden size: 10\n",
      "bast model hidden size: 10\n",
      "bast model hidden size: 10\n",
      "bast model hidden size: 10\n",
      "bast model hidden size: 10\n",
      "bast model hidden size: 10\n",
      "bast model hidden size: 10\n",
      "bast model hidden size: 10\n",
      "bast model hidden size: 10\n",
      "bast model hidden size: 10\n",
      "bast model hidden size: 10\n",
      "bast model hidden size: 10\n",
      "bast model hidden size: 10\n",
      "bast model hidden size: 10\n",
      "bast model hidden size: 10\n",
      "bast model hidden size: 10\n",
      "bast model hidden size: 10\n",
      "bast model hidden size: 10\n",
      "bast model hidden size: 10\n",
      "bast model hidden size: 10\n",
      "bast model hidden size: 10\n",
      "bast model hidden size: 10\n",
      "bast model hidden size: 10\n",
      "bast model hidden size: 10\n",
      "bast model hidden size: 10\n",
      "bast model hidden size: 10\n",
      "bast model hidden size: 10\n",
      "bast model hidden size: 10\n",
      "bast model hidden size: 10\n",
      "bast model hidden size: 10\n",
      "bast model hidden size: 10\n",
      "bast model hidden size: 10\n",
      "bast model hidden size: 10\n",
      "bast model hidden size: 10\n",
      "bast model hidden size: 10\n",
      "bast model hidden size: 10\n",
      "bast model hidden size: 10\n",
      "bast model hidden size: 10\n",
      "bast model hidden size: 10\n",
      "bast model hidden size: 10\n",
      "bast model hidden size: 10\n",
      "bast model hidden size: 10\n",
      "bast model hidden size: 10\n",
      "bast model hidden size: 10\n",
      "bast model hidden size: 10\n",
      "bast model hidden size: 10\n",
      "bast model hidden size: 10\n",
      "bast model hidden size: 10\n",
      "bast model hidden size: 10\n",
      "bast model hidden size: 10\n",
      "bast model hidden size: 10\n",
      "bast model hidden size: 10\n",
      "bast model hidden size: 10\n",
      "bast model hidden size: 10\n",
      "bast model hidden size: 10\n",
      "bast model hidden size: 10\n",
      "bast model hidden size: 10\n",
      "bast model hidden size: 10\n",
      "bast model hidden size: 10\n",
      "bast model hidden size: 10\n",
      "bast model hidden size: 10\n",
      "bast model hidden size: 10\n",
      "bast model hidden size: 10\n",
      "bast model hidden size: 10\n",
      "bast model hidden size: 10\n",
      "bast model hidden size: 10\n",
      "bast model hidden size: 10\n",
      "bast model hidden size: 10\n",
      "bast model hidden size: 10\n",
      "bast model hidden size: 10\n",
      "bast model hidden size: 10\n",
      "bast model hidden size: 10\n",
      "bast model hidden size: 10\n",
      "bast model hidden size: 10\n",
      "bast model hidden size: 10\n",
      "bast model hidden size: 10\n",
      "bast model hidden size: 10\n",
      "bast model hidden size: 10\n",
      "bast model hidden size: 10\n",
      "bast model hidden size: 10\n",
      "bast model hidden size: 10\n",
      "bast model hidden size: 10\n",
      "bast model hidden size: 10\n",
      "bast model hidden size: 10\n",
      "bast model hidden size: 10\n",
      "bast model hidden size: 10\n",
      "bast model hidden size: 10\n",
      "bast model hidden size: 10\n",
      "bast model hidden size: 10\n",
      "bast model hidden size: 10\n",
      "bast model hidden size: 10\n",
      "bast model hidden size: 10\n",
      "bast model hidden size: 10\n",
      "bast model hidden size: 10\n",
      "bast model hidden size: 10\n",
      "bast model hidden size: 10\n",
      "bast model hidden size: 10\n",
      "bast model hidden size: 10\n",
      "bast model hidden size: 10\n",
      "bast model hidden size: 10\n",
      "bast model hidden size: 10\n",
      "bast model hidden size: 10\n",
      "bast model hidden size: 10\n",
      "bast model hidden size: 10\n",
      "bast model hidden size: 10\n",
      "bast model hidden size: 10\n",
      "bast model hidden size: 10\n",
      "bast model hidden size: 10\n",
      "bast model hidden size: 10\n",
      "bast model hidden size: 10\n",
      "bast model hidden size: 10\n",
      "bast model hidden size: 10\n",
      "bast model hidden size: 10\n",
      "bast model hidden size: 10\n",
      "bast model hidden size: 10\n",
      "bast model hidden size: 10\n",
      "bast model hidden size: 10\n",
      "bast model hidden size: 10\n",
      "bast model hidden size: 10\n",
      "bast model hidden size: 10\n",
      "bast model hidden size: 10\n",
      "bast model hidden size: 10\n",
      "bast model hidden size: 10\n",
      "bast model hidden size: 10\n",
      "bast model hidden size: 10\n",
      "bast model hidden size: 10\n",
      "bast model hidden size: 10\n",
      "bast model hidden size: 10\n",
      "bast model hidden size: 10\n",
      "bast model hidden size: 10\n",
      "bast model hidden size: 10\n",
      "bast model hidden size: 10\n",
      "bast model hidden size: 10\n",
      "bast model hidden size: 10\n",
      "bast model hidden size: 10\n",
      "bast model hidden size: 10\n",
      "bast model hidden size: 10\n",
      "bast model hidden size: 10\n",
      "bast model hidden size: 10\n",
      "bast model hidden size: 10\n",
      "bast model hidden size: 10\n",
      "bast model hidden size: 10\n",
      "bast model hidden size: 10\n",
      "bast model hidden size: 10\n",
      "bast model hidden size: 10\n",
      "bast model hidden size: 10\n",
      "bast model hidden size: 10\n",
      "bast model hidden size: 10\n",
      "bast model hidden size: 10\n",
      "bast model hidden size: 10\n",
      "bast model hidden size: 10\n",
      "bast model hidden size: 10\n",
      "bast model hidden size: 10\n",
      "bast model hidden size: 10\n",
      "bast model hidden size: 10\n",
      "bast model hidden size: 10\n",
      "bast model hidden size: 10\n",
      "bast model hidden size: 10\n",
      "bast model hidden size: 10\n",
      "bast model hidden size: 10\n",
      "bast model hidden size: 10\n",
      "bast model hidden size: 10\n",
      "bast model hidden size: 10\n",
      "bast model hidden size: 10\n",
      "bast model hidden size: 10\n",
      "bast model hidden size: 10\n",
      "bast model hidden size: 10\n",
      "bast model hidden size: 10\n",
      "bast model hidden size: 10\n",
      "bast model hidden size: 10\n",
      "bast model hidden size: 10\n",
      "bast model hidden size: 10\n",
      "bast model hidden size: 10\n",
      "bast model hidden size: 10\n",
      "bast model hidden size: 10\n",
      "bast model hidden size: 10\n",
      "bast model hidden size: 10\n",
      "bast model hidden size: 10\n",
      "bast model hidden size: 10\n",
      "bast model hidden size: 10\n",
      "bast model hidden size: 10\n",
      "bast model hidden size: 10\n",
      "bast model hidden size: 10\n",
      "bast model hidden size: 10\n",
      "bast model hidden size: 10\n",
      "bast model hidden size: 10\n",
      "bast model hidden size: 10\n",
      "bast model hidden size: 10\n",
      "bast model hidden size: 10\n",
      "bast model hidden size: 10\n",
      "bast model hidden size: 10\n",
      "bast model hidden size: 10\n",
      "bast model hidden size: 10\n",
      "bast model hidden size: 10\n",
      "bast model hidden size: 10\n",
      "bast model hidden size: 10\n",
      "bast model hidden size: 10\n",
      "bast model hidden size: 10\n",
      "bast model hidden size: 10\n",
      "bast model hidden size: 10\n",
      "bast model hidden size: 10\n",
      "bast model hidden size: 10\n",
      "bast model hidden size: 10\n",
      "bast model hidden size: 10\n",
      "bast model hidden size: 10\n",
      "bast model hidden size: 10\n",
      "bast model hidden size: 10\n",
      "bast model hidden size: 10\n",
      "bast model hidden size: 10\n",
      "bast model hidden size: 10\n",
      "bast model hidden size: 10\n",
      "bast model hidden size: 10\n",
      "bast model hidden size: 10\n",
      "bast model hidden size: 10\n",
      "bast model hidden size: 10\n",
      "bast model hidden size: 10\n",
      "bast model hidden size: 10\n",
      "bast model hidden size: 10\n",
      "bast model hidden size: 10\n",
      "bast model hidden size: 10\n",
      "bast model hidden size: 10\n",
      "bast model hidden size: 10\n",
      "bast model hidden size: 10\n",
      "bast model hidden size: 10\n",
      "bast model hidden size: 10\n",
      "bast model hidden size: 10\n",
      "bast model hidden size: 10\n",
      "bast model hidden size: 10\n",
      "bast model hidden size: 10\n",
      "bast model hidden size: 10\n",
      "bast model hidden size: 10\n",
      "bast model hidden size: 10\n",
      "bast model hidden size: 10\n",
      "bast model hidden size: 10\n",
      "bast model hidden size: 10\n",
      "bast model hidden size: 10\n",
      "bast model hidden size: 10\n",
      "bast model hidden size: 10\n",
      "bast model hidden size: 10\n",
      "bast model hidden size: 10\n",
      "bast model hidden size: 10\n",
      "bast model hidden size: 10\n",
      "bast model hidden size: 10\n",
      "bast model hidden size: 10\n",
      "bast model hidden size: 10\n",
      "bast model hidden size: 10\n",
      "bast model hidden size: 10\n",
      "bast model hidden size: 10\n",
      "bast model hidden size: 10\n",
      "bast model hidden size: 10\n",
      "bast model hidden size: 10\n",
      "bast model hidden size: 10\n",
      "bast model hidden size: 10\n",
      "bast model hidden size: 10\n",
      "bast model hidden size: 10\n",
      "bast model hidden size: 10\n",
      "bast model hidden size: 10\n",
      "bast model hidden size: 10\n",
      "bast model hidden size: 10\n",
      "bast model hidden size: 10\n",
      "bast model hidden size: 10\n",
      "bast model hidden size: 10\n",
      "bast model hidden size: 10\n",
      "bast model hidden size: 10\n",
      "bast model hidden size: 10\n",
      "bast model hidden size: 10\n",
      "bast model hidden size: 10\n",
      "bast model hidden size: 10\n",
      "bast model hidden size: 10\n",
      "bast model hidden size: 10\n",
      "bast model hidden size: 10\n",
      "bast model hidden size: 10\n",
      "bast model hidden size: 10\n",
      "bast model hidden size: 10\n",
      "bast model hidden size: 10\n",
      "bast model hidden size: 10\n",
      "bast model hidden size: 10\n",
      "bast model hidden size: 10\n",
      "bast model hidden size: 10\n",
      "bast model hidden size: 10\n",
      "bast model hidden size: 10\n",
      "bast model hidden size: 10\n",
      "bast model hidden size: 10\n",
      "bast model hidden size: 10\n",
      "bast model hidden size: 10\n",
      "bast model hidden size: 10\n",
      "bast model hidden size: 10\n",
      "bast model hidden size: 10\n",
      "bast model hidden size: 10\n",
      "bast model hidden size: 10\n",
      "bast model hidden size: 10\n",
      "bast model hidden size: 10\n",
      "bast model hidden size: 10\n",
      "bast model hidden size: 10\n",
      "bast model hidden size: 10\n",
      "bast model hidden size: 10\n",
      "bast model hidden size: 10\n",
      "bast model hidden size: 10\n",
      "bast model hidden size: 10\n",
      "bast model hidden size: 10\n",
      "bast model hidden size: 10\n",
      "bast model hidden size: 10\n",
      "bast model hidden size: 10\n",
      "bast model hidden size: 10\n",
      "bast model hidden size: 10\n",
      "bast model hidden size: 10\n",
      "bast model hidden size: 10\n",
      "bast model hidden size: 10\n",
      "bast model hidden size: 10\n",
      "bast model hidden size: 10\n",
      "bast model hidden size: 10\n",
      "bast model hidden size: 10\n",
      "bast model hidden size: 10\n",
      "bast model hidden size: 10\n",
      "bast model hidden size: 10\n",
      "bast model hidden size: 10\n",
      "bast model hidden size: 10\n",
      "bast model hidden size: 10\n",
      "bast model hidden size: 10\n",
      "bast model hidden size: 10\n",
      "bast model hidden size: 10\n",
      "epoch: 999 loss: 240351.3906250000\n",
      "epoch: 999 loss: 250242.0000000000\n",
      "epoch: 999 loss: 259701.0156250000\n",
      "bast model hidden size: 200\n",
      "bast model hidden size: 200\n",
      "epoch: 999 loss: 258462.2500000000\n",
      "epoch: 999 loss: 271152.4062500000\n",
      "bast model hidden size: 300\n",
      "epoch: 999 loss: 261911.3281250000\n",
      "0.039457952808299994\n",
      "18.44979168224587\n"
     ]
    }
   ],
   "source": [
    "new_model = learn(22, 1000, 50)"
   ]
  },
  {
   "cell_type": "code",
   "execution_count": 219,
   "metadata": {
    "collapsed": true,
    "jupyter": {
     "outputs_hidden": true
    }
   },
   "outputs": [
    {
     "name": "stdout",
     "output_type": "stream",
     "text": [
      "Data is ready\n",
      "best model hidden size: 50\n",
      "best model hidden size: 50\n",
      "best model hidden size: 50\n",
      "best model hidden size: 50\n",
      "best model hidden size: 50\n",
      "best model hidden size: 50\n",
      "best model hidden size: 50\n",
      "best model hidden size: 50\n",
      "best model hidden size: 50\n",
      "best model hidden size: 50\n",
      "best model hidden size: 50\n",
      "best model hidden size: 50\n",
      "best model hidden size: 50\n",
      "best model hidden size: 50\n",
      "best model hidden size: 50\n",
      "best model hidden size: 50\n",
      "best model hidden size: 50\n",
      "best model hidden size: 50\n",
      "best model hidden size: 50\n",
      "best model hidden size: 50\n",
      "best model hidden size: 50\n",
      "best model hidden size: 50\n",
      "best model hidden size: 50\n",
      "best model hidden size: 50\n",
      "best model hidden size: 50\n",
      "best model hidden size: 50\n",
      "best model hidden size: 50\n",
      "best model hidden size: 50\n",
      "best model hidden size: 50\n",
      "best model hidden size: 50\n",
      "best model hidden size: 50\n",
      "best model hidden size: 50\n",
      "best model hidden size: 50\n",
      "best model hidden size: 50\n",
      "best model hidden size: 50\n",
      "best model hidden size: 50\n",
      "best model hidden size: 50\n",
      "best model hidden size: 50\n",
      "best model hidden size: 50\n",
      "epoch: 999 loss: 57963.0468750000\n",
      "best model hidden size: 100\n",
      "best model hidden size: 100\n",
      "best model hidden size: 100\n",
      "best model hidden size: 100\n",
      "best model hidden size: 100\n",
      "epoch: 999 loss: 68026.2421875000\n",
      "best model hidden size: 200\n",
      "best model hidden size: 200\n",
      "best model hidden size: 200\n",
      "epoch: 999 loss: 35718.0078125000\n",
      "best model hidden size: 250\n",
      "best model hidden size: 250\n",
      "best model hidden size: 250\n",
      "best model hidden size: 250\n",
      "best model hidden size: 250\n",
      "best model hidden size: 250\n",
      "best model hidden size: 250\n",
      "best model hidden size: 250\n",
      "best model hidden size: 250\n",
      "best model hidden size: 250\n",
      "best model hidden size: 250\n",
      "best model hidden size: 250\n",
      "best model hidden size: 250\n",
      "best model hidden size: 250\n",
      "best model hidden size: 250\n",
      "best model hidden size: 250\n",
      "best model hidden size: 250\n",
      "epoch: 999 loss: 59988.7539062500\n",
      "best model hidden size: 300\n",
      "best model hidden size: 300\n",
      "epoch: 999 loss: 36361.1093750000\n",
      "0.0024590409643401997\n",
      "1.4669542829999402\n"
     ]
    }
   ],
   "source": [
    "new_model = learn(22, 1000, 100)"
   ]
  },
  {
   "cell_type": "code",
   "execution_count": 222,
   "metadata": {},
   "outputs": [
    {
     "name": "stdout",
     "output_type": "stream",
     "text": [
      "Data is ready\n",
      "best model hidden size: 200\n",
      "0.027817939831367725\n",
      "22.37582217557779\n"
     ]
    }
   ],
   "source": [
    "new_model = learn(22, 1000, 150)"
   ]
  },
  {
   "cell_type": "code",
   "execution_count": 223,
   "metadata": {},
   "outputs": [
    {
     "name": "stdout",
     "output_type": "stream",
     "text": [
      "Data is ready\n",
      "best model hidden size: 50\n",
      "0.0023428382697945694\n",
      "4.184962426734432\n"
     ]
    }
   ],
   "source": [
    "new_model = learn(22, 1000, 200)"
   ]
  },
  {
   "cell_type": "code",
   "execution_count": 224,
   "metadata": {},
   "outputs": [
    {
     "name": "stdout",
     "output_type": "stream",
     "text": [
      "Data is ready\n",
      "best model hidden size: 50\n",
      "0.30215959884981763\n",
      "152.18131702676396\n"
     ]
    }
   ],
   "source": [
    "new_model = learn(22, 1000, 250)"
   ]
  },
  {
   "cell_type": "code",
   "execution_count": 225,
   "metadata": {},
   "outputs": [
    {
     "name": "stdout",
     "output_type": "stream",
     "text": [
      "Data is ready\n",
      "best model hidden size: 100\n",
      "0.2651244717539825\n",
      "182.91376192530242\n"
     ]
    }
   ],
   "source": [
    "new_model = learn(22, 1000, 300)"
   ]
  },
  {
   "cell_type": "code",
   "execution_count": 226,
   "metadata": {},
   "outputs": [
    {
     "name": "stdout",
     "output_type": "stream",
     "text": [
      "Data is ready\n",
      "best model hidden size: 100\n",
      "0.038838741693066066\n",
      "159.08731803590248\n"
     ]
    }
   ],
   "source": [
    "new_model = learn(22, 1000, 350)"
   ]
  },
  {
   "cell_type": "code",
   "execution_count": 227,
   "metadata": {},
   "outputs": [
    {
     "name": "stdout",
     "output_type": "stream",
     "text": [
      "Data is ready\n",
      "best model hidden size: 250\n",
      "0.49780850577096136\n",
      "317.80353695228445\n"
     ]
    }
   ],
   "source": [
    "new_model = learn(22, 1000, 400)"
   ]
  },
  {
   "cell_type": "code",
   "execution_count": 228,
   "metadata": {},
   "outputs": [
    {
     "name": "stdout",
     "output_type": "stream",
     "text": [
      "Data is ready\n",
      "best model hidden size: 100\n",
      "0.021129950683135834\n",
      "59.16241110282127\n"
     ]
    }
   ],
   "source": [
    "new_model = learn(22, 1000, 450)"
   ]
  },
  {
   "cell_type": "code",
   "execution_count": 229,
   "metadata": {},
   "outputs": [
    {
     "name": "stdout",
     "output_type": "stream",
     "text": [
      "Data is ready\n",
      "best model hidden size: 300\n",
      "0.0191807900558035\n",
      "155.00699023173544\n"
     ]
    }
   ],
   "source": [
    "new_model = learn(22, 1000, 500)"
   ]
  },
  {
   "cell_type": "code",
   "execution_count": 230,
   "metadata": {},
   "outputs": [
    {
     "name": "stdout",
     "output_type": "stream",
     "text": [
      "Data is ready\n",
      "best model hidden size: 300\n",
      "0.014133060155918089\n",
      "12.901376278387845\n"
     ]
    }
   ],
   "source": [
    "new_model = learn(22, 1000, 550)"
   ]
  },
  {
   "cell_type": "code",
   "execution_count": 231,
   "metadata": {},
   "outputs": [
    {
     "name": "stdout",
     "output_type": "stream",
     "text": [
      "Data is ready\n",
      "best model hidden size: 300\n",
      "0.3693775320804962\n",
      "287.25246982691124\n"
     ]
    }
   ],
   "source": [
    "new_model = learn(22, 1000, 600)"
   ]
  },
  {
   "cell_type": "code",
   "execution_count": 232,
   "metadata": {},
   "outputs": [
    {
     "name": "stdout",
     "output_type": "stream",
     "text": [
      "Data is ready\n",
      "best model hidden size: 250\n",
      "0.025816668527276744\n",
      "23.93767646721396\n"
     ]
    }
   ],
   "source": [
    "new_model = learn(22, 1000, 650)"
   ]
  },
  {
   "cell_type": "code",
   "execution_count": 233,
   "metadata": {},
   "outputs": [
    {
     "name": "stdout",
     "output_type": "stream",
     "text": [
      "Data is ready\n",
      "best model hidden size: 250\n",
      "0.015570552685085889\n",
      "17.65191231969109\n"
     ]
    }
   ],
   "source": [
    "new_model = learn(22, 1000, 700)"
   ]
  },
  {
   "cell_type": "markdown",
   "metadata": {},
   "source": [
    "# 1.5s"
   ]
  },
  {
   "cell_type": "code",
   "execution_count": 234,
   "metadata": {},
   "outputs": [
    {
     "name": "stdout",
     "output_type": "stream",
     "text": [
      "Data is ready\n",
      "best model hidden size: 300\n",
      "0.008054145959138198\n",
      "27.74338500376912\n"
     ]
    }
   ],
   "source": [
    "new_model = learn(141, 1500, 50)"
   ]
  },
  {
   "cell_type": "code",
   "execution_count": 235,
   "metadata": {},
   "outputs": [
    {
     "name": "stdout",
     "output_type": "stream",
     "text": [
      "Data is ready\n",
      "best model hidden size: 250\n",
      "0.0026519796952699016\n",
      "13.409269598047986\n"
     ]
    }
   ],
   "source": [
    "new_model = learn(141, 1500, 100)"
   ]
  },
  {
   "cell_type": "code",
   "execution_count": 236,
   "metadata": {},
   "outputs": [
    {
     "name": "stdout",
     "output_type": "stream",
     "text": [
      "Data is ready\n",
      "best model hidden size: 50\n",
      "0.004265092969733348\n",
      "22.54378391311932\n"
     ]
    }
   ],
   "source": [
    "new_model = learn(141, 1500, 150)"
   ]
  },
  {
   "cell_type": "code",
   "execution_count": 237,
   "metadata": {},
   "outputs": [
    {
     "name": "stdout",
     "output_type": "stream",
     "text": [
      "Data is ready\n",
      "best model hidden size: 250\n",
      "0.005267968275355583\n",
      "38.316857488028894\n"
     ]
    }
   ],
   "source": [
    "new_model = learn(141, 1500, 200)"
   ]
  },
  {
   "cell_type": "code",
   "execution_count": 238,
   "metadata": {},
   "outputs": [
    {
     "name": "stdout",
     "output_type": "stream",
     "text": [
      "Data is ready\n",
      "best model hidden size: 50\n",
      "0.0032155518277116606\n",
      "27.194124354491453\n"
     ]
    }
   ],
   "source": [
    "new_model = learn(141, 1500, 250)"
   ]
  },
  {
   "cell_type": "code",
   "execution_count": 239,
   "metadata": {},
   "outputs": [
    {
     "name": "stdout",
     "output_type": "stream",
     "text": [
      "Data is ready\n",
      "best model hidden size: 100\n",
      "0.0037199348559186465\n",
      "30.019917460407534\n"
     ]
    }
   ],
   "source": [
    "new_model = learn(141, 1500, 300)"
   ]
  },
  {
   "cell_type": "code",
   "execution_count": 240,
   "metadata": {},
   "outputs": [
    {
     "name": "stdout",
     "output_type": "stream",
     "text": [
      "Data is ready\n",
      "best model hidden size: 50\n",
      "0.0014935631695182374\n",
      "16.895488842065195\n"
     ]
    }
   ],
   "source": [
    "new_model = learn(141, 1500, 350)"
   ]
  },
  {
   "cell_type": "code",
   "execution_count": 241,
   "metadata": {},
   "outputs": [
    {
     "name": "stdout",
     "output_type": "stream",
     "text": [
      "Data is ready\n",
      "best model hidden size: 50\n",
      "0.00833392862094285\n",
      "50.16539361932614\n"
     ]
    }
   ],
   "source": [
    "new_model = learn(141, 1500, 400)"
   ]
  },
  {
   "cell_type": "code",
   "execution_count": 242,
   "metadata": {},
   "outputs": [
    {
     "name": "stdout",
     "output_type": "stream",
     "text": [
      "Data is ready\n",
      "best model hidden size: 50\n",
      "0.002698880564950367\n",
      "25.259220250595227\n"
     ]
    }
   ],
   "source": [
    "new_model = learn(141, 1500, 450)"
   ]
  },
  {
   "cell_type": "code",
   "execution_count": 243,
   "metadata": {},
   "outputs": [
    {
     "name": "stdout",
     "output_type": "stream",
     "text": [
      "Data is ready\n",
      "best model hidden size: 100\n",
      "0.0023564532436898197\n",
      "33.461373854118044\n"
     ]
    }
   ],
   "source": [
    "new_model = learn(141, 1500, 500)"
   ]
  },
  {
   "cell_type": "code",
   "execution_count": 244,
   "metadata": {},
   "outputs": [
    {
     "name": "stdout",
     "output_type": "stream",
     "text": [
      "Data is ready\n",
      "best model hidden size: 50\n",
      "0.0026695085933389766\n",
      "34.065141584917484\n"
     ]
    }
   ],
   "source": [
    "new_model = learn(141, 1500, 550)"
   ]
  },
  {
   "cell_type": "code",
   "execution_count": 245,
   "metadata": {},
   "outputs": [
    {
     "name": "stdout",
     "output_type": "stream",
     "text": [
      "Data is ready\n",
      "best model hidden size: 300\n",
      "0.016496605523214313\n",
      "104.1126326937266\n"
     ]
    }
   ],
   "source": [
    "new_model = learn(141, 1500, 600)"
   ]
  },
  {
   "cell_type": "code",
   "execution_count": 246,
   "metadata": {},
   "outputs": [
    {
     "name": "stdout",
     "output_type": "stream",
     "text": [
      "Data is ready\n",
      "best model hidden size: 50\n",
      "1.802148770163675e-05\n",
      "0.1308913552397698\n"
     ]
    }
   ],
   "source": [
    "new_model = learn(141, 1500, 650)"
   ]
  },
  {
   "cell_type": "code",
   "execution_count": 247,
   "metadata": {},
   "outputs": [
    {
     "name": "stdout",
     "output_type": "stream",
     "text": [
      "Data is ready\n",
      "best model hidden size: 50\n",
      "0.0006799881906174894\n",
      "5.59064380371526\n"
     ]
    }
   ],
   "source": [
    "new_model = learn(141, 1500, 700)"
   ]
  },
  {
   "cell_type": "markdown",
   "metadata": {},
   "source": [
    "# 2s"
   ]
  },
  {
   "cell_type": "code",
   "execution_count": 248,
   "metadata": {},
   "outputs": [
    {
     "name": "stdout",
     "output_type": "stream",
     "text": [
      "Data is ready\n",
      "best model hidden size: 250\n",
      "0.02208680503695614\n",
      "11.308637939217443\n"
     ]
    }
   ],
   "source": [
    "new_model = learn(902, 2000, 50)"
   ]
  },
  {
   "cell_type": "code",
   "execution_count": 249,
   "metadata": {},
   "outputs": [
    {
     "name": "stdout",
     "output_type": "stream",
     "text": [
      "Data is ready\n",
      "best model hidden size: 250\n",
      "0.005220648180175407\n",
      "7.463887114517538\n"
     ]
    }
   ],
   "source": [
    "new_model = learn(902, 2000, 100)"
   ]
  },
  {
   "cell_type": "code",
   "execution_count": 250,
   "metadata": {},
   "outputs": [
    {
     "name": "stdout",
     "output_type": "stream",
     "text": [
      "Data is ready\n",
      "best model hidden size: 100\n",
      "0.008272007281504339\n",
      "8.00635728855444\n"
     ]
    }
   ],
   "source": [
    "new_model = learn(902, 2000, 150)"
   ]
  },
  {
   "cell_type": "code",
   "execution_count": 251,
   "metadata": {},
   "outputs": [
    {
     "name": "stdout",
     "output_type": "stream",
     "text": [
      "Data is ready\n",
      "best model hidden size: 200\n",
      "0.00488527100377845\n",
      "5.589294918183363\n"
     ]
    }
   ],
   "source": [
    "new_model = learn(902, 2000, 200)"
   ]
  },
  {
   "cell_type": "code",
   "execution_count": 252,
   "metadata": {},
   "outputs": [
    {
     "name": "stdout",
     "output_type": "stream",
     "text": [
      "Data is ready\n",
      "best model hidden size: 50\n",
      "0.008137597799661596\n",
      "8.70908655070027\n"
     ]
    }
   ],
   "source": [
    "new_model = learn(902, 2000, 250)"
   ]
  },
  {
   "cell_type": "code",
   "execution_count": 253,
   "metadata": {},
   "outputs": [
    {
     "name": "stdout",
     "output_type": "stream",
     "text": [
      "Data is ready\n",
      "best model hidden size: 100\n",
      "0.003873046104087469\n",
      "6.073010706349245\n"
     ]
    }
   ],
   "source": [
    "new_model = learn(902, 2000, 300)"
   ]
  },
  {
   "cell_type": "code",
   "execution_count": 254,
   "metadata": {},
   "outputs": [
    {
     "name": "stdout",
     "output_type": "stream",
     "text": [
      "Data is ready\n",
      "best model hidden size: 200\n",
      "0.004128642713897277\n",
      "4.6236260931490385\n"
     ]
    }
   ],
   "source": [
    "new_model = learn(902, 2000, 350)"
   ]
  },
  {
   "cell_type": "code",
   "execution_count": 255,
   "metadata": {},
   "outputs": [
    {
     "name": "stdout",
     "output_type": "stream",
     "text": [
      "Data is ready\n",
      "best model hidden size: 100\n",
      "0.0034128087116235615\n",
      "7.485356019153323\n"
     ]
    }
   ],
   "source": [
    "new_model = learn(902, 2000, 400)"
   ]
  },
  {
   "cell_type": "code",
   "execution_count": 256,
   "metadata": {},
   "outputs": [
    {
     "name": "stdout",
     "output_type": "stream",
     "text": [
      "Data is ready\n",
      "best model hidden size: 200\n",
      "0.005008118650089709\n",
      "6.602140775327648\n"
     ]
    }
   ],
   "source": [
    "new_model = learn(902, 2000, 450)"
   ]
  },
  {
   "cell_type": "code",
   "execution_count": 257,
   "metadata": {},
   "outputs": [
    {
     "name": "stdout",
     "output_type": "stream",
     "text": [
      "Data is ready\n",
      "best model hidden size: 50\n",
      "0.003013473838466168\n",
      "7.087870104040411\n"
     ]
    }
   ],
   "source": [
    "new_model = learn(902, 2000, 500)"
   ]
  },
  {
   "cell_type": "code",
   "execution_count": 258,
   "metadata": {},
   "outputs": [
    {
     "name": "stdout",
     "output_type": "stream",
     "text": [
      "Data is ready\n",
      "best model hidden size: 100\n",
      "0.0034507939759488675\n",
      "8.04428778066417\n"
     ]
    }
   ],
   "source": [
    "new_model = learn(902, 2000, 550)"
   ]
  },
  {
   "cell_type": "code",
   "execution_count": 259,
   "metadata": {},
   "outputs": [
    {
     "name": "stdout",
     "output_type": "stream",
     "text": [
      "Data is ready\n",
      "best model hidden size: 50\n",
      "0.0049802128578223534\n",
      "6.831696027391249\n"
     ]
    }
   ],
   "source": [
    "new_model = learn(902, 2000, 600)"
   ]
  },
  {
   "cell_type": "code",
   "execution_count": 260,
   "metadata": {},
   "outputs": [
    {
     "name": "stdout",
     "output_type": "stream",
     "text": [
      "Data is ready\n",
      "best model hidden size: 50\n",
      "0.0021391777230846654\n",
      "3.763664921440388\n"
     ]
    }
   ],
   "source": [
    "new_model = learn(902, 2000, 650)"
   ]
  },
  {
   "cell_type": "code",
   "execution_count": 261,
   "metadata": {},
   "outputs": [
    {
     "name": "stdout",
     "output_type": "stream",
     "text": [
      "Data is ready\n",
      "best model hidden size: 50\n",
      "0.00284890176089696\n",
      "5.876460975034966\n"
     ]
    }
   ],
   "source": [
    "new_model = learn(902, 2000, 700)"
   ]
  },
  {
   "cell_type": "code",
   "execution_count": 262,
   "metadata": {},
   "outputs": [
    {
     "name": "stdout",
     "output_type": "stream",
     "text": [
      "Data is ready\n",
      "best model hidden size: 50\n",
      "0.004477039117829672\n",
      "11.887734419608671\n"
     ]
    }
   ],
   "source": [
    "new_model = learn(902, 2000, 750)"
   ]
  },
  {
   "cell_type": "code",
   "execution_count": 263,
   "metadata": {},
   "outputs": [
    {
     "name": "stdout",
     "output_type": "stream",
     "text": [
      "Data is ready\n",
      "best model hidden size: 100\n",
      "0.00328818609171318\n",
      "7.280287827237149\n"
     ]
    }
   ],
   "source": [
    "new_model = learn(902, 2000, 800)"
   ]
  },
  {
   "cell_type": "code",
   "execution_count": 264,
   "metadata": {},
   "outputs": [
    {
     "name": "stdout",
     "output_type": "stream",
     "text": [
      "Data is ready\n",
      "best model hidden size: 50\n",
      "0.0012205803531695366\n",
      "4.6542359537636075\n"
     ]
    }
   ],
   "source": [
    "new_model = learn(902, 2000, 850)"
   ]
  },
  {
   "cell_type": "code",
   "execution_count": 265,
   "metadata": {},
   "outputs": [
    {
     "name": "stdout",
     "output_type": "stream",
     "text": [
      "Data is ready\n",
      "best model hidden size: 50\n",
      "0.0020629709277501167\n",
      "4.096174545340053\n"
     ]
    }
   ],
   "source": [
    "new_model = learn(902, 2000, 900)"
   ]
  },
  {
   "cell_type": "code",
   "execution_count": 266,
   "metadata": {},
   "outputs": [
    {
     "name": "stdout",
     "output_type": "stream",
     "text": [
      "Data is ready\n",
      "best model hidden size: 100\n",
      "0.0020751451930455717\n",
      "5.185283239593383\n"
     ]
    }
   ],
   "source": [
    "new_model = learn(902, 2000, 950)"
   ]
  },
  {
   "cell_type": "code",
   "execution_count": 267,
   "metadata": {},
   "outputs": [
    {
     "name": "stdout",
     "output_type": "stream",
     "text": [
      "Data is ready\n",
      "best model hidden size: 50\n",
      "0.009025376821136816\n",
      "18.64384591159633\n"
     ]
    }
   ],
   "source": [
    "new_model = learn(902, 2000, 1000)"
   ]
  },
  {
   "cell_type": "markdown",
   "metadata": {},
   "source": [
    "# 5s"
   ]
  },
  {
   "cell_type": "code",
   "execution_count": 14,
   "metadata": {},
   "outputs": [
    {
     "name": "stdout",
     "output_type": "stream",
     "text": [
      "Data is ready\n",
      "100 100 finished\n",
      "100 200 finished\n",
      "100 250 finished\n",
      "100 300 finished\n",
      "200 100 finished\n",
      "200 200 finished\n",
      "200 250 finished\n",
      "200 300 finished\n",
      "250 100 finished\n",
      "250 200 finished\n",
      "250 250 finished\n",
      "250 300 finished\n",
      "300 100 finished\n",
      "300 200 finished\n",
      "300 250 finished\n",
      "300 300 finished\n",
      "best model hidden size: 300 200\n",
      "0.02726966628750444\n",
      "61.253299858694454\n"
     ]
    }
   ],
   "source": [
    "new_model = learn(19, 5000, 50)"
   ]
  },
  {
   "cell_type": "code",
   "execution_count": 269,
   "metadata": {},
   "outputs": [
    {
     "name": "stdout",
     "output_type": "stream",
     "text": [
      "Data is ready\n",
      "best model hidden size: 100\n",
      "0.009865470370167616\n",
      "39.98896335714709\n"
     ]
    }
   ],
   "source": [
    "new_model = learn(19, 5000, 100)"
   ]
  },
  {
   "cell_type": "code",
   "execution_count": 270,
   "metadata": {},
   "outputs": [
    {
     "name": "stdout",
     "output_type": "stream",
     "text": [
      "Data is ready\n",
      "best model hidden size: 100\n",
      "0.008084530917878436\n",
      "30.417174367197063\n"
     ]
    }
   ],
   "source": [
    "new_model = learn(19, 5000, 150)"
   ]
  },
  {
   "cell_type": "code",
   "execution_count": 271,
   "metadata": {},
   "outputs": [
    {
     "name": "stdout",
     "output_type": "stream",
     "text": [
      "Data is ready\n",
      "best model hidden size: 250\n",
      "0.007304477014139014\n",
      "29.233109726527935\n"
     ]
    }
   ],
   "source": [
    "new_model = learn(19, 5000, 200)"
   ]
  },
  {
   "cell_type": "code",
   "execution_count": 272,
   "metadata": {},
   "outputs": [
    {
     "name": "stdout",
     "output_type": "stream",
     "text": [
      "Data is ready\n",
      "best model hidden size: 100\n",
      "0.0045375279184582335\n",
      "28.85223375725586\n"
     ]
    }
   ],
   "source": [
    "new_model = learn(19, 5000, 250)"
   ]
  },
  {
   "cell_type": "code",
   "execution_count": 273,
   "metadata": {},
   "outputs": [
    {
     "name": "stdout",
     "output_type": "stream",
     "text": [
      "Data is ready\n",
      "best model hidden size: 50\n",
      "0.005812659955113731\n",
      "33.42670973390308\n"
     ]
    }
   ],
   "source": [
    "new_model = learn(19, 5000, 300)"
   ]
  },
  {
   "cell_type": "code",
   "execution_count": 274,
   "metadata": {},
   "outputs": [
    {
     "name": "stdout",
     "output_type": "stream",
     "text": [
      "Data is ready\n",
      "best model hidden size: 50\n",
      "0.0042342616667356845\n",
      "25.05698708937745\n"
     ]
    }
   ],
   "source": [
    "new_model = learn(19, 5000, 350)"
   ]
  },
  {
   "cell_type": "code",
   "execution_count": 275,
   "metadata": {},
   "outputs": [
    {
     "name": "stdout",
     "output_type": "stream",
     "text": [
      "Data is ready\n",
      "best model hidden size: 50\n",
      "0.004966593505159717\n",
      "25.195573474686334\n"
     ]
    }
   ],
   "source": [
    "new_model = learn(19, 5000, 400)"
   ]
  },
  {
   "cell_type": "code",
   "execution_count": 276,
   "metadata": {},
   "outputs": [
    {
     "name": "stdout",
     "output_type": "stream",
     "text": [
      "Data is ready\n",
      "best model hidden size: 50\n",
      "0.004690037491089644\n",
      "22.896979478139905\n"
     ]
    }
   ],
   "source": [
    "new_model = learn(19, 5000, 450)"
   ]
  },
  {
   "cell_type": "code",
   "execution_count": 277,
   "metadata": {},
   "outputs": [
    {
     "name": "stdout",
     "output_type": "stream",
     "text": [
      "Data is ready\n",
      "best model hidden size: 50\n",
      "0.0034818699252313415\n",
      "22.4764451228531\n"
     ]
    }
   ],
   "source": [
    "new_model = learn(19, 5000, 500)"
   ]
  },
  {
   "cell_type": "code",
   "execution_count": 278,
   "metadata": {},
   "outputs": [
    {
     "name": "stdout",
     "output_type": "stream",
     "text": [
      "Data is ready\n",
      "best model hidden size: 100\n",
      "0.017888700437577836\n",
      "148.79499682896923\n"
     ]
    }
   ],
   "source": [
    "new_model = learn(19, 5000, 550)"
   ]
  },
  {
   "cell_type": "code",
   "execution_count": 279,
   "metadata": {},
   "outputs": [
    {
     "name": "stdout",
     "output_type": "stream",
     "text": [
      "Data is ready\n",
      "best model hidden size: 50\n",
      "0.016256399960408494\n",
      "118.40379256828538\n"
     ]
    }
   ],
   "source": [
    "new_model = learn(19, 5000, 600)"
   ]
  },
  {
   "cell_type": "code",
   "execution_count": 280,
   "metadata": {},
   "outputs": [
    {
     "name": "stdout",
     "output_type": "stream",
     "text": [
      "Data is ready\n",
      "best model hidden size: 50\n",
      "0.0034210518134481817\n",
      "17.684857069650583\n"
     ]
    }
   ],
   "source": [
    "new_model = learn(19, 5000, 650)"
   ]
  },
  {
   "cell_type": "code",
   "execution_count": 281,
   "metadata": {},
   "outputs": [
    {
     "name": "stdout",
     "output_type": "stream",
     "text": [
      "Data is ready\n",
      "best model hidden size: 50\n",
      "0.013979941563488167\n",
      "102.45275857394832\n"
     ]
    }
   ],
   "source": [
    "new_model = learn(19, 5000, 700)"
   ]
  },
  {
   "cell_type": "code",
   "execution_count": 282,
   "metadata": {},
   "outputs": [
    {
     "name": "stdout",
     "output_type": "stream",
     "text": [
      "Data is ready\n",
      "best model hidden size: 50\n",
      "0.005693564401521202\n",
      "37.89982989819058\n"
     ]
    }
   ],
   "source": [
    "new_model = learn(19, 5000, 750)"
   ]
  },
  {
   "cell_type": "code",
   "execution_count": 283,
   "metadata": {},
   "outputs": [
    {
     "name": "stdout",
     "output_type": "stream",
     "text": [
      "Data is ready\n",
      "best model hidden size: 100\n",
      "0.012340077292594898\n",
      "139.777973554717\n"
     ]
    }
   ],
   "source": [
    "new_model = learn(19, 5000, 800)"
   ]
  },
  {
   "cell_type": "code",
   "execution_count": 284,
   "metadata": {},
   "outputs": [
    {
     "name": "stdout",
     "output_type": "stream",
     "text": [
      "Data is ready\n",
      "best model hidden size: 50\n",
      "0.008862838158347838\n",
      "39.41388066832807\n"
     ]
    }
   ],
   "source": [
    "new_model = learn(19, 5000, 850)"
   ]
  },
  {
   "cell_type": "code",
   "execution_count": 285,
   "metadata": {},
   "outputs": [
    {
     "name": "stdout",
     "output_type": "stream",
     "text": [
      "Data is ready\n",
      "best model hidden size: 50\n",
      "0.0022279822722527766\n",
      "18.98921387933384\n"
     ]
    }
   ],
   "source": [
    "new_model = learn(19, 5000, 900)"
   ]
  },
  {
   "cell_type": "code",
   "execution_count": 286,
   "metadata": {},
   "outputs": [
    {
     "name": "stdout",
     "output_type": "stream",
     "text": [
      "Data is ready\n",
      "best model hidden size: 50\n",
      "0.001384044693793202\n",
      "22.852187029512574\n"
     ]
    }
   ],
   "source": [
    "new_model = learn(19, 5000, 950)"
   ]
  },
  {
   "cell_type": "code",
   "execution_count": 287,
   "metadata": {},
   "outputs": [
    {
     "name": "stdout",
     "output_type": "stream",
     "text": [
      "Data is ready\n",
      "best model hidden size: 50\n",
      "0.009815506084718107\n",
      "117.11642641141019\n"
     ]
    }
   ],
   "source": [
    "new_model = learn(19, 5000, 1000)"
   ]
  },
  {
   "cell_type": "markdown",
   "metadata": {},
   "source": [
    "# 15s"
   ]
  },
  {
   "cell_type": "code",
   "execution_count": 288,
   "metadata": {},
   "outputs": [
    {
     "name": "stdout",
     "output_type": "stream",
     "text": [
      "Data is ready\n",
      "best model hidden size: 300\n",
      "0.02754968006727709\n",
      "52.50165668769412\n"
     ]
    }
   ],
   "source": [
    "new_model = learn(20, 15000, 50)"
   ]
  },
  {
   "cell_type": "code",
   "execution_count": 289,
   "metadata": {},
   "outputs": [
    {
     "name": "stdout",
     "output_type": "stream",
     "text": [
      "Data is ready\n",
      "best model hidden size: 200\n",
      "0.02558766858311854\n",
      "74.09988936325314\n"
     ]
    }
   ],
   "source": [
    "new_model = learn(20, 15000, 100)"
   ]
  },
  {
   "cell_type": "code",
   "execution_count": 290,
   "metadata": {},
   "outputs": [
    {
     "name": "stdout",
     "output_type": "stream",
     "text": [
      "Data is ready\n",
      "best model hidden size: 100\n",
      "0.017889204203802172\n",
      "51.70425516634007\n"
     ]
    }
   ],
   "source": [
    "new_model = learn(20, 15000, 150)"
   ]
  },
  {
   "cell_type": "code",
   "execution_count": 291,
   "metadata": {},
   "outputs": [
    {
     "name": "stdout",
     "output_type": "stream",
     "text": [
      "Data is ready\n",
      "best model hidden size: 200\n",
      "0.013532937156294767\n",
      "50.021623935487085\n"
     ]
    }
   ],
   "source": [
    "new_model = learn(20, 15000, 200)"
   ]
  },
  {
   "cell_type": "code",
   "execution_count": 292,
   "metadata": {},
   "outputs": [
    {
     "name": "stdout",
     "output_type": "stream",
     "text": [
      "Data is ready\n",
      "best model hidden size: 100\n",
      "0.008325647158308039\n",
      "29.044510803712356\n"
     ]
    }
   ],
   "source": [
    "new_model = learn(20, 15000, 250)"
   ]
  },
  {
   "cell_type": "code",
   "execution_count": 293,
   "metadata": {},
   "outputs": [
    {
     "name": "stdout",
     "output_type": "stream",
     "text": [
      "Data is ready\n",
      "best model hidden size: 50\n",
      "0.010130710885423841\n",
      "36.838812613763785\n"
     ]
    }
   ],
   "source": [
    "new_model = learn(20, 15000, 300)"
   ]
  },
  {
   "cell_type": "code",
   "execution_count": 294,
   "metadata": {},
   "outputs": [
    {
     "name": "stdout",
     "output_type": "stream",
     "text": [
      "Data is ready\n",
      "best model hidden size: 50\n",
      "0.006727597541685623\n",
      "33.576452122496434\n"
     ]
    }
   ],
   "source": [
    "new_model = learn(20, 15000, 350)"
   ]
  },
  {
   "cell_type": "code",
   "execution_count": 295,
   "metadata": {},
   "outputs": [
    {
     "name": "stdout",
     "output_type": "stream",
     "text": [
      "Data is ready\n",
      "best model hidden size: 50\n",
      "0.008501593311913257\n",
      "37.10462889152316\n"
     ]
    }
   ],
   "source": [
    "new_model = learn(20, 15000, 400)"
   ]
  },
  {
   "cell_type": "code",
   "execution_count": 296,
   "metadata": {},
   "outputs": [
    {
     "name": "stdout",
     "output_type": "stream",
     "text": [
      "Data is ready\n",
      "best model hidden size: 50\n",
      "0.008350403469843141\n",
      "28.8237178051841\n"
     ]
    }
   ],
   "source": [
    "new_model = learn(20, 15000, 450)"
   ]
  },
  {
   "cell_type": "code",
   "execution_count": 297,
   "metadata": {},
   "outputs": [
    {
     "name": "stdout",
     "output_type": "stream",
     "text": [
      "Data is ready\n",
      "best model hidden size: 50\n",
      "0.007091412831785291\n",
      "39.04830640680348\n"
     ]
    }
   ],
   "source": [
    "new_model = learn(20, 15000, 500)"
   ]
  },
  {
   "cell_type": "code",
   "execution_count": 298,
   "metadata": {},
   "outputs": [
    {
     "name": "stdout",
     "output_type": "stream",
     "text": [
      "Data is ready\n",
      "best model hidden size: 50\n",
      "0.01715689845882255\n",
      "65.32104168991043\n"
     ]
    }
   ],
   "source": [
    "new_model = learn(20, 15000, 550)"
   ]
  },
  {
   "cell_type": "code",
   "execution_count": 299,
   "metadata": {},
   "outputs": [
    {
     "name": "stdout",
     "output_type": "stream",
     "text": [
      "Data is ready\n",
      "best model hidden size: 50\n",
      "0.016222624612120973\n",
      "71.8805637510387\n"
     ]
    }
   ],
   "source": [
    "new_model = learn(20, 15000, 600)"
   ]
  },
  {
   "cell_type": "code",
   "execution_count": 300,
   "metadata": {},
   "outputs": [
    {
     "name": "stdout",
     "output_type": "stream",
     "text": [
      "Data is ready\n",
      "best model hidden size: 50\n",
      "0.006498807846175997\n",
      "31.224496374110796\n"
     ]
    }
   ],
   "source": [
    "new_model = learn(20, 15000, 650)"
   ]
  },
  {
   "cell_type": "code",
   "execution_count": 301,
   "metadata": {},
   "outputs": [
    {
     "name": "stdout",
     "output_type": "stream",
     "text": [
      "Data is ready\n",
      "best model hidden size: 50\n",
      "0.013866597656036253\n",
      "61.464047743299325\n"
     ]
    }
   ],
   "source": [
    "new_model = learn(20, 15000, 700)"
   ]
  },
  {
   "cell_type": "code",
   "execution_count": 302,
   "metadata": {},
   "outputs": [
    {
     "name": "stdout",
     "output_type": "stream",
     "text": [
      "Data is ready\n",
      "best model hidden size: 50\n",
      "0.0130441457447155\n",
      "76.85451830963378\n"
     ]
    }
   ],
   "source": [
    "new_model = learn(20, 15000, 750)"
   ]
  },
  {
   "cell_type": "code",
   "execution_count": 303,
   "metadata": {},
   "outputs": [
    {
     "name": "stdout",
     "output_type": "stream",
     "text": [
      "Data is ready\n",
      "best model hidden size: 50\n",
      "0.0019576462124694764\n",
      "12.248898956074271\n"
     ]
    }
   ],
   "source": [
    "new_model = learn(20, 15000, 800)"
   ]
  },
  {
   "cell_type": "code",
   "execution_count": 304,
   "metadata": {},
   "outputs": [
    {
     "name": "stdout",
     "output_type": "stream",
     "text": [
      "Data is ready\n",
      "best model hidden size: 50\n",
      "0.011482915287106037\n",
      "66.64845709460769\n"
     ]
    }
   ],
   "source": [
    "new_model = learn(20, 15000, 850)"
   ]
  },
  {
   "cell_type": "code",
   "execution_count": 305,
   "metadata": {},
   "outputs": [
    {
     "name": "stdout",
     "output_type": "stream",
     "text": [
      "Data is ready\n",
      "best model hidden size: 100\n",
      "0.010878701264642937\n",
      "59.231134996900394\n"
     ]
    }
   ],
   "source": [
    "new_model = learn(20, 15000, 900)"
   ]
  },
  {
   "cell_type": "code",
   "execution_count": 306,
   "metadata": {},
   "outputs": [
    {
     "name": "stdout",
     "output_type": "stream",
     "text": [
      "Data is ready\n",
      "best model hidden size: 50\n",
      "0.010338349396011587\n",
      "81.71214518899433\n"
     ]
    }
   ],
   "source": [
    "new_model = learn(20, 15000, 950)"
   ]
  },
  {
   "cell_type": "code",
   "execution_count": 307,
   "metadata": {},
   "outputs": [
    {
     "name": "stdout",
     "output_type": "stream",
     "text": [
      "Data is ready\n",
      "best model hidden size: 100\n",
      "0.00981264728180649\n",
      "78.7566590558633\n"
     ]
    }
   ],
   "source": [
    "new_model = learn(20, 15000, 1000)"
   ]
  },
  {
   "cell_type": "code",
   "execution_count": null,
   "metadata": {},
   "outputs": [],
   "source": []
  },
  {
   "cell_type": "code",
   "execution_count": null,
   "metadata": {},
   "outputs": [],
   "source": []
  }
 ],
 "metadata": {
  "kernelspec": {
   "display_name": "Python 3",
   "language": "python",
   "name": "python3"
  },
  "language_info": {
   "codemirror_mode": {
    "name": "ipython",
    "version": 3
   },
   "file_extension": ".py",
   "mimetype": "text/x-python",
   "name": "python",
   "nbconvert_exporter": "python",
   "pygments_lexer": "ipython3",
   "version": "3.7.3"
  }
 },
 "nbformat": 4,
 "nbformat_minor": 4
}
