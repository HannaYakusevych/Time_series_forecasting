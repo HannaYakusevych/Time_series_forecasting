{
 "cells": [
  {
   "cell_type": "code",
   "execution_count": 1,
   "metadata": {},
   "outputs": [],
   "source": [
    "import torch\n",
    "import torch.nn as nn\n",
    "import torch.nn.functional as F\n",
    "\n",
    "from pandas import read_csv\n",
    "from sklearn.model_selection import train_test_split\n",
    "\n",
    "import random\n",
    "import itertools\n",
    "import numpy as np\n",
    "import pandas as pd\n",
    "import matplotlib.pyplot as plt\n",
    "%matplotlib inline"
   ]
  },
  {
   "cell_type": "code",
   "execution_count": 2,
   "metadata": {},
   "outputs": [],
   "source": [
    "fig_size = plt.rcParams[\"figure.figsize\"]\n",
    "fig_size[0] = 15\n",
    "fig_size[1] = 5\n",
    "plt.rcParams[\"figure.figsize\"] = fig_size"
   ]
  },
  {
   "cell_type": "code",
   "execution_count": 3,
   "metadata": {},
   "outputs": [],
   "source": [
    "def prepare_data(df, num_elements=50):\n",
    "    new_data = []\n",
    "    length = df.shape[0]\n",
    "    current_index = 0\n",
    "    step = int(0.2 * num_elements)\n",
    "    while(current_index <= length - num_elements):\n",
    "        new_data.append(df[current_index:current_index+num_elements])\n",
    "        current_index += step\n",
    "    return new_data"
   ]
  },
  {
   "cell_type": "code",
   "execution_count": 4,
   "metadata": {},
   "outputs": [],
   "source": [
    "class BPNN(nn.Module):\n",
    "\n",
    "    def __init__(self, input_size, hidden_size1, hidden_size2):\n",
    "        super(BPNN, self).__init__()\n",
    "        # an affine operation: y = Wx + b\n",
    "        self.fc1 = nn.Linear(input_size, hidden_size1)  \n",
    "        self.fc2 = nn.Linear(hidden_size1, hidden_size2)\n",
    "        self.fc3 = nn.Linear(hidden_size2, 10)\n",
    "\n",
    "    def forward(self, x):\n",
    "        x = F.relu(self.fc1(x))\n",
    "        x = F.relu(self.fc2(x))\n",
    "        x = self.fc3(x)\n",
    "        return x"
   ]
  },
  {
   "cell_type": "code",
   "execution_count": 5,
   "metadata": {},
   "outputs": [],
   "source": [
    "def prepare_data(df, num_elements=50):\n",
    "    new_data = []\n",
    "    length = df.shape[0]\n",
    "    current_index = 0\n",
    "    step = int(0.2 * num_elements)\n",
    "    while(current_index <= length - num_elements):\n",
    "        new_data.append(df[current_index:current_index+num_elements])\n",
    "        current_index += step\n",
    "    return new_data"
   ]
  },
  {
   "cell_type": "code",
   "execution_count": 21,
   "metadata": {},
   "outputs": [],
   "source": [
    "def learn(num, count, data_len, lr=0.01):\n",
    "    num = [str(i) for i in range(num)]\n",
    "    p1 = [read_csv('ics_data_preprocessed/06_Smart_Meter_45/P1/' + str(count) + '/' + n + '.csv', squeeze=True, parse_dates=['ts'], index_col='ts') for n in num]\n",
    "    \n",
    "    p1 = [prepare_data(df, data_len) for df in p1]\n",
    "    p1 = sum(p1, [])\n",
    "    p1 = [df.values.tolist() for df in p1]\n",
    "    \n",
    "    train, test = train_test_split(p1, test_size=0.2, random_state=42)\n",
    "    train_data_normalized = train\n",
    "    test_data_normalized = test\n",
    "    \n",
    "    train_data, val_data = train_test_split(train_data_normalized, test_size=0.15, random_state=42)\n",
    "    train_data = torch.FloatTensor(train_data)\n",
    "    val_data = torch.FloatTensor(val_data)\n",
    "    test_data = torch.FloatTensor(test_data_normalized)\n",
    "    \n",
    "    X_train = train_data[:, :-10]\n",
    "    y_train = train_data[:, -10:]\n",
    "    X_val = val_data[:, :-10]\n",
    "    y_val = val_data[:, -10:]\n",
    "    X_test = test_data[:, :-10]\n",
    "    y_test = test_data[:, -10:]\n",
    "    \n",
    "    print(\"Data is ready\")\n",
    "    \n",
    "    best_model = BPNN(40, 50, 50)\n",
    "    loss_function = nn.MSELoss()\n",
    "    \n",
    "    val_losses = []\n",
    "    \n",
    "    best_hidden_layer_size1 = 50\n",
    "    best_hidden_layer_size2 = 50\n",
    "    \n",
    "    for hidden_layer_size1, hidden_layer_size2 in list(itertools.product([100, 150, 200, 250], [100, 150, 200, 250])):\n",
    "        losses = []\n",
    "        \n",
    "    \n",
    "        model = BPNN(data_len - 10, hidden_layer_size1, hidden_layer_size2)\n",
    "        optimizer = torch.optim.Adam(model.parameters(), lr=lr)\n",
    "    \n",
    "        epochs = 1000\n",
    "        \n",
    "        for i in range(epochs):\n",
    "            model.train()\n",
    "            \n",
    "            optimizer.zero_grad()\n",
    "            \n",
    "            y_pred = model(X_train)\n",
    "            single_loss = loss_function(y_pred, y_train)\n",
    "            losses.append(single_loss)\n",
    "            \n",
    "            single_loss.backward()\n",
    "            optimizer.step()\n",
    "            \n",
    "            \n",
    "            model.eval()\n",
    "\n",
    "            with torch.no_grad():\n",
    "                y_pred = model(X_val)\n",
    "\n",
    "                single_loss = loss_function(y_pred, y_val)\n",
    "\n",
    "                if (len(val_losses) == 0) or (single_loss < min(val_losses)):\n",
    "#                     if (len(val_losses) > 0):\n",
    "#                         print(\"losses:\", single_loss, min(val_losses))\n",
    "                    best_hidden_layer_size1 = hidden_layer_size1\n",
    "                    best_hidden_layer_size2 = hidden_layer_size2\n",
    "                    best_model = model\n",
    "                \n",
    "                val_losses.append(single_loss)\n",
    "            \n",
    "#             if (len(val_losses) > 0 and i%5 == 1):\n",
    "#                 print(val_losses[-1], min(val_losses))\n",
    "\n",
    "#         print(f'epoch: {i:3} loss: {single_loss.item():10.10f}')\n",
    "        print(hidden_layer_size1, hidden_layer_size2, \"finished\")\n",
    "    print(\"best model hidden size:\", best_hidden_layer_size1, best_hidden_layer_size2)\n",
    "    \n",
    "    predictions = []\n",
    "    best_model.eval()\n",
    "    with torch.no_grad():\n",
    "        predictions = [best_model(seq) for (seq, labels) in zip(X_test, y_test)]\n",
    "    pred = [torch.cat((i, j)) for (i, j) in zip(X_test, predictions)]\n",
    "    actual_predictions = np.array([np.array(i) for i in pred])\n",
    "    mape = [np.mean(np.abs(actual_predictions[i] - test[i])/np.abs(test[i])) for i in range(len(test))]\n",
    "    print(sum(mape) / len(mape))\n",
    "    rmse = [np.mean((actual_predictions[i] - test[i])**2)**.5 for i in range(len(test))]\n",
    "    print(sum(rmse) / len(rmse))\n",
    "    \n",
    "    return best_model\n",
    "     "
   ]
  },
  {
   "cell_type": "code",
   "execution_count": 22,
   "metadata": {},
   "outputs": [],
   "source": [
    "random.seed(42)"
   ]
  },
  {
   "cell_type": "markdown",
   "metadata": {},
   "source": [
    "# 1s"
   ]
  },
  {
   "cell_type": "code",
   "execution_count": 23,
   "metadata": {},
   "outputs": [
    {
     "name": "stdout",
     "output_type": "stream",
     "text": [
      "Data is ready\n",
      "100 100 finished\n",
      "100 150 finished\n",
      "100 200 finished\n",
      "100 250 finished\n",
      "150 100 finished\n",
      "150 150 finished\n",
      "150 200 finished\n",
      "150 250 finished\n",
      "200 100 finished\n",
      "200 150 finished\n",
      "200 200 finished\n",
      "200 250 finished\n",
      "250 100 finished\n",
      "250 150 finished\n",
      "250 200 finished\n",
      "250 250 finished\n",
      "best model hidden size: 150 200\n",
      "0.05296919807513094\n",
      "30.38308727017487\n"
     ]
    }
   ],
   "source": [
    "new_model = learn(22, 1000, 50)"
   ]
  },
  {
   "cell_type": "code",
   "execution_count": 24,
   "metadata": {},
   "outputs": [
    {
     "name": "stdout",
     "output_type": "stream",
     "text": [
      "Data is ready\n",
      "100 100 finished\n",
      "100 150 finished\n",
      "100 200 finished\n",
      "100 250 finished\n",
      "150 100 finished\n",
      "150 150 finished\n",
      "150 200 finished\n",
      "150 250 finished\n",
      "200 100 finished\n",
      "200 150 finished\n",
      "200 200 finished\n",
      "200 250 finished\n",
      "250 100 finished\n",
      "250 150 finished\n",
      "250 200 finished\n",
      "250 250 finished\n",
      "best model hidden size: 100 200\n",
      "0.002743638456543631\n",
      "1.6684193601998631\n"
     ]
    }
   ],
   "source": [
    "new_model = learn(22, 1000, 100)"
   ]
  },
  {
   "cell_type": "code",
   "execution_count": 25,
   "metadata": {},
   "outputs": [
    {
     "name": "stdout",
     "output_type": "stream",
     "text": [
      "Data is ready\n",
      "100 100 finished\n",
      "100 150 finished\n",
      "100 200 finished\n",
      "100 250 finished\n",
      "150 100 finished\n",
      "150 150 finished\n",
      "150 200 finished\n",
      "150 250 finished\n",
      "200 100 finished\n",
      "200 150 finished\n",
      "200 200 finished\n",
      "200 250 finished\n",
      "250 100 finished\n",
      "250 150 finished\n",
      "250 200 finished\n",
      "250 250 finished\n",
      "best model hidden size: 100 250\n",
      "0.031839905380919936\n",
      "22.04880323841781\n"
     ]
    }
   ],
   "source": [
    "new_model = learn(22, 1000, 150)"
   ]
  },
  {
   "cell_type": "code",
   "execution_count": 26,
   "metadata": {},
   "outputs": [
    {
     "name": "stdout",
     "output_type": "stream",
     "text": [
      "Data is ready\n",
      "100 100 finished\n",
      "100 150 finished\n",
      "100 200 finished\n",
      "100 250 finished\n",
      "150 100 finished\n",
      "150 150 finished\n",
      "150 200 finished\n",
      "150 250 finished\n",
      "200 100 finished\n",
      "200 150 finished\n",
      "200 200 finished\n",
      "200 250 finished\n",
      "250 100 finished\n",
      "250 150 finished\n",
      "250 200 finished\n",
      "250 250 finished\n",
      "best model hidden size: 250 200\n",
      "0.0064716161394984565\n",
      "3.864278526592093\n"
     ]
    }
   ],
   "source": [
    "new_model = learn(22, 1000, 200)"
   ]
  },
  {
   "cell_type": "code",
   "execution_count": 27,
   "metadata": {},
   "outputs": [
    {
     "name": "stdout",
     "output_type": "stream",
     "text": [
      "Data is ready\n",
      "100 100 finished\n",
      "100 150 finished\n",
      "100 200 finished\n",
      "100 250 finished\n",
      "150 100 finished\n",
      "150 150 finished\n",
      "150 200 finished\n",
      "150 250 finished\n",
      "200 100 finished\n",
      "200 150 finished\n",
      "200 200 finished\n",
      "200 250 finished\n",
      "250 100 finished\n",
      "250 150 finished\n",
      "250 200 finished\n",
      "250 250 finished\n",
      "best model hidden size: 250 100\n",
      "0.21832047187931647\n",
      "109.39604313257986\n"
     ]
    }
   ],
   "source": [
    "new_model = learn(22, 1000, 250)"
   ]
  },
  {
   "cell_type": "code",
   "execution_count": 28,
   "metadata": {},
   "outputs": [
    {
     "name": "stdout",
     "output_type": "stream",
     "text": [
      "Data is ready\n",
      "100 100 finished\n",
      "100 150 finished\n",
      "100 200 finished\n",
      "100 250 finished\n",
      "150 100 finished\n",
      "150 150 finished\n",
      "150 200 finished\n",
      "150 250 finished\n",
      "200 100 finished\n",
      "200 150 finished\n",
      "200 200 finished\n",
      "200 250 finished\n",
      "250 100 finished\n",
      "250 150 finished\n",
      "250 200 finished\n",
      "250 250 finished\n",
      "best model hidden size: 250 200\n",
      "0.12363971270628142\n",
      "98.25210209819714\n"
     ]
    }
   ],
   "source": [
    "new_model = learn(22, 1000, 300)"
   ]
  },
  {
   "cell_type": "code",
   "execution_count": 29,
   "metadata": {},
   "outputs": [
    {
     "name": "stdout",
     "output_type": "stream",
     "text": [
      "Data is ready\n",
      "100 100 finished\n",
      "100 150 finished\n",
      "100 200 finished\n",
      "100 250 finished\n",
      "150 100 finished\n",
      "150 150 finished\n",
      "150 200 finished\n",
      "150 250 finished\n",
      "200 100 finished\n",
      "200 150 finished\n",
      "200 200 finished\n",
      "200 250 finished\n",
      "250 100 finished\n",
      "250 150 finished\n",
      "250 200 finished\n",
      "250 250 finished\n",
      "best model hidden size: 100 100\n",
      "0.06739850895285701\n",
      "272.3649339995849\n"
     ]
    }
   ],
   "source": [
    "new_model = learn(22, 1000, 350)"
   ]
  },
  {
   "cell_type": "code",
   "execution_count": 30,
   "metadata": {},
   "outputs": [
    {
     "name": "stdout",
     "output_type": "stream",
     "text": [
      "Data is ready\n",
      "100 100 finished\n",
      "100 150 finished\n",
      "100 200 finished\n",
      "100 250 finished\n",
      "150 100 finished\n",
      "150 150 finished\n",
      "150 200 finished\n",
      "150 250 finished\n",
      "200 100 finished\n",
      "200 150 finished\n",
      "200 200 finished\n",
      "200 250 finished\n",
      "250 100 finished\n",
      "250 150 finished\n",
      "250 200 finished\n",
      "250 250 finished\n",
      "best model hidden size: 150 250\n",
      "0.40495816945848007\n",
      "257.2888880182434\n"
     ]
    }
   ],
   "source": [
    "new_model = learn(22, 1000, 400)"
   ]
  },
  {
   "cell_type": "code",
   "execution_count": 31,
   "metadata": {},
   "outputs": [
    {
     "name": "stdout",
     "output_type": "stream",
     "text": [
      "Data is ready\n",
      "100 100 finished\n",
      "100 150 finished\n",
      "100 200 finished\n",
      "100 250 finished\n",
      "150 100 finished\n",
      "150 150 finished\n",
      "150 200 finished\n",
      "150 250 finished\n",
      "200 100 finished\n",
      "200 150 finished\n",
      "200 200 finished\n",
      "200 250 finished\n",
      "250 100 finished\n",
      "250 150 finished\n",
      "250 200 finished\n",
      "250 250 finished\n",
      "best model hidden size: 150 150\n",
      "0.017522586534189904\n",
      "56.98019113867909\n"
     ]
    }
   ],
   "source": [
    "new_model = learn(22, 1000, 450)"
   ]
  },
  {
   "cell_type": "code",
   "execution_count": 32,
   "metadata": {},
   "outputs": [
    {
     "name": "stdout",
     "output_type": "stream",
     "text": [
      "Data is ready\n",
      "100 100 finished\n",
      "100 150 finished\n",
      "100 200 finished\n",
      "100 250 finished\n",
      "150 100 finished\n",
      "150 150 finished\n",
      "150 200 finished\n",
      "150 250 finished\n",
      "200 100 finished\n",
      "200 150 finished\n",
      "200 200 finished\n",
      "200 250 finished\n",
      "250 100 finished\n",
      "250 150 finished\n",
      "250 200 finished\n",
      "250 250 finished\n",
      "best model hidden size: 250 200\n",
      "0.037446673749777434\n",
      "46.894892550065805\n"
     ]
    }
   ],
   "source": [
    "new_model = learn(22, 1000, 500)"
   ]
  },
  {
   "cell_type": "code",
   "execution_count": 33,
   "metadata": {},
   "outputs": [
    {
     "name": "stdout",
     "output_type": "stream",
     "text": [
      "Data is ready\n",
      "100 100 finished\n",
      "100 150 finished\n",
      "100 200 finished\n",
      "100 250 finished\n",
      "150 100 finished\n",
      "150 150 finished\n",
      "150 200 finished\n",
      "150 250 finished\n",
      "200 100 finished\n",
      "200 150 finished\n",
      "200 200 finished\n",
      "200 250 finished\n",
      "250 100 finished\n",
      "250 150 finished\n",
      "250 200 finished\n",
      "250 250 finished\n",
      "best model hidden size: 200 250\n",
      "0.6855204005841502\n",
      "503.0401620704642\n"
     ]
    }
   ],
   "source": [
    "new_model = learn(22, 1000, 550)"
   ]
  },
  {
   "cell_type": "code",
   "execution_count": 34,
   "metadata": {},
   "outputs": [
    {
     "name": "stdout",
     "output_type": "stream",
     "text": [
      "Data is ready\n",
      "100 100 finished\n",
      "100 150 finished\n",
      "100 200 finished\n",
      "100 250 finished\n",
      "150 100 finished\n",
      "150 150 finished\n",
      "150 200 finished\n",
      "150 250 finished\n",
      "200 100 finished\n",
      "200 150 finished\n",
      "200 200 finished\n",
      "200 250 finished\n",
      "250 100 finished\n",
      "250 150 finished\n",
      "250 200 finished\n",
      "250 250 finished\n",
      "best model hidden size: 150 250\n",
      "0.05420944155622814\n",
      "57.37026005394523\n"
     ]
    }
   ],
   "source": [
    "new_model = learn(22, 1000, 600)"
   ]
  },
  {
   "cell_type": "code",
   "execution_count": 35,
   "metadata": {},
   "outputs": [
    {
     "name": "stdout",
     "output_type": "stream",
     "text": [
      "Data is ready\n",
      "100 100 finished\n",
      "100 150 finished\n",
      "100 200 finished\n",
      "100 250 finished\n",
      "150 100 finished\n",
      "150 150 finished\n",
      "150 200 finished\n",
      "150 250 finished\n",
      "200 100 finished\n",
      "200 150 finished\n",
      "200 200 finished\n",
      "200 250 finished\n",
      "250 100 finished\n",
      "250 150 finished\n",
      "250 200 finished\n",
      "250 250 finished\n",
      "best model hidden size: 200 250\n",
      "0.4076967697224709\n",
      "329.59484762077585\n"
     ]
    }
   ],
   "source": [
    "new_model = learn(22, 1000, 650)"
   ]
  },
  {
   "cell_type": "code",
   "execution_count": 36,
   "metadata": {},
   "outputs": [
    {
     "name": "stdout",
     "output_type": "stream",
     "text": [
      "Data is ready\n",
      "100 100 finished\n",
      "100 150 finished\n",
      "100 200 finished\n",
      "100 250 finished\n",
      "150 100 finished\n",
      "150 150 finished\n",
      "150 200 finished\n",
      "150 250 finished\n",
      "200 100 finished\n",
      "200 150 finished\n",
      "200 200 finished\n",
      "200 250 finished\n",
      "250 100 finished\n",
      "250 150 finished\n",
      "250 200 finished\n",
      "250 250 finished\n",
      "best model hidden size: 150 250\n",
      "0.5034815462200272\n",
      "416.69663762651516\n"
     ]
    }
   ],
   "source": [
    "new_model = learn(22, 1000, 700)"
   ]
  },
  {
   "cell_type": "markdown",
   "metadata": {},
   "source": [
    "# 1.5s"
   ]
  },
  {
   "cell_type": "code",
   "execution_count": 37,
   "metadata": {},
   "outputs": [
    {
     "name": "stdout",
     "output_type": "stream",
     "text": [
      "Data is ready\n",
      "100 100 finished\n",
      "100 150 finished\n",
      "100 200 finished\n",
      "100 250 finished\n",
      "150 100 finished\n",
      "150 150 finished\n",
      "150 200 finished\n",
      "150 250 finished\n",
      "200 100 finished\n",
      "200 150 finished\n",
      "200 200 finished\n",
      "200 250 finished\n",
      "250 100 finished\n",
      "250 150 finished\n",
      "250 200 finished\n",
      "250 250 finished\n",
      "best model hidden size: 100 250\n",
      "0.008323625358234332\n",
      "28.337011631721275\n"
     ]
    }
   ],
   "source": [
    "new_model = learn(141, 1500, 50)"
   ]
  },
  {
   "cell_type": "code",
   "execution_count": 38,
   "metadata": {},
   "outputs": [
    {
     "name": "stdout",
     "output_type": "stream",
     "text": [
      "Data is ready\n",
      "100 100 finished\n",
      "100 150 finished\n",
      "100 200 finished\n",
      "100 250 finished\n",
      "150 100 finished\n",
      "150 150 finished\n",
      "150 200 finished\n",
      "150 250 finished\n",
      "200 100 finished\n",
      "200 150 finished\n",
      "200 200 finished\n",
      "200 250 finished\n",
      "250 100 finished\n",
      "250 150 finished\n",
      "250 200 finished\n",
      "250 250 finished\n",
      "best model hidden size: 250 250\n",
      "0.0026962839295946862\n",
      "12.83973827656991\n"
     ]
    }
   ],
   "source": [
    "new_model = learn(141, 1500, 100)"
   ]
  },
  {
   "cell_type": "code",
   "execution_count": 39,
   "metadata": {},
   "outputs": [
    {
     "name": "stdout",
     "output_type": "stream",
     "text": [
      "Data is ready\n",
      "100 100 finished\n",
      "100 150 finished\n",
      "100 200 finished\n",
      "100 250 finished\n",
      "150 100 finished\n",
      "150 150 finished\n",
      "150 200 finished\n",
      "150 250 finished\n",
      "200 100 finished\n",
      "200 150 finished\n",
      "200 200 finished\n",
      "200 250 finished\n",
      "250 100 finished\n",
      "250 150 finished\n",
      "250 200 finished\n",
      "250 250 finished\n",
      "best model hidden size: 250 250\n",
      "0.00185497576038211\n",
      "11.39934095809457\n"
     ]
    }
   ],
   "source": [
    "new_model = learn(141, 1500, 150)"
   ]
  },
  {
   "cell_type": "code",
   "execution_count": 40,
   "metadata": {},
   "outputs": [
    {
     "name": "stdout",
     "output_type": "stream",
     "text": [
      "Data is ready\n",
      "100 100 finished\n",
      "100 150 finished\n",
      "100 200 finished\n",
      "100 250 finished\n",
      "150 100 finished\n",
      "150 150 finished\n",
      "150 200 finished\n",
      "150 250 finished\n",
      "200 100 finished\n",
      "200 150 finished\n",
      "200 200 finished\n",
      "200 250 finished\n",
      "250 100 finished\n",
      "250 150 finished\n",
      "250 200 finished\n",
      "250 250 finished\n",
      "best model hidden size: 150 100\n",
      "0.00461118019776477\n",
      "36.74268142080505\n"
     ]
    }
   ],
   "source": [
    "new_model = learn(141, 1500, 200)"
   ]
  },
  {
   "cell_type": "code",
   "execution_count": 41,
   "metadata": {},
   "outputs": [
    {
     "name": "stdout",
     "output_type": "stream",
     "text": [
      "Data is ready\n",
      "100 100 finished\n",
      "100 150 finished\n",
      "100 200 finished\n",
      "100 250 finished\n",
      "150 100 finished\n",
      "150 150 finished\n",
      "150 200 finished\n",
      "150 250 finished\n",
      "200 100 finished\n",
      "200 150 finished\n",
      "200 200 finished\n",
      "200 250 finished\n",
      "250 100 finished\n",
      "250 150 finished\n",
      "250 200 finished\n",
      "250 250 finished\n",
      "best model hidden size: 100 100\n",
      "0.002590100601022252\n",
      "26.173589629891254\n"
     ]
    }
   ],
   "source": [
    "new_model = learn(141, 1500, 250)"
   ]
  },
  {
   "cell_type": "code",
   "execution_count": 42,
   "metadata": {},
   "outputs": [
    {
     "name": "stdout",
     "output_type": "stream",
     "text": [
      "Data is ready\n",
      "100 100 finished\n",
      "100 150 finished\n",
      "100 200 finished\n",
      "100 250 finished\n",
      "150 100 finished\n",
      "150 150 finished\n",
      "150 200 finished\n",
      "150 250 finished\n",
      "200 100 finished\n",
      "200 150 finished\n",
      "200 200 finished\n",
      "200 250 finished\n",
      "250 100 finished\n",
      "250 150 finished\n",
      "250 200 finished\n",
      "250 250 finished\n",
      "best model hidden size: 100 200\n",
      "0.0021115455162375833\n",
      "17.246924531366872\n"
     ]
    }
   ],
   "source": [
    "new_model = learn(141, 1500, 300)"
   ]
  },
  {
   "cell_type": "code",
   "execution_count": 43,
   "metadata": {},
   "outputs": [
    {
     "name": "stdout",
     "output_type": "stream",
     "text": [
      "Data is ready\n",
      "100 100 finished\n",
      "100 150 finished\n",
      "100 200 finished\n",
      "100 250 finished\n",
      "150 100 finished\n",
      "150 150 finished\n",
      "150 200 finished\n",
      "150 250 finished\n",
      "200 100 finished\n",
      "200 150 finished\n",
      "200 200 finished\n",
      "200 250 finished\n",
      "250 100 finished\n",
      "250 150 finished\n",
      "250 200 finished\n",
      "250 250 finished\n",
      "best model hidden size: 100 200\n",
      "0.001621764619959633\n",
      "15.90347427001323\n"
     ]
    }
   ],
   "source": [
    "new_model = learn(141, 1500, 350)"
   ]
  },
  {
   "cell_type": "code",
   "execution_count": 44,
   "metadata": {},
   "outputs": [
    {
     "name": "stdout",
     "output_type": "stream",
     "text": [
      "Data is ready\n",
      "100 100 finished\n",
      "100 150 finished\n",
      "100 200 finished\n",
      "100 250 finished\n",
      "150 100 finished\n",
      "150 150 finished\n",
      "150 200 finished\n",
      "150 250 finished\n",
      "200 100 finished\n",
      "200 150 finished\n",
      "200 200 finished\n",
      "200 250 finished\n",
      "250 100 finished\n",
      "250 150 finished\n",
      "250 200 finished\n",
      "250 250 finished\n",
      "best model hidden size: 150 100\n",
      "0.006579891914084113\n",
      "44.95644394134097\n"
     ]
    }
   ],
   "source": [
    "new_model = learn(141, 1500, 400)"
   ]
  },
  {
   "cell_type": "code",
   "execution_count": 45,
   "metadata": {},
   "outputs": [
    {
     "name": "stdout",
     "output_type": "stream",
     "text": [
      "Data is ready\n",
      "100 100 finished\n",
      "100 150 finished\n",
      "100 200 finished\n",
      "100 250 finished\n",
      "150 100 finished\n",
      "150 150 finished\n",
      "150 200 finished\n",
      "150 250 finished\n",
      "200 100 finished\n",
      "200 150 finished\n",
      "200 200 finished\n",
      "200 250 finished\n",
      "250 100 finished\n",
      "250 150 finished\n",
      "250 200 finished\n",
      "250 250 finished\n",
      "best model hidden size: 250 150\n",
      "0.002390141473392675\n",
      "27.657419928263472\n"
     ]
    }
   ],
   "source": [
    "new_model = learn(141, 1500, 450)"
   ]
  },
  {
   "cell_type": "code",
   "execution_count": 46,
   "metadata": {},
   "outputs": [
    {
     "name": "stdout",
     "output_type": "stream",
     "text": [
      "Data is ready\n",
      "100 100 finished\n",
      "100 150 finished\n",
      "100 200 finished\n",
      "100 250 finished\n",
      "150 100 finished\n",
      "150 150 finished\n",
      "150 200 finished\n",
      "150 250 finished\n",
      "200 100 finished\n",
      "200 150 finished\n",
      "200 200 finished\n",
      "200 250 finished\n",
      "250 100 finished\n",
      "250 150 finished\n",
      "250 200 finished\n",
      "250 250 finished\n",
      "best model hidden size: 250 150\n",
      "0.0022281680632658223\n",
      "25.91288280463865\n"
     ]
    }
   ],
   "source": [
    "new_model = learn(141, 1500, 500)"
   ]
  },
  {
   "cell_type": "code",
   "execution_count": 47,
   "metadata": {},
   "outputs": [
    {
     "name": "stdout",
     "output_type": "stream",
     "text": [
      "Data is ready\n",
      "100 100 finished\n",
      "100 150 finished\n",
      "100 200 finished\n",
      "100 250 finished\n",
      "150 100 finished\n",
      "150 150 finished\n",
      "150 200 finished\n",
      "150 250 finished\n",
      "200 100 finished\n",
      "200 150 finished\n",
      "200 200 finished\n",
      "200 250 finished\n",
      "250 100 finished\n",
      "250 150 finished\n",
      "250 200 finished\n",
      "250 250 finished\n",
      "best model hidden size: 250 200\n",
      "0.0031083603330983706\n",
      "32.8043296190707\n"
     ]
    }
   ],
   "source": [
    "new_model = learn(141, 1500, 550)"
   ]
  },
  {
   "cell_type": "code",
   "execution_count": 48,
   "metadata": {},
   "outputs": [
    {
     "name": "stdout",
     "output_type": "stream",
     "text": [
      "Data is ready\n",
      "100 100 finished\n",
      "100 150 finished\n",
      "100 200 finished\n",
      "100 250 finished\n",
      "150 100 finished\n",
      "150 150 finished\n",
      "150 200 finished\n",
      "150 250 finished\n",
      "200 100 finished\n",
      "200 150 finished\n",
      "200 200 finished\n",
      "200 250 finished\n",
      "250 100 finished\n",
      "250 150 finished\n",
      "250 200 finished\n",
      "250 250 finished\n",
      "best model hidden size: 100 250\n",
      "0.008763539548836905\n",
      "55.30153835262251\n"
     ]
    }
   ],
   "source": [
    "new_model = learn(141, 1500, 600)"
   ]
  },
  {
   "cell_type": "code",
   "execution_count": 49,
   "metadata": {},
   "outputs": [
    {
     "name": "stdout",
     "output_type": "stream",
     "text": [
      "Data is ready\n",
      "100 100 finished\n",
      "100 150 finished\n",
      "100 200 finished\n",
      "100 250 finished\n",
      "150 100 finished\n",
      "150 150 finished\n",
      "150 200 finished\n",
      "150 250 finished\n",
      "200 100 finished\n",
      "200 150 finished\n",
      "200 200 finished\n",
      "200 250 finished\n",
      "250 100 finished\n",
      "250 150 finished\n",
      "250 200 finished\n",
      "250 250 finished\n",
      "best model hidden size: 150 100\n",
      "1.9181122234495842e-05\n",
      "0.14882778818571807\n"
     ]
    }
   ],
   "source": [
    "new_model = learn(141, 1500, 650)"
   ]
  },
  {
   "cell_type": "code",
   "execution_count": 50,
   "metadata": {},
   "outputs": [
    {
     "name": "stdout",
     "output_type": "stream",
     "text": [
      "Data is ready\n",
      "100 100 finished\n",
      "100 150 finished\n",
      "100 200 finished\n",
      "100 250 finished\n",
      "150 100 finished\n",
      "150 150 finished\n",
      "150 200 finished\n",
      "150 250 finished\n",
      "200 100 finished\n",
      "200 150 finished\n",
      "200 200 finished\n",
      "200 250 finished\n",
      "250 100 finished\n",
      "250 150 finished\n",
      "250 200 finished\n",
      "250 250 finished\n",
      "best model hidden size: 250 250\n",
      "0.054362225233888076\n",
      "369.20772052900645\n"
     ]
    }
   ],
   "source": [
    "new_model = learn(141, 1500, 700)"
   ]
  },
  {
   "cell_type": "markdown",
   "metadata": {},
   "source": [
    "# 2s"
   ]
  },
  {
   "cell_type": "code",
   "execution_count": 51,
   "metadata": {},
   "outputs": [
    {
     "name": "stdout",
     "output_type": "stream",
     "text": [
      "Data is ready\n",
      "100 100 finished\n",
      "100 150 finished\n",
      "100 200 finished\n",
      "100 250 finished\n",
      "150 100 finished\n",
      "150 150 finished\n",
      "150 200 finished\n",
      "150 250 finished\n",
      "200 100 finished\n",
      "200 150 finished\n",
      "200 200 finished\n",
      "200 250 finished\n",
      "250 100 finished\n",
      "250 150 finished\n",
      "250 200 finished\n",
      "250 250 finished\n",
      "best model hidden size: 150 150\n",
      "0.019650597034491183\n",
      "11.487088008719496\n"
     ]
    }
   ],
   "source": [
    "new_model = learn(902, 2000, 50)"
   ]
  },
  {
   "cell_type": "code",
   "execution_count": 52,
   "metadata": {},
   "outputs": [
    {
     "name": "stdout",
     "output_type": "stream",
     "text": [
      "Data is ready\n",
      "100 100 finished\n",
      "100 150 finished\n",
      "100 200 finished\n",
      "100 250 finished\n",
      "150 100 finished\n",
      "150 150 finished\n",
      "150 200 finished\n",
      "150 250 finished\n",
      "200 100 finished\n",
      "200 150 finished\n",
      "200 200 finished\n",
      "200 250 finished\n",
      "250 100 finished\n",
      "250 150 finished\n",
      "250 200 finished\n",
      "250 250 finished\n",
      "best model hidden size: 200 200\n",
      "0.005507533192320682\n",
      "6.8768738948239125\n"
     ]
    }
   ],
   "source": [
    "new_model = learn(902, 2000, 100)"
   ]
  },
  {
   "cell_type": "code",
   "execution_count": 53,
   "metadata": {},
   "outputs": [
    {
     "name": "stdout",
     "output_type": "stream",
     "text": [
      "Data is ready\n",
      "100 100 finished\n",
      "100 150 finished\n",
      "100 200 finished\n",
      "100 250 finished\n",
      "150 100 finished\n",
      "150 150 finished\n",
      "150 200 finished\n",
      "150 250 finished\n",
      "200 100 finished\n",
      "200 150 finished\n",
      "200 200 finished\n",
      "200 250 finished\n",
      "250 100 finished\n",
      "250 150 finished\n",
      "250 200 finished\n",
      "250 250 finished\n",
      "best model hidden size: 250 150\n",
      "0.012289020007491207\n",
      "6.598205133858915\n"
     ]
    }
   ],
   "source": [
    "new_model = learn(902, 2000, 150)"
   ]
  },
  {
   "cell_type": "code",
   "execution_count": 54,
   "metadata": {},
   "outputs": [
    {
     "name": "stdout",
     "output_type": "stream",
     "text": [
      "Data is ready\n",
      "100 100 finished\n",
      "100 150 finished\n",
      "100 200 finished\n",
      "100 250 finished\n",
      "150 100 finished\n",
      "150 150 finished\n",
      "150 200 finished\n",
      "150 250 finished\n",
      "200 100 finished\n",
      "200 150 finished\n",
      "200 200 finished\n",
      "200 250 finished\n",
      "250 100 finished\n",
      "250 150 finished\n",
      "250 200 finished\n",
      "250 250 finished\n",
      "best model hidden size: 150 150\n",
      "0.003967890143339241\n",
      "5.327237017426535\n"
     ]
    }
   ],
   "source": [
    "new_model = learn(902, 2000, 200)"
   ]
  },
  {
   "cell_type": "code",
   "execution_count": 55,
   "metadata": {},
   "outputs": [
    {
     "name": "stdout",
     "output_type": "stream",
     "text": [
      "Data is ready\n",
      "100 100 finished\n",
      "100 150 finished\n",
      "100 200 finished\n",
      "100 250 finished\n",
      "150 100 finished\n",
      "150 150 finished\n",
      "150 200 finished\n",
      "150 250 finished\n",
      "200 100 finished\n",
      "200 150 finished\n",
      "200 200 finished\n",
      "200 250 finished\n",
      "250 100 finished\n",
      "250 150 finished\n",
      "250 200 finished\n",
      "250 250 finished\n",
      "best model hidden size: 100 100\n",
      "0.005055001667722801\n",
      "7.087419789500073\n"
     ]
    }
   ],
   "source": [
    "new_model = learn(902, 2000, 250)"
   ]
  },
  {
   "cell_type": "code",
   "execution_count": 56,
   "metadata": {},
   "outputs": [
    {
     "name": "stdout",
     "output_type": "stream",
     "text": [
      "Data is ready\n",
      "100 100 finished\n",
      "100 150 finished\n",
      "100 200 finished\n",
      "100 250 finished\n",
      "150 100 finished\n",
      "150 150 finished\n",
      "150 200 finished\n",
      "150 250 finished\n",
      "200 100 finished\n",
      "200 150 finished\n",
      "200 200 finished\n",
      "200 250 finished\n",
      "250 100 finished\n",
      "250 150 finished\n",
      "250 200 finished\n",
      "250 250 finished\n",
      "best model hidden size: 150 100\n",
      "0.003647378245443943\n",
      "6.316310578586483\n"
     ]
    }
   ],
   "source": [
    "new_model = learn(902, 2000, 300)"
   ]
  },
  {
   "cell_type": "code",
   "execution_count": 57,
   "metadata": {},
   "outputs": [
    {
     "name": "stdout",
     "output_type": "stream",
     "text": [
      "Data is ready\n",
      "100 100 finished\n",
      "100 150 finished\n",
      "100 200 finished\n",
      "100 250 finished\n",
      "150 100 finished\n",
      "150 150 finished\n",
      "150 200 finished\n",
      "150 250 finished\n",
      "200 100 finished\n",
      "200 150 finished\n",
      "200 200 finished\n",
      "200 250 finished\n",
      "250 100 finished\n",
      "250 150 finished\n",
      "250 200 finished\n",
      "250 250 finished\n",
      "best model hidden size: 150 200\n",
      "0.0052925880203397125\n",
      "5.485214377179752\n"
     ]
    }
   ],
   "source": [
    "new_model = learn(902, 2000, 350)"
   ]
  },
  {
   "cell_type": "code",
   "execution_count": 58,
   "metadata": {},
   "outputs": [
    {
     "name": "stdout",
     "output_type": "stream",
     "text": [
      "Data is ready\n",
      "100 100 finished\n",
      "100 150 finished\n",
      "100 200 finished\n",
      "100 250 finished\n",
      "150 100 finished\n",
      "150 150 finished\n",
      "150 200 finished\n",
      "150 250 finished\n",
      "200 100 finished\n",
      "200 150 finished\n",
      "200 200 finished\n",
      "200 250 finished\n",
      "250 100 finished\n",
      "250 150 finished\n",
      "250 200 finished\n",
      "250 250 finished\n",
      "best model hidden size: 100 100\n",
      "0.002407877446329665\n",
      "7.1547413476971915\n"
     ]
    }
   ],
   "source": [
    "new_model = learn(902, 2000, 400)"
   ]
  },
  {
   "cell_type": "code",
   "execution_count": 59,
   "metadata": {},
   "outputs": [
    {
     "name": "stdout",
     "output_type": "stream",
     "text": [
      "Data is ready\n",
      "100 100 finished\n",
      "100 150 finished\n",
      "100 200 finished\n",
      "100 250 finished\n",
      "150 100 finished\n",
      "150 150 finished\n",
      "150 200 finished\n",
      "150 250 finished\n",
      "200 100 finished\n",
      "200 150 finished\n",
      "200 200 finished\n",
      "200 250 finished\n",
      "250 100 finished\n",
      "250 150 finished\n",
      "250 200 finished\n",
      "250 250 finished\n",
      "best model hidden size: 100 100\n",
      "0.004041027989304011\n",
      "4.94582155138056\n"
     ]
    }
   ],
   "source": [
    "new_model = learn(902, 2000, 450)"
   ]
  },
  {
   "cell_type": "code",
   "execution_count": 60,
   "metadata": {},
   "outputs": [
    {
     "name": "stdout",
     "output_type": "stream",
     "text": [
      "Data is ready\n",
      "100 100 finished\n",
      "100 150 finished\n",
      "100 200 finished\n",
      "100 250 finished\n",
      "150 100 finished\n",
      "150 150 finished\n",
      "150 200 finished\n",
      "150 250 finished\n",
      "200 100 finished\n",
      "200 150 finished\n",
      "200 200 finished\n",
      "200 250 finished\n",
      "250 100 finished\n",
      "250 150 finished\n",
      "250 200 finished\n",
      "250 250 finished\n",
      "best model hidden size: 100 150\n",
      "0.002323799164742428\n",
      "6.653052422490992\n"
     ]
    }
   ],
   "source": [
    "new_model = learn(902, 2000, 500)"
   ]
  },
  {
   "cell_type": "code",
   "execution_count": 61,
   "metadata": {},
   "outputs": [
    {
     "name": "stdout",
     "output_type": "stream",
     "text": [
      "Data is ready\n",
      "100 100 finished\n",
      "100 150 finished\n",
      "100 200 finished\n",
      "100 250 finished\n",
      "150 100 finished\n",
      "150 150 finished\n",
      "150 200 finished\n",
      "150 250 finished\n",
      "200 100 finished\n",
      "200 150 finished\n",
      "200 200 finished\n",
      "200 250 finished\n",
      "250 100 finished\n",
      "250 150 finished\n",
      "250 200 finished\n",
      "250 250 finished\n",
      "best model hidden size: 150 250\n",
      "0.0025585554253119004\n",
      "7.21429065362872\n"
     ]
    }
   ],
   "source": [
    "new_model = learn(902, 2000, 550)"
   ]
  },
  {
   "cell_type": "code",
   "execution_count": 62,
   "metadata": {},
   "outputs": [
    {
     "name": "stdout",
     "output_type": "stream",
     "text": [
      "Data is ready\n",
      "100 100 finished\n",
      "100 150 finished\n",
      "100 200 finished\n",
      "100 250 finished\n",
      "150 100 finished\n",
      "150 150 finished\n",
      "150 200 finished\n",
      "150 250 finished\n",
      "200 100 finished\n",
      "200 150 finished\n",
      "200 200 finished\n",
      "200 250 finished\n",
      "250 100 finished\n",
      "250 150 finished\n",
      "250 200 finished\n",
      "250 250 finished\n",
      "best model hidden size: 250 200\n",
      "0.03126884545777203\n",
      "11.258273005309235\n"
     ]
    }
   ],
   "source": [
    "new_model = learn(902, 2000, 600)"
   ]
  },
  {
   "cell_type": "code",
   "execution_count": 63,
   "metadata": {},
   "outputs": [
    {
     "name": "stdout",
     "output_type": "stream",
     "text": [
      "Data is ready\n",
      "100 100 finished\n",
      "100 150 finished\n",
      "100 200 finished\n",
      "100 250 finished\n",
      "150 100 finished\n",
      "150 150 finished\n",
      "150 200 finished\n",
      "150 250 finished\n",
      "200 100 finished\n",
      "200 150 finished\n",
      "200 200 finished\n",
      "200 250 finished\n",
      "250 100 finished\n",
      "250 150 finished\n",
      "250 200 finished\n",
      "250 250 finished\n",
      "best model hidden size: 200 200\n",
      "0.003013702237589755\n",
      "4.691518364992067\n"
     ]
    }
   ],
   "source": [
    "new_model = learn(902, 2000, 650)"
   ]
  },
  {
   "cell_type": "code",
   "execution_count": 64,
   "metadata": {},
   "outputs": [
    {
     "name": "stdout",
     "output_type": "stream",
     "text": [
      "Data is ready\n",
      "100 100 finished\n",
      "100 150 finished\n",
      "100 200 finished\n",
      "100 250 finished\n",
      "150 100 finished\n",
      "150 150 finished\n",
      "150 200 finished\n",
      "150 250 finished\n",
      "200 100 finished\n",
      "200 150 finished\n",
      "200 200 finished\n",
      "200 250 finished\n",
      "250 100 finished\n",
      "250 150 finished\n",
      "250 200 finished\n",
      "250 250 finished\n",
      "best model hidden size: 200 250\n",
      "0.0022247749385255694\n",
      "4.865680763888445\n"
     ]
    }
   ],
   "source": [
    "new_model = learn(902, 2000, 700)"
   ]
  },
  {
   "cell_type": "code",
   "execution_count": 65,
   "metadata": {},
   "outputs": [
    {
     "name": "stdout",
     "output_type": "stream",
     "text": [
      "Data is ready\n",
      "100 100 finished\n",
      "100 150 finished\n",
      "100 200 finished\n",
      "100 250 finished\n",
      "150 100 finished\n",
      "150 150 finished\n",
      "150 200 finished\n",
      "150 250 finished\n",
      "200 100 finished\n",
      "200 150 finished\n",
      "200 200 finished\n",
      "200 250 finished\n",
      "250 100 finished\n",
      "250 150 finished\n",
      "250 200 finished\n",
      "250 250 finished\n",
      "best model hidden size: 200 100\n",
      "0.00510172793951807\n",
      "14.614628964292695\n"
     ]
    }
   ],
   "source": [
    "new_model = learn(902, 2000, 750)"
   ]
  },
  {
   "cell_type": "code",
   "execution_count": 66,
   "metadata": {},
   "outputs": [
    {
     "name": "stdout",
     "output_type": "stream",
     "text": [
      "Data is ready\n",
      "100 100 finished\n",
      "100 150 finished\n",
      "100 200 finished\n",
      "100 250 finished\n",
      "150 100 finished\n",
      "150 150 finished\n",
      "150 200 finished\n",
      "150 250 finished\n",
      "200 100 finished\n",
      "200 150 finished\n",
      "200 200 finished\n",
      "200 250 finished\n",
      "250 100 finished\n",
      "250 150 finished\n",
      "250 200 finished\n",
      "250 250 finished\n",
      "best model hidden size: 250 100\n",
      "0.002960160413279207\n",
      "6.637610439783449\n"
     ]
    }
   ],
   "source": [
    "new_model = learn(902, 2000, 800)"
   ]
  },
  {
   "cell_type": "code",
   "execution_count": 67,
   "metadata": {},
   "outputs": [
    {
     "name": "stdout",
     "output_type": "stream",
     "text": [
      "Data is ready\n",
      "100 100 finished\n",
      "100 150 finished\n",
      "100 200 finished\n",
      "100 250 finished\n",
      "150 100 finished\n",
      "150 150 finished\n",
      "150 200 finished\n",
      "150 250 finished\n",
      "200 100 finished\n",
      "200 150 finished\n",
      "200 200 finished\n",
      "200 250 finished\n",
      "250 100 finished\n",
      "250 150 finished\n",
      "250 200 finished\n",
      "250 250 finished\n",
      "best model hidden size: 100 250\n",
      "0.0018365261024201232\n",
      "5.41354638176929\n"
     ]
    }
   ],
   "source": [
    "new_model = learn(902, 2000, 850)"
   ]
  },
  {
   "cell_type": "code",
   "execution_count": 68,
   "metadata": {},
   "outputs": [
    {
     "name": "stdout",
     "output_type": "stream",
     "text": [
      "Data is ready\n",
      "100 100 finished\n",
      "100 150 finished\n",
      "100 200 finished\n",
      "100 250 finished\n",
      "150 100 finished\n",
      "150 150 finished\n",
      "150 200 finished\n",
      "150 250 finished\n",
      "200 100 finished\n",
      "200 150 finished\n",
      "200 200 finished\n",
      "200 250 finished\n",
      "250 100 finished\n",
      "250 150 finished\n",
      "250 200 finished\n",
      "250 250 finished\n",
      "best model hidden size: 100 100\n",
      "0.002367120568759537\n",
      "4.653330390266088\n"
     ]
    }
   ],
   "source": [
    "new_model = learn(902, 2000, 900)"
   ]
  },
  {
   "cell_type": "code",
   "execution_count": 69,
   "metadata": {},
   "outputs": [
    {
     "name": "stdout",
     "output_type": "stream",
     "text": [
      "Data is ready\n",
      "100 100 finished\n",
      "100 150 finished\n",
      "100 200 finished\n",
      "100 250 finished\n",
      "150 100 finished\n",
      "150 150 finished\n",
      "150 200 finished\n",
      "150 250 finished\n",
      "200 100 finished\n",
      "200 150 finished\n",
      "200 200 finished\n",
      "200 250 finished\n",
      "250 100 finished\n",
      "250 150 finished\n",
      "250 200 finished\n",
      "250 250 finished\n",
      "best model hidden size: 250 200\n",
      "0.002250421065558176\n",
      "5.457573680345012\n"
     ]
    }
   ],
   "source": [
    "new_model = learn(902, 2000, 950)"
   ]
  },
  {
   "cell_type": "code",
   "execution_count": 70,
   "metadata": {},
   "outputs": [
    {
     "name": "stdout",
     "output_type": "stream",
     "text": [
      "Data is ready\n",
      "100 100 finished\n",
      "100 150 finished\n",
      "100 200 finished\n",
      "100 250 finished\n",
      "150 100 finished\n",
      "150 150 finished\n",
      "150 200 finished\n",
      "150 250 finished\n",
      "200 100 finished\n",
      "200 150 finished\n",
      "200 200 finished\n",
      "200 250 finished\n",
      "250 100 finished\n",
      "250 150 finished\n",
      "250 200 finished\n",
      "250 250 finished\n",
      "best model hidden size: 100 150\n",
      "0.001190816533837356\n",
      "3.022280058899337\n"
     ]
    }
   ],
   "source": [
    "new_model = learn(902, 2000, 1000)"
   ]
  },
  {
   "cell_type": "markdown",
   "metadata": {},
   "source": [
    "# 5s"
   ]
  },
  {
   "cell_type": "code",
   "execution_count": 71,
   "metadata": {},
   "outputs": [
    {
     "name": "stdout",
     "output_type": "stream",
     "text": [
      "Data is ready\n",
      "100 100 finished\n",
      "100 150 finished\n",
      "100 200 finished\n",
      "100 250 finished\n",
      "150 100 finished\n",
      "150 150 finished\n",
      "150 200 finished\n",
      "150 250 finished\n",
      "200 100 finished\n",
      "200 150 finished\n",
      "200 200 finished\n",
      "200 250 finished\n",
      "250 100 finished\n",
      "250 150 finished\n",
      "250 200 finished\n",
      "250 250 finished\n",
      "best model hidden size: 150 100\n",
      "0.01841139679162557\n",
      "47.78927462958406\n"
     ]
    }
   ],
   "source": [
    "new_model = learn(19, 5000, 50)"
   ]
  },
  {
   "cell_type": "code",
   "execution_count": 72,
   "metadata": {},
   "outputs": [
    {
     "name": "stdout",
     "output_type": "stream",
     "text": [
      "Data is ready\n",
      "100 100 finished\n",
      "100 150 finished\n",
      "100 200 finished\n",
      "100 250 finished\n",
      "150 100 finished\n",
      "150 150 finished\n",
      "150 200 finished\n",
      "150 250 finished\n",
      "200 100 finished\n",
      "200 150 finished\n",
      "200 200 finished\n",
      "200 250 finished\n",
      "250 100 finished\n",
      "250 150 finished\n",
      "250 200 finished\n",
      "250 250 finished\n",
      "best model hidden size: 200 250\n",
      "0.01042467467019267\n",
      "41.659404672936\n"
     ]
    }
   ],
   "source": [
    "new_model = learn(19, 5000, 100)"
   ]
  },
  {
   "cell_type": "code",
   "execution_count": 73,
   "metadata": {},
   "outputs": [
    {
     "name": "stdout",
     "output_type": "stream",
     "text": [
      "Data is ready\n",
      "100 100 finished\n",
      "100 150 finished\n",
      "100 200 finished\n",
      "100 250 finished\n",
      "150 100 finished\n",
      "150 150 finished\n",
      "150 200 finished\n",
      "150 250 finished\n",
      "200 100 finished\n",
      "200 150 finished\n",
      "200 200 finished\n",
      "200 250 finished\n",
      "250 100 finished\n",
      "250 150 finished\n",
      "250 200 finished\n",
      "250 250 finished\n",
      "best model hidden size: 100 200\n",
      "0.00647980834177749\n",
      "25.99773625911303\n"
     ]
    }
   ],
   "source": [
    "new_model = learn(19, 5000, 150)"
   ]
  },
  {
   "cell_type": "code",
   "execution_count": 74,
   "metadata": {},
   "outputs": [
    {
     "name": "stdout",
     "output_type": "stream",
     "text": [
      "Data is ready\n",
      "100 100 finished\n",
      "100 150 finished\n",
      "100 200 finished\n",
      "100 250 finished\n",
      "150 100 finished\n",
      "150 150 finished\n",
      "150 200 finished\n",
      "150 250 finished\n",
      "200 100 finished\n",
      "200 150 finished\n",
      "200 200 finished\n",
      "200 250 finished\n",
      "250 100 finished\n",
      "250 150 finished\n",
      "250 200 finished\n",
      "250 250 finished\n",
      "best model hidden size: 200 250\n",
      "0.007405093001949514\n",
      "29.920487867797142\n"
     ]
    }
   ],
   "source": [
    "new_model = learn(19, 5000, 200)"
   ]
  },
  {
   "cell_type": "code",
   "execution_count": 75,
   "metadata": {},
   "outputs": [
    {
     "name": "stdout",
     "output_type": "stream",
     "text": [
      "Data is ready\n",
      "100 100 finished\n",
      "100 150 finished\n",
      "100 200 finished\n",
      "100 250 finished\n",
      "150 100 finished\n",
      "150 150 finished\n",
      "150 200 finished\n",
      "150 250 finished\n",
      "200 100 finished\n",
      "200 150 finished\n",
      "200 200 finished\n",
      "200 250 finished\n",
      "250 100 finished\n",
      "250 150 finished\n",
      "250 200 finished\n",
      "250 250 finished\n",
      "best model hidden size: 250 100\n",
      "0.004526844509743133\n",
      "28.796818515504953\n"
     ]
    }
   ],
   "source": [
    "new_model = learn(19, 5000, 250)"
   ]
  },
  {
   "cell_type": "code",
   "execution_count": 76,
   "metadata": {},
   "outputs": [
    {
     "name": "stdout",
     "output_type": "stream",
     "text": [
      "Data is ready\n",
      "100 100 finished\n",
      "100 150 finished\n",
      "100 200 finished\n",
      "100 250 finished\n",
      "150 100 finished\n",
      "150 150 finished\n",
      "150 200 finished\n",
      "150 250 finished\n",
      "200 100 finished\n",
      "200 150 finished\n",
      "200 200 finished\n",
      "200 250 finished\n",
      "250 100 finished\n",
      "250 150 finished\n",
      "250 200 finished\n",
      "250 250 finished\n",
      "best model hidden size: 150 150\n",
      "0.003683137375947953\n",
      "25.93837927587366\n"
     ]
    }
   ],
   "source": [
    "new_model = learn(19, 5000, 300)"
   ]
  },
  {
   "cell_type": "code",
   "execution_count": 77,
   "metadata": {},
   "outputs": [
    {
     "name": "stdout",
     "output_type": "stream",
     "text": [
      "Data is ready\n",
      "100 100 finished\n",
      "100 150 finished\n",
      "100 200 finished\n",
      "100 250 finished\n",
      "150 100 finished\n",
      "150 150 finished\n",
      "150 200 finished\n",
      "150 250 finished\n",
      "200 100 finished\n",
      "200 150 finished\n",
      "200 200 finished\n",
      "200 250 finished\n",
      "250 100 finished\n",
      "250 150 finished\n",
      "250 200 finished\n",
      "250 250 finished\n",
      "best model hidden size: 200 100\n",
      "0.0044118506966727014\n",
      "25.972251487788174\n"
     ]
    }
   ],
   "source": [
    "new_model = learn(19, 5000, 350)"
   ]
  },
  {
   "cell_type": "code",
   "execution_count": 78,
   "metadata": {},
   "outputs": [
    {
     "name": "stdout",
     "output_type": "stream",
     "text": [
      "Data is ready\n",
      "100 100 finished\n",
      "100 150 finished\n",
      "100 200 finished\n",
      "100 250 finished\n",
      "150 100 finished\n",
      "150 150 finished\n",
      "150 200 finished\n",
      "150 250 finished\n",
      "200 100 finished\n",
      "200 150 finished\n",
      "200 200 finished\n",
      "200 250 finished\n",
      "250 100 finished\n",
      "250 150 finished\n",
      "250 200 finished\n",
      "250 250 finished\n",
      "best model hidden size: 250 100\n",
      "0.004994219497903803\n",
      "24.608274720577768\n"
     ]
    }
   ],
   "source": [
    "new_model = learn(19, 5000, 400)"
   ]
  },
  {
   "cell_type": "code",
   "execution_count": 79,
   "metadata": {},
   "outputs": [
    {
     "name": "stdout",
     "output_type": "stream",
     "text": [
      "Data is ready\n",
      "100 100 finished\n",
      "100 150 finished\n",
      "100 200 finished\n",
      "100 250 finished\n",
      "150 100 finished\n",
      "150 150 finished\n",
      "150 200 finished\n",
      "150 250 finished\n",
      "200 100 finished\n",
      "200 150 finished\n",
      "200 200 finished\n",
      "200 250 finished\n",
      "250 100 finished\n",
      "250 150 finished\n",
      "250 200 finished\n",
      "250 250 finished\n",
      "best model hidden size: 150 150\n",
      "0.004079669355442523\n",
      "22.246789986346123\n"
     ]
    }
   ],
   "source": [
    "new_model = learn(19, 5000, 450)"
   ]
  },
  {
   "cell_type": "code",
   "execution_count": 80,
   "metadata": {},
   "outputs": [
    {
     "name": "stdout",
     "output_type": "stream",
     "text": [
      "Data is ready\n",
      "100 100 finished\n",
      "100 150 finished\n",
      "100 200 finished\n",
      "100 250 finished\n",
      "150 100 finished\n",
      "150 150 finished\n",
      "150 200 finished\n",
      "150 250 finished\n",
      "200 100 finished\n",
      "200 150 finished\n",
      "200 200 finished\n",
      "200 250 finished\n",
      "250 100 finished\n",
      "250 150 finished\n",
      "250 200 finished\n",
      "250 250 finished\n",
      "best model hidden size: 100 150\n",
      "0.0030624353797975654\n",
      "19.878778569846798\n"
     ]
    }
   ],
   "source": [
    "new_model = learn(19, 5000, 500)"
   ]
  },
  {
   "cell_type": "code",
   "execution_count": 81,
   "metadata": {},
   "outputs": [
    {
     "name": "stdout",
     "output_type": "stream",
     "text": [
      "Data is ready\n",
      "100 100 finished\n",
      "100 150 finished\n",
      "100 200 finished\n",
      "100 250 finished\n",
      "150 100 finished\n",
      "150 150 finished\n",
      "150 200 finished\n",
      "150 250 finished\n",
      "200 100 finished\n",
      "200 150 finished\n",
      "200 200 finished\n",
      "200 250 finished\n",
      "250 100 finished\n",
      "250 150 finished\n",
      "250 200 finished\n",
      "250 250 finished\n",
      "best model hidden size: 250 250\n",
      "0.0030736308756846935\n",
      "33.49703600297445\n"
     ]
    }
   ],
   "source": [
    "new_model = learn(19, 5000, 550)"
   ]
  },
  {
   "cell_type": "code",
   "execution_count": 82,
   "metadata": {},
   "outputs": [
    {
     "name": "stdout",
     "output_type": "stream",
     "text": [
      "Data is ready\n",
      "100 100 finished\n",
      "100 150 finished\n",
      "100 200 finished\n",
      "100 250 finished\n",
      "150 100 finished\n",
      "150 150 finished\n",
      "150 200 finished\n",
      "150 250 finished\n",
      "200 100 finished\n",
      "200 150 finished\n",
      "200 200 finished\n",
      "200 250 finished\n",
      "250 100 finished\n",
      "250 150 finished\n",
      "250 200 finished\n",
      "250 250 finished\n",
      "best model hidden size: 200 150\n",
      "0.00732111633426152\n",
      "24.36941261649781\n"
     ]
    }
   ],
   "source": [
    "new_model = learn(19, 5000, 600)"
   ]
  },
  {
   "cell_type": "code",
   "execution_count": 83,
   "metadata": {},
   "outputs": [
    {
     "name": "stdout",
     "output_type": "stream",
     "text": [
      "Data is ready\n",
      "100 100 finished\n",
      "100 150 finished\n",
      "100 200 finished\n",
      "100 250 finished\n",
      "150 100 finished\n",
      "150 150 finished\n",
      "150 200 finished\n",
      "150 250 finished\n",
      "200 100 finished\n",
      "200 150 finished\n",
      "200 200 finished\n",
      "200 250 finished\n",
      "250 100 finished\n",
      "250 150 finished\n",
      "250 200 finished\n",
      "250 250 finished\n",
      "best model hidden size: 150 150\n",
      "0.0030274055985378156\n",
      "16.733782962204337\n"
     ]
    }
   ],
   "source": [
    "new_model = learn(19, 5000, 650)"
   ]
  },
  {
   "cell_type": "code",
   "execution_count": 84,
   "metadata": {},
   "outputs": [
    {
     "name": "stdout",
     "output_type": "stream",
     "text": [
      "Data is ready\n",
      "100 100 finished\n",
      "100 150 finished\n",
      "100 200 finished\n",
      "100 250 finished\n",
      "150 100 finished\n",
      "150 150 finished\n",
      "150 200 finished\n",
      "150 250 finished\n",
      "200 100 finished\n",
      "200 150 finished\n",
      "200 200 finished\n",
      "200 250 finished\n",
      "250 100 finished\n",
      "250 150 finished\n",
      "250 200 finished\n",
      "250 250 finished\n",
      "best model hidden size: 150 200\n",
      "0.0031543730877334323\n",
      "17.72914519652668\n"
     ]
    }
   ],
   "source": [
    "new_model = learn(19, 5000, 700)"
   ]
  },
  {
   "cell_type": "code",
   "execution_count": 85,
   "metadata": {},
   "outputs": [
    {
     "name": "stdout",
     "output_type": "stream",
     "text": [
      "Data is ready\n",
      "100 100 finished\n",
      "100 150 finished\n",
      "100 200 finished\n",
      "100 250 finished\n",
      "150 100 finished\n",
      "150 150 finished\n",
      "150 200 finished\n",
      "150 250 finished\n",
      "200 100 finished\n",
      "200 150 finished\n",
      "200 200 finished\n",
      "200 250 finished\n",
      "250 100 finished\n",
      "250 150 finished\n",
      "250 200 finished\n",
      "250 250 finished\n",
      "best model hidden size: 100 150\n",
      "0.004731920289087053\n",
      "28.59984009841312\n"
     ]
    }
   ],
   "source": [
    "new_model = learn(19, 5000, 750)"
   ]
  },
  {
   "cell_type": "code",
   "execution_count": 86,
   "metadata": {},
   "outputs": [
    {
     "name": "stdout",
     "output_type": "stream",
     "text": [
      "Data is ready\n",
      "100 100 finished\n",
      "100 150 finished\n",
      "100 200 finished\n",
      "100 250 finished\n",
      "150 100 finished\n",
      "150 150 finished\n",
      "150 200 finished\n",
      "150 250 finished\n",
      "200 100 finished\n",
      "200 150 finished\n",
      "200 200 finished\n",
      "200 250 finished\n",
      "250 100 finished\n",
      "250 150 finished\n",
      "250 200 finished\n",
      "250 250 finished\n",
      "best model hidden size: 250 150\n",
      "0.003197792915102947\n",
      "34.19612375045024\n"
     ]
    }
   ],
   "source": [
    "new_model = learn(19, 5000, 800)"
   ]
  },
  {
   "cell_type": "code",
   "execution_count": 87,
   "metadata": {},
   "outputs": [
    {
     "name": "stdout",
     "output_type": "stream",
     "text": [
      "Data is ready\n",
      "100 100 finished\n",
      "100 150 finished\n",
      "100 200 finished\n",
      "100 250 finished\n",
      "150 100 finished\n",
      "150 150 finished\n",
      "150 200 finished\n",
      "150 250 finished\n",
      "200 100 finished\n",
      "200 150 finished\n",
      "200 200 finished\n",
      "200 250 finished\n",
      "250 100 finished\n",
      "250 150 finished\n",
      "250 200 finished\n",
      "250 250 finished\n",
      "best model hidden size: 100 250\n",
      "0.009016700350779682\n",
      "39.816933106415334\n"
     ]
    }
   ],
   "source": [
    "new_model = learn(19, 5000, 850)"
   ]
  },
  {
   "cell_type": "code",
   "execution_count": 88,
   "metadata": {},
   "outputs": [
    {
     "name": "stdout",
     "output_type": "stream",
     "text": [
      "Data is ready\n",
      "100 100 finished\n",
      "100 150 finished\n",
      "100 200 finished\n",
      "100 250 finished\n",
      "150 100 finished\n",
      "150 150 finished\n",
      "150 200 finished\n",
      "150 250 finished\n",
      "200 100 finished\n",
      "200 150 finished\n",
      "200 200 finished\n",
      "200 250 finished\n",
      "250 100 finished\n",
      "250 150 finished\n",
      "250 200 finished\n",
      "250 250 finished\n",
      "best model hidden size: 200 250\n",
      "0.0018175368847945846\n",
      "18.85914690099456\n"
     ]
    }
   ],
   "source": [
    "new_model = learn(19, 5000, 900)"
   ]
  },
  {
   "cell_type": "code",
   "execution_count": 89,
   "metadata": {},
   "outputs": [
    {
     "name": "stdout",
     "output_type": "stream",
     "text": [
      "Data is ready\n",
      "100 100 finished\n",
      "100 150 finished\n",
      "100 200 finished\n",
      "100 250 finished\n",
      "150 100 finished\n",
      "150 150 finished\n",
      "150 200 finished\n",
      "150 250 finished\n",
      "200 100 finished\n",
      "200 150 finished\n",
      "200 200 finished\n",
      "200 250 finished\n",
      "250 100 finished\n",
      "250 150 finished\n",
      "250 200 finished\n",
      "250 250 finished\n",
      "best model hidden size: 100 150\n",
      "0.001676188900553011\n",
      "24.542078157955956\n"
     ]
    }
   ],
   "source": [
    "new_model = learn(19, 5000, 950)"
   ]
  },
  {
   "cell_type": "code",
   "execution_count": 90,
   "metadata": {},
   "outputs": [
    {
     "name": "stdout",
     "output_type": "stream",
     "text": [
      "Data is ready\n",
      "100 100 finished\n",
      "100 150 finished\n",
      "100 200 finished\n",
      "100 250 finished\n",
      "150 100 finished\n",
      "150 150 finished\n",
      "150 200 finished\n",
      "150 250 finished\n",
      "200 100 finished\n",
      "200 150 finished\n",
      "200 200 finished\n",
      "200 250 finished\n",
      "250 100 finished\n",
      "250 150 finished\n",
      "250 200 finished\n",
      "250 250 finished\n",
      "best model hidden size: 100 100\n",
      "0.0026960382961240753\n",
      "27.287717645861807\n"
     ]
    }
   ],
   "source": [
    "new_model = learn(19, 5000, 1000)"
   ]
  },
  {
   "cell_type": "markdown",
   "metadata": {},
   "source": [
    "# 15s"
   ]
  },
  {
   "cell_type": "code",
   "execution_count": 91,
   "metadata": {},
   "outputs": [
    {
     "name": "stdout",
     "output_type": "stream",
     "text": [
      "Data is ready\n",
      "100 100 finished\n",
      "100 150 finished\n",
      "100 200 finished\n",
      "100 250 finished\n",
      "150 100 finished\n",
      "150 150 finished\n",
      "150 200 finished\n",
      "150 250 finished\n",
      "200 100 finished\n",
      "200 150 finished\n",
      "200 200 finished\n",
      "200 250 finished\n",
      "250 100 finished\n",
      "250 150 finished\n",
      "250 200 finished\n",
      "250 250 finished\n",
      "best model hidden size: 150 250\n",
      "0.024783634460017478\n",
      "51.42886434169563\n"
     ]
    }
   ],
   "source": [
    "new_model = learn(20, 15000, 50)"
   ]
  },
  {
   "cell_type": "code",
   "execution_count": 92,
   "metadata": {},
   "outputs": [
    {
     "name": "stdout",
     "output_type": "stream",
     "text": [
      "Data is ready\n",
      "100 100 finished\n",
      "100 150 finished\n",
      "100 200 finished\n",
      "100 250 finished\n",
      "150 100 finished\n",
      "150 150 finished\n",
      "150 200 finished\n",
      "150 250 finished\n",
      "200 100 finished\n",
      "200 150 finished\n",
      "200 200 finished\n",
      "200 250 finished\n",
      "250 100 finished\n",
      "250 150 finished\n",
      "250 200 finished\n",
      "250 250 finished\n",
      "best model hidden size: 150 200\n",
      "0.025674257167052253\n",
      "73.76885363280992\n"
     ]
    }
   ],
   "source": [
    "new_model = learn(20, 15000, 100)"
   ]
  },
  {
   "cell_type": "code",
   "execution_count": 93,
   "metadata": {},
   "outputs": [
    {
     "name": "stdout",
     "output_type": "stream",
     "text": [
      "Data is ready\n",
      "100 100 finished\n",
      "100 150 finished\n",
      "100 200 finished\n",
      "100 250 finished\n",
      "150 100 finished\n",
      "150 150 finished\n",
      "150 200 finished\n",
      "150 250 finished\n",
      "200 100 finished\n",
      "200 150 finished\n",
      "200 200 finished\n",
      "200 250 finished\n",
      "250 100 finished\n",
      "250 150 finished\n",
      "250 200 finished\n",
      "250 250 finished\n",
      "best model hidden size: 100 150\n",
      "0.01102560685649487\n",
      "36.83105192196364\n"
     ]
    }
   ],
   "source": [
    "new_model = learn(20, 15000, 150)"
   ]
  },
  {
   "cell_type": "code",
   "execution_count": 94,
   "metadata": {},
   "outputs": [
    {
     "name": "stdout",
     "output_type": "stream",
     "text": [
      "Data is ready\n",
      "100 100 finished\n",
      "100 150 finished\n",
      "100 200 finished\n",
      "100 250 finished\n",
      "150 100 finished\n",
      "150 150 finished\n",
      "150 200 finished\n",
      "150 250 finished\n",
      "200 100 finished\n",
      "200 150 finished\n",
      "200 200 finished\n",
      "200 250 finished\n",
      "250 100 finished\n",
      "250 150 finished\n",
      "250 200 finished\n",
      "250 250 finished\n",
      "best model hidden size: 100 100\n",
      "0.020965767825265578\n",
      "63.99596843013123\n"
     ]
    }
   ],
   "source": [
    "new_model = learn(20, 15000, 200)"
   ]
  },
  {
   "cell_type": "code",
   "execution_count": 95,
   "metadata": {},
   "outputs": [
    {
     "name": "stdout",
     "output_type": "stream",
     "text": [
      "Data is ready\n",
      "100 100 finished\n",
      "100 150 finished\n",
      "100 200 finished\n",
      "100 250 finished\n",
      "150 100 finished\n",
      "150 150 finished\n",
      "150 200 finished\n",
      "150 250 finished\n",
      "200 100 finished\n",
      "200 150 finished\n",
      "200 200 finished\n",
      "200 250 finished\n",
      "250 100 finished\n",
      "250 150 finished\n",
      "250 200 finished\n",
      "250 250 finished\n",
      "best model hidden size: 100 250\n",
      "0.007722390573156121\n",
      "27.32281878561326\n"
     ]
    }
   ],
   "source": [
    "new_model = learn(20, 15000, 250)"
   ]
  },
  {
   "cell_type": "code",
   "execution_count": 96,
   "metadata": {},
   "outputs": [
    {
     "name": "stdout",
     "output_type": "stream",
     "text": [
      "Data is ready\n",
      "100 100 finished\n",
      "100 150 finished\n",
      "100 200 finished\n",
      "100 250 finished\n",
      "150 100 finished\n",
      "150 150 finished\n",
      "150 200 finished\n",
      "150 250 finished\n",
      "200 100 finished\n",
      "200 150 finished\n",
      "200 200 finished\n",
      "200 250 finished\n",
      "250 100 finished\n",
      "250 150 finished\n",
      "250 200 finished\n",
      "250 250 finished\n",
      "best model hidden size: 250 100\n",
      "0.00974728716904893\n",
      "36.83381757281324\n"
     ]
    }
   ],
   "source": [
    "new_model = learn(20, 15000, 300)"
   ]
  },
  {
   "cell_type": "code",
   "execution_count": 97,
   "metadata": {},
   "outputs": [
    {
     "name": "stdout",
     "output_type": "stream",
     "text": [
      "Data is ready\n",
      "100 100 finished\n",
      "100 150 finished\n",
      "100 200 finished\n",
      "100 250 finished\n",
      "150 100 finished\n",
      "150 150 finished\n",
      "150 200 finished\n",
      "150 250 finished\n",
      "200 100 finished\n",
      "200 150 finished\n",
      "200 200 finished\n",
      "200 250 finished\n",
      "250 100 finished\n",
      "250 150 finished\n",
      "250 200 finished\n",
      "250 250 finished\n",
      "best model hidden size: 100 250\n",
      "0.008867593461191207\n",
      "38.143540310454085\n"
     ]
    }
   ],
   "source": [
    "new_model = learn(20, 15000, 350)"
   ]
  },
  {
   "cell_type": "code",
   "execution_count": 98,
   "metadata": {},
   "outputs": [
    {
     "name": "stdout",
     "output_type": "stream",
     "text": [
      "Data is ready\n",
      "100 100 finished\n",
      "100 150 finished\n",
      "100 200 finished\n",
      "100 250 finished\n",
      "150 100 finished\n",
      "150 150 finished\n",
      "150 200 finished\n",
      "150 250 finished\n",
      "200 100 finished\n",
      "200 150 finished\n",
      "200 200 finished\n",
      "200 250 finished\n",
      "250 100 finished\n",
      "250 150 finished\n",
      "250 200 finished\n",
      "250 250 finished\n",
      "best model hidden size: 150 250\n",
      "0.008851399524438778\n",
      "37.58970058411385\n"
     ]
    }
   ],
   "source": [
    "new_model = learn(20, 15000, 400)"
   ]
  },
  {
   "cell_type": "code",
   "execution_count": 99,
   "metadata": {},
   "outputs": [
    {
     "name": "stdout",
     "output_type": "stream",
     "text": [
      "Data is ready\n",
      "100 100 finished\n",
      "100 150 finished\n",
      "100 200 finished\n",
      "100 250 finished\n",
      "150 100 finished\n",
      "150 150 finished\n",
      "150 200 finished\n",
      "150 250 finished\n",
      "200 100 finished\n",
      "200 150 finished\n",
      "200 200 finished\n",
      "200 250 finished\n",
      "250 100 finished\n",
      "250 150 finished\n",
      "250 200 finished\n",
      "250 250 finished\n",
      "best model hidden size: 200 200\n",
      "0.03028610006940123\n",
      "45.68447859102702\n"
     ]
    }
   ],
   "source": [
    "new_model = learn(20, 15000, 450)"
   ]
  },
  {
   "cell_type": "code",
   "execution_count": 100,
   "metadata": {},
   "outputs": [
    {
     "name": "stdout",
     "output_type": "stream",
     "text": [
      "Data is ready\n",
      "100 100 finished\n",
      "100 150 finished\n",
      "100 200 finished\n",
      "100 250 finished\n",
      "150 100 finished\n",
      "150 150 finished\n",
      "150 200 finished\n",
      "150 250 finished\n",
      "200 100 finished\n",
      "200 150 finished\n",
      "200 200 finished\n",
      "200 250 finished\n",
      "250 100 finished\n",
      "250 150 finished\n",
      "250 200 finished\n",
      "250 250 finished\n",
      "best model hidden size: 100 150\n",
      "0.0063637529279251545\n",
      "32.00896093116064\n"
     ]
    }
   ],
   "source": [
    "new_model = learn(20, 15000, 500)"
   ]
  },
  {
   "cell_type": "code",
   "execution_count": 101,
   "metadata": {},
   "outputs": [
    {
     "name": "stdout",
     "output_type": "stream",
     "text": [
      "Data is ready\n",
      "100 100 finished\n",
      "100 150 finished\n",
      "100 200 finished\n",
      "100 250 finished\n",
      "150 100 finished\n",
      "150 150 finished\n",
      "150 200 finished\n",
      "150 250 finished\n",
      "200 100 finished\n",
      "200 150 finished\n",
      "200 200 finished\n",
      "200 250 finished\n",
      "250 100 finished\n",
      "250 150 finished\n",
      "250 200 finished\n",
      "250 250 finished\n",
      "best model hidden size: 150 150\n",
      "0.01459843429043458\n",
      "61.12760211514426\n"
     ]
    }
   ],
   "source": [
    "new_model = learn(20, 15000, 550)"
   ]
  },
  {
   "cell_type": "code",
   "execution_count": 102,
   "metadata": {},
   "outputs": [
    {
     "name": "stdout",
     "output_type": "stream",
     "text": [
      "Data is ready\n",
      "100 100 finished\n",
      "100 150 finished\n",
      "100 200 finished\n",
      "100 250 finished\n",
      "150 100 finished\n",
      "150 150 finished\n",
      "150 200 finished\n",
      "150 250 finished\n",
      "200 100 finished\n",
      "200 150 finished\n",
      "200 200 finished\n",
      "200 250 finished\n",
      "250 100 finished\n",
      "250 150 finished\n",
      "250 200 finished\n",
      "250 250 finished\n",
      "best model hidden size: 250 250\n",
      "0.00334217338710008\n",
      "13.471177510875469\n"
     ]
    }
   ],
   "source": [
    "new_model = learn(20, 15000, 600)"
   ]
  },
  {
   "cell_type": "code",
   "execution_count": 103,
   "metadata": {},
   "outputs": [
    {
     "name": "stdout",
     "output_type": "stream",
     "text": [
      "Data is ready\n",
      "100 100 finished\n",
      "100 150 finished\n",
      "100 200 finished\n",
      "100 250 finished\n",
      "150 100 finished\n",
      "150 150 finished\n",
      "150 200 finished\n",
      "150 250 finished\n",
      "200 100 finished\n",
      "200 150 finished\n",
      "200 200 finished\n",
      "200 250 finished\n",
      "250 100 finished\n",
      "250 150 finished\n",
      "250 200 finished\n",
      "250 250 finished\n",
      "best model hidden size: 200 150\n",
      "0.005211501375578572\n",
      "28.901048939872943\n"
     ]
    }
   ],
   "source": [
    "new_model = learn(20, 15000, 650)"
   ]
  },
  {
   "cell_type": "code",
   "execution_count": 104,
   "metadata": {},
   "outputs": [
    {
     "name": "stdout",
     "output_type": "stream",
     "text": [
      "Data is ready\n",
      "100 100 finished\n",
      "100 150 finished\n",
      "100 200 finished\n",
      "100 250 finished\n",
      "150 100 finished\n",
      "150 150 finished\n",
      "150 200 finished\n",
      "150 250 finished\n",
      "200 100 finished\n",
      "200 150 finished\n",
      "200 200 finished\n",
      "200 250 finished\n",
      "250 100 finished\n",
      "250 150 finished\n",
      "250 200 finished\n",
      "250 250 finished\n",
      "best model hidden size: 200 250\n",
      "0.005923535120445148\n",
      "23.83160719995512\n"
     ]
    }
   ],
   "source": [
    "new_model = learn(20, 15000, 700)"
   ]
  },
  {
   "cell_type": "code",
   "execution_count": 105,
   "metadata": {},
   "outputs": [
    {
     "name": "stdout",
     "output_type": "stream",
     "text": [
      "Data is ready\n",
      "100 100 finished\n",
      "100 150 finished\n",
      "100 200 finished\n",
      "100 250 finished\n",
      "150 100 finished\n",
      "150 150 finished\n",
      "150 200 finished\n",
      "150 250 finished\n",
      "200 100 finished\n",
      "200 150 finished\n",
      "200 200 finished\n",
      "200 250 finished\n",
      "250 100 finished\n",
      "250 150 finished\n",
      "250 200 finished\n",
      "250 250 finished\n",
      "best model hidden size: 150 200\n",
      "0.005300778551387895\n",
      "37.949023137571274\n"
     ]
    }
   ],
   "source": [
    "new_model = learn(20, 15000, 750)"
   ]
  },
  {
   "cell_type": "code",
   "execution_count": 106,
   "metadata": {},
   "outputs": [
    {
     "name": "stdout",
     "output_type": "stream",
     "text": [
      "Data is ready\n",
      "100 100 finished\n",
      "100 150 finished\n",
      "100 200 finished\n",
      "100 250 finished\n",
      "150 100 finished\n",
      "150 150 finished\n",
      "150 200 finished\n",
      "150 250 finished\n",
      "200 100 finished\n",
      "200 150 finished\n",
      "200 200 finished\n",
      "200 250 finished\n",
      "250 100 finished\n",
      "250 150 finished\n",
      "250 200 finished\n",
      "250 250 finished\n",
      "best model hidden size: 200 200\n",
      "0.0017215198088561918\n",
      "10.044896556192807\n"
     ]
    }
   ],
   "source": [
    "new_model = learn(20, 15000, 800)"
   ]
  },
  {
   "cell_type": "code",
   "execution_count": 107,
   "metadata": {},
   "outputs": [
    {
     "name": "stdout",
     "output_type": "stream",
     "text": [
      "Data is ready\n",
      "100 100 finished\n",
      "100 150 finished\n",
      "100 200 finished\n",
      "100 250 finished\n",
      "150 100 finished\n",
      "150 150 finished\n",
      "150 200 finished\n",
      "150 250 finished\n",
      "200 100 finished\n",
      "200 150 finished\n",
      "200 200 finished\n",
      "200 250 finished\n",
      "250 100 finished\n",
      "250 150 finished\n",
      "250 200 finished\n",
      "250 250 finished\n",
      "best model hidden size: 250 200\n",
      "0.0016061563959499222\n",
      "7.181552809708076\n"
     ]
    }
   ],
   "source": [
    "new_model = learn(20, 15000, 850)"
   ]
  },
  {
   "cell_type": "code",
   "execution_count": 108,
   "metadata": {},
   "outputs": [
    {
     "name": "stdout",
     "output_type": "stream",
     "text": [
      "Data is ready\n",
      "100 100 finished\n",
      "100 150 finished\n",
      "100 200 finished\n",
      "100 250 finished\n",
      "150 100 finished\n",
      "150 150 finished\n",
      "150 200 finished\n",
      "150 250 finished\n",
      "200 100 finished\n",
      "200 150 finished\n",
      "200 200 finished\n",
      "200 250 finished\n",
      "250 100 finished\n",
      "250 150 finished\n",
      "250 200 finished\n",
      "250 250 finished\n",
      "best model hidden size: 100 100\n",
      "0.004262193572622844\n",
      "12.038629074218116\n"
     ]
    }
   ],
   "source": [
    "new_model = learn(20, 15000, 900)"
   ]
  },
  {
   "cell_type": "code",
   "execution_count": 109,
   "metadata": {},
   "outputs": [
    {
     "name": "stdout",
     "output_type": "stream",
     "text": [
      "Data is ready\n",
      "100 100 finished\n",
      "100 150 finished\n",
      "100 200 finished\n",
      "100 250 finished\n",
      "150 100 finished\n",
      "150 150 finished\n",
      "150 200 finished\n",
      "150 250 finished\n",
      "200 100 finished\n",
      "200 150 finished\n",
      "200 200 finished\n",
      "200 250 finished\n",
      "250 100 finished\n",
      "250 150 finished\n",
      "250 200 finished\n",
      "250 250 finished\n",
      "best model hidden size: 100 100\n",
      "0.0033821017856435266\n",
      "32.8575136800854\n"
     ]
    }
   ],
   "source": [
    "new_model = learn(20, 15000, 950)"
   ]
  },
  {
   "cell_type": "code",
   "execution_count": 110,
   "metadata": {},
   "outputs": [
    {
     "name": "stdout",
     "output_type": "stream",
     "text": [
      "Data is ready\n",
      "100 100 finished\n",
      "100 150 finished\n",
      "100 200 finished\n",
      "100 250 finished\n",
      "150 100 finished\n",
      "150 150 finished\n",
      "150 200 finished\n",
      "150 250 finished\n",
      "200 100 finished\n",
      "200 150 finished\n",
      "200 200 finished\n",
      "200 250 finished\n",
      "250 100 finished\n",
      "250 150 finished\n",
      "250 200 finished\n",
      "250 250 finished\n",
      "best model hidden size: 100 200\n",
      "0.0008471303734861541\n",
      "8.970592927762263\n"
     ]
    }
   ],
   "source": [
    "new_model = learn(20, 15000, 1000)"
   ]
  },
  {
   "cell_type": "code",
   "execution_count": null,
   "metadata": {},
   "outputs": [],
   "source": []
  },
  {
   "cell_type": "code",
   "execution_count": null,
   "metadata": {},
   "outputs": [],
   "source": []
  },
  {
   "cell_type": "code",
   "execution_count": null,
   "metadata": {},
   "outputs": [],
   "source": []
  },
  {
   "cell_type": "code",
   "execution_count": null,
   "metadata": {},
   "outputs": [],
   "source": []
  },
  {
   "cell_type": "code",
   "execution_count": 8,
   "metadata": {},
   "outputs": [
    {
     "name": "stdout",
     "output_type": "stream",
     "text": [
      "Data is ready\n",
      "best model hidden size: 50\n",
      "0.011474165244653717\n",
      "9.069465476925727\n"
     ]
    }
   ],
   "source": [
    "num = [str(i) for i in range(902)]\n",
    "p1 = [read_csv('ics_data_preprocessed/06_Smart_Meter_45/P1/2000/' + n + '.csv', squeeze=True, parse_dates=['ts'], index_col='ts') for n in num]\n",
    "    \n",
    "p1 = [prepare_data(df, 1000) for df in p1]\n",
    "p1 = sum(p1, [])\n",
    "p1 = [df.values.tolist() for df in p1]\n",
    "    \n",
    "train, test = train_test_split(p1, test_size=0.2, random_state=42)\n",
    "train_data_normalized = train\n",
    "test_data_normalized = test\n",
    "    \n",
    "train_data, val_data = train_test_split(train_data_normalized, test_size=0.15, random_state=42)\n",
    "train_data = torch.FloatTensor(train_data)\n",
    "val_data = torch.FloatTensor(val_data)\n",
    "test_data = torch.FloatTensor(test_data_normalized)\n",
    "    \n",
    "X_train = train_data[:, :-10]\n",
    "y_train = train_data[:, -10:]\n",
    "X_val = val_data[:, :-10]\n",
    "y_val = val_data[:, -10:]\n",
    "X_test = test_data[:, :-10]\n",
    "y_test = test_data[:, -10:]\n",
    "    \n",
    "print(\"Data is ready\")\n",
    "    \n",
    "loss_function = nn.MSELoss()\n",
    "    \n",
    "val_losses = []\n",
    "    \n",
    "best_hidden_layer_size = 50\n",
    "    \n",
    "\n",
    "losses = []\n",
    "        \n",
    "    \n",
    "best_model = BPNN(1000 - 10, 100, 150)\n",
    "model = BPNN(1000 - 10, 100, 150)\n",
    "optimizer = torch.optim.Adam(model.parameters(), lr=0.2)\n",
    "    \n",
    "epochs = 1000\n",
    "    \n",
    "for i in range(epochs):\n",
    "    model.train()\n",
    "            \n",
    "    optimizer.zero_grad()\n",
    "            \n",
    "    y_pred = model(X_train)\n",
    "    single_loss = loss_function(y_pred, y_train)\n",
    "    losses.append(single_loss)\n",
    "            \n",
    "    single_loss.backward()\n",
    "    optimizer.step()\n",
    "            \n",
    "            \n",
    "    model.eval()\n",
    "\n",
    "    with torch.no_grad():\n",
    "        y_pred = model(X_val)\n",
    "\n",
    "        single_loss = loss_function(y_pred, y_val)\n",
    "\n",
    "        if (len(val_losses) == 0) or (single_loss < min(val_losses)):\n",
    "\n",
    "            best_model = model\n",
    "                \n",
    "        val_losses.append(single_loss)\n",
    "\n",
    "    \n",
    "print(\"best model hidden size:\", best_hidden_layer_size)\n",
    "    \n",
    "predictions = []\n",
    "best_model.eval()\n",
    "with torch.no_grad():\n",
    "    predictions = [best_model(seq) for (seq, labels) in zip(X_test, y_test)]\n",
    "pred = [torch.cat((i, j)) for (i, j) in zip(X_test, predictions)]\n",
    "actual_predictions = np.array([np.array(i) for i in pred])\n",
    "mape = [np.mean(np.abs(actual_predictions[i] - test[i])/np.abs(test[i])) for i in range(len(test))]\n",
    "print(sum(mape) / len(mape))\n",
    "rmse = [np.mean((actual_predictions[i] - test[i])**2)**.5 for i in range(len(test))]\n",
    "print(sum(rmse) / len(rmse))"
   ]
  },
  {
   "cell_type": "code",
   "execution_count": null,
   "metadata": {},
   "outputs": [],
   "source": [
    "# 2, 1000\n",
    "# 100, 150\n",
    "# new_model = learn(902, 2000, 1000)"
   ]
  },
  {
   "cell_type": "code",
   "execution_count": 10,
   "metadata": {},
   "outputs": [
    {
     "name": "stdout",
     "output_type": "stream",
     "text": [
      "0.011474165244653717\n",
      "9.069465476925727\n"
     ]
    }
   ],
   "source": [
    "predictions = []\n",
    "best_model.eval()\n",
    "with torch.no_grad():\n",
    "    predictions = [best_model(seq) for (seq, labels) in zip(X_test, y_test)]\n",
    "pred = [torch.cat((i, j)) for (i, j) in zip(X_test, predictions)]\n",
    "actual_predictions = np.array([np.array(i) for i in pred])\n",
    "mape = [np.mean(np.abs(actual_predictions[i] - test[i])/np.abs(test[i])) for i in range(len(test))]\n",
    "print(sum(mape) / len(mape))\n",
    "rmse = [np.mean((actual_predictions[i] - test[i])**2)**.5 for i in range(len(test))]\n",
    "print(sum(rmse) / len(rmse))"
   ]
  },
  {
   "cell_type": "code",
   "execution_count": 13,
   "metadata": {},
   "outputs": [
    {
     "data": {
      "text/plain": [
       "[<matplotlib.lines.Line2D at 0x7fb73b1fada0>]"
      ]
     },
     "execution_count": 13,
     "metadata": {},
     "output_type": "execute_result"
    },
    {
     "data": {
      "image/png": "[encoded data removed]",
      "text/plain": [
       "<Figure size 1080x360 with 1 Axes>"
      ]
     },
     "metadata": {
      "needs_background": "light"
     },
     "output_type": "display_data"
    }
   ],
   "source": [
    "n = 2\n",
    "plt.plot(test_data[n].numpy())\n",
    "plt.plot(actual_predictions[n])"
   ]
  },
  {
   "cell_type": "code",
   "execution_count": 15,
   "metadata": {},
   "outputs": [
    {
     "name": "stdout",
     "output_type": "stream",
     "text": [
      "Data is ready\n",
      "best model hidden size: 50\n",
      "0.04809797486251463\n",
      "84.64318224796742\n"
     ]
    }
   ],
   "source": [
    "num = [str(i) for i in range(20)]\n",
    "p1 = [read_csv('ics_data_preprocessed/06_Smart_Meter_45/P1/15000/' + n + '.csv', squeeze=True, parse_dates=['ts'], index_col='ts') for n in num]\n",
    "    \n",
    "p1 = [prepare_data(df, 200) for df in p1]\n",
    "p1 = sum(p1, [])\n",
    "p1 = [df.values.tolist() for df in p1]\n",
    "    \n",
    "train, test = train_test_split(p1, test_size=0.2, random_state=42)\n",
    "train_data_normalized = train\n",
    "test_data_normalized = test\n",
    "    \n",
    "train_data, val_data = train_test_split(train_data_normalized, test_size=0.15, random_state=42)\n",
    "train_data = torch.FloatTensor(train_data)\n",
    "val_data = torch.FloatTensor(val_data)\n",
    "test_data = torch.FloatTensor(test_data_normalized)\n",
    "    \n",
    "X_train = train_data[:, :-10]\n",
    "y_train = train_data[:, -10:]\n",
    "X_val = val_data[:, :-10]\n",
    "y_val = val_data[:, -10:]\n",
    "X_test = test_data[:, :-10]\n",
    "y_test = test_data[:, -10:]\n",
    "    \n",
    "print(\"Data is ready\")\n",
    "    \n",
    "loss_function = nn.MSELoss()\n",
    "    \n",
    "val_losses = []\n",
    "    \n",
    "best_hidden_layer_size = 50\n",
    "    \n",
    "\n",
    "losses = []\n",
    "        \n",
    "    \n",
    "best_model = BPNN(200 - 10, 100, 150)\n",
    "model = BPNN(200 - 10, 100, 150)\n",
    "optimizer = torch.optim.Adam(model.parameters(), lr=0.2)\n",
    "    \n",
    "epochs = 1000\n",
    "    \n",
    "for i in range(epochs):\n",
    "    model.train()\n",
    "            \n",
    "    optimizer.zero_grad()\n",
    "            \n",
    "    y_pred = model(X_train)\n",
    "    single_loss = loss_function(y_pred, y_train)\n",
    "    losses.append(single_loss)\n",
    "            \n",
    "    single_loss.backward()\n",
    "    optimizer.step()\n",
    "            \n",
    "            \n",
    "    model.eval()\n",
    "\n",
    "    with torch.no_grad():\n",
    "        y_pred = model(X_val)\n",
    "\n",
    "        single_loss = loss_function(y_pred, y_val)\n",
    "\n",
    "        if (len(val_losses) == 0) or (single_loss < min(val_losses)):\n",
    "\n",
    "            best_model = model\n",
    "                \n",
    "        val_losses.append(single_loss)\n",
    "\n",
    "    \n",
    "print(\"best model hidden size:\", best_hidden_layer_size)\n",
    "    \n",
    "predictions = []\n",
    "best_model.eval()\n",
    "with torch.no_grad():\n",
    "    predictions = [best_model(seq) for (seq, labels) in zip(X_test, y_test)]\n",
    "pred = [torch.cat((i, j)) for (i, j) in zip(X_test, predictions)]\n",
    "actual_predictions = np.array([np.array(i) for i in pred])\n",
    "mape = [np.mean(np.abs(actual_predictions[i] - test[i])/np.abs(test[i])) for i in range(len(test))]\n",
    "print(sum(mape) / len(mape))\n",
    "rmse = [np.mean((actual_predictions[i] - test[i])**2)**.5 for i in range(len(test))]\n",
    "print(sum(rmse) / len(rmse))"
   ]
  },
  {
   "cell_type": "code",
   "execution_count": null,
   "metadata": {},
   "outputs": [],
   "source": [
    "# new_model = learn(20, 15000, 200)\n",
    "# 100, 100"
   ]
  },
  {
   "cell_type": "code",
   "execution_count": 16,
   "metadata": {},
   "outputs": [
    {
     "name": "stdout",
     "output_type": "stream",
     "text": [
      "0.04809797486251463\n",
      "84.64318224796742\n"
     ]
    }
   ],
   "source": [
    "predictions = []\n",
    "best_model.eval()\n",
    "with torch.no_grad():\n",
    "    predictions = [best_model(seq) for (seq, labels) in zip(X_test, y_test)]\n",
    "pred = [torch.cat((i, j)) for (i, j) in zip(X_test, predictions)]\n",
    "actual_predictions = np.array([np.array(i) for i in pred])\n",
    "mape = [np.mean(np.abs(actual_predictions[i] - test[i])/np.abs(test[i])) for i in range(len(test))]\n",
    "print(sum(mape) / len(mape))\n",
    "rmse = [np.mean((actual_predictions[i] - test[i])**2)**.5 for i in range(len(test))]\n",
    "print(sum(rmse) / len(rmse))"
   ]
  },
  {
   "cell_type": "code",
   "execution_count": 20,
   "metadata": {},
   "outputs": [
    {
     "data": {
      "text/plain": [
       "[<matplotlib.lines.Line2D at 0x7fb73b23d940>]"
      ]
     },
     "execution_count": 20,
     "metadata": {},
     "output_type": "execute_result"
    },
    {
     "data": {
      "image/png": "[encoded data removed]",
      "text/plain": [
       "<Figure size 1080x360 with 1 Axes>"
      ]
     },
     "metadata": {
      "needs_background": "light"
     },
     "output_type": "display_data"
    }
   ],
   "source": [
    "n = 1\n",
    "plt.plot(test_data[n].numpy())\n",
    "plt.plot(actual_predictions[n])"
   ]
  },
  {
   "cell_type": "code",
   "execution_count": null,
   "metadata": {},
   "outputs": [],
   "source": []
  }
 ],
 "metadata": {
  "kernelspec": {
   "display_name": "Python 3",
   "language": "python",
   "name": "python3"
  },
  "language_info": {
   "codemirror_mode": {
    "name": "ipython",
    "version": 3
   },
   "file_extension": ".py",
   "mimetype": "text/x-python",
   "name": "python",
   "nbconvert_exporter": "python",
   "pygments_lexer": "ipython3",
   "version": "3.7.3"
  }
 },
 "nbformat": 4,
 "nbformat_minor": 4
}
